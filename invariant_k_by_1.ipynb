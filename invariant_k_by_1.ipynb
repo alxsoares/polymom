{
 "cells": [
  {
   "cell_type": "markdown",
   "metadata": {},
   "source": [
    "# The case of k clusters by dim 1 for any k"
   ]
  },
  {
   "cell_type": "code",
   "execution_count": 1,
   "metadata": {
    "collapsed": true
   },
   "outputs": [],
   "source": [
    "from IPython.display import display\n",
    "\n",
    "from sympy.interactive import printing\n",
    "printing.init_printing(use_latex='mathjax')\n",
    "\n",
    "from __future__ import division\n",
    "import sympy as sym\n",
    "from sympy import *\n",
    "\n",
    "k = 5\n",
    "d = 1\n",
    "\n",
    "xs = symbols('x:'+str(k+1))\n",
    "pis = symbols('pi:'+str(k+1))\n"
   ]
  },
  {
   "cell_type": "markdown",
   "metadata": {},
   "source": [
    "This notebook shows how to rewrite the k mixture components of 1 dimension in terms of invariants"
   ]
  },
  {
   "cell_type": "code",
   "execution_count": 2,
   "metadata": {
    "collapsed": false
   },
   "outputs": [],
   "source": [
    "e = []\n",
    "for d in range(0,2*k):\n",
    "    e.append(0)\n",
    "    for i in range(1,k+1):\n",
    "        e[d] = e[d] + pis[i]*xs[i]**(d)"
   ]
  },
  {
   "cell_type": "markdown",
   "metadata": {},
   "source": [
    "We have the following moment equations"
   ]
  },
  {
   "cell_type": "code",
   "execution_count": 11,
   "metadata": {
    "collapsed": false
   },
   "outputs": [
    {
     "data": {
      "text/latex": [
       "$$\\left [ \\pi_{1} + \\pi_{2} + \\pi_{3} + \\pi_{4} + \\pi_{5}, \\quad \\pi_{1} x_{1} + \\pi_{2} x_{2} + \\pi_{3} x_{3} + \\pi_{4} x_{4} + \\pi_{5} x_{5}, \\quad \\pi_{1} x_{1}^{2} + \\pi_{2} x_{2}^{2} + \\pi_{3} x_{3}^{2} + \\pi_{4} x_{4}^{2} + \\pi_{5} x_{5}^{2}, \\quad \\pi_{1} x_{1}^{3} + \\pi_{2} x_{2}^{3} + \\pi_{3} x_{3}^{3} + \\pi_{4} x_{4}^{3} + \\pi_{5} x_{5}^{3}, \\quad \\pi_{1} x_{1}^{4} + \\pi_{2} x_{2}^{4} + \\pi_{3} x_{3}^{4} + \\pi_{4} x_{4}^{4} + \\pi_{5} x_{5}^{4}, \\quad \\pi_{1} x_{1}^{5} + \\pi_{2} x_{2}^{5} + \\pi_{3} x_{3}^{5} + \\pi_{4} x_{4}^{5} + \\pi_{5} x_{5}^{5}, \\quad \\pi_{1} x_{1}^{6} + \\pi_{2} x_{2}^{6} + \\pi_{3} x_{3}^{6} + \\pi_{4} x_{4}^{6} + \\pi_{5} x_{5}^{6}, \\quad \\pi_{1} x_{1}^{7} + \\pi_{2} x_{2}^{7} + \\pi_{3} x_{3}^{7} + \\pi_{4} x_{4}^{7} + \\pi_{5} x_{5}^{7}, \\quad \\pi_{1} x_{1}^{8} + \\pi_{2} x_{2}^{8} + \\pi_{3} x_{3}^{8} + \\pi_{4} x_{4}^{8} + \\pi_{5} x_{5}^{8}, \\quad \\pi_{1} x_{1}^{9} + \\pi_{2} x_{2}^{9} + \\pi_{3} x_{3}^{9} + \\pi_{4} x_{4}^{9} + \\pi_{5} x_{5}^{9}\\right ]$$"
      ],
      "text/plain": [
       "⎡                                                                    2        \n",
       "⎣π₁ + π₂ + π₃ + π₄ + π₅, π₁⋅x₁ + π₂⋅x₂ + π₃⋅x₃ + π₄⋅x₄ + π₅⋅x₅, π₁⋅x₁  + π₂⋅x₂\n",
       "\n",
       "2        2        2        2       3        3        3        3        3      \n",
       "  + π₃⋅x₃  + π₄⋅x₄  + π₅⋅x₅ , π₁⋅x₁  + π₂⋅x₂  + π₃⋅x₃  + π₄⋅x₄  + π₅⋅x₅ , π₁⋅x\n",
       "\n",
       " 4        4        4        4        4       5        5        5        5     \n",
       "₁  + π₂⋅x₂  + π₃⋅x₃  + π₄⋅x₄  + π₅⋅x₅ , π₁⋅x₁  + π₂⋅x₂  + π₃⋅x₃  + π₄⋅x₄  + π₅\n",
       "\n",
       "   5       6        6        6        6        6       7        7        7    \n",
       "⋅x₅ , π₁⋅x₁  + π₂⋅x₂  + π₃⋅x₃  + π₄⋅x₄  + π₅⋅x₅ , π₁⋅x₁  + π₂⋅x₂  + π₃⋅x₃  + π\n",
       "\n",
       "    7        7       8        8        8        8        8       9        9   \n",
       "₄⋅x₄  + π₅⋅x₅ , π₁⋅x₁  + π₂⋅x₂  + π₃⋅x₃  + π₄⋅x₄  + π₅⋅x₅ , π₁⋅x₁  + π₂⋅x₂  + \n",
       "\n",
       "     9        9        9⎤\n",
       "π₃⋅x₃  + π₄⋅x₄  + π₅⋅x₅ ⎦"
      ]
     },
     "execution_count": 11,
     "metadata": {},
     "output_type": "execute_result"
    }
   ],
   "source": [
    "e"
   ]
  },
  {
   "cell_type": "markdown",
   "metadata": {},
   "source": [
    "and the following fundamental invariants"
   ]
  },
  {
   "cell_type": "code",
   "execution_count": 4,
   "metadata": {
    "collapsed": false
   },
   "outputs": [],
   "source": [
    "# these are the k elementary symmetric polynomials in terms of x\n",
    "sigma_x = []\n",
    "dummy = symbols('d');\n",
    "V = viete(dummy**k, xs[1:k+1], dummy)\n",
    "for lhs, rhs in V:\n",
    "    sigma_x.append(lhs)\n",
    "assert(len(sigma_x)==k)\n",
    "# in addition to the above, the 0th to (k-1)th moments are also in the fundamental set\n",
    "sigma_pi_x = e[0:k]"
   ]
  },
  {
   "cell_type": "markdown",
   "metadata": {},
   "source": [
    "we are now ready to express everything else in terms of these fundamentals"
   ]
  },
  {
   "cell_type": "code",
   "execution_count": 5,
   "metadata": {
    "collapsed": false
   },
   "outputs": [
    {
     "data": {
      "text/latex": [
       "$$x_{1} x_{2} x_{3} x_{4} x_{5} \\left(\\pi_{1} + \\pi_{2} + \\pi_{3} + \\pi_{4} + \\pi_{5}\\right) + \\left(x_{1} + x_{2} + x_{3} + x_{4} + x_{5}\\right) \\left(\\pi_{1} x_{1}^{4} + \\pi_{2} x_{2}^{4} + \\pi_{3} x_{3}^{4} + \\pi_{4} x_{4}^{4} + \\pi_{5} x_{5}^{4}\\right) + \\left(- \\pi_{1} x_{1} - \\pi_{2} x_{2} - \\pi_{3} x_{3} - \\pi_{4} x_{4} - \\pi_{5} x_{5}\\right) \\left(x_{1} x_{2} x_{3} x_{4} + x_{1} x_{2} x_{3} x_{5} + x_{1} x_{2} x_{4} x_{5} + x_{1} x_{3} x_{4} x_{5} + x_{2} x_{3} x_{4} x_{5}\\right) + \\left(\\pi_{1} x_{1}^{2} + \\pi_{2} x_{2}^{2} + \\pi_{3} x_{3}^{2} + \\pi_{4} x_{4}^{2} + \\pi_{5} x_{5}^{2}\\right) \\left(x_{1} x_{2} x_{3} + x_{1} x_{2} x_{4} + x_{1} x_{2} x_{5} + x_{1} x_{3} x_{4} + x_{1} x_{3} x_{5} + x_{1} x_{4} x_{5} + x_{2} x_{3} x_{4} + x_{2} x_{3} x_{5} + x_{2} x_{4} x_{5} + x_{3} x_{4} x_{5}\\right) + \\left(- \\pi_{1} x_{1}^{3} - \\pi_{2} x_{2}^{3} - \\pi_{3} x_{3}^{3} - \\pi_{4} x_{4}^{3} - \\pi_{5} x_{5}^{3}\\right) \\left(x_{1} x_{2} + x_{1} x_{3} + x_{1} x_{4} + x_{1} x_{5} + x_{2} x_{3} + x_{2} x_{4} + x_{2} x_{5} + x_{3} x_{4} + x_{3} x_{5} + x_{4} x_{5}\\right)$$"
      ],
      "text/plain": [
       "                                                                   ⎛     4    \n",
       "x₁⋅x₂⋅x₃⋅x₄⋅x₅⋅(π₁ + π₂ + π₃ + π₄ + π₅) + (x₁ + x₂ + x₃ + x₄ + x₅)⋅⎝π₁⋅x₁  + π\n",
       "\n",
       "    4        4        4        4⎞                                             \n",
       "₂⋅x₂  + π₃⋅x₃  + π₄⋅x₄  + π₅⋅x₅ ⎠ + (-π₁⋅x₁ - π₂⋅x₂ - π₃⋅x₃ - π₄⋅x₄ - π₅⋅x₅)⋅(\n",
       "\n",
       "                                                                       ⎛     2\n",
       "x₁⋅x₂⋅x₃⋅x₄ + x₁⋅x₂⋅x₃⋅x₅ + x₁⋅x₂⋅x₄⋅x₅ + x₁⋅x₃⋅x₄⋅x₅ + x₂⋅x₃⋅x₄⋅x₅) + ⎝π₁⋅x₁ \n",
       "\n",
       "        2        2        2        2⎞                                         \n",
       " + π₂⋅x₂  + π₃⋅x₃  + π₄⋅x₄  + π₅⋅x₅ ⎠⋅(x₁⋅x₂⋅x₃ + x₁⋅x₂⋅x₄ + x₁⋅x₂⋅x₅ + x₁⋅x₃⋅\n",
       "\n",
       "                                                                        ⎛     \n",
       "x₄ + x₁⋅x₃⋅x₅ + x₁⋅x₄⋅x₅ + x₂⋅x₃⋅x₄ + x₂⋅x₃⋅x₅ + x₂⋅x₄⋅x₅ + x₃⋅x₄⋅x₅) + ⎝- π₁⋅\n",
       "\n",
       "  3        3        3        3        3⎞                                      \n",
       "x₁  - π₂⋅x₂  - π₃⋅x₃  - π₄⋅x₄  - π₅⋅x₅ ⎠⋅(x₁⋅x₂ + x₁⋅x₃ + x₁⋅x₄ + x₁⋅x₅ + x₂⋅x\n",
       "\n",
       "                                          \n",
       "₃ + x₂⋅x₄ + x₂⋅x₅ + x₃⋅x₄ + x₃⋅x₅ + x₄⋅x₅)"
      ]
     },
     "execution_count": 5,
     "metadata": {},
     "output_type": "execute_result"
    }
   ],
   "source": [
    "sigma_plus = list(sigma_pi_x)\n",
    "\n",
    "for i in range(k,2*k):\n",
    "    expr = 0;\n",
    "    for j in range(0,k):\n",
    "        expr = expr + (-1)**(j)*sigma_plus[i-1-j]*sigma_x[j]\n",
    "    sigma_plus.append(expr)\n",
    "# print(len(sigma_plus))\n",
    "sigma_plus[k]\n"
   ]
  },
  {
   "cell_type": "code",
   "execution_count": 10,
   "metadata": {
    "collapsed": false
   },
   "outputs": [
    {
     "data": {
      "text/latex": [
       "$$\\pi_{1} + \\pi_{2} + \\pi_{3} + \\pi_{4} + \\pi_{5}$$"
      ],
      "text/plain": [
       "π₁ + π₂ + π₃ + π₄ + π₅"
      ]
     },
     "metadata": {},
     "output_type": "display_data"
    },
    {
     "data": {
      "text/latex": [
       "$$\\pi_{1} x_{1} + \\pi_{2} x_{2} + \\pi_{3} x_{3} + \\pi_{4} x_{4} + \\pi_{5} x_{5}$$"
      ],
      "text/plain": [
       "π₁⋅x₁ + π₂⋅x₂ + π₃⋅x₃ + π₄⋅x₄ + π₅⋅x₅"
      ]
     },
     "metadata": {},
     "output_type": "display_data"
    },
    {
     "data": {
      "text/latex": [
       "$$\\pi_{1} x_{1}^{2} + \\pi_{2} x_{2}^{2} + \\pi_{3} x_{3}^{2} + \\pi_{4} x_{4}^{2} + \\pi_{5} x_{5}^{2}$$"
      ],
      "text/plain": [
       "     2        2        2        2        2\n",
       "π₁⋅x₁  + π₂⋅x₂  + π₃⋅x₃  + π₄⋅x₄  + π₅⋅x₅ "
      ]
     },
     "metadata": {},
     "output_type": "display_data"
    },
    {
     "data": {
      "text/latex": [
       "$$\\pi_{1} x_{1}^{3} + \\pi_{2} x_{2}^{3} + \\pi_{3} x_{3}^{3} + \\pi_{4} x_{4}^{3} + \\pi_{5} x_{5}^{3}$$"
      ],
      "text/plain": [
       "     3        3        3        3        3\n",
       "π₁⋅x₁  + π₂⋅x₂  + π₃⋅x₃  + π₄⋅x₄  + π₅⋅x₅ "
      ]
     },
     "metadata": {},
     "output_type": "display_data"
    },
    {
     "data": {
      "text/latex": [
       "$$\\pi_{1} x_{1}^{4} + \\pi_{2} x_{2}^{4} + \\pi_{3} x_{3}^{4} + \\pi_{4} x_{4}^{4} + \\pi_{5} x_{5}^{4}$$"
      ],
      "text/plain": [
       "     4        4        4        4        4\n",
       "π₁⋅x₁  + π₂⋅x₂  + π₃⋅x₃  + π₄⋅x₄  + π₅⋅x₅ "
      ]
     },
     "metadata": {},
     "output_type": "display_data"
    },
    {
     "data": {
      "text/latex": [
       "$$\\pi_{1} x_{1}^{5} + \\pi_{2} x_{2}^{5} + \\pi_{3} x_{3}^{5} + \\pi_{4} x_{4}^{5} + \\pi_{5} x_{5}^{5}$$"
      ],
      "text/plain": [
       "     5        5        5        5        5\n",
       "π₁⋅x₁  + π₂⋅x₂  + π₃⋅x₃  + π₄⋅x₄  + π₅⋅x₅ "
      ]
     },
     "metadata": {},
     "output_type": "display_data"
    },
    {
     "data": {
      "text/latex": [
       "$$\\pi_{1} x_{1}^{6} + \\pi_{2} x_{2}^{6} + \\pi_{3} x_{3}^{6} + \\pi_{4} x_{4}^{6} + \\pi_{5} x_{5}^{6}$$"
      ],
      "text/plain": [
       "     6        6        6        6        6\n",
       "π₁⋅x₁  + π₂⋅x₂  + π₃⋅x₃  + π₄⋅x₄  + π₅⋅x₅ "
      ]
     },
     "metadata": {},
     "output_type": "display_data"
    },
    {
     "data": {
      "text/latex": [
       "$$\\pi_{1} x_{1}^{7} + \\pi_{2} x_{2}^{7} + \\pi_{3} x_{3}^{7} + \\pi_{4} x_{4}^{7} + \\pi_{5} x_{5}^{7}$$"
      ],
      "text/plain": [
       "     7        7        7        7        7\n",
       "π₁⋅x₁  + π₂⋅x₂  + π₃⋅x₃  + π₄⋅x₄  + π₅⋅x₅ "
      ]
     },
     "metadata": {},
     "output_type": "display_data"
    },
    {
     "data": {
      "text/latex": [
       "$$\\pi_{1} x_{1}^{8} + \\pi_{2} x_{2}^{8} + \\pi_{3} x_{3}^{8} + \\pi_{4} x_{4}^{8} + \\pi_{5} x_{5}^{8}$$"
      ],
      "text/plain": [
       "     8        8        8        8        8\n",
       "π₁⋅x₁  + π₂⋅x₂  + π₃⋅x₃  + π₄⋅x₄  + π₅⋅x₅ "
      ]
     },
     "metadata": {},
     "output_type": "display_data"
    },
    {
     "data": {
      "text/latex": [
       "$$\\pi_{1} x_{1}^{9} + \\pi_{2} x_{2}^{9} + \\pi_{3} x_{3}^{9} + \\pi_{4} x_{4}^{9} + \\pi_{5} x_{5}^{9}$$"
      ],
      "text/plain": [
       "     9        9        9        9        9\n",
       "π₁⋅x₁  + π₂⋅x₂  + π₃⋅x₃  + π₄⋅x₄  + π₅⋅x₅ "
      ]
     },
     "metadata": {},
     "output_type": "display_data"
    }
   ],
   "source": [
    "# test that the rewrite is correct\n",
    "for i in range(0, len(sigma_plus)):\n",
    "    simple = expand(sigma_plus[i])\n",
    "    display(simple)\n",
    "    assert(simple==e[i])"
   ]
  },
  {
   "cell_type": "markdown",
   "metadata": {
    "collapsed": true
   },
   "source": [
    "Now "
   ]
  },
  {
   "cell_type": "code",
   "execution_count": 7,
   "metadata": {
    "collapsed": false
   },
   "outputs": [
    {
     "data": {
      "text/latex": [
       "$$M_{0} \\sigma_{1}^{4} \\sigma_{5} - 3 M_{0} \\sigma_{1}^{2} \\sigma_{2} \\sigma_{5} + 2 M_{0} \\sigma_{1} \\sigma_{3} \\sigma_{5} + M_{0} \\sigma_{2}^{2} \\sigma_{5} - M_{0} \\sigma_{4} \\sigma_{5} - M_{1} \\sigma_{1}^{4} \\sigma_{4} + M_{1} \\sigma_{1}^{3} \\sigma_{5} + 3 M_{1} \\sigma_{1}^{2} \\sigma_{2} \\sigma_{4} - 2 M_{1} \\sigma_{1} \\sigma_{2} \\sigma_{5} - 2 M_{1} \\sigma_{1} \\sigma_{3} \\sigma_{4} - M_{1} \\sigma_{2}^{2} \\sigma_{4} + M_{1} \\sigma_{3} \\sigma_{5} + M_{1} \\sigma_{4}^{2} + M_{2} \\sigma_{1}^{4} \\sigma_{3} - M_{2} \\sigma_{1}^{3} \\sigma_{4} - 3 M_{2} \\sigma_{1}^{2} \\sigma_{2} \\sigma_{3} + M_{2} \\sigma_{1}^{2} \\sigma_{5} + 2 M_{2} \\sigma_{1} \\sigma_{2} \\sigma_{4} + 2 M_{2} \\sigma_{1} \\sigma_{3}^{2} + M_{2} \\sigma_{2}^{2} \\sigma_{3} - M_{2} \\sigma_{2} \\sigma_{5} - 2 M_{2} \\sigma_{3} \\sigma_{4} - M_{3} \\sigma_{1}^{4} \\sigma_{2} + M_{3} \\sigma_{1}^{3} \\sigma_{3} + 3 M_{3} \\sigma_{1}^{2} \\sigma_{2}^{2} - M_{3} \\sigma_{1}^{2} \\sigma_{4} - 4 M_{3} \\sigma_{1} \\sigma_{2} \\sigma_{3} + M_{3} \\sigma_{1} \\sigma_{5} - M_{3} \\sigma_{2}^{3} + 2 M_{3} \\sigma_{2} \\sigma_{4} + M_{3} \\sigma_{3}^{2} + M_{4} \\sigma_{1}^{5} - 4 M_{4} \\sigma_{1}^{3} \\sigma_{2} + 3 M_{4} \\sigma_{1}^{2} \\sigma_{3} + 3 M_{4} \\sigma_{1} \\sigma_{2}^{2} - 2 M_{4} \\sigma_{1} \\sigma_{4} - 2 M_{4} \\sigma_{2} \\sigma_{3} + M_{4} \\sigma_{5}$$"
      ],
      "text/plain": [
       "          4                       2                                           \n",
       "M₀⋅\\sigma₁ ⋅\\sigma₅ - 3⋅M₀⋅\\sigma₁ ⋅\\sigma₂⋅\\sigma₅ + 2⋅M₀⋅\\sigma₁⋅\\sigma₃⋅\\si\n",
       "\n",
       "                 2                                          4                 \n",
       "gma₅ + M₀⋅\\sigma₂ ⋅\\sigma₅ - M₀⋅\\sigma₄⋅\\sigma₅ - M₁⋅\\sigma₁ ⋅\\sigma₄ + M₁⋅\\si\n",
       "\n",
       "    3                       2                                                 \n",
       "gma₁ ⋅\\sigma₅ + 3⋅M₁⋅\\sigma₁ ⋅\\sigma₂⋅\\sigma₄ - 2⋅M₁⋅\\sigma₁⋅\\sigma₂⋅\\sigma₅ -\n",
       "\n",
       "                                          2                                   \n",
       " 2⋅M₁⋅\\sigma₁⋅\\sigma₃⋅\\sigma₄ - M₁⋅\\sigma₂ ⋅\\sigma₄ + M₁⋅\\sigma₃⋅\\sigma₅ + M₁⋅\n",
       "\n",
       "       2             4                     3                       2          \n",
       "\\sigma₄  + M₂⋅\\sigma₁ ⋅\\sigma₃ - M₂⋅\\sigma₁ ⋅\\sigma₄ - 3⋅M₂⋅\\sigma₁ ⋅\\sigma₂⋅\\\n",
       "\n",
       "                   2                                                          \n",
       "sigma₃ + M₂⋅\\sigma₁ ⋅\\sigma₅ + 2⋅M₂⋅\\sigma₁⋅\\sigma₂⋅\\sigma₄ + 2⋅M₂⋅\\sigma₁⋅\\si\n",
       "\n",
       "    2             2                                                           \n",
       "gma₃  + M₂⋅\\sigma₂ ⋅\\sigma₃ - M₂⋅\\sigma₂⋅\\sigma₅ - 2⋅M₂⋅\\sigma₃⋅\\sigma₄ - M₃⋅\\\n",
       "\n",
       "      4                     3                       2        2             2  \n",
       "sigma₁ ⋅\\sigma₂ + M₃⋅\\sigma₁ ⋅\\sigma₃ + 3⋅M₃⋅\\sigma₁ ⋅\\sigma₂  - M₃⋅\\sigma₁ ⋅\\\n",
       "\n",
       "                                                                       3      \n",
       "sigma₄ - 4⋅M₃⋅\\sigma₁⋅\\sigma₂⋅\\sigma₃ + M₃⋅\\sigma₁⋅\\sigma₅ - M₃⋅\\sigma₂  + 2⋅M\n",
       "\n",
       "                              2             5               3                 \n",
       "₃⋅\\sigma₂⋅\\sigma₄ + M₃⋅\\sigma₃  + M₄⋅\\sigma₁  - 4⋅M₄⋅\\sigma₁ ⋅\\sigma₂ + 3⋅M₄⋅\\\n",
       "\n",
       "      2                               2                                       \n",
       "sigma₁ ⋅\\sigma₃ + 3⋅M₄⋅\\sigma₁⋅\\sigma₂  - 2⋅M₄⋅\\sigma₁⋅\\sigma₄ - 2⋅M₄⋅\\sigma₂⋅\n",
       "\n",
       "                    \n",
       "\\sigma₃ + M₄⋅\\sigma₅"
      ]
     },
     "execution_count": 7,
     "metadata": {},
     "output_type": "execute_result"
    }
   ],
   "source": [
    "funda = symbols('\\sigma_0:'+str(k+1))\n",
    "funda2 = symbols('M0:'+str(k))\n",
    "\n",
    "sigma_plus_sym = list(funda2)\n",
    "\n",
    "for i in range(k,2*k):\n",
    "    expr = 0;\n",
    "    for j in range(0,k):\n",
    "        expr = expr + (-1)**(j)*sigma_plus_sym[i-1-j]*funda[j+1]\n",
    "    sigma_plus_sym.append(expr)\n",
    "# print(len(sigma_plus))\n",
    "sigma_plus_sym[k+2]\n",
    "\n",
    "expand(sigma_plus_sym[-1])\n"
   ]
  }
 ],
 "metadata": {
  "kernelspec": {
   "display_name": "Python 2",
   "language": "python",
   "name": "python2"
  },
  "language_info": {
   "codemirror_mode": {
    "name": "ipython",
    "version": 2
   },
   "file_extension": ".py",
   "mimetype": "text/x-python",
   "name": "python",
   "nbconvert_exporter": "python",
   "pygments_lexer": "ipython2",
   "version": "2.7.5+"
  }
 },
 "nbformat": 4,
 "nbformat_minor": 0
}
