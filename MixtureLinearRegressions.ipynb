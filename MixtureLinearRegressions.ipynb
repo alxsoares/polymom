{
 "cells": [
  {
   "cell_type": "markdown",
   "metadata": {},
   "source": [
    "# Mixture of Linear Regressions\n",
    "\n",
    "In this note, we will solve the mixture of linear regressions problem using the moment method."
   ]
  },
  {
   "cell_type": "markdown",
   "metadata": {},
   "source": [
    "This block contains some $\\LaTeX$ macros.\n",
    "$\\newcommand{\\E}{\\mathbb{E}}$\n",
    "$\\renewcommand{\\Re}{\\mathbb{R}}$\n",
    "$\\newcommand{\\oft}[1]{{^{(#1)}}}$\n",
    "$\\newcommand{\\oftt}[2]{{^{(#1)#2}}}$"
   ]
  },
  {
   "cell_type": "code",
   "execution_count": 32,
   "metadata": {
    "collapsed": false
   },
   "outputs": [],
   "source": [
    "import util\n",
    "from util import *\n",
    "from models import LinearRegressionsMixture\n",
    "import numpy as np\n",
    "np.set_printoptions(precision=3, suppress=True)\n",
    "from IPython.display import display, Markdown, Math\n",
    "from operator import mul\n",
    "import sympy as sp\n",
    "sp.init_printing()"
   ]
  },
  {
   "cell_type": "markdown",
   "metadata": {},
   "source": [
    "Let $w_1, ..., w_K \\in \\Re^D$ be a set of $K$ regression coefficients. Let $x_1, ..., x_N \\in \\Re^D$ be a given set of data points and let $y_n = \\sum_{k} \\delta_k w_k^\\top x_n + \\epsilon$ be observed responses. Our objective is to recover $(w_k)$."
   ]
  },
  {
   "cell_type": "markdown",
   "metadata": {},
   "source": [
    "## Toy Example\n",
    "\n",
    "Let's construct a toy example for the rest of this document."
   ]
  },
  {
   "cell_type": "code",
   "execution_count": 33,
   "metadata": {
    "collapsed": false
   },
   "outputs": [
    {
     "name": "stdout",
     "output_type": "stream",
     "text": [
      "True parameters:\n",
      "[ 0.4  0.6]\n",
      "[[ 0.75  0.25]\n",
      " [ 0.4   0.9 ]]\n"
     ]
    }
   ],
   "source": [
    "K, D = 2, 2\n",
    "np.random.seed(0)\n",
    "pis = np.array([0.4, 0.6])\n",
    "ws = np.array([[0.75, 0.25], [0.4, 0.9]])\n",
    "model = LinearRegressionsMixture.generate(\"tmp.dat\", K, D, betas = ws, weights = pis, cov = 1*np.eye(D))\n",
    "print(\"True parameters:\")\n",
    "print(model.weights)\n",
    "print(model.betas)"
   ]
  },
  {
   "cell_type": "markdown",
   "metadata": {},
   "source": [
    "# Noiseless, Infinite Data Setting\n",
    "\n",
    "In this scenario, assume that $\\epsilon = 0$ and that we observe expected moments of the data. Consider the moments:\n",
    "\\begin{align}\n",
    "\\E[x^\\alpha y^b] \n",
    "&= \\sum_k \\pi_k \\E[x^\\alpha y^b | \\delta_k = 1] \\\\\n",
    "&= \\sum_k \\pi_k \\E[x^\\alpha [w_k^\\top x]^b] \\\\\n",
    "&= \\sum_k \\pi_k \\E[x^\\alpha \\sum_{\\beta \\in p(b)} w_k^\\beta x^\\beta] \\\\\n",
    "&= \\sum_{\\beta \\in p(b)} \\E_\\pi[w^\\beta] \\E[x^{\\alpha + \\beta}],\n",
    "\\end{align}\n",
    "where $p(b)$ are the $d$-partitions of $b$. Note that $\\E[x^{\\alpha + \\beta}]$ are observable quantities, and thus this simply represents a mixture over the polynomials with terms $w_k^\\beta$."
   ]
  },
  {
   "cell_type": "code",
   "execution_count": 34,
   "metadata": {
    "collapsed": false
   },
   "outputs": [],
   "source": [
    "def evaluate_mixture(ws, pis, beta):\n",
    "    \"\"\"\n",
    "    Compute E_\\pi[w^beta]\n",
    "    \"\"\"\n",
    "    return sum(pi * util.monomial(w, beta) for w, pi in zip(ws.T, pis))\n",
    "    \n",
    "def compute_exact_y_moments(ws, pis, moments_x, alpha, b):\n",
    "    \"\"\"\n",
    "    Compute the exact moments E[x^a y^b] using coefficients ws, pis and moments_x.\n",
    "    \"\"\"\n",
    "    D, K = ws.shape\n",
    "    ret = 0.\n",
    "    for beta in partitions(D, b):\n",
    "        ret += evaluate_mixture(ws, pis, beta) * moments_x[tuple_add(alpha, beta)]\n",
    "    return ret\n",
    "\n",
    "def describe_moment_polynomial(R, moments_x, moment_y, alpha, b):\n",
    "    \"\"\"\n",
    "    Computes the moment polynomial for E[x^alpha, y^b]\n",
    "    \"\"\"\n",
    "    D = len(R.symbols)\n",
    "    w = R.symbols\n",
    "    expr = -moment_y\n",
    "    for beta in partitions(D, b):\n",
    "        expr += util.monomial(w, beta) * moments_x[tuple_add(alpha, beta)]\n",
    "    return expr"
   ]
  },
  {
   "cell_type": "code",
   "execution_count": 35,
   "metadata": {
    "collapsed": false
   },
   "outputs": [],
   "source": [
    "# Example \n",
    "def double_factorial(n): \n",
    "    return reduce(mul, xrange(n, 0, -2)) if n > 0 else 1\n",
    "def gaussian_moments(sigma, d):\n",
    "    \"\"\"\n",
    "    E[x^d] where x is standard gaussian with sigma\n",
    "    \"\"\"\n",
    "    if d == 0: return 1\n",
    "    elif d % 2 == 0: return double_factorial(d-1) * sigma**d\n",
    "    else: return 0\n",
    "def expected_gaussian_moments(sigma, alphas):\n",
    "    return {alpha : prod(gaussian_moments(sigma, a) for a in alpha) for alpha in alphas}\n",
    "def expected_uniform_moments(alphas):\n",
    "    return {alpha : 1.}\n",
    "def expected_moments_y(ws, pis, moments_x, alphabs):\n",
    "    return {(alpha, b) : compute_exact_y_moments(ws, pis, moments_x, alpha, b) for alpha, b in alphabs}"
   ]
  },
  {
   "cell_type": "code",
   "execution_count": 36,
   "metadata": {
    "collapsed": false
   },
   "outputs": [],
   "source": [
    "R, _ = sp.xring(['w%d'%d for d in xrange(D)], sp.RR, sp.grevlex)\n",
    "\n",
    "deg_b, deg_x = 3, 3\n",
    "sigma = 1.0\n",
    "alphas = list(dominated_elements((deg_x for _ in xrange(D))))\n",
    "alphabs = [(alpha, b) for alpha in alphas for b in xrange(1,deg_b+1)]\n",
    "alphas_ = list(dominated_elements((deg_x + deg_b for _ in xrange(D))))\n",
    "moments_x = expected_gaussian_moments(sigma, alphas_)\n",
    "moments_y = expected_moments_y(ws, pis, moments_x, alphabs)\n",
    "#display(moments)"
   ]
  },
  {
   "cell_type": "code",
   "execution_count": 37,
   "metadata": {
    "collapsed": false
   },
   "outputs": [],
   "source": [
    "def get_constraint_polynomials(moments_y, moments_x, deg_x, deg_b):\n",
    "    constrs = []\n",
    "    for b in xrange(1, deg_b+1):\n",
    "        for alpha in util.dominated_elements((deg_x for _ in xrange(D))):\n",
    "            constrs.append( describe_moment_polynomial(R, moments_x, moments_y[(alpha, b)], alpha, b) )\n",
    "    return constrs"
   ]
  },
  {
   "cell_type": "markdown",
   "metadata": {},
   "source": [
    "With this machinery, we can compute the moment polynomials required for the moment method magic!"
   ]
  },
  {
   "cell_type": "code",
   "execution_count": 38,
   "metadata": {
    "collapsed": false
   },
   "outputs": [
    {
     "name": "stdout",
     "output_type": "stream",
     "text": [
      "     pcost       dcost       gap    pres   dres\n",
      " 0:  1.2381e-01 -6.6245e-01  4e+01  5e+00  9e+00\n",
      " 1:  1.2372e-01 -3.5044e+00  8e+00  8e-01  2e+00\n",
      " 2:  1.2600e-01 -1.2251e+00  2e+00  1e-01  3e-01\n",
      " 3:  3.0668e-02 -1.2356e-01  2e-01  8e-03  2e-02\n",
      " 4:  4.6824e-03 -2.0966e-02  3e-02  1e-03  2e-03\n",
      " 5:  8.3297e-04 -2.7415e-03  4e-03  1e-04  2e-04\n",
      " 6:  2.5900e-04 -5.1225e-05  3e-04  9e-15  3e-16\n",
      " 7:  6.1469e-05  7.7121e-06  5e-05  4e-15  2e-17\n",
      " 8:  4.0140e-05  2.4754e-05  2e-05  2e-15  1e-17\n",
      " 9:  2.9425e-05  2.8129e-05  1e-06  6e-15  5e-18\n",
      "10:  2.8677e-05  2.8513e-05  2e-07  1e-15  2e-18\n",
      "11:  2.8573e-05  2.8554e-05  2e-08  2e-15  4e-19\n",
      "Optimal solution found.\n"
     ]
    }
   ],
   "source": [
    "from mompy.core import MomentMatrix\n",
    "import mompy.solvers as solvers; reload(solvers)\n",
    "import mompy.extractors as extractors; reload(extractors)\n",
    "\n",
    "constrs_exact = get_constraint_polynomials(moments_y, moments_x, deg_x, deg_b)\n",
    "M = MomentMatrix(3, R.symbols, morder='grevlex')\n",
    "sol = solvers.solve_generalized_mom_coneqp(M, constrs_exact, None)\n",
    "#sol = solvers.solve_basic_constraints(M, constrs_exact, slack=0)\n",
    "\n"
   ]
  },
  {
   "cell_type": "code",
   "execution_count": 39,
   "metadata": {
    "collapsed": false
   },
   "outputs": [
    {
     "data": {
      "text/plain": [
       "array([[ 0.75,  0.25],\n",
       "       [ 0.4 ,  0.9 ]])"
      ]
     },
     "metadata": {},
     "output_type": "display_data"
    },
    {
     "name": "stdout",
     "output_type": "stream",
     "text": [
      "lost 0.0003014\n"
     ]
    },
    {
     "data": {
      "image/png": "[encoded data removed]",
      "text/latex": [
       "$$\\left \\{ w_{0} : \\left [ 0.250020028325, \\quad 0.750053712796\\right ], \\quad w_{1} : \\left [ 0.900042495995, \\quad 0.399992882059\\right ]\\right \\}$$"
      ],
      "text/plain": [
       "{w₀: [0.250020028325, 0.750053712796], w₁: [0.900042495995, 0.399992882059]}"
      ]
     },
     "metadata": {},
     "output_type": "display_data"
    },
    {
     "name": "stdout",
     "output_type": "stream",
     "text": [
      "the next biggest eigenvalue we are losing is 0.000301\n"
     ]
    },
    {
     "data": {
      "image/png": "[encoded data removed]",
      "text/latex": [
       "$$\\left \\{ w_{0} : \\left [ 0.250044815372, \\quad 0.750679986354\\right ], \\quad w_{1} : \\left [ 0.900189598061, \\quad 0.400116795468\\right ]\\right \\}$$"
      ],
      "text/plain": [
       "{w₀: [0.250044815372, 0.750679986354], w₁: [0.900189598061, 0.400116795468]}"
      ]
     },
     "metadata": {},
     "output_type": "display_data"
    }
   ],
   "source": [
    "display( model.betas)\n",
    "display(extractors.extract_solutions_lasserre(M, sol['x'], Kmax=2))\n",
    "display(extractors.extract_solutions_dreesen_proto(M, sol['x'], Kmax=2))\n"
   ]
  },
  {
   "cell_type": "markdown",
   "metadata": {},
   "source": [
    "## With real samples\n",
    "\n",
    "Let's try to solve the problem with generated samples.\n"
   ]
  },
  {
   "cell_type": "code",
   "execution_count": 40,
   "metadata": {
    "collapsed": false
   },
   "outputs": [],
   "source": [
    "def compute_expected_moments(xs, alphas):\n",
    "    moments = {alpha : 0. for alpha in alphas}\n",
    "    for i, x in enumerate(xs):\n",
    "        for alpha in alphas:\n",
    "            moments[alpha] += (monomial(x, alpha) - moments[alpha])/(i+1)\n",
    "    return moments\n",
    "\n",
    "def compute_expected_moments_y(ys, xs, alphabs):\n",
    "    moments = {(alpha, b) : 0. for alpha, b in alphabs}\n",
    "    for i, (y, x) in enumerate(zip(ys,xs)):\n",
    "        for alpha, b in alphabs:\n",
    "            moments[(alpha,b)] += (monomial(x, alpha) * y**b - moments[(alpha,b)])/(i+1)\n",
    "    return moments"
   ]
  },
  {
   "cell_type": "code",
   "execution_count": 41,
   "metadata": {
    "collapsed": false
   },
   "outputs": [],
   "source": [
    "ys, xs = model.sample(1e3)\n",
    "moments_x = compute_expected_moments(xs, alphas_)\n",
    "moments_y = compute_expected_moments_y(ys, xs, alphabs)"
   ]
  },
  {
   "cell_type": "code",
   "execution_count": 42,
   "metadata": {
    "collapsed": false
   },
   "outputs": [
    {
     "name": "stdout",
     "output_type": "stream",
     "text": [
      "     pcost       dcost       gap    pres   dres\n",
      " 0:  5.2788e-01  1.1514e+00  3e+01  4e+00  9e+00\n",
      " 1:  6.1636e-01 -2.2758e+00  6e+00  8e-01  2e+00\n",
      " 2:  8.0989e-01  2.6549e-01  1e+00  1e-01  3e-01\n",
      " 3:  1.0449e+00  9.1622e-01  2e-01  3e-02  6e-02\n",
      " 4:  9.6847e-01  8.3137e-01  2e-01  2e-02  5e-02\n",
      " 5:  1.0159e+00  9.7422e-01  6e-02  5e-03  1e-02\n",
      " 6:  9.7796e-01  9.3639e-01  5e-02  4e-03  8e-03\n",
      " 7:  9.8520e-01  9.7132e-01  2e-02  1e-03  2e-03\n",
      " 8:  9.7040e-01  9.5611e-01  2e-02  9e-04  2e-03\n",
      " 9:  9.7176e-01  9.6524e-01  7e-03  3e-04  6e-04\n",
      "10:  9.6446e-01  9.5761e-01  8e-03  2e-04  5e-04\n",
      "11:  9.6504e-01  9.6174e-01  4e-03  7e-05  1e-04\n",
      "12:  9.6154e-01  9.5812e-01  4e-03  6e-05  1e-04\n",
      "13:  9.6166e-01  9.6017e-01  2e-03  2e-05  3e-05\n",
      "14:  9.6087e-01  9.5941e-01  1e-03  1e-05  3e-05\n",
      "15:  9.6080e-01  9.6032e-01  5e-04  3e-06  6e-06\n",
      "16:  9.6065e-01  9.6027e-01  4e-04  2e-06  4e-06\n",
      "17:  9.6057e-01  9.6055e-01  2e-05  8e-08  2e-07\n",
      "18:  9.6056e-01  9.6056e-01  2e-06  2e-09  3e-09\n",
      "19:  9.6056e-01  9.6056e-01  8e-08  7e-11  1e-10\n",
      "Optimal solution found.\n",
      "[ 1.00e+00]\n",
      "[ 4.69e-01]\n",
      "[ 7.23e-01]\n",
      "[ 3.28e-01]\n",
      "[ 4.73e-01]\n",
      "[ 6.90e-01]\n",
      "[ 1.16e-01]\n",
      "[ 3.74e-01]\n",
      "[ 6.12e-01]\n",
      "[ 5.74e-01]\n",
      "[ 1.06e+02]\n",
      "[ 1.70e+01]\n",
      "[ 7.81e+00]\n",
      "[-2.53e+01]\n",
      "[ 1.60e+02]\n",
      "\n"
     ]
    }
   ],
   "source": [
    "\n",
    "from mompy.core import MomentMatrix\n",
    "import mompy.solvers as solvers; reload(solvers)\n",
    "import mompy.extractors as extractors; reload(extractors)\n",
    "\n",
    "constrs_noisy = get_constraint_polynomials(moments_y, moments_x, deg_x, deg_b)\n",
    "#display(constrs_noisy)\n",
    "M = MomentMatrix(2, R.symbols, morder='grevlex')\n",
    "solsdp = solvers.solve_generalized_mom_coneqp(M, constrs_noisy, None)\n",
    "#solsdp = solvers.solve_basic_constraints(M, constrs_noisy, slack=2e-2)\n",
    "#sol = solvers.solve_moments_with_convexiterations(M, constrs, 3)\n",
    "print solsdp['x']"
   ]
  },
  {
   "cell_type": "code",
   "execution_count": 43,
   "metadata": {
    "collapsed": false
   },
   "outputs": [
    {
     "data": {
      "text/plain": [
       "array([[ 0.75,  0.25],\n",
       "       [ 0.4 ,  0.9 ]])"
      ]
     },
     "metadata": {},
     "output_type": "display_data"
    },
    {
     "data": {
      "image/png": "[encoded data removed]",
      "text/latex": [
       "$$\\left \\{ w_{0} : \\left [ -0.338730772493, \\quad -556.961850482\\right ], \\quad w_{1} : \\left [ 1.46575397347, \\quad -192.152139103\\right ]\\right \\}$$"
      ],
      "text/plain": [
       "{w₀: [-0.338730772493, -556.961850482], w₁: [1.46575397347, -192.152139103]}"
      ]
     },
     "metadata": {},
     "output_type": "display_data"
    },
    {
     "name": "stdout",
     "output_type": "stream",
     "text": [
      "the next biggest eigenvalue we are losing is 2.347730\n"
     ]
    },
    {
     "data": {
      "image/png": "[encoded data removed]",
      "text/latex": [
       "$$\\left \\{ w_{0} : \\left [ 69.0242563622, \\quad 69.0242563622\\right ], \\quad w_{1} : \\left [ -25.9760174168, \\quad -497.008018198\\right ]\\right \\}$$"
      ],
      "text/plain": [
       "{w₀: [69.0242563622, 69.0242563622], w₁: [-25.9760174168, -497.008018198]}"
      ]
     },
     "metadata": {},
     "output_type": "display_data"
    },
    {
     "name": "stdout",
     "output_type": "stream",
     "text": [
      "the next biggest eigenvalue we are losing is 2.347730\n"
     ]
    }
   ],
   "source": [
    "display(model.betas)\n",
    "display(extractors.extract_solutions_lasserre(M, solsdp['x'], Kmax=2))\n",
    "\n",
    "display(extractors.extract_solutions_dreesen_proto(M, solsdp['x'], Kmax=2))\n",
    "sol = extractors.extract_solutions_dreesen_proto(M, solsdp['x'], Kmax=2)\n",
    "ws_rec = array([sol[sp.symbols('w0')], sol[sp.symbols('w1')]])"
   ]
  },
  {
   "cell_type": "code",
   "execution_count": 44,
   "metadata": {
    "collapsed": false
   },
   "outputs": [
    {
     "name": "stdout",
     "output_type": "stream",
     "text": [
      "0\n",
      "0.0188708423854122*w0 + 0.325169089536888*w1 - 0.655822620203579\n",
      "\n",
      "\n",
      "3.0*w0 - 1.35\n",
      "3.71422540050967*w0 + 0.182057946395849*w1 - 1.65141794160749\n",
      "\n",
      "\n",
      "0\n",
      "0.132891465301014*w0 + 0.167703665140313*w1 - 0.259104490439454\n",
      "\n",
      "\n",
      "3.0*w0 - 1.35\n",
      "3.0756322241925*w0 + 0.0667059804850347*w1 - 1.42752983532732\n",
      "\n",
      "\n",
      "3.0*w1 - 2.1\n",
      "0.182057946395849*w0 + 3.18537672648181*w1 - 2.53678282781772\n",
      "\n",
      "\n",
      "0\n",
      "0.167703665140313*w0 + 0.0746383200434478*w1 - 0.0430938784994356\n",
      "\n",
      "\n",
      "1.0*w1 - 0.7\n",
      "0.0667059804850347*w0 + 1.08667330449701*w1 - 0.82711044922914\n",
      "\n",
      "\n",
      "0\n",
      "0.185532531523686*w0 + 0.0377319657154177*w1 - 0.0728439621793891\n",
      "\n",
      "\n",
      "0\n",
      "0.0746383200434478*w0 - 0.0697794616377764*w1 - 0.0420840656232283\n",
      "\n",
      "\n",
      "1.0*w0 - 0.45\n",
      "1.08667330449701*w0 + 0.0104407651840518*w1 - 0.471931764725507\n",
      "\n",
      "\n"
     ]
    }
   ],
   "source": [
    "for i in xrange(10):\n",
    "    print constrs_exact[i];\n",
    "    print constrs_noisy[i];\n",
    "    print '\\n'"
   ]
  },
  {
   "cell_type": "code",
   "execution_count": 45,
   "metadata": {
    "collapsed": false
   },
   "outputs": [
    {
     "data": {
      "text/plain": [
       "array([[   1.   ,    0.469,    0.723,    0.328,    0.473,    0.69 ],\n",
       "       [   0.469,    0.328,    0.473,    0.116,    0.374,    0.612],\n",
       "       [   0.723,    0.473,    0.69 ,    0.374,    0.612,    0.574],\n",
       "       [   0.328,    0.116,    0.374,  105.501,   16.951,    7.809],\n",
       "       [   0.473,    0.374,    0.612,   16.951,    7.809,  -25.251],\n",
       "       [   0.69 ,    0.612,    0.574,    7.809,  -25.251,  160.14 ]])"
      ]
     },
     "execution_count": 45,
     "metadata": {},
     "output_type": "execute_result"
    }
   ],
   "source": [
    "M.numeric_instance(solsdp['x'])"
   ]
  },
  {
   "cell_type": "code",
   "execution_count": 46,
   "metadata": {
    "collapsed": false
   },
   "outputs": [
    {
     "data": {
      "image/png": "[encoded data removed]",
      "text/latex": [
       "$$4$$"
      ],
      "text/plain": [
       "4"
      ]
     },
     "execution_count": 46,
     "metadata": {},
     "output_type": "execute_result"
    }
   ],
   "source": [
    "import scipy as sc\n",
    "import numpy.linalg\n",
    "np.linalg.matrix_rank((M.numeric_instance(solsdp['x'])), 1e-2)"
   ]
  },
  {
   "cell_type": "code",
   "execution_count": 47,
   "metadata": {
    "collapsed": false
   },
   "outputs": [
    {
     "data": {
      "image/png": "[encoded data removed]",
      "text/latex": [
       "$$\\left [ 1, \\quad w_{0}, \\quad w_{1}, \\quad w_{0}^{2}, \\quad w_{0} w_{1}, \\quad w_{1}^{2}\\right ]$$"
      ],
      "text/plain": [
       "⎡             2           2⎤\n",
       "⎣1, w₀, w₁, w₀ , w₀⋅w₁, w₁ ⎦"
      ]
     },
     "execution_count": 47,
     "metadata": {},
     "output_type": "execute_result"
    }
   ],
   "source": [
    "M.row_monos"
   ]
  },
  {
   "cell_type": "code",
   "execution_count": 48,
   "metadata": {
    "collapsed": false
   },
   "outputs": [
    {
     "data": {
      "text/plain": [
       "array([[   1.   ,    0.469,    0.723,    0.328,    0.473,    0.69 ],\n",
       "       [   0.469,    0.328,    0.473,    0.116,    0.374,    0.612],\n",
       "       [   0.723,    0.473,    0.69 ,    0.374,    0.612,    0.574],\n",
       "       [   0.328,    0.116,    0.374,  105.501,   16.951,    7.809],\n",
       "       [   0.473,    0.374,    0.612,   16.951,    7.809,  -25.251],\n",
       "       [   0.69 ,    0.612,    0.574,    7.809,  -25.251,  160.14 ]])"
      ]
     },
     "execution_count": 48,
     "metadata": {},
     "output_type": "execute_result"
    }
   ],
   "source": [
    "M.numeric_instance(solsdp['x'])"
   ]
  },
  {
   "cell_type": "code",
   "execution_count": 49,
   "metadata": {
    "collapsed": false
   },
   "outputs": [
    {
     "data": {
      "image/png": "[encoded data removed]",
      "text/latex": [
       "$$\\left \\{ \\left ( \\left ( 0, \\quad 0\\right ), \\quad 1\\right ) : -0.00908234235111, \\quad \\left ( \\left ( 0, \\quad 0\\right ), \\quad 2\\right ) : 0.854381824849, \\quad \\left ( \\left ( 0, \\quad 0\\right ), \\quad 3\\right ) : -0.00362486019865, \\quad \\left ( \\left ( 0, \\quad 1\\right ), \\quad 1\\right ) : 0.723226956245, \\quad \\left ( \\left ( 0, \\quad 1\\right ), \\quad 2\\right ) : -0.0210544652809, \\quad \\left ( \\left ( 0, \\quad 1\\right ), \\quad 3\\right ) : 1.85546985866, \\quad \\left ( \\left ( 0, \\quad 2\\right ), \\quad 1\\right ) : -0.0399660717078, \\quad \\left ( \\left ( 0, \\quad 2\\right ), \\quad 2\\right ) : 1.94488427908, \\quad \\left ( \\left ( 0, \\quad 2\\right ), \\quad 3\\right ) : 0.0763211254276, \\quad \\left ( \\left ( 0, \\quad 3\\right ), \\quad 1\\right ) : 2.03953684121, \\quad \\left ( \\left ( 0, \\quad 3\\right ), \\quad 2\\right ) : 0.0706967362696, \\quad \\left ( \\left ( 0, \\quad 3\\right ), \\quad 3\\right ) : 7.27637401572, \\quad \\left ( \\left ( 1, \\quad 0\\right ), \\quad 1\\right ) : 0.458992027663, \\quad \\left ( \\left ( 1, \\quad 0\\right ), \\quad 2\\right ) : 0.0422310540062, \\quad \\left ( \\left ( 1, \\quad 0\\right ), \\quad 3\\right ) : 1.16146402647, \\quad \\left ( \\left ( 1, \\quad 1\\right ), \\quad 1\\right ) : 0.0247930996722, \\quad \\left ( \\left ( 1, \\quad 1\\right ), \\quad 2\\right ) : 0.58218388558, \\quad \\left ( \\left ( 1, \\quad 1\\right ), \\quad 3\\right ) : 0.0799641608039, \\quad \\left ( \\left ( 1, \\quad 2\\right ), \\quad 1\\right ) : 0.471931764726, \\quad \\left ( \\left ( 1, \\quad 2\\right ), \\quad 2\\right ) : 0.0336346347518, \\quad \\left ( \\left ( 1, \\quad 2\\right ), \\quad 3\\right ) : 2.34657782145, \\quad \\left ( \\left ( 1, \\quad 3\\right ), \\quad 1\\right ) : 0.0420840656232, \\quad \\left ( \\left ( 1, \\quad 3\\right ), \\quad 2\\right ) : 1.58960490186, \\quad \\left ( \\left ( 1, \\quad 3\\right ), \\quad 3\\right ) : 0.298224380024, \\quad \\left ( \\left ( 2, \\quad 0\\right ), \\quad 1\\right ) : 0.0728439621794, \\quad \\left ( \\left ( 2, \\quad 0\\right ), \\quad 2\\right ) : 1.48319285279, \\quad \\left ( \\left ( 2, \\quad 0\\right ), \\quad 3\\right ) : 0.254333017143, \\quad \\left ( \\left ( 2, \\quad 1\\right ), \\quad 1\\right ) : 0.827110449229, \\quad \\left ( \\left ( 2, \\quad 1\\right ), \\quad 2\\right ) : 0.133369247045, \\quad \\left ( \\left ( 2, \\quad 1\\right ), \\quad 3\\right ) : 3.22863602449, \\quad \\left ( \\left ( 2, \\quad 2\\right ), \\quad 1\\right ) : 0.0430938784994, \\quad \\left ( \\left ( 2, \\quad 2\\right ), \\quad 2\\right ) : 2.96498782518, \\quad \\left ( \\left ( 2, \\quad 2\\right ), \\quad 3\\right ) : 0.759211140803, \\quad \\left ( \\left ( 2, \\quad 3\\right ), \\quad 1\\right ) : 2.53678282782, \\quad \\left ( \\left ( 2, \\quad 3\\right ), \\quad 2\\right ) : 0.672036201997, \\quad \\left ( \\left ( 2, \\quad 3\\right ), \\quad 3\\right ) : 12.3213242728, \\quad \\left ( \\left ( 3, \\quad 0\\right ), \\quad 1\\right ) : 1.42752983533, \\quad \\left ( \\left ( 3, \\quad 0\\right ), \\quad 2\\right ) : 0.419309793366, \\quad \\left ( \\left ( 3, \\quad 0\\right ), \\quad 3\\right ) : 4.64606344352, \\quad \\left ( \\left ( 3, \\quad 1\\right ), \\quad 1\\right ) : 0.259104490439, \\quad \\left ( \\left ( 3, \\quad 1\\right ), \\quad 2\\right ) : 2.14097474617, \\quad \\left ( \\left ( 3, \\quad 1\\right ), \\quad 3\\right ) : 0.8998067579, \\quad \\left ( \\left ( 3, \\quad 2\\right ), \\quad 1\\right ) : 1.65141794161, \\quad \\left ( \\left ( 3, \\quad 2\\right ), \\quad 2\\right ) : 0.607913559542, \\quad \\left ( \\left ( 3, \\quad 2\\right ), \\quad 3\\right ) : 9.73910752378, \\quad \\left ( \\left ( 3, \\quad 3\\right ), \\quad 1\\right ) : 0.655822620204, \\quad \\left ( \\left ( 3, \\quad 3\\right ), \\quad 2\\right ) : 6.38640407564, \\quad \\left ( \\left ( 3, \\quad 3\\right ), \\quad 3\\right ) : 3.51236656336\\right \\}$$"
      ],
      "text/plain": [
       "{((0, 0), 1): -0.00908234235111, ((0, 0), 2): 0.854381824849, ((0, 0), 3): -0.\n",
       "00362486019865, ((0, 1), 1): 0.723226956245, ((0, 1), 2): -0.0210544652809, ((\n",
       "0, 1), 3): 1.85546985866, ((0, 2), 1): -0.0399660717078, ((0, 2), 2): 1.944884\n",
       "27908, ((0, 2), 3): 0.0763211254276, ((0, 3), 1): 2.03953684121, ((0, 3), 2): \n",
       "0.0706967362696, ((0, 3), 3): 7.27637401572, ((1, 0), 1): 0.458992027663, ((1,\n",
       " 0), 2): 0.0422310540062, ((1, 0), 3): 1.16146402647, ((1, 1), 1): 0.024793099\n",
       "6722, ((1, 1), 2): 0.58218388558, ((1, 1), 3): 0.0799641608039, ((1, 2), 1): 0\n",
       ".471931764726, ((1, 2), 2): 0.0336346347518, ((1, 2), 3): 2.34657782145, ((1, \n",
       "3), 1): 0.0420840656232, ((1, 3), 2): 1.58960490186, ((1, 3), 3): 0.2982243800\n",
       "24, ((2, 0), 1): 0.0728439621794, ((2, 0), 2): 1.48319285279, ((2, 0), 3): 0.2\n",
       "54333017143, ((2, 1), 1): 0.827110449229, ((2, 1), 2): 0.133369247045, ((2, 1)\n",
       ", 3): 3.22863602449, ((2, 2), 1): 0.0430938784994, ((2, 2), 2): 2.96498782518,\n",
       " ((2, 2), 3): 0.759211140803, ((2, 3), 1): 2.53678282782, ((2, 3), 2): 0.67203\n",
       "6201997, ((2, 3), 3): 12.3213242728, ((3, 0), 1): 1.42752983533, ((3, 0), 2): \n",
       "0.419309793366, ((3, 0), 3): 4.64606344352, ((3, 1), 1): 0.259104490439, ((3, \n",
       "1), 2): 2.14097474617, ((3, 1), 3): 0.8998067579, ((3, 2), 1): 1.65141794161, \n",
       "((3, 2), 2): 0.607913559542, ((3, 2), 3): 9.73910752378, ((3, 3), 1): 0.655822\n",
       "620204, ((3, 3), 2): 6.38640407564, ((3, 3), 3): 3.51236656336}"
      ]
     },
     "execution_count": 49,
     "metadata": {},
     "output_type": "execute_result"
    }
   ],
   "source": [
    "moments_y"
   ]
  },
  {
   "cell_type": "code",
   "execution_count": null,
   "metadata": {
    "collapsed": true
   },
   "outputs": [],
   "source": [
    "moments_x_true = expected_gaussian_moments(sigma, alphas_)\n",
    "moments_y_true = expected_moments_y(ws, pis, moments_x, alphabs)"
   ]
  },
  {
   "cell_type": "code",
   "execution_count": null,
   "metadata": {
    "collapsed": false
   },
   "outputs": [
    {
     "data": {
      "image/png": "[encoded data removed]",
      "text/latex": [
       "$$\\left ( \\left ( 1, \\quad 2\\right ), \\quad 1\\right )$$"
      ],
      "text/plain": [
       "((1, 2), 1)"
      ]
     },
     "metadata": {},
     "output_type": "display_data"
    },
    {
     "data": {
      "image/png": "[encoded data removed]",
      "text/latex": [
       "$$0.024379757927$$"
      ],
      "text/plain": [
       "0.024379757927"
      ]
     },
     "metadata": {},
     "output_type": "display_data"
    }
   ],
   "source": [
    "for key in moments_y:\n",
    "    display(key, abs(moments_y[key] - moments_y_true[key]))"
   ]
  }
 ],
 "metadata": {
  "kernelspec": {
   "display_name": "Python 2",
   "language": "python",
   "name": "python2"
  },
  "language_info": {
   "codemirror_mode": {
    "name": "ipython",
    "version": 2
   },
   "file_extension": ".py",
   "mimetype": "text/x-python",
   "name": "python",
   "nbconvert_exporter": "python",
   "pygments_lexer": "ipython2",
   "version": "2.7.9"
  }
 },
 "nbformat": 4,
 "nbformat_minor": 0
}
