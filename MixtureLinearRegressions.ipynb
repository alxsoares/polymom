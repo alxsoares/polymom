{
 "cells": [
  {
   "cell_type": "markdown",
   "metadata": {},
   "source": [
    "# Mixture of Linear Regressions\n",
    "\n",
    "In this note, we will solve the mixture of linear regressions problem using the moment method."
   ]
  },
  {
   "cell_type": "markdown",
   "metadata": {},
   "source": [
    "This block contains some $\\LaTeX$ macros.\n",
    "$\\newcommand{\\E}{\\mathbb{E}}$\n",
    "$\\renewcommand{\\Re}{\\mathbb{R}}$\n",
    "$\\newcommand{\\oft}[1]{{^{(#1)}}}$\n",
    "$\\newcommand{\\oftt}[2]{{^{(#1)#2}}}$"
   ]
  },
  {
   "cell_type": "code",
   "execution_count": 1,
   "metadata": {
    "collapsed": false
   },
   "outputs": [],
   "source": [
    "import util\n",
    "from util import *\n",
    "import models\n",
    "from models.LinearRegressions import LinearRegressionsMixture\n",
    "import numpy as np\n",
    "np.set_printoptions(precision=3, suppress=True)\n",
    "from IPython.display import display, Markdown, Math\n",
    "from operator import mul\n",
    "import sympy as sp\n",
    "sp.init_printing()"
   ]
  },
  {
   "cell_type": "markdown",
   "metadata": {},
   "source": [
    "Let $w_1, ..., w_K \\in \\Re^D$ be a set of $K$ regression coefficients. Let $x_1, ..., x_N \\in \\Re^D$ be a given set of data points and let $y_n = \\sum_{k} \\delta_k w_k^\\top x_n + \\epsilon$ be observed responses. Our objective is to recover $(w_k)$."
   ]
  },
  {
   "cell_type": "markdown",
   "metadata": {},
   "source": [
    "## Toy Example\n",
    "\n",
    "Let's construct a toy example for the rest of this document."
   ]
  },
  {
   "cell_type": "code",
   "execution_count": 2,
   "metadata": {
    "collapsed": false
   },
   "outputs": [
    {
     "name": "stdout",
     "output_type": "stream",
     "text": [
      "True parameters:\n",
      "[ 0.4  0.6]\n",
      "[[ 0.75  0.25]\n",
      " [ 0.4   0.9 ]]\n",
      "[[ 1.  0.]\n",
      " [ 0.  1.]]\n"
     ]
    }
   ],
   "source": [
    "K, D = 2, 2\n",
    "np.random.seed(0)\n",
    "pis = np.array([0.4, 0.6])\n",
    "ws = np.array([[0.75, 0.25], [0.4, 0.9]])\n",
    "model = LinearRegressionsMixture.generate(K, D, betas = ws, weights = pis, cov =  1.0)\n",
    "print(\"True parameters:\")\n",
    "print(model.weights)\n",
    "print(model.betas)\n",
    "print(model.sigma)"
   ]
  },
  {
   "cell_type": "markdown",
   "metadata": {},
   "source": [
    "# Noiseless, Infinite Data Setting\n",
    "\n",
    "In this scenario, assume that $\\epsilon = 0$ and that we observe expected moments of the data. Consider the moments:\n",
    "\\begin{align}\n",
    "\\E[x^\\alpha y^b] \n",
    "&= \\sum_k \\pi_k \\E[x^\\alpha y^b | \\delta_k = 1] \\\\\n",
    "&= \\sum_k \\pi_k \\E[x^\\alpha [w_k^\\top x]^b] \\\\\n",
    "&= \\sum_k \\pi_k \\E[x^\\alpha \\sum_{\\beta \\in p(b)} w_k^\\beta x^\\beta] \\\\\n",
    "&= \\sum_{\\beta \\in p(b)} \\E_\\pi[w^\\beta] \\E[x^{\\alpha + \\beta}],\n",
    "\\end{align}\n",
    "where $p(b)$ are the $d$-partitions of $b$. Note that $\\E[x^{\\alpha + \\beta}]$ are observable quantities, and thus this simply represents a mixture over the polynomials with terms $w_k^\\beta$."
   ]
  },
  {
   "cell_type": "code",
   "execution_count": 3,
   "metadata": {
    "collapsed": false
   },
   "outputs": [],
   "source": [
    "def evaluate_mixture(ws, pis, beta):\n",
    "    \"\"\"\n",
    "    Compute E_\\pi[w^beta]\n",
    "    \"\"\"\n",
    "    return sum(pi * util.monomial(w, beta) for w, pi in zip(ws.T, pis))\n",
    "    \n",
    "def compute_exact_y_moments(ws, pis, moments_x, alpha, b):\n",
    "    \"\"\"\n",
    "    Compute the exact moments E[x^a y^b] using coefficients ws, pis and moments_x.\n",
    "    \"\"\"\n",
    "    D, K = ws.shape\n",
    "    ret = 0.\n",
    "    coeffs = sp.ntheory.multinomial_coefficients(D,b)\n",
    "    for beta in partitions(D, b):\n",
    "        ret += coeffs[beta] * evaluate_mixture(ws, pis, beta) * moments_x[tuple_add(alpha, beta)]\n",
    "    return ret\n",
    "\n",
    "def describe_moment_polynomial(R, moments_x, moment_y, alpha, b):\n",
    "    \"\"\"\n",
    "    Computes the moment polynomial for E[x^alpha, y^b]\n",
    "    \"\"\"\n",
    "    D = len(R.symbols)\n",
    "    w = R.symbols\n",
    "    expr = -moment_y\n",
    "    coeffs = sp.ntheory.multinomial_coefficients(D,b)\n",
    "    for beta in partitions(D, b):\n",
    "        expr += coeffs[beta] * util.monomial(w, beta) * moments_x[tuple_add(alpha, beta)]\n",
    "    return expr"
   ]
  },
  {
   "cell_type": "code",
   "execution_count": 4,
   "metadata": {
    "collapsed": false
   },
   "outputs": [],
   "source": [
    "# Example \n",
    "def double_factorial(n): \n",
    "    return reduce(mul, xrange(n, 0, -2)) if n > 0 else 1\n",
    "def gaussian_moments(sigma, d):\n",
    "    \"\"\"\n",
    "    E[x^d] where x is standard gaussian with sigma\n",
    "    \"\"\"\n",
    "    if d == 0: return 1\n",
    "    elif d % 2 == 0: return double_factorial(d-1) * sigma**d\n",
    "    else: return 0\n",
    "def expected_gaussian_moments(sigma, alphas):\n",
    "    return {alpha : prod(gaussian_moments(sigma, a) for a in alpha) for alpha in alphas}\n",
    "def expected_uniform_moments(alphas):\n",
    "    return {alpha : 1. for alpha in alphas}\n",
    "def expected_moments_y(ws, pis, moments_x, alphabs):\n",
    "    return {(alpha, b) : compute_exact_y_moments(ws, pis, moments_x, alpha, b) for alpha, b in alphabs}"
   ]
  },
  {
   "cell_type": "code",
   "execution_count": 5,
   "metadata": {
    "collapsed": true
   },
   "outputs": [],
   "source": [
    "R, _ = sp.xring(['w%d'%d for d in xrange(D)], sp.RR, sp.grevlex)\n",
    "\n",
    "deg_b, deg_x = 3, 2\n",
    "sigma = model.sigma[0,0]\n",
    "alphas = list(dominated_elements((deg_x for _ in xrange(D))))\n",
    "alphabs = [(alpha, b) for alpha in alphas for b in xrange(1,deg_b+1)]\n",
    "alphas_ = list(dominated_elements((deg_x + deg_b for _ in xrange(D))))\n",
    "moments_x = expected_gaussian_moments(sigma, alphas_)\n",
    "moments_y = expected_moments_y(ws, pis, moments_x, alphabs)\n",
    "#display(moments)"
   ]
  },
  {
   "cell_type": "code",
   "execution_count": 6,
   "metadata": {
    "collapsed": false
   },
   "outputs": [
    {
     "data": {
      "image/png": "[encoded data removed]",
      "text/latex": [
       "$$\\left \\{ \\left ( \\left ( 0, \\quad 0\\right ), \\quad 1\\right ) : 0.0, \\quad \\left ( \\left ( 0, \\quad 0\\right ), \\quad 2\\right ) : 0.8125, \\quad \\left ( \\left ( 0, \\quad 0\\right ), \\quad 3\\right ) : 0.0, \\quad \\left ( \\left ( 0, \\quad 1\\right ), \\quad 1\\right ) : 0.7, \\quad \\left ( \\left ( 0, \\quad 1\\right ), \\quad 2\\right ) : 0.0, \\quad \\left ( \\left ( 0, \\quad 1\\right ), \\quad 3\\right ) : 1.76025, \\quad \\left ( \\left ( 0, \\quad 2\\right ), \\quad 1\\right ) : 0.0, \\quad \\left ( \\left ( 0, \\quad 2\\right ), \\quad 2\\right ) : 1.9125, \\quad \\left ( \\left ( 0, \\quad 2\\right ), \\quad 3\\right ) : 0.0, \\quad \\left ( \\left ( 1, \\quad 0\\right ), \\quad 1\\right ) : 0.45, \\quad \\left ( \\left ( 1, \\quad 0\\right ), \\quad 2\\right ) : 0.0, \\quad \\left ( \\left ( 1, \\quad 0\\right ), \\quad 3\\right ) : 1.042875, \\quad \\left ( \\left ( 1, \\quad 1\\right ), \\quad 1\\right ) : 0.0, \\quad \\left ( \\left ( 1, \\quad 1\\right ), \\quad 2\\right ) : 0.51, \\quad \\left ( \\left ( 1, \\quad 1\\right ), \\quad 3\\right ) : 0.0, \\quad \\left ( \\left ( 1, \\quad 2\\right ), \\quad 1\\right ) : 0.45, \\quad \\left ( \\left ( 1, \\quad 2\\right ), \\quad 2\\right ) : 0.0, \\quad \\left ( \\left ( 1, \\quad 2\\right ), \\quad 3\\right ) : 2.059875, \\quad \\left ( \\left ( 2, \\quad 0\\right ), \\quad 1\\right ) : 0.0, \\quad \\left ( \\left ( 2, \\quad 0\\right ), \\quad 2\\right ) : 1.3375, \\quad \\left ( \\left ( 2, \\quad 0\\right ), \\quad 3\\right ) : 0.0, \\quad \\left ( \\left ( 2, \\quad 1\\right ), \\quad 1\\right ) : 0.7, \\quad \\left ( \\left ( 2, \\quad 1\\right ), \\quad 2\\right ) : 0.0, \\quad \\left ( \\left ( 2, \\quad 1\\right ), \\quad 3\\right ) : 2.50275, \\quad \\left ( \\left ( 2, \\quad 2\\right ), \\quad 1\\right ) : 0.0, \\quad \\left ( \\left ( 2, \\quad 2\\right ), \\quad 2\\right ) : 2.4375, \\quad \\left ( \\left ( 2, \\quad 2\\right ), \\quad 3\\right ) : 0.0\\right \\}$$"
      ],
      "text/plain": [
       "{((0, 0), 1): 0.0, ((0, 0), 2): 0.8125, ((0, 0), 3): 0.0, ((0, 1), 1): 0.7, ((\n",
       "0, 1), 2): 0.0, ((0, 1), 3): 1.76025, ((0, 2), 1): 0.0, ((0, 2), 2): 1.9125, (\n",
       "(0, 2), 3): 0.0, ((1, 0), 1): 0.45, ((1, 0), 2): 0.0, ((1, 0), 3): 1.042875, (\n",
       "(1, 1), 1): 0.0, ((1, 1), 2): 0.51, ((1, 1), 3): 0.0, ((1, 2), 1): 0.45, ((1, \n",
       "2), 2): 0.0, ((1, 2), 3): 2.059875, ((2, 0), 1): 0.0, ((2, 0), 2): 1.3375, ((2\n",
       ", 0), 3): 0.0, ((2, 1), 1): 0.7, ((2, 1), 2): 0.0, ((2, 1), 3): 2.50275, ((2, \n",
       "2), 1): 0.0, ((2, 2), 2): 2.4375, ((2, 2), 3): 0.0}"
      ]
     },
     "metadata": {},
     "output_type": "display_data"
    }
   ],
   "source": [
    "display(moments_y)"
   ]
  },
  {
   "cell_type": "code",
   "execution_count": 7,
   "metadata": {
    "collapsed": false
   },
   "outputs": [],
   "source": [
    "def get_constraint_polynomials(moments_y, moments_x, deg_x, deg_b):\n",
    "    constrs = []\n",
    "    for b in xrange(1, deg_b+1):\n",
    "        for alpha in util.dominated_elements((deg_x for _ in xrange(D))):\n",
    "            constrs.append( describe_moment_polynomial(R, moments_x, moments_y[(alpha, b)], alpha, b) )\n",
    "    return constrs"
   ]
  },
  {
   "cell_type": "markdown",
   "metadata": {},
   "source": [
    "With this machinery, we can compute the moment polynomials required for the moment method magic!"
   ]
  },
  {
   "cell_type": "code",
   "execution_count": 8,
   "metadata": {
    "collapsed": false
   },
   "outputs": [
    {
     "name": "stdout",
     "output_type": "stream",
     "text": [
      "     pcost       dcost       gap    pres   dres\n",
      " 0:  3.3331e-01 -1.1934e+00  4e+01  4e+00  8e+00\n",
      " 1:  1.9518e-01 -3.2675e+00  7e+00  8e-01  1e+00\n",
      " 2:  1.4298e-01 -1.0911e+00  1e+00  1e-01  2e-01\n",
      " 3:  3.5067e-02 -1.2531e-01  2e-01  1e-02  2e-02\n",
      " 4:  5.2528e-03 -1.8015e-02  2e-02  9e-04  2e-03\n",
      " 5:  8.6614e-04 -2.3142e-03  3e-03  9e-05  2e-04\n",
      " 6:  2.5471e-04 -8.0417e-05  3e-04  9e-07  2e-06\n",
      " 7:  5.9055e-05  2.3865e-06  6e-05  1e-07  2e-07\n",
      " 8:  4.0805e-05  2.3551e-05  2e-05  1e-08  2e-08\n",
      " 9:  3.0154e-05  2.7546e-05  3e-06  1e-09  2e-09\n",
      "10:  2.9128e-05  2.8320e-05  8e-07  2e-10  3e-10\n",
      "11:  2.8647e-05  2.8507e-05  1e-07  2e-11  4e-11\n",
      "12:  2.8587e-05  2.8549e-05  4e-08  4e-12  7e-12\n",
      "Optimal solution found.\n"
     ]
    },
    {
     "data": {
      "text/plain": [
       "array([[ 0.75,  0.25],\n",
       "       [ 0.4 ,  0.9 ]])"
      ]
     },
     "metadata": {},
     "output_type": "display_data"
    },
    {
     "data": {
      "text/plain": [
       "{w0: array([ 0.25,  0.75]), w1: array([ 0.9,  0.4])}"
      ]
     },
     "metadata": {},
     "output_type": "display_data"
    }
   ],
   "source": [
    "from mompy.core import MomentMatrix\n",
    "import mompy.solvers as solvers; reload(solvers)\n",
    "import mompy.extractors as extractors; reload(extractors)\n",
    "\n",
    "constrs = get_constraint_polynomials(moments_y, moments_x, deg_x, deg_b)\n",
    "M = MomentMatrix(3, R.symbols, morder='grevlex')\n",
    "sol = solvers.solve_generalized_mom_coneqp(M, constrs, 3)\n",
    "display( model.betas)\n",
    "display(extractors.extract_solutions_lasserre(M, sol['x'], Kmax=2))"
   ]
  },
  {
   "cell_type": "code",
   "execution_count": 9,
   "metadata": {
    "collapsed": false,
    "scrolled": true
   },
   "outputs": [
    {
     "data": {
      "image/png": "[encoded data removed]",
      "text/latex": [
       "$$\\left [ 0, \\quad 1.0 w_{1} - 0.7, \\quad 0, \\quad 1.0 w_{0} - 0.45, \\quad 0, \\quad 1.0 w_{0} - 0.45, \\quad 0, \\quad 1.0 w_{1} - 0.7, \\quad 0, \\quad 3.0 w_{0}^{2} + 3.0 w_{1}^{2} - 2.4375, \\quad 0, \\quad 3.0 w_{0}^{2} + 1.0 w_{1}^{2} - 1.3375, \\quad 0, \\quad 2.0 w_{0} w_{1} - 0.51, \\quad 0, \\quad 1.0 w_{0}^{2} + 3.0 w_{1}^{2} - 1.9125, \\quad 0, \\quad 1.0 w_{0}^{2} + 1.0 w_{1}^{2} - 0.8125, \\quad 0, \\quad 9.0 w_{0}^{2} w_{1} + 3.0 w_{1}^{3} - 2.50275, \\quad 0, \\quad 3.0 w_{0}^{3} + 9.0 w_{0} w_{1}^{2} - 2.059875, \\quad 0, \\quad 3.0 w_{0}^{3} + 3.0 w_{0} w_{1}^{2} - 1.042875, \\quad 0, \\quad 3.0 w_{0}^{2} w_{1} + 3.0 w_{1}^{3} - 1.76025, \\quad 0\\right ]$$"
      ],
      "text/plain": [
       "⎡                                                                             \n",
       "⎣0, 1.0⋅w₁ - 0.7, 0, 1.0⋅w₀ - 0.45, 0, 1.0⋅w₀ - 0.45, 0, 1.0⋅w₁ - 0.7, 0, 3.0⋅\n",
       "\n",
       "  2         2                    2         2                                  \n",
       "w₀  + 3.0⋅w₁  - 2.4375, 0, 3.0⋅w₀  + 1.0⋅w₁  - 1.3375, 0, 2.0⋅w₀⋅w₁ - 0.51, 0,\n",
       "\n",
       "       2         2                    2         2                    2        \n",
       " 1.0⋅w₀  + 3.0⋅w₁  - 1.9125, 0, 1.0⋅w₀  + 1.0⋅w₁  - 0.8125, 0, 9.0⋅w₀ ⋅w₁ + 3.\n",
       "\n",
       "    3                     3            2                      3            2  \n",
       "0⋅w₁  - 2.50275, 0, 3.0⋅w₀  + 9.0⋅w₀⋅w₁  - 2.059875, 0, 3.0⋅w₀  + 3.0⋅w₀⋅w₁  -\n",
       "\n",
       "                    2            3             ⎤\n",
       " 1.042875, 0, 3.0⋅w₀ ⋅w₁ + 3.0⋅w₁  - 1.76025, 0⎦"
      ]
     },
     "metadata": {},
     "output_type": "display_data"
    }
   ],
   "source": [
    "display(constrs)"
   ]
  },
  {
   "cell_type": "markdown",
   "metadata": {},
   "source": [
    "## With real samples\n",
    "\n",
    "Let's try to solve the problem with generated samples.\n"
   ]
  },
  {
   "cell_type": "code",
   "execution_count": 10,
   "metadata": {
    "collapsed": false
   },
   "outputs": [],
   "source": [
    "def compute_expected_moments(xs, alphas):\n",
    "    moments = {alpha : 0. for alpha in alphas}\n",
    "    for alpha in alphas:\n",
    "        m = monomial(xs.T, alpha)\n",
    "        moments[alpha] = m if isinstance(m,float) else float(m.mean())\n",
    "    return moments\n",
    "\n",
    "def compute_expected_moments_y(ys, xs, alphabs):\n",
    "    moments = {(alpha, b) : 0. for alpha, b in alphabs}\n",
    "    for alpha, b in alphabs:\n",
    "        moments[(alpha,b)] = float((monomial(xs.T, alpha) * ys**b).mean())\n",
    "    return moments"
   ]
  },
  {
   "cell_type": "code",
   "execution_count": null,
   "metadata": {
    "collapsed": false
   },
   "outputs": [],
   "source": []
  },
  {
   "cell_type": "code",
   "execution_count": 11,
   "metadata": {
    "collapsed": false
   },
   "outputs": [
    {
     "name": "stdout",
     "output_type": "stream",
     "text": [
      "     pcost       dcost       gap    pres   dres\n",
      " 0:  3.3368e-01 -1.1933e+00  4e+01  4e+00  8e+00\n",
      " 1:  1.9538e-01 -3.2668e+00  7e+00  8e-01  1e+00\n",
      " 2:  1.4312e-01 -1.0906e+00  1e+00  1e-01  2e-01\n",
      " 3:  3.5230e-02 -1.2495e-01  2e-01  1e-02  2e-02\n",
      " 4:  5.4292e-03 -1.7808e-02  2e-02  9e-04  2e-03\n",
      " 5:  1.0384e-03 -2.1377e-03  3e-03  9e-05  2e-04\n",
      " 6:  4.2657e-04  9.2214e-05  3e-04  9e-07  2e-06\n",
      " 7:  2.3063e-04  1.7427e-04  6e-05  1e-07  2e-07\n",
      " 8:  2.1266e-04  1.9500e-04  2e-05  1e-08  2e-08\n",
      " 9:  2.0183e-04  1.9907e-04  3e-06  1e-09  2e-09\n",
      "10:  2.0084e-04  1.9988e-04  1e-06  3e-10  5e-10\n",
      "11:  2.0028e-04  2.0015e-04  1e-07  3e-11  6e-11\n",
      "12:  2.0024e-04  2.0021e-04  3e-08  4e-12  8e-12\n",
      "Optimal solution found.\n"
     ]
    },
    {
     "data": {
      "text/plain": [
       "array([[ 0.75 ,  0.404],\n",
       "       [ 0.252,  0.903]])"
      ]
     },
     "metadata": {},
     "output_type": "display_data"
    },
    {
     "data": {
      "text/plain": [
       "'the true parameters'"
      ]
     },
     "metadata": {},
     "output_type": "display_data"
    },
    {
     "data": {
      "text/plain": [
       "array([[ 0.75,  0.4 ],\n",
       "       [ 0.25,  0.9 ]])"
      ]
     },
     "metadata": {},
     "output_type": "display_data"
    },
    {
     "name": "stdout",
     "output_type": "stream",
     "text": [
      "0.153823872173\n"
     ]
    }
   ],
   "source": [
    "from mompy.core import MomentMatrix\n",
    "import mompy.solvers as solvers; reload(solvers)\n",
    "import mompy.extractors as extractors; reload(extractors)\n",
    "from util import fix_parameters, column_rerr\n",
    "totalerror = 0\n",
    "for t in range(1):\n",
    "    xs, ys = model.sample(1e6)\n",
    "    moments_x = compute_expected_moments(xs, alphas_)\n",
    "    moments_y = compute_expected_moments_y(ys, xs, alphabs)\n",
    "\n",
    "    constrs_sdp = get_constraint_polynomials(moments_y, moments_x, deg_x, deg_b)\n",
    "    M = MomentMatrix(3, R.symbols, morder='grevlex')\n",
    "    solsdp = solvers.solve_generalized_mom_coneqp(M, constrs_sdp, None)\n",
    "    #sol = solvers.solve_moments_with_convexiterations(M, constrs, 3)\n",
    "     \n",
    "    betas_lassare = extractors.extract_solutions_lasserre(M, solsdp['x'], Kmax=2)\n",
    "    betas_lassare_array = np.array([betas_lassare[R.symbols[0]], betas_lassare[R.symbols[1]]])\n",
    "        \n",
    "    M_ = closest_permuted_matrix(model.betas.T, betas_lassare_array.T)\n",
    "    \n",
    "    display(M_)\n",
    "    display('the true parameters')\n",
    "    display(model.betas.T)\n",
    "    totalerror += column_aerr(M_, model.betas)\n",
    "print totalerror\n",
    "    "
   ]
  },
  {
   "cell_type": "code",
   "execution_count": null,
   "metadata": {
    "collapsed": true
   },
   "outputs": [],
   "source": []
  }
 ],
 "metadata": {
  "kernelspec": {
   "display_name": "Python 2",
   "language": "python",
   "name": "python2"
  },
  "language_info": {
   "codemirror_mode": {
    "name": "ipython",
    "version": 2
   },
   "file_extension": ".py",
   "mimetype": "text/x-python",
   "name": "python",
   "nbconvert_exporter": "python",
   "pygments_lexer": "ipython2",
   "version": "2.7.9"
  }
 },
 "nbformat": 4,
 "nbformat_minor": 0
}
