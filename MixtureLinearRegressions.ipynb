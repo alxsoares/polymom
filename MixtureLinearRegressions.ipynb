{
 "cells": [
  {
   "cell_type": "markdown",
   "metadata": {},
   "source": [
    "# Mixture of Linear Regressions\n",
    "\n",
    "In this note, we will solve the mixture of linear regressions problem using the moment method."
   ]
  },
  {
   "cell_type": "markdown",
   "metadata": {},
   "source": [
    "This block contains some $\\LaTeX$ macros.\n",
    "$\\newcommand{\\E}{\\mathbb{E}}$\n",
    "$\\renewcommand{\\Re}{\\mathbb{R}}$\n",
    "$\\newcommand{\\oft}[1]{{^{(#1)}}}$\n",
    "$\\newcommand{\\oftt}[2]{{^{(#1)#2}}}$"
   ]
  },
  {
   "cell_type": "code",
   "execution_count": 1,
   "metadata": {
    "collapsed": false
   },
   "outputs": [],
   "source": [
    "import util\n",
    "from util import *\n",
    "from models import LinearRegressionsMixture\n",
    "import numpy as np\n",
    "np.set_printoptions(precision=3, suppress=True)\n",
    "from IPython.display import display, Markdown, Math\n",
    "from operator import mul\n",
    "import sympy as sp\n",
    "sp.init_printing()"
   ]
  },
  {
   "cell_type": "markdown",
   "metadata": {},
   "source": [
    "Let $w_1, ..., w_K \\in \\Re^D$ be a set of $K$ regression coefficients. Let $x_1, ..., x_N \\in \\Re^D$ be a given set of data points and let $y_n = \\sum_{k} \\delta_k w_k^\\top x_n + \\epsilon$ be observed responses. Our objective is to recover $(w_k)$."
   ]
  },
  {
   "cell_type": "markdown",
   "metadata": {},
   "source": [
    "## Toy Example\n",
    "\n",
    "Let's construct a toy example for the rest of this document."
   ]
  },
  {
   "cell_type": "code",
   "execution_count": 34,
   "metadata": {
    "collapsed": false
   },
   "outputs": [],
   "source": [
    "K, D = 2, 2\n",
    "np.random.seed(0)\n",
    "pis = np.array([0.4, 0.6])\n",
    "ws = np.array([[0.75, 0.25], [0.4, 0.9]])\n",
    "model = LinearRegressionsMixture.generate(\"tmp.dat\", K, D, betas = ws, weights = pis)\n",
    "print(\"True parameters:\")\n",
    "print(model.weights)\n",
    "print(model.betas)"
   ]
  },
  {
   "cell_type": "markdown",
   "metadata": {},
   "source": [
    "# Noiseless, Infinite Data Setting\n",
    "\n",
    "In this scenario, assume that $\\epsilon = 0$ and that we observe expected moments of the data. Consider the moments:\n",
    "\\begin{align}\n",
    "\\E[x^\\alpha y^b] \n",
    "&= \\sum_k \\pi_k \\E[x^\\alpha y^b | \\delta_k = 1] \\\\\n",
    "&= \\sum_k \\pi_k \\E[x^\\alpha [w_k^\\top x]^b] \\\\\n",
    "&= \\sum_k \\pi_k \\E[x^\\alpha \\sum_{\\beta \\in p(b)} w_k^\\beta x^\\beta] \\\\\n",
    "&= \\sum_{\\beta \\in p(b)} \\E_\\pi[w^\\beta] \\E[x^{\\alpha + \\beta}],\n",
    "\\end{align}\n",
    "where $p(b)$ are the $d$-partitions of $b$. Note that $\\E[x^{\\alpha + \\beta}]$ are observable quantities, and thus this simply represents a mixture over the polynomials with terms $w_k^\\beta$."
   ]
  },
  {
   "cell_type": "code",
   "execution_count": 35,
   "metadata": {
    "collapsed": false
   },
   "outputs": [],
   "source": [
    "def evaluate_mixture(ws, pis, beta):\n",
    "    \"\"\"\n",
    "    Compute E_\\pi[w^beta]\n",
    "    \"\"\"\n",
    "    return sum(pi * util.monomial(w, beta) for w, pi in zip(ws.T, pis))\n",
    "    \n",
    "def compute_exact_y_moments(ws, pis, moments_x, alpha, b):\n",
    "    \"\"\"\n",
    "    Compute the exact moments E[x^a y^b] using coefficients ws, pis and moments_x.\n",
    "    \"\"\"\n",
    "    D, K = ws.shape\n",
    "    ret = 0.\n",
    "    for beta in partitions(D, b):\n",
    "        ret += evaluate_mixture(ws, pis, beta) * moments_x[tuple_add(alpha, beta)]\n",
    "    return ret\n",
    "\n",
    "def describe_moment_polynomial(R, moments_x, moment_y, alpha, b):\n",
    "    \"\"\"\n",
    "    Computes the moment polynomial for E[x^alpha, y^b]\n",
    "    \"\"\"\n",
    "    D = len(R.symbols)\n",
    "    w = R.symbols\n",
    "    expr = -moment_y\n",
    "    for beta in partitions(D, b):\n",
    "        expr += util.monomial(w, beta) * moments_x[tuple_add(alpha, beta)]\n",
    "    return expr"
   ]
  },
  {
   "cell_type": "code",
   "execution_count": 36,
   "metadata": {
    "collapsed": false
   },
   "outputs": [],
   "source": [
    "# Example \n",
    "def double_factorial(n): \n",
    "    return reduce(mul, xrange(n, 0, -2)) if n > 0 else 1\n",
    "def gaussian_moments(sigma, d):\n",
    "    \"\"\"\n",
    "    E[x^d] where x is standard gaussian with sigma\n",
    "    \"\"\"\n",
    "    if d == 0: return 1\n",
    "    elif d % 2 == 0: return double_factorial(d-1) * sigma**d\n",
    "    else: return 0\n",
    "def expected_gaussian_moments(sigma, alphas):\n",
    "    return {alpha : prod(gaussian_moments(sigma, a) for a in alpha) for alpha in alphas}\n",
    "def expected_uniform_moments(alphas):\n",
    "    return {alpha : 1.}\n",
    "def expected_moments_y(ws, pis, moments_x, alphabs):\n",
    "    return {(alpha, b) : compute_exact_y_moments(ws, pis, moments_x, alpha, b) for alpha, b in alphabs}"
   ]
  },
  {
   "cell_type": "code",
   "execution_count": 37,
   "metadata": {
    "collapsed": false
   },
   "outputs": [],
   "source": [
    "R, _ = sp.xring(['w%d'%d for d in xrange(D)], sp.RR, sp.grevlex)\n",
    "\n",
    "deg_b, deg_x = 3, 3\n",
    "sigma = 1.0\n",
    "alphas = list(dominated_elements((deg_x for _ in xrange(D))))\n",
    "alphabs = [(alpha, b) for alpha in alphas for b in xrange(1,deg_b+1)]\n",
    "alphas_ = list(dominated_elements((deg_x + deg_b for _ in xrange(D))))\n",
    "moments_x = expected_gaussian_moments(sigma, alphas_)\n",
    "moments_y = expected_moments_y(ws, pis, moments_x, alphabs)\n",
    "#display(moments)"
   ]
  },
  {
   "cell_type": "code",
   "execution_count": 38,
   "metadata": {
    "collapsed": false
   },
   "outputs": [],
   "source": [
    "def get_constraint_polynomials(moments_y, moments_x, deg_x, deg_b):\n",
    "    constrs = []\n",
    "    for b in xrange(1, deg_b+1):\n",
    "        for alpha in util.dominated_elements((deg_x for _ in xrange(D))):\n",
    "            constrs.append( describe_moment_polynomial(R, moments_x, moments_y[(alpha, b)], alpha, b) )\n",
    "    return constrs"
   ]
  },
  {
   "cell_type": "markdown",
   "metadata": {},
   "source": [
    "With this machinery, we can compute the moment polynomials required for the moment method magic!"
   ]
  },
  {
   "cell_type": "code",
   "execution_count": 39,
   "metadata": {
    "collapsed": false
   },
   "outputs": [
    {
     "data": {
      "text/plain": [
       "array([[ 0.75,  0.25],\n",
       "       [ 0.4 ,  0.9 ]])"
      ]
     },
     "metadata": {},
     "output_type": "display_data"
    },
    {
     "data": {
      "image/png": "[encoded data removed]",
      "text/latex": [
       "$$\\left \\{ w_{0} : \\left [ 0.25003008516, \\quad 0.750043655961\\right ], \\quad w_{1} : \\left [ 0.900032439599, \\quad 0.400002938456\\right ]\\right \\}$$"
      ],
      "text/plain": [
       "{w₀: [0.25003008516, 0.750043655961], w₁: [0.900032439599, 0.400002938456]}"
      ]
     },
     "metadata": {},
     "output_type": "display_data"
    },
    {
     "data": {
      "image/png": "[encoded data removed]",
      "text/latex": [
       "$$\\left \\{ w_{0} : \\left [ 0.249844379435, \\quad 0.749500606329\\right ], \\quad w_{1} : \\left [ 0.9000755909, \\quad 0.400025509679\\right ]\\right \\}$$"
      ],
      "text/plain": [
       "{w₀: [0.249844379435, 0.749500606329], w₁: [0.9000755909, 0.400025509679]}"
      ]
     },
     "metadata": {},
     "output_type": "display_data"
    }
   ],
   "source": [
    "from mompy.core import MomentMatrix\n",
    "import mompy.solvers as solvers; reload(solvers)\n",
    "import mompy.extractors as extractors; reload(extractors)\n",
    "\n",
    "constrs = get_constraint_polynomials(moments_y, moments_x, deg_x, deg_b)\n",
    "M = MomentMatrix(3, R.symbols, morder='grevlex')\n",
    "sol = solvers.solve_generalized_mom(M, constrs, 3)\n",
    "display( model.betas)\n",
    "display(extractors.extract_solutions_lasserre(M, sol['x'], Kmax=2))\n",
    "\n",
    "display(extractors.extract_solutions_dreesen_proto(M, sol['x'], Kmax=2))\n"
   ]
  },
  {
   "cell_type": "markdown",
   "metadata": {},
   "source": [
    "## With real samples\n",
    "\n",
    "Let's try to solve the problem with generated samples.\n"
   ]
  },
  {
   "cell_type": "code",
   "execution_count": 40,
   "metadata": {
    "collapsed": false
   },
   "outputs": [],
   "source": [
    "def compute_expected_moments(xs, alphas):\n",
    "    moments = {alpha : 0. for alpha in alphas}\n",
    "    for i, x in enumerate(xs):\n",
    "        for alpha in alphas:\n",
    "            moments[alpha] += (monomial(x, alpha) - moments[alpha])/(i+1)\n",
    "    return moments\n",
    "\n",
    "def compute_expected_moments_y(ys, xs, alphabs):\n",
    "    moments = {(alpha, b) : 0. for alpha, b in alphabs}\n",
    "    for i, (y, x) in enumerate(zip(ys,xs)):\n",
    "        for alpha, b in alphabs:\n",
    "            moments[(alpha,b)] += (monomial(x, alpha) * y**b - moments[(alpha,b)])/(i+1)\n",
    "    return moments"
   ]
  },
  {
   "cell_type": "code",
   "execution_count": 45,
   "metadata": {
    "collapsed": false
   },
   "outputs": [],
   "source": [
    "ys, xs = model.sample(1e5)\n",
    "moments_x = compute_expected_moments(xs, alphas_)\n",
    "moments_y = compute_expected_moments_y(ys, xs, alphabs)"
   ]
  },
  {
   "cell_type": "code",
   "execution_count": 72,
   "metadata": {
    "collapsed": false
   },
   "outputs": [
    {
     "data": {
      "text/plain": [
       "array([[ 0.75,  0.25],\n",
       "       [ 0.4 ,  0.9 ]])"
      ]
     },
     "metadata": {},
     "output_type": "display_data"
    },
    {
     "data": {
      "image/png": "[encoded data removed]",
      "text/latex": [
       "$$\\left \\{ w_{0} : \\left [ 0.351025870836, \\quad 1.21113417518\\right ], \\quad w_{1} : \\left [ 0.603029449684, \\quad 1.38517757358\\right ]\\right \\}$$"
      ],
      "text/plain": [
       "{w₀: [0.351025870836, 1.21113417518], w₁: [0.603029449684, 1.38517757358]}"
      ]
     },
     "metadata": {},
     "output_type": "display_data"
    },
    {
     "data": {
      "image/png": "[encoded data removed]",
      "text/latex": [
       "$$\\left \\{ w_{0} : \\left [ 1.21178931283, \\quad 0.351257515338\\right ], \\quad w_{1} : \\left [ 1.38626096755, \\quad 0.603380139144\\right ]\\right \\}$$"
      ],
      "text/plain": [
       "{w₀: [1.21178931283, 0.351257515338], w₁: [1.38626096755, 0.603380139144]}"
      ]
     },
     "metadata": {},
     "output_type": "display_data"
    }
   ],
   "source": [
    "\n",
    "from mompy.core import MomentMatrix\n",
    "import mompy.solvers as solvers; reload(solvers)\n",
    "import mompy.extractors as extractors; reload(extractors)\n",
    "\n",
    "constrs = get_constraint_polynomials(moments_y, moments_x, deg_x, deg_b)\n",
    "M = MomentMatrix(3, R.symbols, morder='grevlex')\n",
    "solsdp = solvers.solve_generalized_mom(M, constrs, None)\n",
    "#sol = solvers.solve_moments_with_convexiterations(M, constrs, 3)\n",
    "display(model.betas)\n",
    "display(extractors.extract_solutions_lasserre(M, sol['x'], Kmax=2))\n",
    "\n",
    "display(extractors.extract_solutions_dreesen_proto(M, sol['x'], Kmax=2))\n",
    "sol = extractors.extract_solutions_dreesen_proto(M, sol['x'], Kmax=2)\n",
    "ws_rec = array([sol[sp.symbols('w0')], sol[sp.symbols('w1')]])"
   ]
  },
  {
   "cell_type": "code",
   "execution_count": 73,
   "metadata": {
    "collapsed": false
   },
   "outputs": [
    {
     "data": {
      "text/plain": [
       "<function __main__.compute_expected_moments_y>"
      ]
     },
     "execution_count": 73,
     "metadata": {},
     "output_type": "execute_result"
    }
   ],
   "source": [
    "compute_expected_moments_y"
   ]
  },
  {
   "cell_type": "code",
   "execution_count": 82,
   "metadata": {
    "collapsed": false
   },
   "outputs": [
    {
     "data": {
      "image/png": "[encoded data removed]",
      "text/latex": [
       "$$2$$"
      ],
      "text/plain": [
       "2"
      ]
     },
     "execution_count": 82,
     "metadata": {},
     "output_type": "execute_result"
    }
   ],
   "source": [
    "import scipy as sc\n",
    "import numpy.linalg\n",
    "np.linalg.matrix_rank((M.numeric_instance(solsdp['x'])), 1e-2)"
   ]
  },
  {
   "cell_type": "code",
   "execution_count": 75,
   "metadata": {
    "collapsed": false
   },
   "outputs": [
    {
     "data": {
      "image/png": "[encoded data removed]",
      "text/latex": [
       "$$\\left [ 1, \\quad w_{0}, \\quad w_{1}, \\quad w_{0}^{2}, \\quad w_{0} w_{1}, \\quad w_{1}^{2}, \\quad w_{0}^{3}, \\quad w_{0}^{2} w_{1}, \\quad w_{0} w_{1}^{2}, \\quad w_{1}^{3}\\right ]$$"
      ],
      "text/plain": [
       "⎡             2           2    3    2          2    3⎤\n",
       "⎣1, w₀, w₁, w₀ , w₀⋅w₁, w₁ , w₀ , w₀ ⋅w₁, w₀⋅w₁ , w₁ ⎦"
      ]
     },
     "execution_count": 75,
     "metadata": {},
     "output_type": "execute_result"
    }
   ],
   "source": [
    "M.row_monos"
   ]
  },
  {
   "cell_type": "code",
   "execution_count": 83,
   "metadata": {
    "collapsed": false
   },
   "outputs": [
    {
     "data": {
      "text/plain": [
       "array([[ 1.   ,  0.451,  0.694,  0.279,  0.382,  0.544,  0.245,  0.302,\n",
       "         0.383,  0.503],\n",
       "       [ 0.451,  0.279,  0.382,  0.245,  0.302,  0.383,  0.264,  0.309,\n",
       "         0.367,  0.442],\n",
       "       [ 0.694,  0.382,  0.544,  0.302,  0.383,  0.503,  0.309,  0.367,\n",
       "         0.442,  0.545],\n",
       "       [ 0.279,  0.245,  0.302,  0.264,  0.309,  0.367,  0.308,  0.355,\n",
       "         0.41 ,  0.477],\n",
       "       [ 0.382,  0.302,  0.383,  0.309,  0.367,  0.442,  0.355,  0.41 ,\n",
       "         0.477,  0.56 ],\n",
       "       [ 0.544,  0.383,  0.503,  0.367,  0.442,  0.545,  0.41 ,  0.477,\n",
       "         0.56 ,  0.664],\n",
       "       [ 0.245,  0.264,  0.309,  0.308,  0.355,  0.41 ,  0.37 ,  0.423,\n",
       "         0.486,  0.558],\n",
       "       [ 0.302,  0.309,  0.367,  0.355,  0.41 ,  0.477,  0.423,  0.486,\n",
       "         0.558,  0.643],\n",
       "       [ 0.383,  0.367,  0.442,  0.41 ,  0.477,  0.56 ,  0.486,  0.558,\n",
       "         0.643,  0.743],\n",
       "       [ 0.503,  0.442,  0.545,  0.477,  0.56 ,  0.664,  0.558,  0.643,\n",
       "         0.743,  0.865]])"
      ]
     },
     "execution_count": 83,
     "metadata": {},
     "output_type": "execute_result"
    }
   ],
   "source": [
    "M.numeric_instance(solsdp['x'])"
   ]
  },
  {
   "cell_type": "code",
   "execution_count": 85,
   "metadata": {
    "collapsed": false
   },
   "outputs": [
    {
     "data": {
      "image/png": "[encoded data removed]",
      "text/latex": [
       "$$\\left \\{ \\left ( \\left ( 0, \\quad 0\\right ), \\quad 1\\right ) : 0.000147838065012, \\quad \\left ( \\left ( 0, \\quad 0\\right ), \\quad 2\\right ) : 0.269690158384, \\quad \\left ( \\left ( 0, \\quad 0\\right ), \\quad 3\\right ) : 0.000652374126766, \\quad \\left ( \\left ( 0, \\quad 1\\right ), \\quad 1\\right ) : 0.232883829142, \\quad \\left ( \\left ( 0, \\quad 1\\right ), \\quad 2\\right ) : 0.000749824182532, \\quad \\left ( \\left ( 0, \\quad 1\\right ), \\quad 3\\right ) : 0.133513019108, \\quad \\left ( \\left ( 0, \\quad 2\\right ), \\quad 1\\right ) : 0.000715461826955, \\quad \\left ( \\left ( 0, \\quad 2\\right ), \\quad 2\\right ) : 0.138752298365, \\quad \\left ( \\left ( 0, \\quad 2\\right ), \\quad 3\\right ) : 0.000793648089334, \\quad \\left ( \\left ( 0, \\quad 3\\right ), \\quad 1\\right ) : 0.139860030235, \\quad \\left ( \\left ( 0, \\quad 3\\right ), \\quad 2\\right ) : 0.000845393418878, \\quad \\left ( \\left ( 0, \\quad 3\\right ), \\quad 3\\right ) : 0.0907796739612, \\quad \\left ( \\left ( 1, \\quad 0\\right ), \\quad 1\\right ) : 0.148936330715, \\quad \\left ( \\left ( 1, \\quad 0\\right ), \\quad 2\\right ) : 5.08949851136e-05, \\quad \\left ( \\left ( 1, \\quad 0\\right ), \\quad 3\\right ) : 0.0913586425084, \\quad \\left ( \\left ( 1, \\quad 1\\right ), \\quad 1\\right ) : 0.000200026430685, \\quad \\left ( \\left ( 1, \\quad 1\\right ), \\quad 2\\right ) : 0.0562797978067, \\quad \\left ( \\left ( 1, \\quad 1\\right ), \\quad 3\\right ) : 0.000346798485264, \\quad \\left ( \\left ( 1, \\quad 2\\right ), \\quad 1\\right ) : 0.0493463506911, \\quad \\left ( \\left ( 1, \\quad 2\\right ), \\quad 2\\right ) : 0.000300149958795, \\quad \\left ( \\left ( 1, \\quad 2\\right ), \\quad 3\\right ) : 0.04535891764, \\quad \\left ( \\left ( 1, \\quad 3\\right ), \\quad 1\\right ) : 0.000330838651222, \\quad \\left ( \\left ( 1, \\quad 3\\right ), \\quad 2\\right ) : 0.0336893901742, \\quad \\left ( \\left ( 1, \\quad 3\\right ), \\quad 3\\right ) : 0.000398405573226, \\quad \\left ( \\left ( 2, \\quad 0\\right ), \\quad 1\\right ) : -0.000209570377842, \\quad \\left ( \\left ( 2, \\quad 0\\right ), \\quad 2\\right ) : 0.11278852863, \\quad \\left ( \\left ( 2, \\quad 0\\right ), \\quad 3\\right ) : 0.000294510239658, \\quad \\left ( \\left ( 2, \\quad 1\\right ), \\quad 1\\right ) : 0.0776092474787, \\quad \\left ( \\left ( 2, \\quad 1\\right ), \\quad 2\\right ) : 0.000288244003158, \\quad \\left ( \\left ( 2, \\quad 1\\right ), \\quad 3\\right ) : 0.0553678014465, \\quad \\left ( \\left ( 2, \\quad 2\\right ), \\quad 1\\right ) : 0.000214743095087, \\quad \\left ( \\left ( 2, \\quad 2\\right ), \\quad 2\\right ) : 0.0538169775195, \\quad \\left ( \\left ( 2, \\quad 2\\right ), \\quad 3\\right ) : 0.000378038054603, \\quad \\left ( \\left ( 2, \\quad 3\\right ), \\quad 1\\right ) : 0.0465801459279, \\quad \\left ( \\left ( 2, \\quad 3\\right ), \\quad 2\\right ) : 0.0003576807415, \\quad \\left ( \\left ( 2, \\quad 3\\right ), \\quad 3\\right ) : 0.0367451476779, \\quad \\left ( \\left ( 3, \\quad 0\\right ), \\quad 1\\right ) : 0.0889694412037, \\quad \\left ( \\left ( 3, \\quad 0\\right ), \\quad 2\\right ) : 0.000146437765094, \\quad \\left ( \\left ( 3, \\quad 0\\right ), \\quad 3\\right ) : 0.0588005936372, \\quad \\left ( \\left ( 3, \\quad 1\\right ), \\quad 1\\right ) : 0.000245934139704, \\quad \\left ( \\left ( 3, \\quad 1\\right ), \\quad 2\\right ) : 0.0337464642058, \\quad \\left ( \\left ( 3, \\quad 1\\right ), \\quad 3\\right ) : 0.000321783785392, \\quad \\left ( \\left ( 3, \\quad 2\\right ), \\quad 1\\right ) : 0.0294647309573, \\quad \\left ( \\left ( 3, \\quad 2\\right ), \\quad 2\\right ) : 0.000277786631715, \\quad \\left ( \\left ( 3, \\quad 2\\right ), \\quad 3\\right ) : 0.0285049861194, \\quad \\left ( \\left ( 3, \\quad 3\\right ), \\quad 1\\right ) : 0.000298157840459, \\quad \\left ( \\left ( 3, \\quad 3\\right ), \\quad 2\\right ) : 0.0201781469709, \\quad \\left ( \\left ( 3, \\quad 3\\right ), \\quad 3\\right ) : 0.000339676336854\\right \\}$$"
      ],
      "text/plain": [
       "{((0, 0), 1): 0.000147838065012, ((0, 0), 2): 0.269690158384, ((0, 0), 3): 0.000652374126766, ((0, 1), 1): 0.232883829142, ((0, 1), 2): 0.000749824182532, ((0, 1), 3): 0.133513019\n",
       "108, ((0, 2), 1): 0.000715461826955, ((0, 2), 2): 0.138752298365, ((0, 2), 3): 0.000793648089334, ((0, 3), 1): 0.139860030235, ((0, 3), 2): 0.000845393418878, ((0, 3), 3): 0.09077\n",
       "96739612, ((1, 0), 1): 0.148936330715, ((1, 0), 2): 5.08949851136e-05, ((1, 0), 3): 0.0913586425084, ((1, 1), 1): 0.000200026430685, ((1, 1), 2): 0.0562797978067, ((1, 1), 3): 0.0\n",
       "00346798485264, ((1, 2), 1): 0.0493463506911, ((1, 2), 2): 0.000300149958795, ((1, 2), 3): 0.04535891764, ((1, 3), 1): 0.000330838651222, ((1, 3), 2): 0.0336893901742, ((1, 3), 3)\n",
       ": 0.000398405573226, ((2, 0), 1): -0.000209570377842, ((2, 0), 2): 0.11278852863, ((2, 0), 3): 0.000294510239658, ((2, 1), 1): 0.0776092474787, ((2, 1), 2): 0.000288244003158, ((2\n",
       ", 1), 3): 0.0553678014465, ((2, 2), 1): 0.000214743095087, ((2, 2), 2): 0.0538169775195, ((2, 2), 3): 0.000378038054603, ((2, 3), 1): 0.0465801459279, ((2, 3), 2): 0.0003576807415\n",
       ", ((2, 3), 3): 0.0367451476779, ((3, 0), 1): 0.0889694412037, ((3, 0), 2): 0.000146437765094, ((3, 0), 3): 0.0588005936372, ((3, 1), 1): 0.000245934139704, ((3, 1), 2): 0.03374646\n",
       "42058, ((3, 1), 3): 0.000321783785392, ((3, 2), 1): 0.0294647309573, ((3, 2), 2): 0.000277786631715, ((3, 2), 3): 0.0285049861194, ((3, 3), 1): 0.000298157840459, ((3, 3), 2): 0.0\n",
       "201781469709, ((3, 3), 3): 0.000339676336854}"
      ]
     },
     "execution_count": 85,
     "metadata": {},
     "output_type": "execute_result"
    }
   ],
   "source": [
    "moments_y"
   ]
  },
  {
   "cell_type": "code",
   "execution_count": 86,
   "metadata": {
    "collapsed": true
   },
   "outputs": [],
   "source": [
    "moments_x_true = expected_gaussian_moments(sigma, alphas_)\n",
    "moments_y_true = expected_moments_y(ws, pis, moments_x, alphabs)"
   ]
  },
  {
   "cell_type": "code",
   "execution_count": null,
   "metadata": {
    "collapsed": false
   },
   "outputs": [
    {
     "data": {
      "image/png": "[encoded data removed]",
      "text/latex": [
       "$$\\left ( \\left ( 1, \\quad 2\\right ), \\quad 1\\right )$$"
      ],
      "text/plain": [
       "((1, 2), 1)"
      ]
     },
     "metadata": {},
     "output_type": "display_data"
    },
    {
     "data": {
      "image/png": "[encoded data removed]",
      "text/latex": [
       "$$0.000188813669845$$"
      ],
      "text/plain": [
       "0.000188813669845"
      ]
     },
     "metadata": {},
     "output_type": "display_data"
    },
    {
     "data": {
      "image/png": "[encoded data removed]",
      "text/latex": [
       "$$\\left ( \\left ( 0, \\quad 0\\right ), \\quad 2\\right )$$"
      ],
      "text/plain": [
       "((0, 0), 2)"
      ]
     },
     "metadata": {},
     "output_type": "display_data"
    },
    {
     "data": {
      "image/png": "[encoded data removed]",
      "text/latex": [
       "$$0.00041787981063$$"
      ],
      "text/plain": [
       "0.00041787981063"
      ]
     },
     "metadata": {},
     "output_type": "display_data"
    },
    {
     "data": {
      "image/png": "[encoded data removed]",
      "text/latex": [
       "$$\\left ( \\left ( 2, \\quad 3\\right ), \\quad 1\\right )$$"
      ],
      "text/plain": [
       "((2, 3), 1)"
      ]
     },
     "metadata": {},
     "output_type": "display_data"
    },
    {
     "data": {
      "image/png": "[encoded data removed]",
      "text/latex": [
       "$$0.000222037794001$$"
      ],
      "text/plain": [
       "0.000222037794001"
      ]
     },
     "metadata": {},
     "output_type": "display_data"
    },
    {
     "data": {
      "image/png": "[encoded data removed]",
      "text/latex": [
       "$$\\left ( \\left ( 0, \\quad 3\\right ), \\quad 2\\right )$$"
      ],
      "text/plain": [
       "((0, 3), 2)"
      ]
     },
     "metadata": {},
     "output_type": "display_data"
    },
    {
     "data": {
      "image/png": "[encoded data removed]",
      "text/latex": [
       "$$0.000169124987154$$"
      ],
      "text/plain": [
       "0.000169124987154"
      ]
     },
     "metadata": {},
     "output_type": "display_data"
    },
    {
     "data": {
      "image/png": "[encoded data removed]",
      "text/latex": [
       "$$\\left ( \\left ( 2, \\quad 0\\right ), \\quad 2\\right )$$"
      ],
      "text/plain": [
       "((2, 0), 2)"
      ]
     },
     "metadata": {},
     "output_type": "display_data"
    },
    {
     "data": {
      "image/png": "[encoded data removed]",
      "text/latex": [
       "$$0.000123234839926$$"
      ],
      "text/plain": [
       "0.000123234839926"
      ]
     },
     "metadata": {},
     "output_type": "display_data"
    },
    {
     "data": {
      "image/png": "[encoded data removed]",
      "text/latex": [
       "$$\\left ( \\left ( 1, \\quad 1\\right ), \\quad 1\\right )$$"
      ],
      "text/plain": [
       "((1, 1), 1)"
      ]
     },
     "metadata": {},
     "output_type": "display_data"
    },
    {
     "data": {
      "image/png": "[encoded data removed]",
      "text/latex": [
       "$$0.000107765899544$$"
      ],
      "text/plain": [
       "0.000107765899544"
      ]
     },
     "metadata": {},
     "output_type": "display_data"
    },
    {
     "data": {
      "image/png": "[encoded data removed]",
      "text/latex": [
       "$$\\left ( \\left ( 3, \\quad 1\\right ), \\quad 1\\right )$$"
      ],
      "text/plain": [
       "((3, 1), 1)"
      ]
     },
     "metadata": {},
     "output_type": "display_data"
    },
    {
     "data": {
      "image/png": "[encoded data removed]",
      "text/latex": [
       "$$0.000149160700154$$"
      ],
      "text/plain": [
       "0.000149160700154"
      ]
     },
     "metadata": {},
     "output_type": "display_data"
    },
    {
     "data": {
      "image/png": "[encoded data removed]",
      "text/latex": [
       "$$\\left ( \\left ( 3, \\quad 2\\right ), \\quad 3\\right )$$"
      ],
      "text/plain": [
       "((3, 2), 3)"
      ]
     },
     "metadata": {},
     "output_type": "display_data"
    },
    {
     "data": {
      "image/png": "[encoded data removed]",
      "text/latex": [
       "$$0.0134203118108$$"
      ],
      "text/plain": [
       "0.0134203118108"
      ]
     },
     "metadata": {},
     "output_type": "display_data"
    },
    {
     "data": {
      "image/png": "[encoded data removed]",
      "text/latex": [
       "$$\\left ( \\left ( 0, \\quad 2\\right ), \\quad 3\\right )$$"
      ],
      "text/plain": [
       "((0, 2), 3)"
      ]
     },
     "metadata": {},
     "output_type": "display_data"
    },
    {
     "data": {
      "image/png": "[encoded data removed]",
      "text/latex": [
       "$$0.000227548165455$$"
      ],
      "text/plain": [
       "0.000227548165455"
      ]
     },
     "metadata": {},
     "output_type": "display_data"
    },
    {
     "data": {
      "image/png": "[encoded data removed]",
      "text/latex": [
       "$$\\left ( \\left ( 3, \\quad 3\\right ), \\quad 2\\right )$$"
      ],
      "text/plain": [
       "((3, 3), 2)"
      ]
     },
     "metadata": {},
     "output_type": "display_data"
    },
    {
     "data": {
      "image/png": "[encoded data removed]",
      "text/latex": [
       "$$0.010079709551$$"
      ],
      "text/plain": [
       "0.010079709551"
      ]
     },
     "metadata": {},
     "output_type": "display_data"
    },
    {
     "data": {
      "image/png": "[encoded data removed]",
      "text/latex": [
       "$$\\left ( \\left ( 1, \\quad 2\\right ), \\quad 2\\right )$$"
      ],
      "text/plain": [
       "((1, 2), 2)"
      ]
     },
     "metadata": {},
     "output_type": "display_data"
    },
    {
     "data": {
      "image/png": "[encoded data removed]",
      "text/latex": [
       "$$3.77770266146e-05$$"
      ],
      "text/plain": [
       "3.77770266146e-05"
      ]
     },
     "metadata": {},
     "output_type": "display_data"
    },
    {
     "data": {
      "image/png": "[encoded data removed]",
      "text/latex": [
       "$$\\left ( \\left ( 1, \\quad 3\\right ), \\quad 3\\right )$$"
      ],
      "text/plain": [
       "((1, 3), 3)"
      ]
     },
     "metadata": {},
     "output_type": "display_data"
    },
    {
     "data": {
      "image/png": "[encoded data removed]",
      "text/latex": [
       "$$0.000139030533645$$"
      ],
      "text/plain": [
       "0.000139030533645"
      ]
     },
     "metadata": {},
     "output_type": "display_data"
    },
    {
     "data": {
      "image/png": "[encoded data removed]",
      "text/latex": [
       "$$\\left ( \\left ( 1, \\quad 0\\right ), \\quad 1\\right )$$"
      ],
      "text/plain": [
       "((1, 0), 1)"
      ]
     },
     "metadata": {},
     "output_type": "display_data"
    },
    {
     "data": {
      "image/png": "[encoded data removed]",
      "text/latex": [
       "$$0.00059058930388$$"
      ],
      "text/plain": [
       "0.00059058930388"
      ]
     },
     "metadata": {},
     "output_type": "display_data"
    },
    {
     "data": {
      "image/png": "[encoded data removed]",
      "text/latex": [
       "$$\\left ( \\left ( 3, \\quad 0\\right ), \\quad 1\\right )$$"
      ],
      "text/plain": [
       "((3, 0), 1)"
      ]
     },
     "metadata": {},
     "output_type": "display_data"
    },
    {
     "data": {
      "image/png": "[encoded data removed]",
      "text/latex": [
       "$$0.000559679605416$$"
      ],
      "text/plain": [
       "0.000559679605416"
      ]
     },
     "metadata": {},
     "output_type": "display_data"
    },
    {
     "data": {
      "image/png": "[encoded data removed]",
      "text/latex": [
       "$$\\left ( \\left ( 2, \\quad 3\\right ), \\quad 2\\right )$$"
      ],
      "text/plain": [
       "((2, 3), 2)"
      ]
     },
     "metadata": {},
     "output_type": "display_data"
    },
    {
     "data": {
      "image/png": "[encoded data removed]",
      "text/latex": [
       "$$6.37031523656e-05$$"
      ],
      "text/plain": [
       "6.37031523656e-05"
      ]
     },
     "metadata": {},
     "output_type": "display_data"
    },
    {
     "data": {
      "image/png": "[encoded data removed]",
      "text/latex": [
       "$$\\left ( \\left ( 0, \\quad 0\\right ), \\quad 1\\right )$$"
      ],
      "text/plain": [
       "((0, 0), 1)"
      ]
     },
     "metadata": {},
     "output_type": "display_data"
    },
    {
     "data": {
      "image/png": "[encoded data removed]",
      "text/latex": [
       "$$0.000254105887563$$"
      ],
      "text/plain": [
       "0.000254105887563"
      ]
     },
     "metadata": {},
     "output_type": "display_data"
    },
    {
     "data": {
      "image/png": "[encoded data removed]",
      "text/latex": [
       "$$\\left ( \\left ( 0, \\quad 3\\right ), \\quad 3\\right )$$"
      ],
      "text/plain": [
       "((0, 3), 3)"
      ]
     },
     "metadata": {},
     "output_type": "display_data"
    },
    {
     "data": {
      "image/png": "[encoded data removed]",
      "text/latex": [
       "$$0.0165492445455$$"
      ],
      "text/plain": [
       "0.0165492445455"
      ]
     },
     "metadata": {},
     "output_type": "display_data"
    },
    {
     "data": {
      "image/png": "[encoded data removed]",
      "text/latex": [
       "$$\\left ( \\left ( 2, \\quad 0\\right ), \\quad 1\\right )$$"
      ],
      "text/plain": [
       "((2, 0), 1)"
      ]
     },
     "metadata": {},
     "output_type": "display_data"
    },
    {
     "data": {
      "image/png": "[encoded data removed]",
      "text/latex": [
       "$$1.85103188141e-05$$"
      ],
      "text/plain": [
       "1.85103188141e-05"
      ]
     },
     "metadata": {},
     "output_type": "display_data"
    },
    {
     "data": {
      "image/png": "[encoded data removed]",
      "text/latex": [
       "$$\\left ( \\left ( 2, \\quad 2\\right ), \\quad 3\\right )$$"
      ],
      "text/plain": [
       "((2, 2), 3)"
      ]
     },
     "metadata": {},
     "output_type": "display_data"
    },
    {
     "data": {
      "image/png": "[encoded data removed]",
      "text/latex": [
       "$$0.00011323946664$$"
      ],
      "text/plain": [
       "0.00011323946664"
      ]
     },
     "metadata": {},
     "output_type": "display_data"
    },
    {
     "data": {
      "image/png": "[encoded data removed]",
      "text/latex": [
       "$$\\left ( \\left ( 2, \\quad 1\\right ), \\quad 1\\right )$$"
      ],
      "text/plain": [
       "((2, 1), 1)"
      ]
     },
     "metadata": {},
     "output_type": "display_data"
    },
    {
     "data": {
      "image/png": "[encoded data removed]",
      "text/latex": [
       "$$0.000319899077674$$"
      ],
      "text/plain": [
       "0.000319899077674"
      ]
     },
     "metadata": {},
     "output_type": "display_data"
    },
    {
     "data": {
      "image/png": "[encoded data removed]",
      "text/latex": [
       "$$\\left ( \\left ( 0, \\quad 2\\right ), \\quad 2\\right )$$"
      ],
      "text/plain": [
       "((0, 2), 2)"
      ]
     },
     "metadata": {},
     "output_type": "display_data"
    },
    {
     "data": {
      "image/png": "[encoded data removed]",
      "text/latex": [
       "$$4.20160109593e-05$$"
      ],
      "text/plain": [
       "4.20160109593e-05"
      ]
     },
     "metadata": {},
     "output_type": "display_data"
    },
    {
     "data": {
      "image/png": "[encoded data removed]",
      "text/latex": [
       "$$\\left ( \\left ( 3, \\quad 3\\right ), \\quad 1\\right )$$"
      ],
      "text/plain": [
       "((3, 3), 1)"
      ]
     },
     "metadata": {},
     "output_type": "display_data"
    },
    {
     "data": {
      "image/png": "[encoded data removed]",
      "text/latex": [
       "$$6.94523674099e-05$$"
      ],
      "text/plain": [
       "6.94523674099e-05"
      ]
     },
     "metadata": {},
     "output_type": "display_data"
    },
    {
     "data": {
      "image/png": "[encoded data removed]",
      "text/latex": [
       "$$\\left ( \\left ( 1, \\quad 2\\right ), \\quad 3\\right )$$"
      ],
      "text/plain": [
       "((1, 2), 3)"
      ]
     },
     "metadata": {},
     "output_type": "display_data"
    },
    {
     "data": {
      "image/png": "[encoded data removed]",
      "text/latex": [
       "$$0.0224510409706$$"
      ],
      "text/plain": [
       "0.0224510409706"
      ]
     },
     "metadata": {},
     "output_type": "display_data"
    },
    {
     "data": {
      "image/png": "[encoded data removed]",
      "text/latex": [
       "$$\\left ( \\left ( 0, \\quad 1\\right ), \\quad 1\\right )$$"
      ],
      "text/plain": [
       "((0, 1), 1)"
      ]
     },
     "metadata": {},
     "output_type": "display_data"
    },
    {
     "data": {
      "image/png": "[encoded data removed]",
      "text/latex": [
       "$$0.0001374322048$$"
      ],
      "text/plain": [
       "0.0001374322048"
      ]
     },
     "metadata": {},
     "output_type": "display_data"
    },
    {
     "data": {
      "image/png": "[encoded data removed]",
      "text/latex": [
       "$$\\left ( \\left ( 1, \\quad 3\\right ), \\quad 2\\right )$$"
      ],
      "text/plain": [
       "((1, 3), 2)"
      ]
     },
     "metadata": {},
     "output_type": "display_data"
    },
    {
     "data": {
      "image/png": "[encoded data removed]",
      "text/latex": [
       "$$0.0168858828189$$"
      ],
      "text/plain": [
       "0.0168858828189"
      ]
     },
     "metadata": {},
     "output_type": "display_data"
    },
    {
     "data": {
      "image/png": "[encoded data removed]",
      "text/latex": [
       "$$\\left ( \\left ( 3, \\quad 0\\right ), \\quad 2\\right )$$"
      ],
      "text/plain": [
       "((3, 0), 2)"
      ]
     },
     "metadata": {},
     "output_type": "display_data"
    },
    {
     "data": {
      "image/png": "[encoded data removed]",
      "text/latex": [
       "$$0.000124883000686$$"
      ],
      "text/plain": [
       "0.000124883000686"
      ]
     },
     "metadata": {},
     "output_type": "display_data"
    },
    {
     "data": {
      "image/png": "[encoded data removed]",
      "text/latex": [
       "$$\\left ( \\left ( 2, \\quad 3\\right ), \\quad 3\\right )$$"
      ],
      "text/plain": [
       "((2, 3), 3)"
      ]
     },
     "metadata": {},
     "output_type": "display_data"
    },
    {
     "data": {
      "image/png": "[encoded data removed]",
      "text/latex": [
       "$$0.00991303139328$$"
      ],
      "text/plain": [
       "0.00991303139328"
      ]
     },
     "metadata": {},
     "output_type": "display_data"
    },
    {
     "data": {
      "image/png": "[encoded data removed]",
      "text/latex": [
       "$$\\left ( \\left ( 3, \\quad 2\\right ), \\quad 2\\right )$$"
      ],
      "text/plain": [
       "((3, 2), 2)"
      ]
     },
     "metadata": {},
     "output_type": "display_data"
    },
    {
     "data": {
      "image/png": "[encoded data removed]",
      "text/latex": [
       "$$5.06341957647e-05$$"
      ],
      "text/plain": [
       "5.06341957647e-05"
      ]
     },
     "metadata": {},
     "output_type": "display_data"
    },
    {
     "data": {
      "image/png": "[encoded data removed]",
      "text/latex": [
       "$$\\left ( \\left ( 3, \\quad 1\\right ), \\quad 3\\right )$$"
      ],
      "text/plain": [
       "((3, 1), 3)"
      ]
     },
     "metadata": {},
     "output_type": "display_data"
    },
    {
     "data": {
      "image/png": "[encoded data removed]",
      "text/latex": [
       "$$0.000179627046241$$"
      ],
      "text/plain": [
       "0.000179627046241"
      ]
     },
     "metadata": {},
     "output_type": "display_data"
    },
    {
     "data": {
      "image/png": "[encoded data removed]",
      "text/latex": [
       "$$\\left ( \\left ( 3, \\quad 2\\right ), \\quad 1\\right )$$"
      ],
      "text/plain": [
       "((3, 2), 1)"
      ]
     },
     "metadata": {},
     "output_type": "display_data"
    },
    {
     "data": {
      "image/png": "[encoded data removed]",
      "text/latex": [
       "$$0.000211931382756$$"
      ],
      "text/plain": [
       "0.000211931382756"
      ]
     },
     "metadata": {},
     "output_type": "display_data"
    },
    {
     "data": {
      "image/png": "[encoded data removed]",
      "text/latex": [
       "$$\\left ( \\left ( 1, \\quad 0\\right ), \\quad 2\\right )$$"
      ],
      "text/plain": [
       "((1, 0), 2)"
      ]
     },
     "metadata": {},
     "output_type": "display_data"
    },
    {
     "data": {
      "image/png": "[encoded data removed]",
      "text/latex": [
       "$$0.000153704298141$$"
      ],
      "text/plain": [
       "0.000153704298141"
      ]
     },
     "metadata": {},
     "output_type": "display_data"
    },
    {
     "data": {
      "image/png": "[encoded data removed]",
      "text/latex": [
       "$$\\left ( \\left ( 0, \\quad 2\\right ), \\quad 1\\right )$$"
      ],
      "text/plain": [
       "((0, 2), 1)"
      ]
     },
     "metadata": {},
     "output_type": "display_data"
    },
    {
     "data": {
      "image/png": "[encoded data removed]",
      "text/latex": [
       "$$7.56292317051e-05$$"
      ],
      "text/plain": [
       "7.56292317051e-05"
      ]
     },
     "metadata": {},
     "output_type": "display_data"
    },
    {
     "data": {
      "image/png": "[encoded data removed]",
      "text/latex": [
       "$$\\left ( \\left ( 2, \\quad 2\\right ), \\quad 2\\right )$$"
      ],
      "text/plain": [
       "((2, 2), 2)"
      ]
     },
     "metadata": {},
     "output_type": "display_data"
    },
    {
     "data": {
      "image/png": "[encoded data removed]",
      "text/latex": [
       "$$7.20150820651e-05$$"
      ],
      "text/plain": [
       "7.20150820651e-05"
      ]
     },
     "metadata": {},
     "output_type": "display_data"
    },
    {
     "data": {
      "image/png": "[encoded data removed]",
      "text/latex": [
       "$$\\left ( \\left ( 1, \\quad 1\\right ), \\quad 3\\right )$$"
      ],
      "text/plain": [
       "((1, 1), 3)"
      ]
     },
     "metadata": {},
     "output_type": "display_data"
    },
    {
     "data": {
      "image/png": "[encoded data removed]",
      "text/latex": [
       "$$0.000174573367842$$"
      ],
      "text/plain": [
       "0.000174573367842"
      ]
     },
     "metadata": {},
     "output_type": "display_data"
    },
    {
     "data": {
      "image/png": "[encoded data removed]",
      "text/latex": [
       "$$\\left ( \\left ( 2, \\quad 1\\right ), \\quad 2\\right )$$"
      ],
      "text/plain": [
       "((2, 1), 2)"
      ]
     },
     "metadata": {},
     "output_type": "display_data"
    },
    {
     "data": {
      "image/png": "[encoded data removed]",
      "text/latex": [
       "$$0.000108634868699$$"
      ],
      "text/plain": [
       "0.000108634868699"
      ]
     },
     "metadata": {},
     "output_type": "display_data"
    },
    {
     "data": {
      "image/png": "[encoded data removed]",
      "text/latex": [
       "$$\\left ( \\left ( 0, \\quad 1\\right ), \\quad 2\\right )$$"
      ],
      "text/plain": [
       "((0, 1), 2)"
      ]
     },
     "metadata": {},
     "output_type": "display_data"
    },
    {
     "data": {
      "image/png": "[encoded data removed]",
      "text/latex": [
       "$$0.000219045199395$$"
      ],
      "text/plain": [
       "0.000219045199395"
      ]
     },
     "metadata": {},
     "output_type": "display_data"
    },
    {
     "data": {
      "image/png": "[encoded data removed]",
      "text/latex": [
       "$$\\left ( \\left ( 3, \\quad 0\\right ), \\quad 3\\right )$$"
      ],
      "text/plain": [
       "((3, 0), 3)"
      ]
     },
     "metadata": {},
     "output_type": "display_data"
    },
    {
     "data": {
      "image/png": "[encoded data removed]",
      "text/latex": [
       "$$0.0223397412227$$"
      ],
      "text/plain": [
       "0.0223397412227"
      ]
     },
     "metadata": {},
     "output_type": "display_data"
    },
    {
     "data": {
      "image/png": "[encoded data removed]",
      "text/latex": [
       "$$\\left ( \\left ( 0, \\quad 0\\right ), \\quad 3\\right )$$"
      ],
      "text/plain": [
       "((0, 0), 3)"
      ]
     },
     "metadata": {},
     "output_type": "display_data"
    }
   ],
   "source": [
    "for key in moments_y:\n",
    "    display(key, abs(moments_y[key] - moments_y_true[key]))"
   ]
  },
  {
   "cell_type": "code",
   "execution_count": null,
   "metadata": {
    "collapsed": true
   },
   "outputs": [],
   "source": []
  }
 ],
 "metadata": {
  "kernelspec": {
   "display_name": "Python 2",
   "language": "python",
   "name": "python2"
  },
  "language_info": {
   "codemirror_mode": {
    "name": "ipython",
    "version": 2
   },
   "file_extension": ".py",
   "mimetype": "text/x-python",
   "name": "python",
   "nbconvert_exporter": "python",
   "pygments_lexer": "ipython2",
   "version": "2.7.9"
  }
 },
 "nbformat": 4,
 "nbformat_minor": 0
}
