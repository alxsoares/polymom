{
 "cells": [
  {
   "cell_type": "markdown",
   "metadata": {},
   "source": [
    "# Mixture of Linear Regressions\n",
    "\n",
    "In this note, we will solve the mixture of linear regressions problem using the moment method."
   ]
  },
  {
   "cell_type": "markdown",
   "metadata": {},
   "source": [
    "This block contains some $\\LaTeX$ macros.\n",
    "$\\newcommand{\\E}{\\mathbb{E}}$\n",
    "$\\renewcommand{\\Re}{\\mathbb{R}}$\n",
    "$\\newcommand{\\oft}[1]{{^{(#1)}}}$\n",
    "$\\newcommand{\\oftt}[2]{{^{(#1)#2}}}$"
   ]
  },
  {
   "cell_type": "code",
   "execution_count": 198,
   "metadata": {
    "collapsed": false
   },
   "outputs": [],
   "source": [
    "import util\n",
    "from util import *\n",
    "from models import LinearRegressionsMixture\n",
    "import numpy as np\n",
    "np.set_printoptions(precision=3, suppress=True)\n",
    "from IPython.display import display, Markdown, Math\n",
    "from operator import mul\n",
    "sp.init_printing()"
   ]
  },
  {
   "cell_type": "markdown",
   "metadata": {},
   "source": [
    "Let $w_1, ..., w_K \\in \\Re^D$ be a set of $K$ regression coefficients. Let $x_1, ..., x_N \\in \\Re^D$ be a given set of data points and let $y_n = \\sum_{k} \\delta_k w_k^\\top x_n + \\epsilon$ be observed responses. Our objective is to recover $(w_k)$."
   ]
  },
  {
   "cell_type": "markdown",
   "metadata": {},
   "source": [
    "## Toy Example\n",
    "\n",
    "Let's construct a toy example for the rest of this document."
   ]
  },
  {
   "cell_type": "code",
   "execution_count": 161,
   "metadata": {
    "collapsed": false
   },
   "outputs": [
    {
     "name": "stdout",
     "output_type": "stream",
     "text": [
      "True parameters:\n",
      "[ 0.4  0.6]\n",
      "[[ 0.75  0.25]\n",
      " [ 0.4   0.9 ]]\n"
     ]
    }
   ],
   "source": [
    "K, D = 1, 2\n",
    "np.random.seed(0)\n",
    "pis = np.array([0.4, 0.6])\n",
    "ws = np.array([[0.75, 0.25], [0.4, 0.9]])\n",
    "model = LinearRegressionsMixture.generate(\"tmp.dat\", K, D, betas = ws, weights = pis)\n",
    "print(\"True parameters:\")\n",
    "print(model.weights)\n",
    "print(model.betas)"
   ]
  },
  {
   "cell_type": "markdown",
   "metadata": {},
   "source": [
    "## Noiseless, Infinite Data Setting\n",
    "\n",
    "In this scenario, assume that $\\epsilon = 0$ and that we observe expected moments of the data. Consider the moments:\n",
    "\\begin{align}\n",
    "\\E[x^\\alpha y^b] \n",
    "&= \\sum_k \\pi_k \\E[x^\\alpha y^b | \\delta_k = 1] \\\\\n",
    "&= \\sum_k \\pi_k \\E[x^\\alpha [w_k^\\top x]^b] \\\\\n",
    "&= \\sum_k \\pi_k \\E[x^\\alpha \\sum_{\\beta \\in p(b)} w_k^\\beta x^\\beta] \\\\\n",
    "&= \\sum_{\\beta \\in p(b)} \\E_\\pi[w^\\beta] \\E[x^{\\alpha + \\beta}],\n",
    "\\end{align}\n",
    "where $p(b)$ are the $d$-partitions of $b$. Note that $\\E[x^{\\alpha + \\beta}]$ are observable quantities, and thus this simply represents a mixture over the polynomials with terms $w_k^\\beta$."
   ]
  },
  {
   "cell_type": "code",
   "execution_count": 168,
   "metadata": {
    "collapsed": false
   },
   "outputs": [],
   "source": [
    "def evaluate_mixture(ws, pis, beta):\n",
    "    \"\"\"\n",
    "    Compute E_\\pi[w^beta]\n",
    "    \"\"\"\n",
    "    return sum(pi * util.monomial(w, beta) for w, pi in zip(ws.T, pis))\n",
    "    \n",
    "def compute_exact_y_moments(ws, pis, moments_x, alpha, b):\n",
    "    \"\"\"\n",
    "    Compute the exact moments E[x^a y^b] using coefficients ws, pis and moments_x.\n",
    "    \"\"\"\n",
    "    D, K = ws.shape\n",
    "    ret = 0.\n",
    "    for beta in partitions(D, b):\n",
    "        ret += evaluate_mixture(ws, pis, beta) * moments_x[tuple_add(alpha, beta)]\n",
    "    return ret\n",
    "\n",
    "# compute_exact_y_moments(model.betas, model.weights, moments, (0,0), 1)"
   ]
  },
  {
   "cell_type": "code",
   "execution_count": 164,
   "metadata": {
    "collapsed": false
   },
   "outputs": [],
   "source": [
    "import sympy as sp\n",
    "\n",
    "R, _ = sp.xring(['w%d'%d for d in xrange(D)], sp.RR, sp.grevlex)\n",
    "\n",
    "def describe_moment_polynomial(R, moments_x, moment_y, alpha, b):\n",
    "    \"\"\"\n",
    "    Computes the moment polynomial for E[x^alpha, y^b]\n",
    "    \"\"\"\n",
    "    D = len(R.symbols)\n",
    "    w = R.symbols\n",
    "    expr = -moment_y\n",
    "    for beta in partitions(D, b):\n",
    "        expr += util.monomial(w, beta) * moments[tuple_add(alpha, beta)]\n",
    "    return expr"
   ]
  },
  {
   "cell_type": "code",
   "execution_count": 184,
   "metadata": {
    "collapsed": false
   },
   "outputs": [],
   "source": [
    "# Example \n",
    "def double_factorial(n): \n",
    "    return reduce(mul, xrange(n, 0, -2)) if n > 0 else 1\n",
    "def gaussian_moments(sigma, d):\n",
    "    \"\"\"\n",
    "    E[x^d] where x is standard gaussian with sigma\n",
    "    \"\"\"\n",
    "    if d == 0: return 1\n",
    "    elif d % 2 == 0: return double_factorial(d-1) * sigma**d\n",
    "    else: return 0\n",
    "def expected_gaussian_moments(sigma, alphas):\n",
    "    return {alpha : prod(gaussian_moments(sigma, a) for a in alpha) for alpha in alphas}\n",
    "def expected_uniform_moments(alphas):\n",
    "    return {alpha : 1.}\n",
    "def expected_moments_y(ws, pis, moments_x, alphabs):\n",
    "    return {(alpha, b) : compute_exact_y_moments(ws, pis, moments_x, alpha, b) for alpha, b in alphabs}"
   ]
  },
  {
   "cell_type": "code",
   "execution_count": 210,
   "metadata": {
    "collapsed": false
   },
   "outputs": [],
   "source": [
    "deg_b, deg_x = 3, 3\n",
    "sigma = 1.0\n",
    "alphas = list(dominated_elements((deg_x for _ in xrange(D))))\n",
    "alphabs = [(alpha, b) for alpha in alphas for b in xrange(1,deg_b+1)]\n",
    "alphas_ = list(dominated_elements((deg_x + deg_b for _ in xrange(D))))\n",
    "moments_x = expected_gaussian_moments(sigma, alphas_)\n",
    "moments_y = expected_moments_y(ws, pis, moments_x, alphabs)\n",
    "#display(moments)"
   ]
  },
  {
   "cell_type": "code",
   "execution_count": 183,
   "metadata": {
    "collapsed": false
   },
   "outputs": [],
   "source": [
    "def get_constraint_polynomials(moments_y, moments_x, deg_x, deg_b):\n",
    "    constrs = []\n",
    "    for b in xrange(1, deg_b+1):\n",
    "        for alpha in util.dominated_elements((deg_x for _ in xrange(D))):\n",
    "            constrs.append( describe_moment_polynomial(R, moments_x, moments_y[(alpha, b)], alpha, b) )\n",
    "    return constrs"
   ]
  },
  {
   "cell_type": "markdown",
   "metadata": {},
   "source": [
    "With this machinery, we can compute the moment polynomials required for the moment method magic!"
   ]
  },
  {
   "cell_type": "code",
   "execution_count": 211,
   "metadata": {
    "collapsed": false
   },
   "outputs": [
    {
     "data": {
      "image/png": "[encoded data removed]",
      "text/latex": [
       "$$\\left [ 0, \\quad 3.0 w_{0} - 1.35, \\quad 0, \\quad 3.0 w_{0} - 1.35, \\quad 3.0 w_{1} - 2.1, \\quad 0, \\quad 1.0 w_{1} - 0.7, \\quad 0, \\quad 0, \\quad 1.0 w_{0} - 0.45, \\quad 0, \\quad 1.0 w_{0} - 0.45, \\quad 3.0 w_{1} - 2.1, \\quad 0, \\quad 1.0 w_{1} - 0.7, \\quad 0, \\quad 9.0 w_{0} w_{1} - 2.295, \\quad 0, \\quad 3.0 w_{0} w_{1} - 0.765, \\quad 0, \\quad 0, \\quad 3.0 w_{0}^{2} + 3.0 w_{1}^{2} - 2.4375, \\quad 0, \\quad 3.0 w_{0}^{2} + 1.0 w_{1}^{2} - 1.3375, \\quad 3.0 w_{0} w_{1} - 0.765, \\quad 0, \\quad 1.0 w_{0} w_{1} - 0.255, \\quad 0, \\quad 0, \\quad 1.0 w_{0}^{2} + 3.0 w_{1}^{2} - 1.9125, \\quad 0, \\quad 1.0 w_{0}^{2} + 1.0 w_{1}^{2} - 0.8125, \\quad 0, \\quad 15.0 w_{0}^{3} + 9.0 w_{0} w_{1}^{2} - 4.197375, \\quad 0, \\quad 15.0 w_{0}^{3} + 3.0 w_{0} w_{1}^{2} - 3.180375, \\quad 9.0 w_{0}^{2} w_{1} + 15.0 w_{1}^{3} - 8.05875, \\quad 0, \\quad 3.0 w_{0}^{2} w_{1} + 3.0 w_{1}^{3} - 1.76025, \\quad 0, \\quad 0, \\quad 3.0 w_{0}^{3} + 3.0 w_{0} w_{1}^{2} - 1.042875, \\quad 0, \\quad 3.0 w_{0}^{3} + 1.0 w_{0} w_{1}^{2} - 0.703875, \\quad 3.0 w_{0}^{2} w_{1} + 15.0 w_{1}^{3} - 7.31625, \\quad 0, \\quad 1.0 w_{0}^{2} w_{1} + 3.0 w_{1}^{3} - 1.51275, \\quad 0\\right ]$$"
      ],
      "text/plain": [
       "⎡                                                                             \n",
       "⎣0, 3.0⋅w₀ - 1.35, 0, 3.0⋅w₀ - 1.35, 3.0⋅w₁ - 2.1, 0, 1.0⋅w₁ - 0.7, 0, 0, 1.0⋅\n",
       "\n",
       "                                                                              \n",
       "w₀ - 0.45, 0, 1.0⋅w₀ - 0.45, 3.0⋅w₁ - 2.1, 0, 1.0⋅w₁ - 0.7, 0, 9.0⋅w₀⋅w₁ - 2.2\n",
       "\n",
       "                                      2         2                    2        \n",
       "95, 0, 3.0⋅w₀⋅w₁ - 0.765, 0, 0, 3.0⋅w₀  + 3.0⋅w₁  - 2.4375, 0, 3.0⋅w₀  + 1.0⋅w\n",
       "\n",
       " 2                                                                2         2 \n",
       "₁  - 1.3375, 3.0⋅w₀⋅w₁ - 0.765, 0, 1.0⋅w₀⋅w₁ - 0.255, 0, 0, 1.0⋅w₀  + 3.0⋅w₁  \n",
       "\n",
       "                   2         2                     3            2             \n",
       "- 1.9125, 0, 1.0⋅w₀  + 1.0⋅w₁  - 0.8125, 0, 15.0⋅w₀  + 9.0⋅w₀⋅w₁  - 4.197375, \n",
       "\n",
       "          3            2                   2             3                    \n",
       "0, 15.0⋅w₀  + 3.0⋅w₀⋅w₁  - 3.180375, 9.0⋅w₀ ⋅w₁ + 15.0⋅w₁  - 8.05875, 0, 3.0⋅w\n",
       "\n",
       " 2            3                        3            2                      3  \n",
       "₀ ⋅w₁ + 3.0⋅w₁  - 1.76025, 0, 0, 3.0⋅w₀  + 3.0⋅w₀⋅w₁  - 1.042875, 0, 3.0⋅w₀  +\n",
       "\n",
       "          2                   2             3                     2           \n",
       " 1.0⋅w₀⋅w₁  - 0.703875, 3.0⋅w₀ ⋅w₁ + 15.0⋅w₁  - 7.31625, 0, 1.0⋅w₀ ⋅w₁ + 3.0⋅w\n",
       "\n",
       " 3             ⎤\n",
       "₁  - 1.51275, 0⎦"
      ]
     },
     "metadata": {},
     "output_type": "display_data"
    },
    {
     "ename": "ValueError",
     "evalue": "Rank(A) < p or Rank([G; A]) < n",
     "output_type": "error",
     "traceback": [
      "\u001b[1;31m---------------------------------------------------------------------------\u001b[0m",
      "\u001b[1;31mValueError\u001b[0m                                Traceback (most recent call last)",
      "\u001b[1;32m<ipython-input-211-9a2f42d67c53>\u001b[0m in \u001b[0;36m<module>\u001b[1;34m()\u001b[0m\n\u001b[0;32m      3\u001b[0m \u001b[0mconstrs\u001b[0m \u001b[1;33m=\u001b[0m \u001b[0mget_constraint_polynomials\u001b[0m\u001b[1;33m(\u001b[0m\u001b[0mmoments_y\u001b[0m\u001b[1;33m,\u001b[0m \u001b[0mmoments_x\u001b[0m\u001b[1;33m,\u001b[0m \u001b[0mdeg_x\u001b[0m\u001b[1;33m,\u001b[0m \u001b[0mdeg_b\u001b[0m\u001b[1;33m)\u001b[0m\u001b[1;33m\u001b[0m\u001b[0m\n\u001b[0;32m      4\u001b[0m \u001b[0mdisplay\u001b[0m\u001b[1;33m(\u001b[0m\u001b[0mconstrs\u001b[0m\u001b[1;33m)\u001b[0m\u001b[1;33m\u001b[0m\u001b[0m\n\u001b[1;32m----> 5\u001b[1;33m \u001b[0mM\u001b[0m\u001b[1;33m,\u001b[0m \u001b[0msol\u001b[0m \u001b[1;33m=\u001b[0m \u001b[0mmm\u001b[0m\u001b[1;33m.\u001b[0m\u001b[0msolve_moments_with_constraints\u001b[0m\u001b[1;33m(\u001b[0m\u001b[0mR\u001b[0m\u001b[1;33m.\u001b[0m\u001b[0msymbols\u001b[0m\u001b[1;33m,\u001b[0m \u001b[0mconstrs\u001b[0m\u001b[1;33m,\u001b[0m \u001b[1;36m3\u001b[0m\u001b[1;33m)\u001b[0m\u001b[1;33m\u001b[0m\u001b[0m\n\u001b[0m",
      "\u001b[1;32m/home/chaganty/Research/polymom/src/MomentMatrix.pyc\u001b[0m in \u001b[0;36msolve_moments_with_constraints\u001b[1;34m(symbols, constraints, deg)\u001b[0m\n\u001b[0;32m     44\u001b[0m     \u001b[0mM\u001b[0m \u001b[1;33m=\u001b[0m \u001b[0mMomentMatrix\u001b[0m\u001b[1;33m(\u001b[0m\u001b[0mdeg\u001b[0m\u001b[1;33m,\u001b[0m \u001b[0msymbols\u001b[0m\u001b[1;33m,\u001b[0m \u001b[0mmorder\u001b[0m\u001b[1;33m=\u001b[0m\u001b[1;34m'grevlex'\u001b[0m\u001b[1;33m)\u001b[0m\u001b[1;33m\u001b[0m\u001b[0m\n\u001b[0;32m     45\u001b[0m     \u001b[0mcin\u001b[0m \u001b[1;33m=\u001b[0m \u001b[0mM\u001b[0m\u001b[1;33m.\u001b[0m\u001b[0mget_cvxopt_inputs\u001b[0m\u001b[1;33m(\u001b[0m\u001b[0mconstraints\u001b[0m\u001b[1;33m)\u001b[0m\u001b[1;33m\u001b[0m\u001b[0m\n\u001b[1;32m---> 46\u001b[1;33m     \u001b[0msol\u001b[0m \u001b[1;33m=\u001b[0m \u001b[0msolvers\u001b[0m\u001b[1;33m.\u001b[0m\u001b[0msdp\u001b[0m\u001b[1;33m(\u001b[0m\u001b[0mcin\u001b[0m\u001b[1;33m[\u001b[0m\u001b[1;34m'c'\u001b[0m\u001b[1;33m]\u001b[0m\u001b[1;33m,\u001b[0m \u001b[0mGs\u001b[0m\u001b[1;33m=\u001b[0m\u001b[0mcin\u001b[0m\u001b[1;33m[\u001b[0m\u001b[1;34m'G'\u001b[0m\u001b[1;33m]\u001b[0m\u001b[1;33m,\u001b[0m \u001b[0mhs\u001b[0m\u001b[1;33m=\u001b[0m\u001b[0mcin\u001b[0m\u001b[1;33m[\u001b[0m\u001b[1;34m'h'\u001b[0m\u001b[1;33m]\u001b[0m\u001b[1;33m,\u001b[0m \u001b[0mA\u001b[0m\u001b[1;33m=\u001b[0m\u001b[0mcin\u001b[0m\u001b[1;33m[\u001b[0m\u001b[1;34m'A'\u001b[0m\u001b[1;33m]\u001b[0m\u001b[1;33m,\u001b[0m \u001b[0mb\u001b[0m\u001b[1;33m=\u001b[0m\u001b[0mcin\u001b[0m\u001b[1;33m[\u001b[0m\u001b[1;34m'b'\u001b[0m\u001b[1;33m]\u001b[0m\u001b[1;33m)\u001b[0m\u001b[1;33m\u001b[0m\u001b[0m\n\u001b[0m\u001b[0;32m     47\u001b[0m \u001b[1;33m\u001b[0m\u001b[0m\n\u001b[0;32m     48\u001b[0m     \u001b[1;32mreturn\u001b[0m \u001b[0mM\u001b[0m\u001b[1;33m,\u001b[0m \u001b[0msol\u001b[0m\u001b[1;33m\u001b[0m\u001b[0m\n",
      "\u001b[1;32m/home/chaganty/Research/polymom/src/cvxopt/coneprog.pyc\u001b[0m in \u001b[0;36msdp\u001b[1;34m(c, Gl, hl, Gs, hs, A, b, solver, primalstart, dualstart)\u001b[0m\n\u001b[0;32m   4138\u001b[0m \u001b[1;33m\u001b[0m\u001b[0m\n\u001b[0;32m   4139\u001b[0m     sol = conelp(c, G, h, dims, A = A, b = b, primalstart = ps, dualstart\n\u001b[1;32m-> 4140\u001b[1;33m         = ds)\n\u001b[0m\u001b[0;32m   4141\u001b[0m     \u001b[1;32mif\u001b[0m \u001b[0msol\u001b[0m\u001b[1;33m[\u001b[0m\u001b[1;34m's'\u001b[0m\u001b[1;33m]\u001b[0m \u001b[1;32mis\u001b[0m \u001b[0mNone\u001b[0m\u001b[1;33m:\u001b[0m\u001b[1;33m\u001b[0m\u001b[0m\n\u001b[0;32m   4142\u001b[0m         \u001b[0msol\u001b[0m\u001b[1;33m[\u001b[0m\u001b[1;34m'sl'\u001b[0m\u001b[1;33m]\u001b[0m \u001b[1;33m=\u001b[0m \u001b[0mNone\u001b[0m\u001b[1;33m\u001b[0m\u001b[0m\n",
      "\u001b[1;32m/home/chaganty/Research/polymom/src/cvxopt/coneprog.pyc\u001b[0m in \u001b[0;36mconelp\u001b[1;34m(c, G, h, dims, A, b, primalstart, dualstart, kktsolver, xnewcopy, xdot, xaxpy, xscal, ynewcopy, ydot, yaxpy, yscal)\u001b[0m\n\u001b[0;32m    576\u001b[0m     \u001b[1;32mif\u001b[0m \u001b[0mkktsolver\u001b[0m \u001b[1;32min\u001b[0m \u001b[0mdefaultsolvers\u001b[0m\u001b[1;33m:\u001b[0m\u001b[1;33m\u001b[0m\u001b[0m\n\u001b[0;32m    577\u001b[0m         \u001b[1;32mif\u001b[0m \u001b[0mb\u001b[0m\u001b[1;33m.\u001b[0m\u001b[0msize\u001b[0m\u001b[1;33m[\u001b[0m\u001b[1;36m0\u001b[0m\u001b[1;33m]\u001b[0m \u001b[1;33m>\u001b[0m \u001b[0mc\u001b[0m\u001b[1;33m.\u001b[0m\u001b[0msize\u001b[0m\u001b[1;33m[\u001b[0m\u001b[1;36m0\u001b[0m\u001b[1;33m]\u001b[0m \u001b[1;32mor\u001b[0m \u001b[0mb\u001b[0m\u001b[1;33m.\u001b[0m\u001b[0msize\u001b[0m\u001b[1;33m[\u001b[0m\u001b[1;36m0\u001b[0m\u001b[1;33m]\u001b[0m \u001b[1;33m+\u001b[0m \u001b[0mcdim_pckd\u001b[0m \u001b[1;33m<\u001b[0m \u001b[0mc\u001b[0m\u001b[1;33m.\u001b[0m\u001b[0msize\u001b[0m\u001b[1;33m[\u001b[0m\u001b[1;36m0\u001b[0m\u001b[1;33m]\u001b[0m\u001b[1;33m:\u001b[0m\u001b[1;33m\u001b[0m\u001b[0m\n\u001b[1;32m--> 578\u001b[1;33m            \u001b[1;32mraise\u001b[0m \u001b[0mValueError\u001b[0m\u001b[1;33m(\u001b[0m\u001b[1;34m\"Rank(A) < p or Rank([G; A]) < n\"\u001b[0m\u001b[1;33m)\u001b[0m\u001b[1;33m\u001b[0m\u001b[0m\n\u001b[0m\u001b[0;32m    579\u001b[0m         \u001b[1;32mif\u001b[0m \u001b[0mkktsolver\u001b[0m \u001b[1;33m==\u001b[0m \u001b[1;34m'ldl'\u001b[0m\u001b[1;33m:\u001b[0m\u001b[1;33m\u001b[0m\u001b[0m\n\u001b[0;32m    580\u001b[0m             \u001b[0mfactor\u001b[0m \u001b[1;33m=\u001b[0m \u001b[0mmisc\u001b[0m\u001b[1;33m.\u001b[0m\u001b[0mkkt_ldl\u001b[0m\u001b[1;33m(\u001b[0m\u001b[0mG\u001b[0m\u001b[1;33m,\u001b[0m \u001b[0mdims\u001b[0m\u001b[1;33m,\u001b[0m \u001b[0mA\u001b[0m\u001b[1;33m)\u001b[0m\u001b[1;33m\u001b[0m\u001b[0m\n",
      "\u001b[1;31mValueError\u001b[0m: Rank(A) < p or Rank([G; A]) < n"
     ]
    }
   ],
   "source": [
    "import MomentMatrix as mm; reload(mm)\n",
    "\n",
    "constrs = get_constraint_polynomials(moments_y, moments_x, deg_x, deg_b)\n",
    "display(constrs)\n",
    "M, sol = mm.solve_moments_with_constraints(R.symbols, constrs, 3)"
   ]
  },
  {
   "cell_type": "markdown",
   "metadata": {},
   "source": [
    "## With real samples\n",
    "\n",
    "Let's try to solve the problem with generated samples.\n"
   ]
  },
  {
   "cell_type": "code",
   "execution_count": 212,
   "metadata": {
    "collapsed": false
   },
   "outputs": [],
   "source": [
    "def compute_expected_moments(xs, alphas):\n",
    "    moments = {alpha : 0. for alpha in alphas}\n",
    "    for i, x in enumerate(xs):\n",
    "        for alpha in alphas:\n",
    "            moments[alpha] += (monomial(x, alpha) - moments[alpha])/(i+1)\n",
    "    return moments\n",
    "\n",
    "def compute_expected_moments_y(ys, xs, alphabs):\n",
    "    moments = {(alpha, b) : 0. for alpha, b in alphabs}\n",
    "    for i, (y, x) in enumerate(zip(ys,xs)):\n",
    "        for alpha, b in alphabs:\n",
    "            moments[(alpha,b)] += (monomial(x, alpha) * y**b - moments[(alpha,b)])/(i+1)\n",
    "    return moments"
   ]
  },
  {
   "cell_type": "code",
   "execution_count": null,
   "metadata": {
    "collapsed": true
   },
   "outputs": [],
   "source": [
    "#ys, xs = model.sample(1e4)\n",
    "moments_x = compute_expected_moments(xs, alphas_)\n",
    "moments_y = compute_expected_moments_y(ys, xs, alphabs)"
   ]
  },
  {
   "cell_type": "code",
   "execution_count": null,
   "metadata": {
    "collapsed": true
   },
   "outputs": [],
   "source": [
    "# Fill in the constraints.\n",
    "constrs = []\n",
    "for b in [1,5]:\n",
    "    for alpha in util.dominated_elements((3,3)):\n",
    "        m = compute_exact_y_moments(model.betas, model.weights, moments, alpha, b)\n",
    "        print \"moments for b = %d, alpha = %s = %f\" % (b, alpha, m)\n",
    "        constrs.append( describe_moment_polynomial(R, moments, m, alpha, b) )\n",
    "display(constrs)\n",
    "M, sol = mm.solve_moments_with_constraints(R.symbols, constrs, 3)"
   ]
  }
 ],
 "metadata": {
  "kernelspec": {
   "display_name": "Python 2",
   "language": "python",
   "name": "python2"
  },
  "language_info": {
   "codemirror_mode": {
    "name": "ipython",
    "version": 2
   },
   "file_extension": ".py",
   "mimetype": "text/x-python",
   "name": "python",
   "nbconvert_exporter": "python",
   "pygments_lexer": "ipython2",
   "version": "2.7.5+"
  }
 },
 "nbformat": 4,
 "nbformat_minor": 0
}
