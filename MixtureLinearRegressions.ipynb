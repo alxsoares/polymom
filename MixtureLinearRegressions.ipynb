{
 "cells": [
  {
   "cell_type": "markdown",
   "metadata": {},
   "source": [
    "# Mixture of Linear Regressions\n",
    "\n",
    "In this note, we will solve the mixture of linear regressions problem using the moment method."
   ]
  },
  {
   "cell_type": "markdown",
   "metadata": {},
   "source": [
    "This block contains some $\\LaTeX$ macros.\n",
    "$\\newcommand{\\E}{\\mathbb{E}}$\n",
    "$\\renewcommand{\\Re}{\\mathbb{R}}$\n",
    "$\\newcommand{\\oft}[1]{{^{(#1)}}}$\n",
    "$\\newcommand{\\oftt}[2]{{^{(#1)#2}}}$"
   ]
  },
  {
   "cell_type": "code",
   "execution_count": 1,
   "metadata": {
    "collapsed": false
   },
   "outputs": [],
   "source": [
    "import util\n",
    "from util import *\n",
    "import models\n",
    "from models.LinearRegressions import LinearRegressionsMixture\n",
    "import numpy as np\n",
    "np.set_printoptions(precision=3, suppress=True)\n",
    "from IPython.display import display, Markdown, Math\n",
    "from operator import mul\n",
    "import sympy as sp\n",
    "sp.init_printing()"
   ]
  },
  {
   "cell_type": "markdown",
   "metadata": {},
   "source": [
    "Let $w_1, ..., w_K \\in \\Re^D$ be a set of $K$ regression coefficients. Let $x_1, ..., x_N \\in \\Re^D$ be a given set of data points and let $y_n = \\sum_{k} \\delta_k w_k^\\top x_n + \\epsilon$ be observed responses. Our objective is to recover $(w_k)$."
   ]
  },
  {
   "cell_type": "markdown",
   "metadata": {},
   "source": [
    "## Toy Example\n",
    "\n",
    "Let's construct a toy example for the rest of this document."
   ]
  },
  {
   "cell_type": "code",
   "execution_count": 2,
   "metadata": {
    "collapsed": false
   },
   "outputs": [
    {
     "name": "stdout",
     "output_type": "stream",
     "text": [
      "True parameters:\n",
      "[ 0.4  0.6]\n",
      "[[ 0.75  0.25]\n",
      " [ 0.4   0.9 ]]\n",
      "[[ 1.  0.]\n",
      " [ 0.  1.]]\n"
     ]
    }
   ],
   "source": [
    "K, D = 2, 2\n",
    "np.random.seed(0)\n",
    "pis = np.array([0.4, 0.6])\n",
    "ws = np.array([[0.75, 0.25], [0.4, 0.9]])\n",
    "model = LinearRegressionsMixture.generate(K, D, betas = ws, weights = pis, cov =  1.0)\n",
    "print(\"True parameters:\")\n",
    "print(model.weights)\n",
    "print(model.betas)\n",
    "print(model.sigma)"
   ]
  },
  {
   "cell_type": "markdown",
   "metadata": {},
   "source": [
    "# Noiseless, Infinite Data Setting\n",
    "\n",
    "In this scenario, assume that $\\epsilon = 0$ and that we observe expected moments of the data. Consider the moments:\n",
    "\\begin{align}\n",
    "\\E[x^\\alpha y^b] \n",
    "&= \\sum_k \\pi_k \\E[x^\\alpha y^b | \\delta_k = 1] \\\\\n",
    "&= \\sum_k \\pi_k \\E[x^\\alpha [w_k^\\top x]^b] \\\\\n",
    "&= \\sum_k \\pi_k \\E[x^\\alpha \\sum_{\\beta \\in p(b)} w_k^\\beta x^\\beta] \\\\\n",
    "&= \\sum_{\\beta \\in p(b)} \\E_\\pi[w^\\beta] \\E[x^{\\alpha + \\beta}],\n",
    "\\end{align}\n",
    "where $p(b)$ are the $d$-partitions of $b$. Note that $\\E[x^{\\alpha + \\beta}]$ are observable quantities, and thus this simply represents a mixture over the polynomials with terms $w_k^\\beta$."
   ]
  },
  {
   "cell_type": "code",
   "execution_count": 3,
   "metadata": {
    "collapsed": false
   },
   "outputs": [],
   "source": [
    "def evaluate_mixture(ws, pis, beta):\n",
    "    \"\"\"\n",
    "    Compute E_\\pi[w^beta]\n",
    "    \"\"\"\n",
    "    return sum(pi * util.monomial(w, beta) for w, pi in zip(ws.T, pis))\n",
    "    \n",
    "def compute_exact_y_moments(ws, pis, moments_x, alpha, b):\n",
    "    \"\"\"\n",
    "    Compute the exact moments E[x^a y^b] using coefficients ws, pis and moments_x.\n",
    "    \"\"\"\n",
    "    D, K = ws.shape\n",
    "    ret = 0.\n",
    "    coeffs = sp.ntheory.multinomial_coefficients(D,b)\n",
    "    for beta in partitions(D, b):\n",
    "        ret += coeffs[beta] * evaluate_mixture(ws, pis, beta) * moments_x[tuple_add(alpha, beta)]\n",
    "    return ret\n",
    "\n",
    "def describe_moment_polynomial(R, moments_x, moment_y, alpha, b):\n",
    "    \"\"\"\n",
    "    Computes the moment polynomial for E[x^alpha, y^b]\n",
    "    \"\"\"\n",
    "    D = len(R.symbols)\n",
    "    w = R.symbols\n",
    "    expr = -moment_y\n",
    "    coeffs = sp.ntheory.multinomial_coefficients(D,b)\n",
    "    for beta in partitions(D, b):\n",
    "        expr += coeffs[beta] * util.monomial(w, beta) * moments_x[tuple_add(alpha, beta)]\n",
    "    return expr"
   ]
  },
  {
   "cell_type": "code",
   "execution_count": 4,
   "metadata": {
    "collapsed": false
   },
   "outputs": [],
   "source": [
    "# Example \n",
    "def double_factorial(n): \n",
    "    return reduce(mul, xrange(n, 0, -2)) if n > 0 else 1\n",
    "def gaussian_moments(sigma, d):\n",
    "    \"\"\"\n",
    "    E[x^d] where x is standard gaussian with sigma\n",
    "    \"\"\"\n",
    "    if d == 0: return 1\n",
    "    elif d % 2 == 0: return double_factorial(d-1) * sigma**d\n",
    "    else: return 0\n",
    "def expected_gaussian_moments(sigma, alphas):\n",
    "    return {alpha : prod(gaussian_moments(sigma, a) for a in alpha) for alpha in alphas}\n",
    "def expected_uniform_moments(alphas):\n",
    "    return {alpha : 1. for alpha in alphas}\n",
    "def expected_moments_y(ws, pis, moments_x, alphabs):\n",
    "    return {(alpha, b) : compute_exact_y_moments(ws, pis, moments_x, alpha, b) for alpha, b in alphabs}"
   ]
  },
  {
   "cell_type": "code",
   "execution_count": 5,
   "metadata": {
    "collapsed": true
   },
   "outputs": [],
   "source": [
    "R, _ = sp.xring(['w%d'%d for d in xrange(D)], sp.RR, sp.grevlex)\n",
    "\n",
    "deg_b, deg_x = 3, 2\n",
    "sigma = model.sigma[0,0]\n",
    "alphas = list(dominated_elements((deg_x for _ in xrange(D))))\n",
    "alphabs = [(alpha, b) for alpha in alphas for b in xrange(1,deg_b+1)]\n",
    "alphas_ = list(dominated_elements((deg_x + deg_b for _ in xrange(D))))\n",
    "moments_x = expected_gaussian_moments(sigma, alphas_)\n",
    "moments_y = expected_moments_y(ws, pis, moments_x, alphabs)\n",
    "#display(moments)"
   ]
  },
  {
   "cell_type": "code",
   "execution_count": 6,
   "metadata": {
    "collapsed": false
   },
   "outputs": [
    {
     "data": {
      "image/png": "[encoded data removed]",
      "text/latex": [
       "$$\\left \\{ \\left ( 0, \\quad 0\\right ) : 1, \\quad \\left ( 0, \\quad 1\\right ) : 0, \\quad \\left ( 0, \\quad 2\\right ) : 1.0, \\quad \\left ( 0, \\quad 3\\right ) : 0, \\quad \\left ( 0, \\quad 4\\right ) : 3.0, \\quad \\left ( 0, \\quad 5\\right ) : 0, \\quad \\left ( 1, \\quad 0\\right ) : 0, \\quad \\left ( 1, \\quad 1\\right ) : 0, \\quad \\left ( 1, \\quad 2\\right ) : 0.0, \\quad \\left ( 1, \\quad 3\\right ) : 0, \\quad \\left ( 1, \\quad 4\\right ) : 0.0, \\quad \\left ( 1, \\quad 5\\right ) : 0, \\quad \\left ( 2, \\quad 0\\right ) : 1.0, \\quad \\left ( 2, \\quad 1\\right ) : 0.0, \\quad \\left ( 2, \\quad 2\\right ) : 1.0, \\quad \\left ( 2, \\quad 3\\right ) : 0.0, \\quad \\left ( 2, \\quad 4\\right ) : 3.0, \\quad \\left ( 2, \\quad 5\\right ) : 0.0, \\quad \\left ( 3, \\quad 0\\right ) : 0, \\quad \\left ( 3, \\quad 1\\right ) : 0, \\quad \\left ( 3, \\quad 2\\right ) : 0.0, \\quad \\left ( 3, \\quad 3\\right ) : 0, \\quad \\left ( 3, \\quad 4\\right ) : 0.0, \\quad \\left ( 3, \\quad 5\\right ) : 0, \\quad \\left ( 4, \\quad 0\\right ) : 3.0, \\quad \\left ( 4, \\quad 1\\right ) : 0.0, \\quad \\left ( 4, \\quad 2\\right ) : 3.0, \\quad \\left ( 4, \\quad 3\\right ) : 0.0, \\quad \\left ( 4, \\quad 4\\right ) : 9.0, \\quad \\left ( 4, \\quad 5\\right ) : 0.0, \\quad \\left ( 5, \\quad 0\\right ) : 0, \\quad \\left ( 5, \\quad 1\\right ) : 0, \\quad \\left ( 5, \\quad 2\\right ) : 0.0, \\quad \\left ( 5, \\quad 3\\right ) : 0, \\quad \\left ( 5, \\quad 4\\right ) : 0.0, \\quad \\left ( 5, \\quad 5\\right ) : 0\\right \\}$$"
      ],
      "text/plain": [
       "{(0, 0): 1, (0, 1): 0, (0, 2): 1.0, (0, 3): 0, (0, 4): 3.0, (0, 5): 0, (1, 0):\n",
       " 0, (1, 1): 0, (1, 2): 0.0, (1, 3): 0, (1, 4): 0.0, (1, 5): 0, (2, 0): 1.0, (2\n",
       ", 1): 0.0, (2, 2): 1.0, (2, 3): 0.0, (2, 4): 3.0, (2, 5): 0.0, (3, 0): 0, (3, \n",
       "1): 0, (3, 2): 0.0, (3, 3): 0, (3, 4): 0.0, (3, 5): 0, (4, 0): 3.0, (4, 1): 0.\n",
       "0, (4, 2): 3.0, (4, 3): 0.0, (4, 4): 9.0, (4, 5): 0.0, (5, 0): 0, (5, 1): 0, (\n",
       "5, 2): 0.0, (5, 3): 0, (5, 4): 0.0, (5, 5): 0}"
      ]
     },
     "metadata": {},
     "output_type": "display_data"
    }
   ],
   "source": [
    "display(moments_x)"
   ]
  },
  {
   "cell_type": "code",
   "execution_count": 7,
   "metadata": {
    "collapsed": false
   },
   "outputs": [
    {
     "data": {
      "image/png": "[encoded data removed]",
      "text/latex": [
       "$$\\left \\{ \\left ( \\left ( 0, \\quad 0\\right ), \\quad 1\\right ) : 0.0, \\quad \\left ( \\left ( 0, \\quad 0\\right ), \\quad 2\\right ) : 0.8125, \\quad \\left ( \\left ( 0, \\quad 0\\right ), \\quad 3\\right ) : 0.0, \\quad \\left ( \\left ( 0, \\quad 1\\right ), \\quad 1\\right ) : 0.7, \\quad \\left ( \\left ( 0, \\quad 1\\right ), \\quad 2\\right ) : 0.0, \\quad \\left ( \\left ( 0, \\quad 1\\right ), \\quad 3\\right ) : 1.76025, \\quad \\left ( \\left ( 0, \\quad 2\\right ), \\quad 1\\right ) : 0.0, \\quad \\left ( \\left ( 0, \\quad 2\\right ), \\quad 2\\right ) : 1.9125, \\quad \\left ( \\left ( 0, \\quad 2\\right ), \\quad 3\\right ) : 0.0, \\quad \\left ( \\left ( 1, \\quad 0\\right ), \\quad 1\\right ) : 0.45, \\quad \\left ( \\left ( 1, \\quad 0\\right ), \\quad 2\\right ) : 0.0, \\quad \\left ( \\left ( 1, \\quad 0\\right ), \\quad 3\\right ) : 1.042875, \\quad \\left ( \\left ( 1, \\quad 1\\right ), \\quad 1\\right ) : 0.0, \\quad \\left ( \\left ( 1, \\quad 1\\right ), \\quad 2\\right ) : 0.51, \\quad \\left ( \\left ( 1, \\quad 1\\right ), \\quad 3\\right ) : 0.0, \\quad \\left ( \\left ( 1, \\quad 2\\right ), \\quad 1\\right ) : 0.45, \\quad \\left ( \\left ( 1, \\quad 2\\right ), \\quad 2\\right ) : 0.0, \\quad \\left ( \\left ( 1, \\quad 2\\right ), \\quad 3\\right ) : 2.059875, \\quad \\left ( \\left ( 2, \\quad 0\\right ), \\quad 1\\right ) : 0.0, \\quad \\left ( \\left ( 2, \\quad 0\\right ), \\quad 2\\right ) : 1.3375, \\quad \\left ( \\left ( 2, \\quad 0\\right ), \\quad 3\\right ) : 0.0, \\quad \\left ( \\left ( 2, \\quad 1\\right ), \\quad 1\\right ) : 0.7, \\quad \\left ( \\left ( 2, \\quad 1\\right ), \\quad 2\\right ) : 0.0, \\quad \\left ( \\left ( 2, \\quad 1\\right ), \\quad 3\\right ) : 2.50275, \\quad \\left ( \\left ( 2, \\quad 2\\right ), \\quad 1\\right ) : 0.0, \\quad \\left ( \\left ( 2, \\quad 2\\right ), \\quad 2\\right ) : 2.4375, \\quad \\left ( \\left ( 2, \\quad 2\\right ), \\quad 3\\right ) : 0.0\\right \\}$$"
      ],
      "text/plain": [
       "{((0, 0), 1): 0.0, ((0, 0), 2): 0.8125, ((0, 0), 3): 0.0, ((0, 1), 1): 0.7, ((\n",
       "0, 1), 2): 0.0, ((0, 1), 3): 1.76025, ((0, 2), 1): 0.0, ((0, 2), 2): 1.9125, (\n",
       "(0, 2), 3): 0.0, ((1, 0), 1): 0.45, ((1, 0), 2): 0.0, ((1, 0), 3): 1.042875, (\n",
       "(1, 1), 1): 0.0, ((1, 1), 2): 0.51, ((1, 1), 3): 0.0, ((1, 2), 1): 0.45, ((1, \n",
       "2), 2): 0.0, ((1, 2), 3): 2.059875, ((2, 0), 1): 0.0, ((2, 0), 2): 1.3375, ((2\n",
       ", 0), 3): 0.0, ((2, 1), 1): 0.7, ((2, 1), 2): 0.0, ((2, 1), 3): 2.50275, ((2, \n",
       "2), 1): 0.0, ((2, 2), 2): 2.4375, ((2, 2), 3): 0.0}"
      ]
     },
     "metadata": {},
     "output_type": "display_data"
    }
   ],
   "source": [
    "display(moments_y)"
   ]
  },
  {
   "cell_type": "code",
   "execution_count": 8,
   "metadata": {
    "collapsed": false
   },
   "outputs": [],
   "source": [
    "def get_constraint_polynomials(moments_y, moments_x, deg_x, deg_b):\n",
    "    constrs = []\n",
    "    for b in xrange(1, deg_b+1):\n",
    "        for alpha in util.dominated_elements((deg_x for _ in xrange(D))):\n",
    "            constrs.append( describe_moment_polynomial(R, moments_x, moments_y[(alpha, b)], alpha, b) )\n",
    "    return constrs"
   ]
  },
  {
   "cell_type": "markdown",
   "metadata": {},
   "source": [
    "With this machinery, we can compute the moment polynomials required for the moment method magic!"
   ]
  },
  {
   "cell_type": "code",
   "execution_count": 9,
   "metadata": {
    "collapsed": false
   },
   "outputs": [
    {
     "name": "stdout",
     "output_type": "stream",
     "text": [
      "     pcost       dcost       gap    pres   dres\n",
      " 0:  3.3331e-01 -1.1934e+00  4e+01  4e+00  8e+00\n",
      " 1:  1.9518e-01 -3.2675e+00  7e+00  8e-01  1e+00\n",
      " 2:  1.4298e-01 -1.0911e+00  1e+00  1e-01  2e-01\n",
      " 3:  3.5067e-02 -1.2531e-01  2e-01  1e-02  2e-02\n",
      " 4:  5.2528e-03 -1.8015e-02  2e-02  9e-04  2e-03\n",
      " 5:  8.6614e-04 -2.3142e-03  3e-03  9e-05  2e-04\n",
      " 6:  2.5471e-04 -8.0417e-05  3e-04  9e-07  2e-06\n",
      " 7:  5.9055e-05  2.3865e-06  6e-05  1e-07  2e-07\n",
      " 8:  4.0805e-05  2.3551e-05  2e-05  1e-08  2e-08\n",
      " 9:  3.0154e-05  2.7546e-05  3e-06  1e-09  2e-09\n",
      "10:  2.9128e-05  2.8320e-05  8e-07  2e-10  3e-10\n",
      "11:  2.8647e-05  2.8507e-05  1e-07  2e-11  4e-11\n",
      "12:  2.8587e-05  2.8549e-05  4e-08  4e-12  7e-12\n",
      "Optimal solution found.\n"
     ]
    },
    {
     "data": {
      "text/plain": [
       "array([[ 0.75,  0.25],\n",
       "       [ 0.4 ,  0.9 ]])"
      ]
     },
     "metadata": {},
     "output_type": "display_data"
    },
    {
     "data": {
      "text/plain": [
       "{w0: array([ 0.25,  0.75]), w1: array([ 0.9,  0.4])}"
      ]
     },
     "metadata": {},
     "output_type": "display_data"
    },
    {
     "name": "stdout",
     "output_type": "stream",
     "text": [
      "the next biggest eigenvalue we are losing is 0.000687\n"
     ]
    },
    {
     "data": {
      "image/png": "[encoded data removed]",
      "text/latex": [
       "$$\\left \\{ w_{0} : \\left [ 0.250211878611, \\quad 0.75195508087\\right ], \\quad w_{1} : \\left [ 0.900622878988, \\quad 0.400421352382\\right ]\\right \\}$$"
      ],
      "text/plain": [
       "{w₀: [0.250211878611, 0.75195508087], w₁: [0.900622878988, 0.400421352382]}"
      ]
     },
     "metadata": {},
     "output_type": "display_data"
    }
   ],
   "source": [
    "from mompy.core import MomentMatrix\n",
    "import mompy.solvers as solvers; reload(solvers)\n",
    "import mompy.extractors as extractors; reload(extractors)\n",
    "\n",
    "constrs = get_constraint_polynomials(moments_y, moments_x, deg_x, deg_b)\n",
    "M = MomentMatrix(3, R.symbols, morder='grevlex')\n",
    "sol = solvers.solve_generalized_mom_coneqp(M, constrs, 3)\n",
    "display( model.betas)\n",
    "display(extractors.extract_solutions_lasserre(M, sol['x'], Kmax=2))\n",
    "\n",
    "display(extractors.extract_solutions_dreesen_proto(M, sol['x'], Kmax=2))\n"
   ]
  },
  {
   "cell_type": "code",
   "execution_count": 10,
   "metadata": {
    "collapsed": false,
    "scrolled": true
   },
   "outputs": [
    {
     "data": {
      "image/png": "[encoded data removed]",
      "text/latex": [
       "$$\\left [ 0, \\quad 1.0 w_{1} - 0.7, \\quad 0, \\quad 1.0 w_{0} - 0.45, \\quad 0, \\quad 1.0 w_{0} - 0.45, \\quad 0, \\quad 1.0 w_{1} - 0.7, \\quad 0, \\quad 3.0 w_{0}^{2} + 3.0 w_{1}^{2} - 2.4375, \\quad 0, \\quad 3.0 w_{0}^{2} + 1.0 w_{1}^{2} - 1.3375, \\quad 0, \\quad 2.0 w_{0} w_{1} - 0.51, \\quad 0, \\quad 1.0 w_{0}^{2} + 3.0 w_{1}^{2} - 1.9125, \\quad 0, \\quad 1.0 w_{0}^{2} + 1.0 w_{1}^{2} - 0.8125, \\quad 0, \\quad 9.0 w_{0}^{2} w_{1} + 3.0 w_{1}^{3} - 2.50275, \\quad 0, \\quad 3.0 w_{0}^{3} + 9.0 w_{0} w_{1}^{2} - 2.059875, \\quad 0, \\quad 3.0 w_{0}^{3} + 3.0 w_{0} w_{1}^{2} - 1.042875, \\quad 0, \\quad 3.0 w_{0}^{2} w_{1} + 3.0 w_{1}^{3} - 1.76025, \\quad 0\\right ]$$"
      ],
      "text/plain": [
       "⎡                                                                             \n",
       "⎣0, 1.0⋅w₁ - 0.7, 0, 1.0⋅w₀ - 0.45, 0, 1.0⋅w₀ - 0.45, 0, 1.0⋅w₁ - 0.7, 0, 3.0⋅\n",
       "\n",
       "  2         2                    2         2                                  \n",
       "w₀  + 3.0⋅w₁  - 2.4375, 0, 3.0⋅w₀  + 1.0⋅w₁  - 1.3375, 0, 2.0⋅w₀⋅w₁ - 0.51, 0,\n",
       "\n",
       "       2         2                    2         2                    2        \n",
       " 1.0⋅w₀  + 3.0⋅w₁  - 1.9125, 0, 1.0⋅w₀  + 1.0⋅w₁  - 0.8125, 0, 9.0⋅w₀ ⋅w₁ + 3.\n",
       "\n",
       "    3                     3            2                      3            2  \n",
       "0⋅w₁  - 2.50275, 0, 3.0⋅w₀  + 9.0⋅w₀⋅w₁  - 2.059875, 0, 3.0⋅w₀  + 3.0⋅w₀⋅w₁  -\n",
       "\n",
       "                    2            3             ⎤\n",
       " 1.042875, 0, 3.0⋅w₀ ⋅w₁ + 3.0⋅w₁  - 1.76025, 0⎦"
      ]
     },
     "metadata": {},
     "output_type": "display_data"
    }
   ],
   "source": [
    "display(constrs)"
   ]
  },
  {
   "cell_type": "markdown",
   "metadata": {},
   "source": [
    "## With real samples\n",
    "\n",
    "Let's try to solve the problem with generated samples.\n"
   ]
  },
  {
   "cell_type": "code",
   "execution_count": 11,
   "metadata": {
    "collapsed": false
   },
   "outputs": [],
   "source": [
    "def compute_expected_moments(xs, alphas):\n",
    "    moments = {alpha : 0. for alpha in alphas}\n",
    "    for alpha in alphas:\n",
    "        m = monomial(xs.T, alpha)\n",
    "        moments[alpha] = m if isinstance(m,float) else float(m.mean())\n",
    "    return moments\n",
    "\n",
    "def compute_expected_moments_y(ys, xs, alphabs):\n",
    "    moments = {(alpha, b) : 0. for alpha, b in alphabs}\n",
    "    for alpha, b in alphabs:\n",
    "        moments[(alpha,b)] = float((monomial(xs.T, alpha) * ys**b).mean())\n",
    "    return moments"
   ]
  },
  {
   "cell_type": "code",
   "execution_count": null,
   "metadata": {
    "collapsed": false
   },
   "outputs": [],
   "source": []
  },
  {
   "cell_type": "code",
   "execution_count": 30,
   "metadata": {
    "collapsed": false
   },
   "outputs": [
    {
     "name": "stdout",
     "output_type": "stream",
     "text": [
      "     pcost       dcost       gap    pres   dres\n",
      " 0:  3.3598e-01 -1.1946e+00  4e+01  4e+00  8e+00\n",
      " 1:  2.0013e-01 -3.2737e+00  7e+00  8e-01  1e+00\n",
      " 2:  1.4751e-01 -1.0900e+00  1e+00  1e-01  2e-01\n",
      " 3:  3.8639e-02 -1.2252e-01  2e-01  1e-02  2e-02\n",
      " 4:  8.6934e-03 -1.4568e-02  2e-02  9e-04  2e-03\n",
      " 5:  4.3139e-03  1.1255e-03  3e-03  9e-05  2e-04\n",
      " 6:  3.7003e-03  3.3689e-03  3e-04  7e-07  1e-06\n",
      " 7:  3.5036e-03  3.4485e-03  6e-05  8e-08  1e-07\n",
      " 8:  3.4839e-03  3.4707e-03  1e-05  6e-09  1e-08\n",
      " 9:  3.4759e-03  3.4741e-03  2e-06  7e-10  1e-09\n",
      "10:  3.4752e-03  3.4748e-03  4e-07  9e-11  2e-10\n",
      "11:  3.4750e-03  3.4749e-03  6e-08  1e-11  2e-11\n",
      "Optimal solution found.\n"
     ]
    },
    {
     "data": {
      "text/plain": [
       "array([[ 0.75,  0.25],\n",
       "       [ 0.4 ,  0.9 ]])"
      ]
     },
     "metadata": {},
     "output_type": "display_data"
    },
    {
     "data": {
      "text/plain": [
       "array([[ 0.932,  0.397],\n",
       "       [ 0.276,  0.775]])"
      ]
     },
     "metadata": {},
     "output_type": "display_data"
    },
    {
     "name": "stdout",
     "output_type": "stream",
     "text": [
      "     pcost       dcost       gap    pres   dres\n",
      " 0:  3.3331e-01 -1.1855e+00  4e+01  4e+00  8e+00\n",
      " 1:  1.9731e-01 -3.2335e+00  7e+00  8e-01  1e+00\n",
      " 2:  1.4408e-01 -1.0799e+00  1e+00  1e-01  2e-01\n",
      " 3:  3.6006e-02 -1.2415e-01  2e-01  1e-02  2e-02\n",
      " 4:  6.2513e-03 -1.7167e-02  2e-02  9e-04  2e-03\n",
      " 5:  1.8249e-03 -1.4257e-03  3e-03  9e-05  2e-04\n",
      " 6:  1.1837e-03  8.5090e-04  3e-04  8e-07  1e-06\n",
      " 7:  9.7987e-04  9.2727e-04  5e-05  8e-08  2e-07\n",
      " 8:  9.5929e-04  9.4701e-04  1e-05  7e-09  1e-08\n",
      " 9:  9.5166e-04  9.5010e-04  2e-06  9e-10  2e-09\n",
      "10:  9.5106e-04  9.5080e-04  3e-07  8e-11  2e-10\n",
      "11:  9.5093e-04  9.5089e-04  4e-08  1e-11  2e-11\n",
      "Optimal solution found.\n"
     ]
    },
    {
     "data": {
      "text/plain": [
       "array([[ 0.75,  0.25],\n",
       "       [ 0.4 ,  0.9 ]])"
      ]
     },
     "metadata": {},
     "output_type": "display_data"
    },
    {
     "data": {
      "text/plain": [
       "array([[ 0.91 ,  0.394],\n",
       "       [ 0.259,  0.724]])"
      ]
     },
     "metadata": {},
     "output_type": "display_data"
    },
    {
     "name": "stdout",
     "output_type": "stream",
     "text": [
      "     pcost       dcost       gap    pres   dres\n",
      " 0:  3.3328e-01 -1.1860e+00  4e+01  4e+00  8e+00\n",
      " 1:  1.9986e-01 -3.2798e+00  7e+00  8e-01  1e+00\n",
      " 2:  1.4756e-01 -1.0939e+00  1e+00  1e-01  2e-01\n",
      " 3:  3.7776e-02 -1.2420e-01  2e-01  1e-02  2e-02\n",
      " 4:  7.2750e-03 -1.6435e-02  2e-02  9e-04  2e-03\n",
      " 5:  2.7331e-03 -5.4268e-04  3e-03  9e-05  2e-04\n",
      " 6:  2.0996e-03  1.7586e-03  3e-04  9e-07  2e-06\n",
      " 7:  1.8962e-03  1.8397e-03  6e-05  1e-07  2e-07\n",
      " 8:  1.8759e-03  1.8585e-03  2e-05  1e-08  3e-08\n",
      " 9:  1.8650e-03  1.8621e-03  3e-06  2e-09  3e-09\n",
      "10:  1.8641e-03  1.8629e-03  1e-06  5e-10  1e-09\n",
      "11:  1.8635e-03  1.8633e-03  2e-07  8e-11  2e-10\n",
      "12:  1.8634e-03  1.8634e-03  6e-08  1e-11  3e-11\n",
      "Optimal solution found.\n"
     ]
    },
    {
     "data": {
      "text/plain": [
       "array([[ 0.75,  0.25],\n",
       "       [ 0.4 ,  0.9 ]])"
      ]
     },
     "metadata": {},
     "output_type": "display_data"
    },
    {
     "data": {
      "text/plain": [
       "array([[ 0.905,  0.41 ],\n",
       "       [ 0.27 ,  0.756]])"
      ]
     },
     "metadata": {},
     "output_type": "display_data"
    },
    {
     "name": "stdout",
     "output_type": "stream",
     "text": [
      "     pcost       dcost       gap    pres   dres\n",
      " 0:  3.3253e-01 -1.1981e+00  4e+01  4e+00  8e+00\n",
      " 1:  1.9500e-01 -3.2549e+00  7e+00  8e-01  1e+00\n",
      " 2:  1.4384e-01 -1.0822e+00  1e+00  1e-01  2e-01\n",
      " 3:  3.6332e-02 -1.2337e-01  2e-01  1e-02  2e-02\n",
      " 4:  6.3276e-03 -1.6951e-02  2e-02  9e-04  2e-03\n",
      " 5:  1.8738e-03 -1.3586e-03  3e-03  9e-05  2e-04\n",
      " 6:  1.2421e-03  9.0920e-04  3e-04  7e-07  1e-06\n",
      " 7:  1.0387e-03  9.8543e-04  5e-05  8e-08  1e-07\n",
      " 8:  1.0204e-03  1.0024e-03  2e-05  1e-08  2e-08\n",
      " 9:  1.0089e-03  1.0064e-03  2e-06  1e-09  3e-09\n",
      "10:  1.0082e-03  1.0074e-03  8e-07  3e-10  5e-10\n",
      "11:  1.0078e-03  1.0077e-03  9e-08  3e-11  6e-11\n",
      "Optimal solution found.\n"
     ]
    },
    {
     "data": {
      "text/plain": [
       "array([[ 0.75,  0.25],\n",
       "       [ 0.4 ,  0.9 ]])"
      ]
     },
     "metadata": {},
     "output_type": "display_data"
    },
    {
     "data": {
      "text/plain": [
       "array([[ 1.02 ,  0.297],\n",
       "       [ 0.094,  0.869]])"
      ]
     },
     "metadata": {},
     "output_type": "display_data"
    },
    {
     "name": "stdout",
     "output_type": "stream",
     "text": [
      "     pcost       dcost       gap    pres   dres\n",
      " 0:  3.3336e-01 -1.1978e+00  4e+01  4e+00  8e+00\n",
      " 1:  1.9603e-01 -3.2851e+00  7e+00  8e-01  1e+00\n",
      " 2:  1.4397e-01 -1.0956e+00  1e+00  1e-01  2e-01\n",
      " 3:  3.5599e-02 -1.2459e-01  2e-01  1e-02  2e-02\n",
      " 4:  5.7261e-03 -1.7540e-02  2e-02  9e-04  2e-03\n",
      " 5:  1.3446e-03 -1.8381e-03  3e-03  9e-05  2e-04\n",
      " 6:  7.3771e-04  4.0455e-04  3e-04  8e-07  2e-06\n",
      " 7:  5.4295e-04  4.8701e-04  6e-05  9e-08  2e-07\n",
      " 8:  5.2653e-04  5.0815e-04  2e-05  1e-08  2e-08\n",
      " 9:  5.1530e-04  5.1270e-04  3e-06  1e-09  2e-09\n",
      "10:  5.1429e-04  5.1362e-04  7e-07  1e-10  3e-10\n",
      "11:  5.1393e-04  5.1382e-04  1e-07  2e-11  4e-11\n",
      "12:  5.1390e-04  5.1386e-04  5e-08  6e-12  1e-11\n",
      "Optimal solution found.\n"
     ]
    },
    {
     "data": {
      "text/plain": [
       "array([[ 0.75,  0.25],\n",
       "       [ 0.4 ,  0.9 ]])"
      ]
     },
     "metadata": {},
     "output_type": "display_data"
    },
    {
     "data": {
      "text/plain": [
       "array([[ 0.908,  0.395],\n",
       "       [ 0.228,  0.767]])"
      ]
     },
     "metadata": {},
     "output_type": "display_data"
    },
    {
     "name": "stdout",
     "output_type": "stream",
     "text": [
      "     pcost       dcost       gap    pres   dres\n",
      " 0:  3.3069e-01 -1.1872e+00  4e+01  4e+00  8e+00\n",
      " 1:  1.9542e-01 -3.2581e+00  7e+00  8e-01  1e+00\n",
      " 2:  1.4323e-01 -1.0889e+00  1e+00  1e-01  2e-01\n",
      " 3:  3.5284e-02 -1.2599e-01  2e-01  1e-02  2e-02\n",
      " 4:  5.6035e-03 -1.7737e-02  2e-02  9e-04  2e-03\n",
      " 5:  1.2753e-03 -1.9314e-03  3e-03  9e-05  2e-04\n",
      " 6:  6.6418e-04  3.2606e-04  3e-04  1e-06  2e-06\n",
      " 7:  4.7013e-04  4.1246e-04  6e-05  1e-07  2e-07\n",
      " 8:  4.4974e-04  4.3697e-04  1e-05  2e-09  4e-09\n",
      " 9:  4.4143e-04  4.4014e-04  1e-06  2e-10  4e-10\n",
      "10:  4.4095e-04  4.4067e-04  3e-07  2e-11  4e-11\n",
      "11:  4.4080e-04  4.4077e-04  3e-08  2e-12  4e-12\n",
      "Optimal solution found.\n"
     ]
    },
    {
     "data": {
      "text/plain": [
       "array([[ 0.75,  0.25],\n",
       "       [ 0.4 ,  0.9 ]])"
      ]
     },
     "metadata": {},
     "output_type": "display_data"
    },
    {
     "data": {
      "text/plain": [
       "array([[ 0.868,  0.387],\n",
       "       [ 0.265,  0.74 ]])"
      ]
     },
     "metadata": {},
     "output_type": "display_data"
    },
    {
     "name": "stdout",
     "output_type": "stream",
     "text": [
      "     pcost       dcost       gap    pres   dres\n",
      " 0:  3.3649e-01 -1.1871e+00  4e+01  4e+00  8e+00\n",
      " 1:  1.9757e-01 -3.2692e+00  7e+00  8e-01  1e+00\n",
      " 2:  1.4430e-01 -1.0935e+00  1e+00  1e-01  2e-01\n",
      " 3:  3.5762e-02 -1.2468e-01  2e-01  1e-02  2e-02\n",
      " 4:  5.7132e-03 -1.7751e-02  2e-02  9e-04  2e-03\n",
      " 5:  1.2501e-03 -1.9572e-03  3e-03  9e-05  2e-04\n",
      " 6:  6.2910e-04  2.9503e-04  3e-04  8e-07  1e-06\n",
      " 7:  4.3014e-04  3.7448e-04  6e-05  9e-08  2e-07\n",
      " 8:  4.1116e-04  3.9407e-04  2e-05  1e-08  2e-08\n",
      " 9:  4.0046e-04  3.9782e-04  3e-06  1e-09  2e-09\n",
      "10:  3.9960e-04  3.9858e-04  1e-06  3e-10  6e-10\n",
      "11:  3.9905e-04  3.9889e-04  2e-07  4e-11  8e-11\n",
      "12:  3.9900e-04  3.9895e-04  5e-08  8e-12  1e-11\n",
      "Optimal solution found.\n"
     ]
    },
    {
     "data": {
      "text/plain": [
       "array([[ 0.75,  0.25],\n",
       "       [ 0.4 ,  0.9 ]])"
      ]
     },
     "metadata": {},
     "output_type": "display_data"
    },
    {
     "data": {
      "text/plain": [
       "array([[ 0.917,  0.378],\n",
       "       [ 0.264,  0.773]])"
      ]
     },
     "metadata": {},
     "output_type": "display_data"
    },
    {
     "name": "stdout",
     "output_type": "stream",
     "text": [
      "     pcost       dcost       gap    pres   dres\n",
      " 0:  3.3235e-01 -1.1916e+00  4e+01  4e+00  8e+00\n",
      " 1:  1.9289e-01 -3.2633e+00  7e+00  8e-01  1e+00\n",
      " 2:  1.4173e-01 -1.0899e+00  1e+00  1e-01  2e-01\n",
      " 3:  3.5040e-02 -1.2524e-01  2e-01  1e-02  2e-02\n",
      " 4:  5.5663e-03 -1.7461e-02  2e-02  9e-04  2e-03\n",
      " 5:  1.2838e-03 -1.8726e-03  3e-03  9e-05  2e-04\n",
      " 6:  6.7894e-04  3.4515e-04  3e-04  9e-07  2e-06\n",
      " 7:  4.8626e-04  4.2921e-04  6e-05  1e-07  2e-07\n",
      " 8:  4.6769e-04  4.5251e-04  2e-05  5e-09  1e-08\n",
      " 9:  4.5855e-04  4.5649e-04  2e-06  5e-10  9e-10\n",
      "10:  4.5798e-04  4.5727e-04  7e-07  1e-10  2e-10\n",
      "11:  4.5753e-04  4.5745e-04  7e-08  9e-12  2e-11\n",
      "Optimal solution found.\n"
     ]
    },
    {
     "data": {
      "text/plain": [
       "array([[ 0.75,  0.25],\n",
       "       [ 0.4 ,  0.9 ]])"
      ]
     },
     "metadata": {},
     "output_type": "display_data"
    },
    {
     "data": {
      "text/plain": [
       "array([[ 0.893,  0.401],\n",
       "       [ 0.234,  0.749]])"
      ]
     },
     "metadata": {},
     "output_type": "display_data"
    },
    {
     "name": "stdout",
     "output_type": "stream",
     "text": [
      "     pcost       dcost       gap    pres   dres\n",
      " 0:  3.3350e-01 -1.1967e+00  4e+01  4e+00  8e+00\n",
      " 1:  1.9394e-01 -3.2734e+00  7e+00  8e-01  1e+00\n",
      " 2:  1.4297e-01 -1.0922e+00  1e+00  1e-01  2e-01\n",
      " 3:  3.5497e-02 -1.2481e-01  2e-01  1e-02  2e-02\n",
      " 4:  5.6004e-03 -1.7691e-02  2e-02  9e-04  2e-03\n",
      " 5:  1.2234e-03 -1.9399e-03  3e-03  9e-05  2e-04\n",
      " 6:  6.2463e-04  2.9171e-04  3e-04  8e-07  2e-06\n",
      " 7:  4.3356e-04  3.7658e-04  6e-05  1e-07  2e-07\n",
      " 8:  4.1670e-04  4.0036e-04  2e-05  8e-09  1e-08\n",
      " 9:  4.0706e-04  4.0491e-04  2e-06  7e-10  1e-09\n",
      "10:  4.0642e-04  4.0564e-04  8e-07  2e-10  4e-10\n",
      "11:  4.0600e-04  4.0591e-04  9e-08  2e-11  4e-11\n",
      "Optimal solution found.\n"
     ]
    },
    {
     "data": {
      "text/plain": [
       "array([[ 0.75,  0.25],\n",
       "       [ 0.4 ,  0.9 ]])"
      ]
     },
     "metadata": {},
     "output_type": "display_data"
    },
    {
     "data": {
      "text/plain": [
       "array([[ 0.893,  0.408],\n",
       "       [ 0.295,  0.742]])"
      ]
     },
     "metadata": {},
     "output_type": "display_data"
    },
    {
     "name": "stdout",
     "output_type": "stream",
     "text": [
      "     pcost       dcost       gap    pres   dres\n",
      " 0:  3.3348e-01 -1.1983e+00  4e+01  4e+00  8e+00\n",
      " 1:  1.9892e-01 -3.2821e+00  7e+00  8e-01  1e+00\n",
      " 2:  1.4720e-01 -1.0917e+00  1e+00  1e-01  2e-01\n",
      " 3:  3.8392e-02 -1.2218e-01  2e-01  1e-02  2e-02\n",
      " 4:  8.1127e-03 -1.5401e-02  2e-02  9e-04  2e-03\n",
      " 5:  3.6481e-03  4.3902e-04  3e-03  9e-05  2e-04\n",
      " 6:  3.0375e-03  2.7019e-03  3e-04  9e-07  2e-06\n",
      " 7:  2.8411e-03  2.7849e-03  6e-05  1e-07  2e-07\n",
      " 8:  2.8242e-03  2.8055e-03  2e-05  1e-08  3e-08\n",
      " 9:  2.8131e-03  2.8101e-03  3e-06  2e-09  3e-09\n",
      "10:  2.8123e-03  2.8111e-03  1e-06  5e-10  9e-10\n",
      "11:  2.8116e-03  2.8115e-03  2e-07  7e-11  1e-10\n",
      "12:  2.8116e-03  2.8115e-03  6e-08  2e-11  3e-11\n",
      "Optimal solution found.\n"
     ]
    },
    {
     "data": {
      "text/plain": [
       "array([[ 0.75,  0.25],\n",
       "       [ 0.4 ,  0.9 ]])"
      ]
     },
     "metadata": {},
     "output_type": "display_data"
    },
    {
     "data": {
      "text/plain": [
       "array([[ 0.742,  0.563],\n",
       "       [ 0.458,  0.59 ]])"
      ]
     },
     "metadata": {},
     "output_type": "display_data"
    },
    {
     "name": "stdout",
     "output_type": "stream",
     "text": [
      "2.93365288138\n"
     ]
    }
   ],
   "source": [
    "from mompy.core import MomentMatrix\n",
    "import mompy.solvers as solvers; reload(solvers)\n",
    "import mompy.extractors as extractors; reload(extractors)\n",
    "from util import fix_parameters, column_rerr\n",
    "totalerror = 0\n",
    "for t in range(10):\n",
    "    xs, ys = model.sample(1e5)\n",
    "    moments_x = compute_expected_moments(xs, alphas_)\n",
    "    moments_y = compute_expected_moments_y(ys, xs, alphabs)\n",
    "\n",
    "    constrs_sdp = get_constraint_polynomials(moments_y, moments_x, deg_x, deg_b)\n",
    "    M = MomentMatrix(3, R.symbols, morder='grevlex')\n",
    "    solsdp = solvers.solve_generalized_mom_coneqp(M, constrs_sdp, None)\n",
    "    #sol = solvers.solve_moments_with_convexiterations(M, constrs, 3)\n",
    "    display(model.betas)\n",
    "    betas_lassare = extractors.extract_solutions_lasserre(M, solsdp['x'], Kmax=2)\n",
    "    betas_lassare_array = np.array([betas_lassare[R.symbols[0]], betas_lassare[R.symbols[1]]])\n",
    "    betas_lassare_array = closest_permuted_matrix(model.betas, betas_lassare_array)\n",
    "    display(betas_lassare_array)\n",
    "    totalerror += column_rerr(betas_lassare_array, model.betas)\n",
    "print totalerror"
   ]
  },
  {
   "cell_type": "code",
   "execution_count": null,
   "metadata": {
    "collapsed": true
   },
   "outputs": [],
   "source": []
  }
 ],
 "metadata": {
  "kernelspec": {
   "display_name": "Python 2",
   "language": "python",
   "name": "python2"
  },
  "language_info": {
   "codemirror_mode": {
    "name": "ipython",
    "version": 2
   },
   "file_extension": ".py",
   "mimetype": "text/x-python",
   "name": "python",
   "nbconvert_exporter": "python",
   "pygments_lexer": "ipython2",
   "version": "2.7.9"
  }
 },
 "nbformat": 4,
 "nbformat_minor": 0
}
