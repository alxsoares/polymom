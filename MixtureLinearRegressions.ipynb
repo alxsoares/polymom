{
 "cells": [
  {
   "cell_type": "markdown",
   "metadata": {},
   "source": [
    "# Mixture of Linear Regressions\n",
    "\n",
    "In this note, we will solve the mixture of linear regressions problem using the moment method."
   ]
  },
  {
   "cell_type": "markdown",
   "metadata": {},
   "source": [
    "This block contains some $\\LaTeX$ macros.\n",
    "$\\newcommand{\\E}{\\mathbb{E}}$\n",
    "$\\renewcommand{\\Re}{\\mathbb{R}}$\n",
    "$\\newcommand{\\oft}[1]{{^{(#1)}}}$\n",
    "$\\newcommand{\\oftt}[2]{{^{(#1)#2}}}$"
   ]
  },
  {
   "cell_type": "code",
   "execution_count": 43,
   "metadata": {
    "collapsed": false
   },
   "outputs": [],
   "source": [
    "import util\n",
    "from util import *\n",
    "import models; reload(models)\n",
    "from models import LinearRegressionsMixture\n",
    "import numpy as np\n",
    "np.set_printoptions(precision=3, suppress=True)\n",
    "from IPython.display import display, Markdown, Math\n",
    "from operator import mul\n",
    "import sympy as sp\n",
    "sp.init_printing()"
   ]
  },
  {
   "cell_type": "markdown",
   "metadata": {},
   "source": [
    "Let $w_1, ..., w_K \\in \\Re^D$ be a set of $K$ regression coefficients. Let $x_1, ..., x_N \\in \\Re^D$ be a given set of data points and let $y_n = \\sum_{k} \\delta_k w_k^\\top x_n + \\epsilon$ be observed responses. Our objective is to recover $(w_k)$."
   ]
  },
  {
   "cell_type": "markdown",
   "metadata": {},
   "source": [
    "## Toy Example\n",
    "\n",
    "Let's construct a toy example for the rest of this document."
   ]
  },
  {
   "cell_type": "code",
   "execution_count": 44,
   "metadata": {
    "collapsed": false
   },
   "outputs": [
    {
     "name": "stdout",
     "output_type": "stream",
     "text": [
      "True parameters:\n",
      "[ 0.4  0.6]\n",
      "[[ 0.75  0.25]\n",
      " [ 0.4   0.9 ]]\n",
      "[[ 1.  0.]\n",
      " [ 0.  1.]]\n"
     ]
    }
   ],
   "source": [
    "K, D = 2, 2\n",
    "np.random.seed(0)\n",
    "pis = np.array([0.4, 0.6])\n",
    "ws = np.array([[0.75, 0.25], [0.4, 0.9]])\n",
    "model = LinearRegressionsMixture.generate(\"tmp.dat\", K, D, betas = ws, weights = pis, cov =  1.0 * np.eye(D))\n",
    "print(\"True parameters:\")\n",
    "print(model.weights)\n",
    "print(model.betas)\n",
    "print(model.sigma)"
   ]
  },
  {
   "cell_type": "markdown",
   "metadata": {},
   "source": [
    "# Noiseless, Infinite Data Setting\n",
    "\n",
    "In this scenario, assume that $\\epsilon = 0$ and that we observe expected moments of the data. Consider the moments:\n",
    "\\begin{align}\n",
    "\\E[x^\\alpha y^b] \n",
    "&= \\sum_k \\pi_k \\E[x^\\alpha y^b | \\delta_k = 1] \\\\\n",
    "&= \\sum_k \\pi_k \\E[x^\\alpha [w_k^\\top x]^b] \\\\\n",
    "&= \\sum_k \\pi_k \\E[x^\\alpha \\sum_{\\beta \\in p(b)} w_k^\\beta x^\\beta] \\\\\n",
    "&= \\sum_{\\beta \\in p(b)} \\E_\\pi[w^\\beta] \\E[x^{\\alpha + \\beta}],\n",
    "\\end{align}\n",
    "where $p(b)$ are the $d$-partitions of $b$. Note that $\\E[x^{\\alpha + \\beta}]$ are observable quantities, and thus this simply represents a mixture over the polynomials with terms $w_k^\\beta$."
   ]
  },
  {
   "cell_type": "code",
   "execution_count": 45,
   "metadata": {
    "collapsed": false
   },
   "outputs": [],
   "source": [
    "def evaluate_mixture(ws, pis, beta):\n",
    "    \"\"\"\n",
    "    Compute E_\\pi[w^beta]\n",
    "    \"\"\"\n",
    "    return sum(pi * util.monomial(w, beta) for w, pi in zip(ws.T, pis))\n",
    "    \n",
    "def compute_exact_y_moments(ws, pis, moments_x, alpha, b):\n",
    "    \"\"\"\n",
    "    Compute the exact moments E[x^a y^b] using coefficients ws, pis and moments_x.\n",
    "    \"\"\"\n",
    "    D, K = ws.shape\n",
    "    ret = 0.\n",
    "    for beta in partitions(D, b):\n",
    "        ret += evaluate_mixture(ws, pis, beta) * moments_x[tuple_add(alpha, beta)]\n",
    "    return ret\n",
    "\n",
    "def describe_moment_polynomial(R, moments_x, moment_y, alpha, b):\n",
    "    \"\"\"\n",
    "    Computes the moment polynomial for E[x^alpha, y^b]\n",
    "    \"\"\"\n",
    "    D = len(R.symbols)\n",
    "    w = R.symbols\n",
    "    expr = -moment_y\n",
    "    for beta in partitions(D, b):\n",
    "        expr += util.monomial(w, beta) * moments_x[tuple_add(alpha, beta)]\n",
    "    return expr"
   ]
  },
  {
   "cell_type": "code",
   "execution_count": 46,
   "metadata": {
    "collapsed": false
   },
   "outputs": [],
   "source": [
    "# Example \n",
    "def double_factorial(n): \n",
    "    return reduce(mul, xrange(n, 0, -2)) if n > 0 else 1\n",
    "def gaussian_moments(sigma, d):\n",
    "    \"\"\"\n",
    "    E[x^d] where x is standard gaussian with sigma\n",
    "    \"\"\"\n",
    "    if d == 0: return 1\n",
    "    elif d % 2 == 0: return double_factorial(d-1) * sigma**d\n",
    "    else: return 0\n",
    "def expected_gaussian_moments(sigma, alphas):\n",
    "    return {alpha : prod(gaussian_moments(sigma, a) for a in alpha) for alpha in alphas}\n",
    "def expected_uniform_moments(alphas):\n",
    "    return {alpha : 1. for alpha in alphas}\n",
    "def expected_moments_y(ws, pis, moments_x, alphabs):\n",
    "    return {(alpha, b) : compute_exact_y_moments(ws, pis, moments_x, alpha, b) for alpha, b in alphabs}"
   ]
  },
  {
   "cell_type": "code",
   "execution_count": 76,
   "metadata": {
    "collapsed": true
   },
   "outputs": [],
   "source": [
    "R, _ = sp.xring(['w%d'%d for d in xrange(D)], sp.RR, sp.grevlex)\n",
    "\n",
    "deg_b, deg_x = 2, 2\n",
    "sigma = model.sigma[0,0]\n",
    "alphas = list(dominated_elements((deg_x for _ in xrange(D))))\n",
    "alphabs = [(alpha, b) for alpha in alphas for b in xrange(1,deg_b+1)]\n",
    "alphas_ = list(dominated_elements((deg_x + deg_b for _ in xrange(D))))\n",
    "moments_x = expected_gaussian_moments(sigma, alphas_)\n",
    "moments_y = expected_moments_y(ws, pis, moments_x, alphabs)\n",
    "#display(moments)"
   ]
  },
  {
   "cell_type": "code",
   "execution_count": 77,
   "metadata": {
    "collapsed": false
   },
   "outputs": [
    {
     "data": {
      "image/png": "[encoded data removed]",
      "text/latex": [
       "$$\\left \\{ \\left ( 0, \\quad 0\\right ) : 1, \\quad \\left ( 0, \\quad 1\\right ) : 0, \\quad \\left ( 0, \\quad 2\\right ) : 1.0, \\quad \\left ( 0, \\quad 3\\right ) : 0, \\quad \\left ( 0, \\quad 4\\right ) : 3.0, \\quad \\left ( 1, \\quad 0\\right ) : 0, \\quad \\left ( 1, \\quad 1\\right ) : 0, \\quad \\left ( 1, \\quad 2\\right ) : 0.0, \\quad \\left ( 1, \\quad 3\\right ) : 0, \\quad \\left ( 1, \\quad 4\\right ) : 0.0, \\quad \\left ( 2, \\quad 0\\right ) : 1.0, \\quad \\left ( 2, \\quad 1\\right ) : 0.0, \\quad \\left ( 2, \\quad 2\\right ) : 1.0, \\quad \\left ( 2, \\quad 3\\right ) : 0.0, \\quad \\left ( 2, \\quad 4\\right ) : 3.0, \\quad \\left ( 3, \\quad 0\\right ) : 0, \\quad \\left ( 3, \\quad 1\\right ) : 0, \\quad \\left ( 3, \\quad 2\\right ) : 0.0, \\quad \\left ( 3, \\quad 3\\right ) : 0, \\quad \\left ( 3, \\quad 4\\right ) : 0.0, \\quad \\left ( 4, \\quad 0\\right ) : 3.0, \\quad \\left ( 4, \\quad 1\\right ) : 0.0, \\quad \\left ( 4, \\quad 2\\right ) : 3.0, \\quad \\left ( 4, \\quad 3\\right ) : 0.0, \\quad \\left ( 4, \\quad 4\\right ) : 9.0\\right \\}$$"
      ],
      "text/plain": [
       "{(0, 0): 1, (0, 1): 0, (0, 2): 1.0, (0, 3): 0, (0, 4): 3.0, (1, 0): 0, (1, 1):\n",
       " 0, (1, 2): 0.0, (1, 3): 0, (1, 4): 0.0, (2, 0): 1.0, (2, 1): 0.0, (2, 2): 1.0\n",
       ", (2, 3): 0.0, (2, 4): 3.0, (3, 0): 0, (3, 1): 0, (3, 2): 0.0, (3, 3): 0, (3, \n",
       "4): 0.0, (4, 0): 3.0, (4, 1): 0.0, (4, 2): 3.0, (4, 3): 0.0, (4, 4): 9.0}"
      ]
     },
     "metadata": {},
     "output_type": "display_data"
    }
   ],
   "source": [
    "display(moments_x)"
   ]
  },
  {
   "cell_type": "code",
   "execution_count": 78,
   "metadata": {
    "collapsed": false
   },
   "outputs": [
    {
     "data": {
      "image/png": "[encoded data removed]",
      "text/latex": [
       "$$\\left \\{ \\left ( \\left ( 0, \\quad 0\\right ), \\quad 1\\right ) : 0.0, \\quad \\left ( \\left ( 0, \\quad 0\\right ), \\quad 2\\right ) : 0.8125, \\quad \\left ( \\left ( 0, \\quad 1\\right ), \\quad 1\\right ) : 0.7, \\quad \\left ( \\left ( 0, \\quad 1\\right ), \\quad 2\\right ) : 0.0, \\quad \\left ( \\left ( 0, \\quad 2\\right ), \\quad 1\\right ) : 0.0, \\quad \\left ( \\left ( 0, \\quad 2\\right ), \\quad 2\\right ) : 1.9125, \\quad \\left ( \\left ( 1, \\quad 0\\right ), \\quad 1\\right ) : 0.45, \\quad \\left ( \\left ( 1, \\quad 0\\right ), \\quad 2\\right ) : 0.0, \\quad \\left ( \\left ( 1, \\quad 1\\right ), \\quad 1\\right ) : 0.0, \\quad \\left ( \\left ( 1, \\quad 1\\right ), \\quad 2\\right ) : 0.255, \\quad \\left ( \\left ( 1, \\quad 2\\right ), \\quad 1\\right ) : 0.45, \\quad \\left ( \\left ( 1, \\quad 2\\right ), \\quad 2\\right ) : 0.0, \\quad \\left ( \\left ( 2, \\quad 0\\right ), \\quad 1\\right ) : 0.0, \\quad \\left ( \\left ( 2, \\quad 0\\right ), \\quad 2\\right ) : 1.3375, \\quad \\left ( \\left ( 2, \\quad 1\\right ), \\quad 1\\right ) : 0.7, \\quad \\left ( \\left ( 2, \\quad 1\\right ), \\quad 2\\right ) : 0.0, \\quad \\left ( \\left ( 2, \\quad 2\\right ), \\quad 1\\right ) : 0.0, \\quad \\left ( \\left ( 2, \\quad 2\\right ), \\quad 2\\right ) : 2.4375\\right \\}$$"
      ],
      "text/plain": [
       "{((0, 0), 1): 0.0, ((0, 0), 2): 0.8125, ((0, 1), 1): 0.7, ((0, 1), 2): 0.0, ((\n",
       "0, 2), 1): 0.0, ((0, 2), 2): 1.9125, ((1, 0), 1): 0.45, ((1, 0), 2): 0.0, ((1,\n",
       " 1), 1): 0.0, ((1, 1), 2): 0.255, ((1, 2), 1): 0.45, ((1, 2), 2): 0.0, ((2, 0)\n",
       ", 1): 0.0, ((2, 0), 2): 1.3375, ((2, 1), 1): 0.7, ((2, 1), 2): 0.0, ((2, 2), 1\n",
       "): 0.0, ((2, 2), 2): 2.4375}"
      ]
     },
     "metadata": {},
     "output_type": "display_data"
    }
   ],
   "source": [
    "display(moments_y)"
   ]
  },
  {
   "cell_type": "code",
   "execution_count": 79,
   "metadata": {
    "collapsed": false
   },
   "outputs": [],
   "source": [
    "def get_constraint_polynomials(moments_y, moments_x, deg_x, deg_b):\n",
    "    constrs = []\n",
    "    for b in xrange(1, deg_b+1):\n",
    "        for alpha in util.dominated_elements((deg_x for _ in xrange(D))):\n",
    "            constrs.append( describe_moment_polynomial(R, moments_x, moments_y[(alpha, b)], alpha, b) )\n",
    "    return constrs"
   ]
  },
  {
   "cell_type": "markdown",
   "metadata": {},
   "source": [
    "With this machinery, we can compute the moment polynomials required for the moment method magic!"
   ]
  },
  {
   "cell_type": "code",
   "execution_count": 80,
   "metadata": {
    "collapsed": false
   },
   "outputs": [
    {
     "name": "stdout",
     "output_type": "stream",
     "text": [
      "     pcost       dcost       gap    pres   dres\n",
      " 0:  2.4429e-01 -1.7098e+00  3e+01  4e+00  8e+00\n",
      " 1:  2.4747e-01 -2.8710e+00  6e+00  7e-01  1e+00\n",
      " 2:  1.3657e-01 -8.2651e-01  1e+00  1e-01  2e-01\n",
      " 3:  2.4829e-02 -9.0507e-02  1e-01  6e-03  1e-02\n",
      " 4:  3.0226e-03 -1.3927e-02  2e-02  6e-04  1e-03\n",
      " 5:  6.6673e-04 -1.3992e-03  2e-03  6e-05  1e-04\n",
      " 6:  2.1497e-04 -6.3783e-05  3e-04  1e-06  2e-06\n",
      " 7:  5.4113e-05  6.4174e-06  5e-05  2e-07  3e-07\n",
      " 8:  3.8111e-05  2.4401e-05  1e-05  1e-15  2e-18\n",
      " 9:  2.9192e-05  2.7811e-05  1e-06  1e-15  3e-18\n",
      "10:  2.8475e-05  2.8302e-05  2e-07  1e-15  5e-19\n",
      "11:  2.8388e-05  2.8368e-05  2e-08  2e-15  5e-19\n",
      "Optimal solution found.\n",
      "     pcost       dcost       gap    pres   dres\n",
      " 0:  2.4429e-01 -1.7098e+00  3e+01  4e+00  8e+00\n",
      " 1:  2.4747e-01 -2.8710e+00  6e+00  7e-01  1e+00\n",
      " 2:  1.3657e-01 -8.2651e-01  1e+00  1e-01  2e-01\n",
      " 3:  2.4829e-02 -9.0507e-02  1e-01  6e-03  1e-02\n",
      " 4:  3.0226e-03 -1.3927e-02  2e-02  6e-04  1e-03\n",
      " 5:  6.6673e-04 -1.3992e-03  2e-03  6e-05  1e-04\n",
      " 6:  2.1497e-04 -6.3783e-05  3e-04  1e-06  2e-06\n",
      " 7:  5.4113e-05  6.4174e-06  5e-05  2e-07  3e-07\n",
      " 8:  3.8111e-05  2.4401e-05  1e-05  1e-15  2e-18\n",
      " 9:  2.9192e-05  2.7811e-05  1e-06  1e-15  3e-18\n",
      "10:  2.8475e-05  2.8302e-05  2e-07  1e-15  5e-19\n",
      "11:  2.8388e-05  2.8368e-05  2e-08  2e-15  5e-19\n",
      "Optimal solution found.\n",
      "     pcost       dcost       gap    pres   dres\n",
      " 0:  2.4429e-01 -1.7098e+00  3e+01  4e+00  8e+00\n",
      " 1:  2.4747e-01 -2.8710e+00  6e+00  7e-01  1e+00\n",
      " 2:  1.3657e-01 -8.2651e-01  1e+00  1e-01  2e-01\n",
      " 3:  2.4829e-02 -9.0507e-02  1e-01  6e-03  1e-02\n",
      " 4:  3.0226e-03 -1.3927e-02  2e-02  6e-04  1e-03\n",
      " 5:  6.6673e-04 -1.3992e-03  2e-03  6e-05  1e-04\n",
      " 6:  2.1497e-04 -6.3783e-05  3e-04  1e-06  2e-06\n",
      " 7:  5.4113e-05  6.4174e-06  5e-05  2e-07  3e-07\n",
      " 8:  3.8111e-05  2.4401e-05  1e-05  1e-15  2e-18\n",
      " 9:  2.9192e-05  2.7811e-05  1e-06  1e-15  3e-18\n",
      "10:  2.8475e-05  2.8302e-05  2e-07  1e-15  5e-19\n",
      "11:  2.8388e-05  2.8368e-05  2e-08  2e-15  5e-19\n",
      "Optimal solution found.\n",
      "     pcost       dcost       gap    pres   dres\n",
      " 0:  2.4429e-01 -1.7098e+00  3e+01  4e+00  8e+00\n",
      " 1:  2.4747e-01 -2.8710e+00  6e+00  7e-01  1e+00\n",
      " 2:  1.3657e-01 -8.2651e-01  1e+00  1e-01  2e-01\n",
      " 3:  2.4829e-02 -9.0507e-02  1e-01  6e-03  1e-02\n",
      " 4:  3.0226e-03 -1.3927e-02  2e-02  6e-04  1e-03\n",
      " 5:  6.6673e-04 -1.3992e-03  2e-03  6e-05  1e-04\n",
      " 6:  2.1497e-04 -6.3783e-05  3e-04  1e-06  2e-06\n",
      " 7:  5.4113e-05  6.4174e-06  5e-05  2e-07  3e-07\n",
      " 8:  3.8111e-05  2.4401e-05  1e-05  1e-15  2e-18\n",
      " 9:  2.9192e-05  2.7811e-05  1e-06  1e-15  3e-18\n",
      "10:  2.8475e-05  2.8302e-05  2e-07  1e-15  5e-19\n",
      "11:  2.8388e-05  2.8368e-05  2e-08  2e-15  5e-19\n",
      "Optimal solution found.\n",
      "     pcost       dcost       gap    pres   dres\n",
      " 0:  2.4429e-01 -1.7098e+00  3e+01  4e+00  8e+00\n",
      " 1:  2.4747e-01 -2.8710e+00  6e+00  7e-01  1e+00\n",
      " 2:  1.3657e-01 -8.2651e-01  1e+00  1e-01  2e-01\n",
      " 3:  2.4829e-02 -9.0507e-02  1e-01  6e-03  1e-02\n",
      " 4:  3.0226e-03 -1.3927e-02  2e-02  6e-04  1e-03\n",
      " 5:  6.6673e-04 -1.3992e-03  2e-03  6e-05  1e-04\n",
      " 6:  2.1497e-04 -6.3783e-05  3e-04  1e-06  2e-06\n",
      " 7:  5.4113e-05  6.4174e-06  5e-05  2e-07  3e-07\n",
      " 8:  3.8111e-05  2.4401e-05  1e-05  1e-15  2e-18\n",
      " 9:  2.9192e-05  2.7811e-05  1e-06  1e-15  3e-18\n",
      "10:  2.8475e-05  2.8302e-05  2e-07  1e-15  5e-19\n",
      "11:  2.8388e-05  2.8368e-05  2e-08  2e-15  5e-19\n",
      "Optimal solution found.\n",
      "     pcost       dcost       gap    pres   dres\n",
      " 0:  2.4429e-01 -1.7098e+00  3e+01  4e+00  8e+00\n",
      " 1:  2.4747e-01 -2.8710e+00  6e+00  7e-01  1e+00\n",
      " 2:  1.3657e-01 -8.2651e-01  1e+00  1e-01  2e-01\n",
      " 3:  2.4829e-02 -9.0507e-02  1e-01  6e-03  1e-02\n",
      " 4:  3.0226e-03 -1.3927e-02  2e-02  6e-04  1e-03\n",
      " 5:  6.6673e-04 -1.3992e-03  2e-03  6e-05  1e-04\n",
      " 6:  2.1497e-04 -6.3783e-05  3e-04  1e-06  2e-06\n",
      " 7:  5.4113e-05  6.4174e-06  5e-05  2e-07  3e-07\n",
      " 8:  3.8111e-05  2.4401e-05  1e-05  1e-15  2e-18\n",
      " 9:  2.9192e-05  2.7811e-05  1e-06  1e-15  3e-18\n",
      "10:  2.8475e-05  2.8302e-05  2e-07  1e-15  5e-19\n",
      "11:  2.8388e-05  2.8368e-05  2e-08  2e-15  5e-19\n",
      "Optimal solution found.\n",
      "     pcost       dcost       gap    pres   dres\n",
      " 0:  2.4429e-01 -1.7098e+00  3e+01  4e+00  8e+00\n",
      " 1:  2.4747e-01 -2.8710e+00  6e+00  7e-01  1e+00\n",
      " 2:  1.3657e-01 -8.2651e-01  1e+00  1e-01  2e-01\n",
      " 3:  2.4829e-02 -9.0507e-02  1e-01  6e-03  1e-02\n",
      " 4:  3.0226e-03 -1.3927e-02  2e-02  6e-04  1e-03\n",
      " 5:  6.6673e-04 -1.3992e-03  2e-03  6e-05  1e-04\n",
      " 6:  2.1497e-04 -6.3783e-05  3e-04  1e-06  2e-06\n",
      " 7:  5.4113e-05  6.4174e-06  5e-05  2e-07  3e-07\n",
      " 8:  3.8111e-05  2.4401e-05  1e-05  1e-15  2e-18\n",
      " 9:  2.9192e-05  2.7811e-05  1e-06  1e-15  3e-18\n",
      "10:  2.8475e-05  2.8302e-05  2e-07  1e-15  5e-19\n",
      "11:  2.8388e-05  2.8368e-05  2e-08  2e-15  5e-19\n",
      "Optimal solution found.\n",
      "     pcost       dcost       gap    pres   dres\n",
      " 0:  2.4429e-01 -1.7098e+00  3e+01  4e+00  8e+00\n",
      " 1:  2.4747e-01 -2.8710e+00  6e+00  7e-01  1e+00\n",
      " 2:  1.3657e-01 -8.2651e-01  1e+00  1e-01  2e-01\n",
      " 3:  2.4829e-02 -9.0507e-02  1e-01  6e-03  1e-02\n",
      " 4:  3.0226e-03 -1.3927e-02  2e-02  6e-04  1e-03\n",
      " 5:  6.6673e-04 -1.3992e-03  2e-03  6e-05  1e-04\n",
      " 6:  2.1497e-04 -6.3783e-05  3e-04  1e-06  2e-06\n",
      " 7:  5.4113e-05  6.4174e-06  5e-05  2e-07  3e-07\n",
      " 8:  3.8111e-05  2.4401e-05  1e-05  1e-15  2e-18\n",
      " 9:  2.9192e-05  2.7811e-05  1e-06  1e-15  3e-18\n",
      "10:  2.8475e-05  2.8302e-05  2e-07  1e-15  5e-19\n",
      "11:  2.8388e-05  2.8368e-05  2e-08  2e-15  5e-19\n",
      "Optimal solution found.\n",
      "     pcost       dcost       gap    pres   dres\n",
      " 0:  2.4429e-01 -1.7098e+00  3e+01  4e+00  8e+00\n",
      " 1:  2.4747e-01 -2.8710e+00  6e+00  7e-01  1e+00\n",
      " 2:  1.3657e-01 -8.2651e-01  1e+00  1e-01  2e-01\n",
      " 3:  2.4829e-02 -9.0507e-02  1e-01  6e-03  1e-02\n",
      " 4:  3.0226e-03 -1.3927e-02  2e-02  6e-04  1e-03\n",
      " 5:  6.6673e-04 -1.3992e-03  2e-03  6e-05  1e-04\n",
      " 6:  2.1497e-04 -6.3783e-05  3e-04  1e-06  2e-06\n",
      " 7:  5.4113e-05  6.4174e-06  5e-05  2e-07  3e-07\n",
      " 8:  3.8111e-05  2.4401e-05  1e-05  1e-15  2e-18\n",
      " 9:  2.9192e-05  2.7811e-05  1e-06  1e-15  3e-18\n",
      "10:  2.8475e-05  2.8302e-05  2e-07  1e-15  5e-19\n",
      "11:  2.8388e-05  2.8368e-05  2e-08  2e-15  5e-19\n",
      "Optimal solution found.\n",
      "     pcost       dcost       gap    pres   dres\n",
      " 0:  2.4429e-01 -1.7098e+00  3e+01  4e+00  8e+00\n",
      " 1:  2.4747e-01 -2.8710e+00  6e+00  7e-01  1e+00\n",
      " 2:  1.3657e-01 -8.2651e-01  1e+00  1e-01  2e-01\n",
      " 3:  2.4829e-02 -9.0507e-02  1e-01  6e-03  1e-02\n",
      " 4:  3.0226e-03 -1.3927e-02  2e-02  6e-04  1e-03\n",
      " 5:  6.6673e-04 -1.3992e-03  2e-03  6e-05  1e-04\n",
      " 6:  2.1497e-04 -6.3783e-05  3e-04  1e-06  2e-06\n",
      " 7:  5.4113e-05  6.4174e-06  5e-05  2e-07  3e-07\n",
      " 8:  3.8111e-05  2.4401e-05  1e-05  1e-15  2e-18\n",
      " 9:  2.9192e-05  2.7811e-05  1e-06  1e-15  3e-18\n",
      "10:  2.8475e-05  2.8302e-05  2e-07  1e-15  5e-19\n",
      "11:  2.8388e-05  2.8368e-05  2e-08  2e-15  5e-19\n",
      "Optimal solution found.\n"
     ]
    },
    {
     "data": {
      "text/plain": [
       "array([[ 0.75,  0.25],\n",
       "       [ 0.4 ,  0.9 ]])"
      ]
     },
     "metadata": {},
     "output_type": "display_data"
    },
    {
     "name": "stdout",
     "output_type": "stream",
     "text": [
      "lost 0.0014679\n"
     ]
    },
    {
     "data": {
      "image/png": "[encoded data removed]",
      "text/latex": [
       "$$\\left \\{ w_{0} : \\left [ 0.295090689614, \\quad 0.85018625151\\right ], \\quad w_{1} : \\left [ 0.851662332033, \\quad 0.299109454728\\right ]\\right \\}$$"
      ],
      "text/plain": [
       "{w₀: [0.295090689614, 0.85018625151], w₁: [0.851662332033, 0.299109454728]}"
      ]
     },
     "metadata": {},
     "output_type": "display_data"
    },
    {
     "name": "stdout",
     "output_type": "stream",
     "text": [
      "the next biggest eigenvalue we are losing is 0.001468\n"
     ]
    },
    {
     "data": {
      "image/png": "[encoded data removed]",
      "text/latex": [
       "$$\\left \\{ w_{0} : \\left [ 0.300629497119, \\quad 0.849674273533\\right ], \\quad w_{1} : \\left [ 0.848673765992, \\quad 0.299506307876\\right ]\\right \\}$$"
      ],
      "text/plain": [
       "{w₀: [0.300629497119, 0.849674273533], w₁: [0.848673765992, 0.299506307876]}"
      ]
     },
     "metadata": {},
     "output_type": "display_data"
    }
   ],
   "source": [
    "from mompy.core import MomentMatrix\n",
    "import mompy.solvers as solvers; reload(solvers)\n",
    "import mompy.extractors as extractors; reload(extractors)\n",
    "\n",
    "constrs = get_constraint_polynomials(moments_y, moments_x, deg_x, deg_b)\n",
    "M = MomentMatrix(3, R.symbols, morder='grevlex')\n",
    "sol = solvers.solve_generalized_mom(M, constrs, 3)\n",
    "display( model.betas)\n",
    "display(extractors.extract_solutions_lasserre(M, sol['x'], Kmax=2))\n",
    "\n",
    "display(extractors.extract_solutions_dreesen_proto(M, sol['x'], Kmax=2))\n"
   ]
  },
  {
   "cell_type": "code",
   "execution_count": 81,
   "metadata": {
    "collapsed": false,
    "scrolled": true
   },
   "outputs": [
    {
     "data": {
      "image/png": "[encoded data removed]",
      "text/latex": [
       "$$\\left [ 0, \\quad 1.0 w_{1} - 0.7, \\quad 0, \\quad 1.0 w_{0} - 0.45, \\quad 0, \\quad 1.0 w_{0} - 0.45, \\quad 0, \\quad 1.0 w_{1} - 0.7, \\quad 0, \\quad 3.0 w_{0}^{2} + 3.0 w_{1}^{2} - 2.4375, \\quad 0, \\quad 3.0 w_{0}^{2} + 1.0 w_{1}^{2} - 1.3375, \\quad 0, \\quad 1.0 w_{0} w_{1} - 0.255, \\quad 0, \\quad 1.0 w_{0}^{2} + 3.0 w_{1}^{2} - 1.9125, \\quad 0, \\quad 1.0 w_{0}^{2} + 1.0 w_{1}^{2} - 0.8125\\right ]$$"
      ],
      "text/plain": [
       "⎡                                                                             \n",
       "⎣0, 1.0⋅w₁ - 0.7, 0, 1.0⋅w₀ - 0.45, 0, 1.0⋅w₀ - 0.45, 0, 1.0⋅w₁ - 0.7, 0, 3.0⋅\n",
       "\n",
       "  2         2                    2         2                                  \n",
       "w₀  + 3.0⋅w₁  - 2.4375, 0, 3.0⋅w₀  + 1.0⋅w₁  - 1.3375, 0, 1.0⋅w₀⋅w₁ - 0.255, 0\n",
       "\n",
       "        2         2                    2         2         ⎤\n",
       ", 1.0⋅w₀  + 3.0⋅w₁  - 1.9125, 0, 1.0⋅w₀  + 1.0⋅w₁  - 0.8125⎦"
      ]
     },
     "metadata": {},
     "output_type": "display_data"
    }
   ],
   "source": [
    "display(constrs)"
   ]
  },
  {
   "cell_type": "markdown",
   "metadata": {},
   "source": [
    "## With real samples\n",
    "\n",
    "Let's try to solve the problem with generated samples.\n"
   ]
  },
  {
   "cell_type": "code",
   "execution_count": 82,
   "metadata": {
    "collapsed": false
   },
   "outputs": [],
   "source": [
    "def compute_expected_moments(xs, alphas):\n",
    "    moments = {alpha : 0. for alpha in alphas}\n",
    "    for alpha in alphas:\n",
    "        m = monomial(xs.T, alpha)\n",
    "        moments[alpha] = m if isinstance(m,float) else float(m.mean())\n",
    "    return moments\n",
    "\n",
    "def compute_expected_moments_y(ys, xs, alphabs):\n",
    "    moments = {(alpha, b) : 0. for alpha, b in alphabs}\n",
    "    for alpha, b in alphabs:\n",
    "        moments[(alpha,b)] = float((monomial(xs.T, alpha) * ys**b).mean())\n",
    "        #moments[(alpha,b)] += (monomial(x, alpha) * y**b - moments[(alpha,b)])/(i+1)\n",
    "    return moments"
   ]
  },
  {
   "cell_type": "code",
   "execution_count": 83,
   "metadata": {
    "collapsed": false
   },
   "outputs": [],
   "source": [
    "ys, xs = model.sample(1e6)\n",
    "moments_x = compute_expected_moments(xs, alphas_)\n",
    "moments_y = compute_expected_moments_y(ys, xs, alphabs)"
   ]
  },
  {
   "cell_type": "code",
   "execution_count": 84,
   "metadata": {
    "collapsed": false
   },
   "outputs": [
    {
     "data": {
      "image/png": "[encoded data removed]",
      "text/latex": [
       "$$\\left \\{ \\left ( \\left ( 0, \\quad 0\\right ), \\quad 1\\right ) : -0.000926574266921, \\quad \\left ( \\left ( 0, \\quad 0\\right ), \\quad 2\\right ) : 0.812404473906, \\quad \\left ( \\left ( 0, \\quad 1\\right ), \\quad 1\\right ) : 0.699687873976, \\quad \\left ( \\left ( 0, \\quad 1\\right ), \\quad 2\\right ) : -0.00170199518243, \\quad \\left ( \\left ( 0, \\quad 2\\right ), \\quad 1\\right ) : -0.00152134854724, \\quad \\left ( \\left ( 0, \\quad 2\\right ), \\quad 2\\right ) : 1.90933297562, \\quad \\left ( \\left ( 1, \\quad 0\\right ), \\quad 1\\right ) : 0.451060230538, \\quad \\left ( \\left ( 1, \\quad 0\\right ), \\quad 2\\right ) : -0.000324438373467, \\quad \\left ( \\left ( 1, \\quad 1\\right ), \\quad 1\\right ) : 0.00110603679134, \\quad \\left ( \\left ( 1, \\quad 1\\right ), \\quad 2\\right ) : 0.516061829063, \\quad \\left ( \\left ( 1, \\quad 2\\right ), \\quad 1\\right ) : 0.455569857356, \\quad \\left ( \\left ( 1, \\quad 2\\right ), \\quad 2\\right ) : 0.0125796089877, \\quad \\left ( \\left ( 2, \\quad 0\\right ), \\quad 1\\right ) : -0.00249024042536, \\quad \\left ( \\left ( 2, \\quad 0\\right ), \\quad 2\\right ) : 1.33670091759, \\quad \\left ( \\left ( 2, \\quad 1\\right ), \\quad 1\\right ) : 0.701552632676, \\quad \\left ( \\left ( 2, \\quad 1\\right ), \\quad 2\\right ) : -0.00517903241824, \\quad \\left ( \\left ( 2, \\quad 2\\right ), \\quad 1\\right ) : -0.00427267386808, \\quad \\left ( \\left ( 2, \\quad 2\\right ), \\quad 2\\right ) : 2.43181935583\\right \\}$$"
      ],
      "text/plain": [
       "{((0, 0), 1): -0.000926574266921, ((0, 0), 2): 0.812404473906, ((0, 1), 1): 0.\n",
       "699687873976, ((0, 1), 2): -0.00170199518243, ((0, 2), 1): -0.00152134854724, \n",
       "((0, 2), 2): 1.90933297562, ((1, 0), 1): 0.451060230538, ((1, 0), 2): -0.00032\n",
       "4438373467, ((1, 1), 1): 0.00110603679134, ((1, 1), 2): 0.516061829063, ((1, 2\n",
       "), 1): 0.455569857356, ((1, 2), 2): 0.0125796089877, ((2, 0), 1): -0.002490240\n",
       "42536, ((2, 0), 2): 1.33670091759, ((2, 1), 1): 0.701552632676, ((2, 1), 2): -\n",
       "0.00517903241824, ((2, 2), 1): -0.00427267386808, ((2, 2), 2): 2.43181935583}"
      ]
     },
     "execution_count": 84,
     "metadata": {},
     "output_type": "execute_result"
    }
   ],
   "source": [
    "moments_y"
   ]
  },
  {
   "cell_type": "code",
   "execution_count": 85,
   "metadata": {
    "collapsed": false,
    "scrolled": true
   },
   "outputs": [
    {
     "name": "stdout",
     "output_type": "stream",
     "text": [
      "[[ 1.  0.]\n",
      " [ 0.  1.]]\n",
      "0.316227766017\n",
      "[[ 9.993  0.021]\n",
      " [ 0.021  9.98 ]]\n"
     ]
    }
   ],
   "source": [
    "print(model.sigma)\n",
    "print sqrt(0.1)\n",
    "print(xs.T.dot(xs)/1e5)"
   ]
  },
  {
   "cell_type": "code",
   "execution_count": 86,
   "metadata": {
    "collapsed": false
   },
   "outputs": [
    {
     "name": "stdout",
     "output_type": "stream",
     "text": [
      "     pcost       dcost       gap    pres   dres\n",
      " 0:  3.0727e-01 -1.6354e+00  3e+01  4e+00  8e+00\n",
      " 1:  3.1104e-01 -2.8209e+00  6e+00  7e-01  1e+00\n",
      " 2:  1.7891e-01 -7.9898e-01  1e+00  1e-01  2e-01\n",
      " 3:  4.5928e-02 -7.8319e-02  1e-01  7e-03  1e-02\n",
      " 4:  1.4371e-02 -8.0218e-03  2e-02  1e-03  2e-03\n",
      " 5:  9.7970e-03  3.4212e-03  6e-03  3e-04  5e-04\n",
      " 6:  9.5163e-03  7.5968e-03  2e-03  5e-05  9e-05\n",
      " 7:  8.9542e-03  8.3934e-03  6e-04  1e-05  2e-05\n",
      " 8:  8.7489e-03  8.6987e-03  5e-05  2e-07  3e-07\n",
      " 9:  8.7118e-03  8.7039e-03  8e-06  2e-08  4e-08\n",
      "10:  8.7079e-03  8.7050e-03  3e-06  5e-09  8e-09\n",
      "11:  8.7053e-03  8.7052e-03  1e-07  1e-10  3e-10\n",
      "12:  8.7053e-03  8.7053e-03  1e-08  1e-11  2e-11\n",
      "Optimal solution found.\n",
      "     pcost       dcost       gap    pres   dres\n",
      " 0:  3.0727e-01 -1.6354e+00  3e+01  4e+00  8e+00\n",
      " 1:  3.1104e-01 -2.8209e+00  6e+00  7e-01  1e+00\n",
      " 2:  1.7891e-01 -7.9898e-01  1e+00  1e-01  2e-01\n",
      " 3:  4.5928e-02 -7.8319e-02  1e-01  7e-03  1e-02\n",
      " 4:  1.4371e-02 -8.0218e-03  2e-02  1e-03  2e-03\n",
      " 5:  9.7970e-03  3.4212e-03  6e-03  3e-04  5e-04\n",
      " 6:  9.5163e-03  7.5968e-03  2e-03  5e-05  9e-05\n",
      " 7:  8.9542e-03  8.3934e-03  6e-04  1e-05  2e-05\n",
      " 8:  8.7489e-03  8.6987e-03  5e-05  2e-07  3e-07\n",
      " 9:  8.7118e-03  8.7039e-03  8e-06  2e-08  4e-08\n",
      "10:  8.7079e-03  8.7050e-03  3e-06  5e-09  8e-09\n",
      "11:  8.7053e-03  8.7052e-03  1e-07  1e-10  3e-10\n",
      "12:  8.7053e-03  8.7053e-03  1e-08  1e-11  2e-11\n",
      "Optimal solution found.\n",
      "     pcost       dcost       gap    pres   dres\n",
      " 0:  3.0727e-01 -1.6354e+00  3e+01  4e+00  8e+00\n",
      " 1:  3.1104e-01 -2.8209e+00  6e+00  7e-01  1e+00\n",
      " 2:  1.7891e-01 -7.9898e-01  1e+00  1e-01  2e-01\n",
      " 3:  4.5928e-02 -7.8319e-02  1e-01  7e-03  1e-02\n",
      " 4:  1.4371e-02 -8.0218e-03  2e-02  1e-03  2e-03\n",
      " 5:  9.7970e-03  3.4212e-03  6e-03  3e-04  5e-04\n",
      " 6:  9.5163e-03  7.5968e-03  2e-03  5e-05  9e-05\n",
      " 7:  8.9542e-03  8.3934e-03  6e-04  1e-05  2e-05\n",
      " 8:  8.7489e-03  8.6987e-03  5e-05  2e-07  3e-07\n",
      " 9:  8.7118e-03  8.7039e-03  8e-06  2e-08  4e-08\n",
      "10:  8.7079e-03  8.7050e-03  3e-06  5e-09  8e-09\n",
      "11:  8.7053e-03  8.7052e-03  1e-07  1e-10  3e-10\n",
      "12:  8.7053e-03  8.7053e-03  1e-08  1e-11  2e-11\n",
      "Optimal solution found.\n",
      "     pcost       dcost       gap    pres   dres\n",
      " 0:  3.0727e-01 -1.6354e+00  3e+01  4e+00  8e+00\n",
      " 1:  3.1104e-01 -2.8209e+00  6e+00  7e-01  1e+00\n",
      " 2:  1.7891e-01 -7.9898e-01  1e+00  1e-01  2e-01\n",
      " 3:  4.5928e-02 -7.8319e-02  1e-01  7e-03  1e-02\n",
      " 4:  1.4371e-02 -8.0218e-03  2e-02  1e-03  2e-03\n",
      " 5:  9.7970e-03  3.4212e-03  6e-03  3e-04  5e-04\n",
      " 6:  9.5163e-03  7.5968e-03  2e-03  5e-05  9e-05\n",
      " 7:  8.9542e-03  8.3934e-03  6e-04  1e-05  2e-05\n",
      " 8:  8.7489e-03  8.6987e-03  5e-05  2e-07  3e-07\n",
      " 9:  8.7118e-03  8.7039e-03  8e-06  2e-08  4e-08\n",
      "10:  8.7079e-03  8.7050e-03  3e-06  5e-09  8e-09\n",
      "11:  8.7053e-03  8.7052e-03  1e-07  1e-10  3e-10\n",
      "12:  8.7053e-03  8.7053e-03  1e-08  1e-11  2e-11\n",
      "Optimal solution found.\n",
      "     pcost       dcost       gap    pres   dres\n",
      " 0:  3.0727e-01 -1.6354e+00  3e+01  4e+00  8e+00\n",
      " 1:  3.1104e-01 -2.8209e+00  6e+00  7e-01  1e+00\n",
      " 2:  1.7891e-01 -7.9898e-01  1e+00  1e-01  2e-01\n",
      " 3:  4.5928e-02 -7.8319e-02  1e-01  7e-03  1e-02\n",
      " 4:  1.4371e-02 -8.0218e-03  2e-02  1e-03  2e-03\n",
      " 5:  9.7970e-03  3.4212e-03  6e-03  3e-04  5e-04\n",
      " 6:  9.5163e-03  7.5968e-03  2e-03  5e-05  9e-05\n",
      " 7:  8.9542e-03  8.3934e-03  6e-04  1e-05  2e-05\n",
      " 8:  8.7489e-03  8.6987e-03  5e-05  2e-07  3e-07\n",
      " 9:  8.7118e-03  8.7039e-03  8e-06  2e-08  4e-08\n",
      "10:  8.7079e-03  8.7050e-03  3e-06  5e-09  8e-09\n",
      "11:  8.7053e-03  8.7052e-03  1e-07  1e-10  3e-10\n",
      "12:  8.7053e-03  8.7053e-03  1e-08  1e-11  2e-11\n",
      "Optimal solution found.\n",
      "     pcost       dcost       gap    pres   dres\n",
      " 0:  3.0727e-01 -1.6354e+00  3e+01  4e+00  8e+00\n",
      " 1:  3.1104e-01 -2.8209e+00  6e+00  7e-01  1e+00\n",
      " 2:  1.7891e-01 -7.9898e-01  1e+00  1e-01  2e-01\n",
      " 3:  4.5928e-02 -7.8319e-02  1e-01  7e-03  1e-02\n",
      " 4:  1.4371e-02 -8.0218e-03  2e-02  1e-03  2e-03\n",
      " 5:  9.7970e-03  3.4212e-03  6e-03  3e-04  5e-04\n",
      " 6:  9.5163e-03  7.5968e-03  2e-03  5e-05  9e-05\n",
      " 7:  8.9542e-03  8.3934e-03  6e-04  1e-05  2e-05\n",
      " 8:  8.7489e-03  8.6987e-03  5e-05  2e-07  3e-07\n",
      " 9:  8.7118e-03  8.7039e-03  8e-06  2e-08  4e-08\n",
      "10:  8.7079e-03  8.7050e-03  3e-06  5e-09  8e-09\n",
      "11:  8.7053e-03  8.7052e-03  1e-07  1e-10  3e-10\n",
      "12:  8.7053e-03  8.7053e-03  1e-08  1e-11  2e-11\n",
      "Optimal solution found.\n",
      "     pcost       dcost       gap    pres   dres\n",
      " 0:  3.0727e-01 -1.6354e+00  3e+01  4e+00  8e+00\n",
      " 1:  3.1104e-01 -2.8209e+00  6e+00  7e-01  1e+00\n",
      " 2:  1.7891e-01 -7.9898e-01  1e+00  1e-01  2e-01\n",
      " 3:  4.5928e-02 -7.8319e-02  1e-01  7e-03  1e-02\n",
      " 4:  1.4371e-02 -8.0218e-03  2e-02  1e-03  2e-03\n",
      " 5:  9.7970e-03  3.4212e-03  6e-03  3e-04  5e-04\n",
      " 6:  9.5163e-03  7.5968e-03  2e-03  5e-05  9e-05\n",
      " 7:  8.9542e-03  8.3934e-03  6e-04  1e-05  2e-05\n",
      " 8:  8.7489e-03  8.6987e-03  5e-05  2e-07  3e-07\n",
      " 9:  8.7118e-03  8.7039e-03  8e-06  2e-08  4e-08\n",
      "10:  8.7079e-03  8.7050e-03  3e-06  5e-09  8e-09\n",
      "11:  8.7053e-03  8.7052e-03  1e-07  1e-10  3e-10\n",
      "12:  8.7053e-03  8.7053e-03  1e-08  1e-11  2e-11\n",
      "Optimal solution found.\n",
      "     pcost       dcost       gap    pres   dres\n",
      " 0:  3.0727e-01 -1.6354e+00  3e+01  4e+00  8e+00\n",
      " 1:  3.1104e-01 -2.8209e+00  6e+00  7e-01  1e+00\n",
      " 2:  1.7891e-01 -7.9898e-01  1e+00  1e-01  2e-01\n",
      " 3:  4.5928e-02 -7.8319e-02  1e-01  7e-03  1e-02\n",
      " 4:  1.4371e-02 -8.0218e-03  2e-02  1e-03  2e-03\n",
      " 5:  9.7970e-03  3.4212e-03  6e-03  3e-04  5e-04\n",
      " 6:  9.5163e-03  7.5968e-03  2e-03  5e-05  9e-05\n",
      " 7:  8.9542e-03  8.3934e-03  6e-04  1e-05  2e-05\n",
      " 8:  8.7489e-03  8.6987e-03  5e-05  2e-07  3e-07\n",
      " 9:  8.7118e-03  8.7039e-03  8e-06  2e-08  4e-08\n",
      "10:  8.7079e-03  8.7050e-03  3e-06  5e-09  8e-09\n",
      "11:  8.7053e-03  8.7052e-03  1e-07  1e-10  3e-10\n",
      "12:  8.7053e-03  8.7053e-03  1e-08  1e-11  2e-11\n",
      "Optimal solution found.\n",
      "     pcost       dcost       gap    pres   dres\n",
      " 0:  3.0727e-01 -1.6354e+00  3e+01  4e+00  8e+00\n",
      " 1:  3.1104e-01 -2.8209e+00  6e+00  7e-01  1e+00\n",
      " 2:  1.7891e-01 -7.9898e-01  1e+00  1e-01  2e-01\n",
      " 3:  4.5928e-02 -7.8319e-02  1e-01  7e-03  1e-02\n",
      " 4:  1.4371e-02 -8.0218e-03  2e-02  1e-03  2e-03\n",
      " 5:  9.7970e-03  3.4212e-03  6e-03  3e-04  5e-04\n",
      " 6:  9.5163e-03  7.5968e-03  2e-03  5e-05  9e-05\n",
      " 7:  8.9542e-03  8.3934e-03  6e-04  1e-05  2e-05\n",
      " 8:  8.7489e-03  8.6987e-03  5e-05  2e-07  3e-07\n",
      " 9:  8.7118e-03  8.7039e-03  8e-06  2e-08  4e-08\n",
      "10:  8.7079e-03  8.7050e-03  3e-06  5e-09  8e-09\n",
      "11:  8.7053e-03  8.7052e-03  1e-07  1e-10  3e-10\n",
      "12:  8.7053e-03  8.7053e-03  1e-08  1e-11  2e-11\n",
      "Optimal solution found.\n",
      "     pcost       dcost       gap    pres   dres\n",
      " 0:  3.0727e-01 -1.6354e+00  3e+01  4e+00  8e+00\n",
      " 1:  3.1104e-01 -2.8209e+00  6e+00  7e-01  1e+00\n",
      " 2:  1.7891e-01 -7.9898e-01  1e+00  1e-01  2e-01\n",
      " 3:  4.5928e-02 -7.8319e-02  1e-01  7e-03  1e-02\n",
      " 4:  1.4371e-02 -8.0218e-03  2e-02  1e-03  2e-03\n",
      " 5:  9.7970e-03  3.4212e-03  6e-03  3e-04  5e-04\n",
      " 6:  9.5163e-03  7.5968e-03  2e-03  5e-05  9e-05\n",
      " 7:  8.9542e-03  8.3934e-03  6e-04  1e-05  2e-05\n",
      " 8:  8.7489e-03  8.6987e-03  5e-05  2e-07  3e-07\n",
      " 9:  8.7118e-03  8.7039e-03  8e-06  2e-08  4e-08\n",
      "10:  8.7079e-03  8.7050e-03  3e-06  5e-09  8e-09\n",
      "11:  8.7053e-03  8.7052e-03  1e-07  1e-10  3e-10\n",
      "12:  8.7053e-03  8.7053e-03  1e-08  1e-11  2e-11\n",
      "Optimal solution found.\n"
     ]
    },
    {
     "data": {
      "text/plain": [
       "array([[ 0.75,  0.25],\n",
       "       [ 0.4 ,  0.9 ]])"
      ]
     },
     "metadata": {},
     "output_type": "display_data"
    },
    {
     "name": "stdout",
     "output_type": "stream",
     "text": [
      "lost 0.0002286\n"
     ]
    },
    {
     "data": {
      "image/png": "[encoded data removed]",
      "text/latex": [
       "$$\\left \\{ w_{0} : \\left [ 0.508628121051, \\quad -0.681111561146\\right ], \\quad w_{1} : \\left [ 0.746549320776, \\quad -0.624103661994\\right ]\\right \\}$$"
      ],
      "text/plain": [
       "{w₀: [0.508628121051, -0.681111561146], w₁: [0.746549320776, -0.624103661994]}"
      ]
     },
     "metadata": {},
     "output_type": "display_data"
    },
    {
     "name": "stdout",
     "output_type": "stream",
     "text": [
      "the next biggest eigenvalue we are losing is 0.000229\n"
     ]
    },
    {
     "data": {
      "image/png": "[encoded data removed]",
      "text/latex": [
       "$$\\left \\{ w_{0} : \\left [ 0.508652117653, \\quad -0.681428339729\\right ], \\quad w_{1} : \\left [ 0.745669897661, \\quad -0.688016719336\\right ]\\right \\}$$"
      ],
      "text/plain": [
       "{w₀: [0.508652117653, -0.681428339729], w₁: [0.745669897661, -0.688016719336]}"
      ]
     },
     "metadata": {},
     "output_type": "display_data"
    },
    {
     "name": "stdout",
     "output_type": "stream",
     "text": [
      "the next biggest eigenvalue we are losing is 0.000229\n"
     ]
    },
    {
     "ename": "KeyError",
     "evalue": "w0",
     "output_type": "error",
     "traceback": [
      "\u001b[1;31m---------------------------------------------------------------------------\u001b[0m",
      "\u001b[1;31mKeyError\u001b[0m                                  Traceback (most recent call last)",
      "\u001b[1;32m<ipython-input-86-476f97742516>\u001b[0m in \u001b[0;36m<module>\u001b[1;34m()\u001b[0m\n\u001b[0;32m     13\u001b[0m \u001b[0mdisplay\u001b[0m\u001b[1;33m(\u001b[0m\u001b[0mextractors\u001b[0m\u001b[1;33m.\u001b[0m\u001b[0mextract_solutions_dreesen_proto\u001b[0m\u001b[1;33m(\u001b[0m\u001b[0mM\u001b[0m\u001b[1;33m,\u001b[0m \u001b[0msolsdp\u001b[0m\u001b[1;33m[\u001b[0m\u001b[1;34m'x'\u001b[0m\u001b[1;33m]\u001b[0m\u001b[1;33m,\u001b[0m \u001b[0mKmax\u001b[0m\u001b[1;33m=\u001b[0m\u001b[1;36m2\u001b[0m\u001b[1;33m)\u001b[0m\u001b[1;33m)\u001b[0m\u001b[1;33m\u001b[0m\u001b[0m\n\u001b[0;32m     14\u001b[0m \u001b[0msol\u001b[0m \u001b[1;33m=\u001b[0m \u001b[0mextractors\u001b[0m\u001b[1;33m.\u001b[0m\u001b[0mextract_solutions_dreesen_proto\u001b[0m\u001b[1;33m(\u001b[0m\u001b[0mM\u001b[0m\u001b[1;33m,\u001b[0m \u001b[0msolsdp\u001b[0m\u001b[1;33m[\u001b[0m\u001b[1;34m'x'\u001b[0m\u001b[1;33m]\u001b[0m\u001b[1;33m,\u001b[0m \u001b[0mKmax\u001b[0m\u001b[1;33m=\u001b[0m\u001b[1;36m2\u001b[0m\u001b[1;33m)\u001b[0m\u001b[1;33m\u001b[0m\u001b[0m\n\u001b[1;32m---> 15\u001b[1;33m \u001b[0mws_rec\u001b[0m \u001b[1;33m=\u001b[0m \u001b[0marray\u001b[0m\u001b[1;33m(\u001b[0m\u001b[1;33m[\u001b[0m\u001b[0msolsdp\u001b[0m\u001b[1;33m[\u001b[0m\u001b[0msp\u001b[0m\u001b[1;33m.\u001b[0m\u001b[0msymbols\u001b[0m\u001b[1;33m(\u001b[0m\u001b[1;34m'w0'\u001b[0m\u001b[1;33m)\u001b[0m\u001b[1;33m]\u001b[0m\u001b[1;33m,\u001b[0m \u001b[0msolsdp\u001b[0m\u001b[1;33m[\u001b[0m\u001b[0msp\u001b[0m\u001b[1;33m.\u001b[0m\u001b[0msymbols\u001b[0m\u001b[1;33m(\u001b[0m\u001b[1;34m'w1'\u001b[0m\u001b[1;33m)\u001b[0m\u001b[1;33m]\u001b[0m\u001b[1;33m]\u001b[0m\u001b[1;33m)\u001b[0m\u001b[1;33m\u001b[0m\u001b[0m\n\u001b[0m",
      "\u001b[1;31mKeyError\u001b[0m: w0"
     ]
    }
   ],
   "source": [
    "\n",
    "from mompy.core import MomentMatrix\n",
    "import mompy.solvers as solvers; reload(solvers)\n",
    "import mompy.extractors as extractors; reload(extractors)\n",
    "\n",
    "constrs_sdp = get_constraint_polynomials(moments_y, moments_x, deg_x, deg_b)\n",
    "M = MomentMatrix(3, R.symbols, morder='grevlex')\n",
    "solsdp = solvers.solve_generalized_mom(M, constrs_sdp, None)\n",
    "#sol = solvers.solve_moments_with_convexiterations(M, constrs, 3)\n",
    "display(model.betas)\n",
    "display(extractors.extract_solutions_lasserre(M, solsdp['x'], Kmax=2))\n",
    "\n",
    "display(extractors.extract_solutions_dreesen_proto(M, solsdp['x'], Kmax=2))\n",
    "sol = extractors.extract_solutions_dreesen_proto(M, solsdp['x'], Kmax=2)\n",
    "ws_rec = array([solsdp[sp.symbols('w0')], solsdp[sp.symbols('w1')]])"
   ]
  },
  {
   "cell_type": "code",
   "execution_count": 87,
   "metadata": {
    "collapsed": false,
    "scrolled": true
   },
   "outputs": [
    {
     "data": {
      "image/png": "[encoded data removed]",
      "text/latex": [
       "$$0$$"
      ],
      "text/plain": [
       "0"
      ]
     },
     "metadata": {},
     "output_type": "display_data"
    },
    {
     "data": {
      "text/plain": [
       "'vs'"
      ]
     },
     "metadata": {},
     "output_type": "display_data"
    },
    {
     "data": {
      "image/png": "[encoded data removed]",
      "text/latex": [
       "$$0.00837320526807544 w_{0} - 0.00761726727633065 w_{1} + 0.00427267386808121$$"
      ],
      "text/plain": [
       "0.00837320526807544⋅w₀ - 0.00761726727633065⋅w₁ + 0.00427267386808121"
      ]
     },
     "metadata": {},
     "output_type": "display_data"
    },
    {
     "data": {
      "image/png": "[encoded data removed]",
      "text/latex": [
       "$$1.0 w_{1} - 0.7$$"
      ],
      "text/plain": [
       "1.0⋅w₁ - 0.7"
      ]
     },
     "metadata": {},
     "output_type": "display_data"
    },
    {
     "data": {
      "text/plain": [
       "'vs'"
      ]
     },
     "metadata": {},
     "output_type": "display_data"
    },
    {
     "data": {
      "image/png": "[encoded data removed]",
      "text/latex": [
       "$$0.00523726749990681 w_{0} + 0.998313893882958 w_{1} - 0.701552632676466$$"
      ],
      "text/plain": [
       "0.00523726749990681⋅w₀ + 0.998313893882958⋅w₁ - 0.701552632676466"
      ]
     },
     "metadata": {},
     "output_type": "display_data"
    },
    {
     "data": {
      "image/png": "[encoded data removed]",
      "text/latex": [
       "$$0$$"
      ],
      "text/plain": [
       "0"
      ]
     },
     "metadata": {},
     "output_type": "display_data"
    },
    {
     "data": {
      "text/plain": [
       "'vs'"
      ]
     },
     "metadata": {},
     "output_type": "display_data"
    },
    {
     "data": {
      "image/png": "[encoded data removed]",
      "text/latex": [
       "$$- 0.000385986347140642 w_{0} - 0.00169467964658891 w_{1} + 0.00249024042535506$$"
      ],
      "text/plain": [
       "-0.000385986347140642⋅w₀ - 0.00169467964658891⋅w₁ + 0.00249024042535506"
      ]
     },
     "metadata": {},
     "output_type": "display_data"
    },
    {
     "data": {
      "image/png": "[encoded data removed]",
      "text/latex": [
       "$$1.0 w_{0} - 0.45$$"
      ],
      "text/plain": [
       "1.0⋅w₀ - 0.45"
      ]
     },
     "metadata": {},
     "output_type": "display_data"
    },
    {
     "data": {
      "text/plain": [
       "'vs'"
      ]
     },
     "metadata": {},
     "output_type": "display_data"
    },
    {
     "data": {
      "image/png": "[encoded data removed]",
      "text/latex": [
       "$$0.998313893882958 w_{0} + 0.00848989655888629 w_{1} - 0.455569857356178$$"
      ],
      "text/plain": [
       "0.998313893882958⋅w₀ + 0.00848989655888629⋅w₁ - 0.455569857356178"
      ]
     },
     "metadata": {},
     "output_type": "display_data"
    },
    {
     "data": {
      "image/png": "[encoded data removed]",
      "text/latex": [
       "$$0$$"
      ],
      "text/plain": [
       "0"
      ]
     },
     "metadata": {},
     "output_type": "display_data"
    },
    {
     "data": {
      "text/plain": [
       "'vs'"
      ]
     },
     "metadata": {},
     "output_type": "display_data"
    },
    {
     "data": {
      "image/png": "[encoded data removed]",
      "text/latex": [
       "$$- 0.00169467964658891 w_{0} + 0.00182720817514257 w_{1} - 0.00110603679134189$$"
      ],
      "text/plain": [
       "-0.00169467964658891⋅w₀ + 0.00182720817514257⋅w₁ - 0.00110603679134189"
      ]
     },
     "metadata": {},
     "output_type": "display_data"
    },
    {
     "data": {
      "image/png": "[encoded data removed]",
      "text/latex": [
       "$$1.0 w_{0} - 0.45$$"
      ],
      "text/plain": [
       "1.0⋅w₀ - 0.45"
      ]
     },
     "metadata": {},
     "output_type": "display_data"
    },
    {
     "data": {
      "text/plain": [
       "'vs'"
      ]
     },
     "metadata": {},
     "output_type": "display_data"
    },
    {
     "data": {
      "image/png": "[encoded data removed]",
      "text/latex": [
       "$$0.999251966490509 w_{0} + 0.00208731044552523 w_{1} - 0.451060230538385$$"
      ],
      "text/plain": [
       "0.999251966490509⋅w₀ + 0.00208731044552523⋅w₁ - 0.451060230538385"
      ]
     },
     "metadata": {},
     "output_type": "display_data"
    },
    {
     "data": {
      "image/png": "[encoded data removed]",
      "text/latex": [
       "$$0$$"
      ],
      "text/plain": [
       "0"
      ]
     },
     "metadata": {},
     "output_type": "display_data"
    },
    {
     "data": {
      "text/plain": [
       "'vs'"
      ]
     },
     "metadata": {},
     "output_type": "display_data"
    },
    {
     "data": {
      "image/png": "[encoded data removed]",
      "text/latex": [
       "$$0.00182720817514257 w_{0} - 0.000744597332358164 w_{1} + 0.00152134854724445$$"
      ],
      "text/plain": [
       "0.00182720817514257⋅w₀ - 0.000744597332358164⋅w₁ + 0.00152134854724445"
      ]
     },
     "metadata": {},
     "output_type": "display_data"
    },
    {
     "data": {
      "image/png": "[encoded data removed]",
      "text/latex": [
       "$$1.0 w_{1} - 0.7$$"
      ],
      "text/plain": [
       "1.0⋅w₁ - 0.7"
      ]
     },
     "metadata": {},
     "output_type": "display_data"
    },
    {
     "data": {
      "text/plain": [
       "'vs'"
      ]
     },
     "metadata": {},
     "output_type": "display_data"
    },
    {
     "data": {
      "image/png": "[encoded data removed]",
      "text/latex": [
       "$$0.00208731044552523 w_{0} + 0.997979398580644 w_{1} - 0.699687873975993$$"
      ],
      "text/plain": [
       "0.00208731044552523⋅w₀ + 0.997979398580644⋅w₁ - 0.699687873975993"
      ]
     },
     "metadata": {},
     "output_type": "display_data"
    },
    {
     "data": {
      "image/png": "[encoded data removed]",
      "text/latex": [
       "$$0$$"
      ],
      "text/plain": [
       "0"
      ]
     },
     "metadata": {},
     "output_type": "display_data"
    },
    {
     "data": {
      "text/plain": [
       "'vs'"
      ]
     },
     "metadata": {},
     "output_type": "display_data"
    },
    {
     "data": {
      "image/png": "[encoded data removed]",
      "text/latex": [
       "$$- 0.000520558268296716 w_{0} - 0.000577937113767022 w_{1} + 0.000926574266921073$$"
      ],
      "text/plain": [
       "-0.000520558268296716⋅w₀ - 0.000577937113767022⋅w₁ + 0.000926574266921073"
      ]
     },
     "metadata": {},
     "output_type": "display_data"
    },
    {
     "data": {
      "image/png": "[encoded data removed]",
      "text/latex": [
       "$$3.0 w_{0}^{2} + 3.0 w_{1}^{2} - 2.4375$$"
      ],
      "text/plain": [
       "      2         2         \n",
       "3.0⋅w₀  + 3.0⋅w₁  - 2.4375"
      ]
     },
     "metadata": {},
     "output_type": "display_data"
    },
    {
     "data": {
      "text/plain": [
       "'vs'"
      ]
     },
     "metadata": {},
     "output_type": "display_data"
    },
    {
     "data": {
      "image/png": "[encoded data removed]",
      "text/latex": [
       "$$2.98543628451107 w_{0}^{2} + 0.0166885375329179 w_{0} w_{1} + 2.97441421644086 w_{1}^{2} - 2.43181935582898$$"
      ],
      "text/plain": [
       "                   2                                                 2        \n",
       "2.98543628451107⋅w₀  + 0.0166885375329179⋅w₀⋅w₁ + 2.97441421644086⋅w₁  - 2.431\n",
       "\n",
       "           \n",
       "81935582898"
      ]
     },
     "metadata": {},
     "output_type": "display_data"
    },
    {
     "data": {
      "image/png": "[encoded data removed]",
      "text/latex": [
       "$$0$$"
      ],
      "text/plain": [
       "0"
      ]
     },
     "metadata": {},
     "output_type": "display_data"
    },
    {
     "data": {
      "text/plain": [
       "'vs'"
      ]
     },
     "metadata": {},
     "output_type": "display_data"
    },
    {
     "data": {
      "image/png": "[encoded data removed]",
      "text/latex": [
       "$$- 0.0106674743555677 w_{0}^{2} + 0.00837320526807544 w_{0} w_{1} - 0.00761726727633065 w_{1}^{2} + 0.00517903241824247$$"
      ],
      "text/plain": [
       "                       2                                                     2\n",
       "- 0.0106674743555677⋅w₀  + 0.00837320526807544⋅w₀⋅w₁ - 0.00761726727633065⋅w₁ \n",
       "\n",
       "                      \n",
       " + 0.00517903241824247"
      ]
     },
     "metadata": {},
     "output_type": "display_data"
    },
    {
     "data": {
      "image/png": "[encoded data removed]",
      "text/latex": [
       "$$3.0 w_{0}^{2} + 1.0 w_{1}^{2} - 1.3375$$"
      ],
      "text/plain": [
       "      2         2         \n",
       "3.0⋅w₀  + 1.0⋅w₁  - 1.3375"
      ]
     },
     "metadata": {},
     "output_type": "display_data"
    },
    {
     "data": {
      "text/plain": [
       "'vs'"
      ]
     },
     "metadata": {},
     "output_type": "display_data"
    },
    {
     "data": {
      "image/png": "[encoded data removed]",
      "text/latex": [
       "$$2.9889757244774 w_{0}^{2} + 0.00523726749990681 w_{0} w_{1} + 0.998313893882958 w_{1}^{2} - 1.33670091758982$$"
      ],
      "text/plain": [
       "                  2                                                   2       \n",
       "2.9889757244774⋅w₀  + 0.00523726749990681⋅w₀⋅w₁ + 0.998313893882958⋅w₁  - 1.33\n",
       "\n",
       "            \n",
       "670091758982"
      ]
     },
     "metadata": {},
     "output_type": "display_data"
    },
    {
     "data": {
      "image/png": "[encoded data removed]",
      "text/latex": [
       "$$0$$"
      ],
      "text/plain": [
       "0"
      ]
     },
     "metadata": {},
     "output_type": "display_data"
    },
    {
     "data": {
      "text/plain": [
       "'vs'"
      ]
     },
     "metadata": {},
     "output_type": "display_data"
    },
    {
     "data": {
      "image/png": "[encoded data removed]",
      "text/latex": [
       "$$0.00837320526807544 w_{0}^{2} - 0.00761726727633065 w_{0} w_{1} + 0.0187432128067976 w_{1}^{2} - 0.012579608987689$$"
      ],
      "text/plain": [
       "                      2                                                    2  \n",
       "0.00837320526807544⋅w₀  - 0.00761726727633065⋅w₀⋅w₁ + 0.0187432128067976⋅w₁  -\n",
       "\n",
       "                  \n",
       " 0.012579608987689"
      ]
     },
     "metadata": {},
     "output_type": "display_data"
    },
    {
     "data": {
      "image/png": "[encoded data removed]",
      "text/latex": [
       "$$1.0 w_{0} w_{1} - 0.255$$"
      ],
      "text/plain": [
       "1.0⋅w₀⋅w₁ - 0.255"
      ]
     },
     "metadata": {},
     "output_type": "display_data"
    },
    {
     "data": {
      "text/plain": [
       "'vs'"
      ]
     },
     "metadata": {},
     "output_type": "display_data"
    },
    {
     "data": {
      "image/png": "[encoded data removed]",
      "text/latex": [
       "$$0.00523726749990681 w_{0}^{2} + 0.998313893882958 w_{0} w_{1} + 0.00848989655888629 w_{1}^{2} - 0.516061829062774$$"
      ],
      "text/plain": [
       "                      2                                                   2   \n",
       "0.00523726749990681⋅w₀  + 0.998313893882958⋅w₀⋅w₁ + 0.00848989655888629⋅w₁  - \n",
       "\n",
       "                 \n",
       "0.516061829062774"
      ]
     },
     "metadata": {},
     "output_type": "display_data"
    },
    {
     "data": {
      "image/png": "[encoded data removed]",
      "text/latex": [
       "$$0$$"
      ],
      "text/plain": [
       "0"
      ]
     },
     "metadata": {},
     "output_type": "display_data"
    },
    {
     "data": {
      "text/plain": [
       "'vs'"
      ]
     },
     "metadata": {},
     "output_type": "display_data"
    },
    {
     "data": {
      "image/png": "[encoded data removed]",
      "text/latex": [
       "$$- 0.000385986347140642 w_{0}^{2} - 0.00169467964658891 w_{0} w_{1} + 0.00182720817514257 w_{1}^{2} + 0.000324438373466653$$"
      ],
      "text/plain": [
       "                         2                                                    \n",
       "- 0.000385986347140642⋅w₀  - 0.00169467964658891⋅w₀⋅w₁ + 0.00182720817514257⋅w\n",
       "\n",
       " 2                       \n",
       "₁  + 0.000324438373466653"
      ]
     },
     "metadata": {},
     "output_type": "display_data"
    },
    {
     "data": {
      "image/png": "[encoded data removed]",
      "text/latex": [
       "$$1.0 w_{0}^{2} + 3.0 w_{1}^{2} - 1.9125$$"
      ],
      "text/plain": [
       "      2         2         \n",
       "1.0⋅w₀  + 3.0⋅w₁  - 1.9125"
      ]
     },
     "metadata": {},
     "output_type": "display_data"
    },
    {
     "data": {
      "text/plain": [
       "'vs'"
      ]
     },
     "metadata": {},
     "output_type": "display_data"
    },
    {
     "data": {
      "image/png": "[encoded data removed]",
      "text/latex": [
       "$$0.998313893882958 w_{0}^{2} + 0.00848989655888629 w_{0} w_{1} + 2.98538273869412 w_{1}^{2} - 1.90933297561843$$"
      ],
      "text/plain": [
       "                    2                                                  2      \n",
       "0.998313893882958⋅w₀  + 0.00848989655888629⋅w₀⋅w₁ + 2.98538273869412⋅w₁  - 1.9\n",
       "\n",
       "             \n",
       "0933297561843"
      ]
     },
     "metadata": {},
     "output_type": "display_data"
    },
    {
     "data": {
      "image/png": "[encoded data removed]",
      "text/latex": [
       "$$0$$"
      ],
      "text/plain": [
       "0"
      ]
     },
     "metadata": {},
     "output_type": "display_data"
    },
    {
     "data": {
      "text/plain": [
       "'vs'"
      ]
     },
     "metadata": {},
     "output_type": "display_data"
    },
    {
     "data": {
      "image/png": "[encoded data removed]",
      "text/latex": [
       "$$- 0.00169467964658891 w_{0}^{2} + 0.00182720817514257 w_{0} w_{1} - 0.000744597332358164 w_{1}^{2} + 0.00170199518242702$$"
      ],
      "text/plain": [
       "                        2                                                     \n",
       "- 0.00169467964658891⋅w₀  + 0.00182720817514257⋅w₀⋅w₁ - 0.000744597332358164⋅w\n",
       "\n",
       " 2                      \n",
       "₁  + 0.00170199518242702"
      ]
     },
     "metadata": {},
     "output_type": "display_data"
    },
    {
     "data": {
      "image/png": "[encoded data removed]",
      "text/latex": [
       "$$1.0 w_{0}^{2} + 1.0 w_{1}^{2} - 0.8125$$"
      ],
      "text/plain": [
       "      2         2         \n",
       "1.0⋅w₀  + 1.0⋅w₁  - 0.8125"
      ]
     },
     "metadata": {},
     "output_type": "display_data"
    },
    {
     "data": {
      "text/plain": [
       "'vs'"
      ]
     },
     "metadata": {},
     "output_type": "display_data"
    },
    {
     "data": {
      "image/png": "[encoded data removed]",
      "text/latex": [
       "$$0.999251966490509 w_{0}^{2} + 0.00208731044552523 w_{0} w_{1} + 0.997979398580644 w_{1}^{2} - 0.81240447390589$$"
      ],
      "text/plain": [
       "                    2                                                   2     \n",
       "0.999251966490509⋅w₀  + 0.00208731044552523⋅w₀⋅w₁ + 0.997979398580644⋅w₁  - 0.\n",
       "\n",
       "              \n",
       "81240447390589"
      ]
     },
     "metadata": {},
     "output_type": "display_data"
    }
   ],
   "source": [
    "for c1, c2 in zip(constrs,constrs_sdp):\n",
    "    display(c1,\"vs\", c2)"
   ]
  },
  {
   "cell_type": "code",
   "execution_count": 14,
   "metadata": {
    "collapsed": false
   },
   "outputs": [
    {
     "data": {
      "image/png": "[encoded data removed]",
      "text/latex": [
       "$$4$$"
      ],
      "text/plain": [
       "4"
      ]
     },
     "execution_count": 14,
     "metadata": {},
     "output_type": "execute_result"
    }
   ],
   "source": [
    "import scipy as sc\n",
    "import numpy.linalg\n",
    "np.linalg.matrix_rank((M.numeric_instance(solsdp['x'])), 1e-2)"
   ]
  },
  {
   "cell_type": "code",
   "execution_count": 15,
   "metadata": {
    "collapsed": false
   },
   "outputs": [
    {
     "data": {
      "image/png": "[encoded data removed]",
      "text/latex": [
       "$$\\left [ 1, \\quad w_{0}, \\quad w_{1}, \\quad w_{0}^{2}, \\quad w_{0} w_{1}, \\quad w_{1}^{2}, \\quad w_{0}^{3}, \\quad w_{0}^{2} w_{1}, \\quad w_{0} w_{1}^{2}, \\quad w_{1}^{3}\\right ]$$"
      ],
      "text/plain": [
       "⎡             2           2    3    2          2    3⎤\n",
       "⎣1, w₀, w₁, w₀ , w₀⋅w₁, w₁ , w₀ , w₀ ⋅w₁, w₀⋅w₁ , w₁ ⎦"
      ]
     },
     "execution_count": 15,
     "metadata": {},
     "output_type": "execute_result"
    }
   ],
   "source": [
    "M.row_monos"
   ]
  },
  {
   "cell_type": "code",
   "execution_count": 16,
   "metadata": {
    "collapsed": false
   },
   "outputs": [
    {
     "data": {
      "text/plain": [
       "array([[   1.   ,    0.487,    0.666,    0.369,    0.458,    0.596,\n",
       "           0.187,    0.365,    0.496,    0.462],\n",
       "       [   0.487,    0.369,    0.458,    0.187,    0.365,    0.496,\n",
       "           2.651,    1.46 ,    1.029,    1.094],\n",
       "       [   0.666,    0.458,    0.596,    0.365,    0.496,    0.462,\n",
       "           1.46 ,    1.029,    1.094,    4.054],\n",
       "       [   0.369,    0.187,    0.365,    2.651,    1.46 ,    1.029,\n",
       "         -28.06 ,  -11.55 ,   -4.446,   -1.487],\n",
       "       [   0.458,    0.365,    0.496,    1.46 ,    1.029,    1.094,\n",
       "         -11.55 ,   -4.446,   -1.487,   -2.854],\n",
       "       [   0.596,    0.496,    0.462,    1.029,    1.094,    4.054,\n",
       "          -4.446,   -1.487,   -2.854,  -49.636],\n",
       "       [   0.187,    2.651,    1.46 ,  -28.06 ,  -11.55 ,   -4.446,\n",
       "         367.748,  157.181,   67.581,   29.682],\n",
       "       [   0.365,    1.46 ,    1.029,  -11.55 ,   -4.446,   -1.487,\n",
       "         157.181,   67.581,   29.682,   16.333],\n",
       "       [   0.496,    1.029,    1.094,   -4.446,   -1.487,   -2.854,\n",
       "          67.581,   29.682,   16.333,   55.685],\n",
       "       [   0.462,    1.094,    4.054,   -1.487,   -2.854,  -49.636,\n",
       "          29.682,   16.333,   55.685,  831.009]])"
      ]
     },
     "execution_count": 16,
     "metadata": {},
     "output_type": "execute_result"
    }
   ],
   "source": [
    "M.numeric_instance(solsdp['x'])"
   ]
  },
  {
   "cell_type": "code",
   "execution_count": 17,
   "metadata": {
    "collapsed": false
   },
   "outputs": [
    {
     "data": {
      "image/png": "[encoded data removed]",
      "text/latex": [
       "$$\\left \\{ \\left ( \\left ( 0, \\quad 0\\right ), \\quad 1\\right ) : 0.00451901943462, \\quad \\left ( \\left ( 0, \\quad 0\\right ), \\quad 2\\right ) : 0.811517709049, \\quad \\left ( \\left ( 0, \\quad 0\\right ), \\quad 3\\right ) : 0.0114421934321, \\quad \\left ( \\left ( 0, \\quad 1\\right ), \\quad 1\\right ) : 0.702218415015, \\quad \\left ( \\left ( 0, \\quad 1\\right ), \\quad 2\\right ) : 0.00422496386152, \\quad \\left ( \\left ( 0, \\quad 1\\right ), \\quad 3\\right ) : 1.7613747608, \\quad \\left ( \\left ( 0, \\quad 2\\right ), \\quad 1\\right ) : 0.00525616336784, \\quad \\left ( \\left ( 0, \\quad 2\\right ), \\quad 2\\right ) : 1.91168789585, \\quad \\left ( \\left ( 0, \\quad 2\\right ), \\quad 3\\right ) : 0.0175803136913, \\quad \\left ( \\left ( 0, \\quad 3\\right ), \\quad 1\\right ) : 2.10286411281, \\quad \\left ( \\left ( 0, \\quad 3\\right ), \\quad 2\\right ) : 0.0157900633569, \\quad \\left ( \\left ( 0, \\quad 3\\right ), \\quad 3\\right ) : 8.0127410649, \\quad \\left ( \\left ( 1, \\quad 0\\right ), \\quad 1\\right ) : 0.446149743455, \\quad \\left ( \\left ( 1, \\quad 0\\right ), \\quad 2\\right ) : 0.0123737637711, \\quad \\left ( \\left ( 1, \\quad 0\\right ), \\quad 3\\right ) : 1.03728343376, \\quad \\left ( \\left ( 1, \\quad 1\\right ), \\quad 1\\right ) : 0.00182828330732, \\quad \\left ( \\left ( 1, \\quad 1\\right ), \\quad 2\\right ) : 0.513833801573, \\quad \\left ( \\left ( 1, \\quad 1\\right ), \\quad 3\\right ) : 0.0191942300324, \\quad \\left ( \\left ( 1, \\quad 2\\right ), \\quad 1\\right ) : 0.451372082598, \\quad \\left ( \\left ( 1, \\quad 2\\right ), \\quad 2\\right ) : 0.012337365119, \\quad \\left ( \\left ( 1, \\quad 2\\right ), \\quad 3\\right ) : 2.09672124431, \\quad \\left ( \\left ( 1, \\quad 3\\right ), \\quad 1\\right ) : 0.00647830361471, \\quad \\left ( \\left ( 1, \\quad 3\\right ), \\quad 2\\right ) : 1.58298956039, \\quad \\left ( \\left ( 1, \\quad 3\\right ), \\quad 3\\right ) : 0.03779554291, \\quad \\left ( \\left ( 2, \\quad 0\\right ), \\quad 1\\right ) : 0.0166127199113, \\quad \\left ( \\left ( 2, \\quad 0\\right ), \\quad 2\\right ) : 1.32038777316, \\quad \\left ( \\left ( 2, \\quad 0\\right ), \\quad 3\\right ) : 0.06938263465, \\quad \\left ( \\left ( 2, \\quad 1\\right ), \\quad 1\\right ) : 0.697647257396, \\quad \\left ( \\left ( 2, \\quad 1\\right ), \\quad 2\\right ) : 0.0165685995382, \\quad \\left ( \\left ( 2, \\quad 1\\right ), \\quad 3\\right ) : 2.47792197178, \\quad \\left ( \\left ( 2, \\quad 2\\right ), \\quad 1\\right ) : 0.00949550903369, \\quad \\left ( \\left ( 2, \\quad 2\\right ), \\quad 2\\right ) : 2.40868222922, \\quad \\left ( \\left ( 2, \\quad 2\\right ), \\quad 3\\right ) : 0.0725139888092, \\quad \\left ( \\left ( 2, \\quad 3\\right ), \\quad 1\\right ) : 2.07776430005, \\quad \\left ( \\left ( 2, \\quad 3\\right ), \\quad 2\\right ) : 0.0180714523288, \\quad \\left ( \\left ( 2, \\quad 3\\right ), \\quad 3\\right ) : 10.0993665399, \\quad \\left ( \\left ( 3, \\quad 0\\right ), \\quad 1\\right ) : 1.3222277719, \\quad \\left ( \\left ( 3, \\quad 0\\right ), \\quad 2\\right ) : 0.0857438444918, \\quad \\left ( \\left ( 3, \\quad 0\\right ), \\quad 3\\right ) : 4.10226064511, \\quad \\left ( \\left ( 3, \\quad 1\\right ), \\quad 1\\right ) : 0.0198492552434, \\quad \\left ( \\left ( 3, \\quad 1\\right ), \\quad 2\\right ) : 1.51518286792, \\quad \\left ( \\left ( 3, \\quad 1\\right ), \\quad 3\\right ) : 0.189846994176, \\quad \\left ( \\left ( 3, \\quad 2\\right ), \\quad 1\\right ) : 1.33506740355, \\quad \\left ( \\left ( 3, \\quad 2\\right ), \\quad 2\\right ) : 0.120826923125, \\quad \\left ( \\left ( 3, \\quad 2\\right ), \\quad 3\\right ) : 7.22293995979, \\quad \\left ( \\left ( 3, \\quad 3\\right ), \\quad 1\\right ) : 0.0782138304599, \\quad \\left ( \\left ( 3, \\quad 3\\right ), \\quad 2\\right ) : 4.66359453898, \\quad \\left ( \\left ( 3, \\quad 3\\right ), \\quad 3\\right ) : 0.631695932578\\right \\}$$"
      ],
      "text/plain": [
       "{((0, 0), 1): 0.00451901943462, ((0, 0), 2): 0.811517709049, ((0, 0), 3): 0.01\n",
       "14421934321, ((0, 1), 1): 0.702218415015, ((0, 1), 2): 0.00422496386152, ((0, \n",
       "1), 3): 1.7613747608, ((0, 2), 1): 0.00525616336784, ((0, 2), 2): 1.9116878958\n",
       "5, ((0, 2), 3): 0.0175803136913, ((0, 3), 1): 2.10286411281, ((0, 3), 2): 0.01\n",
       "57900633569, ((0, 3), 3): 8.0127410649, ((1, 0), 1): 0.446149743455, ((1, 0), \n",
       "2): 0.0123737637711, ((1, 0), 3): 1.03728343376, ((1, 1), 1): 0.00182828330732\n",
       ", ((1, 1), 2): 0.513833801573, ((1, 1), 3): 0.0191942300324, ((1, 2), 1): 0.45\n",
       "1372082598, ((1, 2), 2): 0.012337365119, ((1, 2), 3): 2.09672124431, ((1, 3), \n",
       "1): 0.00647830361471, ((1, 3), 2): 1.58298956039, ((1, 3), 3): 0.03779554291, \n",
       "((2, 0), 1): 0.0166127199113, ((2, 0), 2): 1.32038777316, ((2, 0), 3): 0.06938\n",
       "263465, ((2, 1), 1): 0.697647257396, ((2, 1), 2): 0.0165685995382, ((2, 1), 3)\n",
       ": 2.47792197178, ((2, 2), 1): 0.00949550903369, ((2, 2), 2): 2.40868222922, ((\n",
       "2, 2), 3): 0.0725139888092, ((2, 3), 1): 2.07776430005, ((2, 3), 2): 0.0180714\n",
       "523288, ((2, 3), 3): 10.0993665399, ((3, 0), 1): 1.3222277719, ((3, 0), 2): 0.\n",
       "0857438444918, ((3, 0), 3): 4.10226064511, ((3, 1), 1): 0.0198492552434, ((3, \n",
       "1), 2): 1.51518286792, ((3, 1), 3): 0.189846994176, ((3, 2), 1): 1.33506740355\n",
       ", ((3, 2), 2): 0.120826923125, ((3, 2), 3): 7.22293995979, ((3, 3), 1): 0.0782\n",
       "138304599, ((3, 3), 2): 4.66359453898, ((3, 3), 3): 0.631695932578}"
      ]
     },
     "execution_count": 17,
     "metadata": {},
     "output_type": "execute_result"
    }
   ],
   "source": [
    "moments_y"
   ]
  },
  {
   "cell_type": "code",
   "execution_count": 18,
   "metadata": {
    "collapsed": true
   },
   "outputs": [],
   "source": [
    "moments_x_true = expected_gaussian_moments(sigma, alphas_)\n",
    "moments_y_true = expected_moments_y(ws, pis, moments_x, alphabs)"
   ]
  },
  {
   "cell_type": "code",
   "execution_count": 19,
   "metadata": {
    "collapsed": false
   },
   "outputs": [
    {
     "data": {
      "image/png": "[encoded data removed]",
      "text/latex": [
       "$$\\left ( \\left ( 1, \\quad 2\\right ), \\quad 1\\right )$$"
      ],
      "text/plain": [
       "((1, 2), 1)"
      ]
     },
     "metadata": {},
     "output_type": "display_data"
    },
    {
     "data": {
      "image/png": "[encoded data removed]",
      "text/latex": [
       "$$0.000294238823094$$"
      ],
      "text/plain": [
       "0.000294238823094"
      ]
     },
     "metadata": {},
     "output_type": "display_data"
    },
    {
     "data": {
      "image/png": "[encoded data removed]",
      "text/latex": [
       "$$\\left ( \\left ( 0, \\quad 0\\right ), \\quad 2\\right )$$"
      ],
      "text/plain": [
       "((0, 0), 2)"
      ]
     },
     "metadata": {},
     "output_type": "display_data"
    },
    {
     "data": {
      "image/png": "[encoded data removed]",
      "text/latex": [
       "$$0.00012455518025$$"
      ],
      "text/plain": [
       "0.00012455518025"
      ]
     },
     "metadata": {},
     "output_type": "display_data"
    },
    {
     "data": {
      "image/png": "[encoded data removed]",
      "text/latex": [
       "$$\\left ( \\left ( 2, \\quad 3\\right ), \\quad 1\\right )$$"
      ],
      "text/plain": [
       "((2, 3), 1)"
      ]
     },
     "metadata": {},
     "output_type": "display_data"
    },
    {
     "data": {
      "image/png": "[encoded data removed]",
      "text/latex": [
       "$$0.00280625458218$$"
      ],
      "text/plain": [
       "0.00280625458218"
      ]
     },
     "metadata": {},
     "output_type": "display_data"
    },
    {
     "data": {
      "image/png": "[encoded data removed]",
      "text/latex": [
       "$$\\left ( \\left ( 0, \\quad 3\\right ), \\quad 2\\right )$$"
      ],
      "text/plain": [
       "((0, 3), 2)"
      ]
     },
     "metadata": {},
     "output_type": "display_data"
    },
    {
     "data": {
      "image/png": "[encoded data removed]",
      "text/latex": [
       "$$0.0239165803801$$"
      ],
      "text/plain": [
       "0.0239165803801"
      ]
     },
     "metadata": {},
     "output_type": "display_data"
    },
    {
     "data": {
      "image/png": "[encoded data removed]",
      "text/latex": [
       "$$\\left ( \\left ( 2, \\quad 0\\right ), \\quad 2\\right )$$"
      ],
      "text/plain": [
       "((2, 0), 2)"
      ]
     },
     "metadata": {},
     "output_type": "display_data"
    },
    {
     "data": {
      "image/png": "[encoded data removed]",
      "text/latex": [
       "$$0.000986244981907$$"
      ],
      "text/plain": [
       "0.000986244981907"
      ]
     },
     "metadata": {},
     "output_type": "display_data"
    },
    {
     "data": {
      "image/png": "[encoded data removed]",
      "text/latex": [
       "$$\\left ( \\left ( 1, \\quad 1\\right ), \\quad 1\\right )$$"
      ],
      "text/plain": [
       "((1, 1), 1)"
      ]
     },
     "metadata": {},
     "output_type": "display_data"
    },
    {
     "data": {
      "image/png": "[encoded data removed]",
      "text/latex": [
       "$$0.000227925209933$$"
      ],
      "text/plain": [
       "0.000227925209933"
      ]
     },
     "metadata": {},
     "output_type": "display_data"
    },
    {
     "data": {
      "image/png": "[encoded data removed]",
      "text/latex": [
       "$$\\left ( \\left ( 3, \\quad 1\\right ), \\quad 1\\right )$$"
      ],
      "text/plain": [
       "((3, 1), 1)"
      ]
     },
     "metadata": {},
     "output_type": "display_data"
    },
    {
     "data": {
      "image/png": "[encoded data removed]",
      "text/latex": [
       "$$0.00367700515792$$"
      ],
      "text/plain": [
       "0.00367700515792"
      ]
     },
     "metadata": {},
     "output_type": "display_data"
    },
    {
     "data": {
      "image/png": "[encoded data removed]",
      "text/latex": [
       "$$\\left ( \\left ( 3, \\quad 2\\right ), \\quad 3\\right )$$"
      ],
      "text/plain": [
       "((3, 2), 3)"
      ]
     },
     "metadata": {},
     "output_type": "display_data"
    },
    {
     "data": {
      "image/png": "[encoded data removed]",
      "text/latex": [
       "$$3.00869830708$$"
      ],
      "text/plain": [
       "3.00869830708"
      ]
     },
     "metadata": {},
     "output_type": "display_data"
    },
    {
     "data": {
      "image/png": "[encoded data removed]",
      "text/latex": [
       "$$\\left ( \\left ( 0, \\quad 2\\right ), \\quad 3\\right )$$"
      ],
      "text/plain": [
       "((0, 2), 3)"
      ]
     },
     "metadata": {},
     "output_type": "display_data"
    },
    {
     "data": {
      "image/png": "[encoded data removed]",
      "text/latex": [
       "$$0.0161146546042$$"
      ],
      "text/plain": [
       "0.0161146546042"
      ]
     },
     "metadata": {},
     "output_type": "display_data"
    },
    {
     "data": {
      "image/png": "[encoded data removed]",
      "text/latex": [
       "$$\\left ( \\left ( 3, \\quad 3\\right ), \\quad 2\\right )$$"
      ],
      "text/plain": [
       "((3, 3), 2)"
      ]
     },
     "metadata": {},
     "output_type": "display_data"
    },
    {
     "data": {
      "image/png": "[encoded data removed]",
      "text/latex": [
       "$$2.26135242179$$"
      ],
      "text/plain": [
       "2.26135242179"
      ]
     },
     "metadata": {},
     "output_type": "display_data"
    },
    {
     "data": {
      "image/png": "[encoded data removed]",
      "text/latex": [
       "$$\\left ( \\left ( 1, \\quad 2\\right ), \\quad 2\\right )$$"
      ],
      "text/plain": [
       "((1, 2), 2)"
      ]
     },
     "metadata": {},
     "output_type": "display_data"
    },
    {
     "data": {
      "image/png": "[encoded data removed]",
      "text/latex": [
       "$$0.0129574068477$$"
      ],
      "text/plain": [
       "0.0129574068477"
      ]
     },
     "metadata": {},
     "output_type": "display_data"
    },
    {
     "data": {
      "image/png": "[encoded data removed]",
      "text/latex": [
       "$$\\left ( \\left ( 1, \\quad 3\\right ), \\quad 3\\right )$$"
      ],
      "text/plain": [
       "((1, 3), 3)"
      ]
     },
     "metadata": {},
     "output_type": "display_data"
    },
    {
     "data": {
      "image/png": "[encoded data removed]",
      "text/latex": [
       "$$0.0502431448807$$"
      ],
      "text/plain": [
       "0.0502431448807"
      ]
     },
     "metadata": {},
     "output_type": "display_data"
    },
    {
     "data": {
      "image/png": "[encoded data removed]",
      "text/latex": [
       "$$\\left ( \\left ( 1, \\quad 0\\right ), \\quad 1\\right )$$"
      ],
      "text/plain": [
       "((1, 0), 1)"
      ]
     },
     "metadata": {},
     "output_type": "display_data"
    },
    {
     "data": {
      "image/png": "[encoded data removed]",
      "text/latex": [
       "$$0.00182729628052$$"
      ],
      "text/plain": [
       "0.00182729628052"
      ]
     },
     "metadata": {},
     "output_type": "display_data"
    },
    {
     "data": {
      "image/png": "[encoded data removed]",
      "text/latex": [
       "$$\\left ( \\left ( 3, \\quad 0\\right ), \\quad 1\\right )$$"
      ],
      "text/plain": [
       "((3, 0), 1)"
      ]
     },
     "metadata": {},
     "output_type": "display_data"
    },
    {
     "data": {
      "image/png": "[encoded data removed]",
      "text/latex": [
       "$$0.00680029483645$$"
      ],
      "text/plain": [
       "0.00680029483645"
      ]
     },
     "metadata": {},
     "output_type": "display_data"
    },
    {
     "data": {
      "image/png": "[encoded data removed]",
      "text/latex": [
       "$$\\left ( \\left ( 2, \\quad 3\\right ), \\quad 2\\right )$$"
      ],
      "text/plain": [
       "((2, 3), 2)"
      ]
     },
     "metadata": {},
     "output_type": "display_data"
    },
    {
     "data": {
      "image/png": "[encoded data removed]",
      "text/latex": [
       "$$0.00669829515013$$"
      ],
      "text/plain": [
       "0.00669829515013"
      ]
     },
     "metadata": {},
     "output_type": "display_data"
    },
    {
     "data": {
      "image/png": "[encoded data removed]",
      "text/latex": [
       "$$\\left ( \\left ( 0, \\quad 0\\right ), \\quad 1\\right )$$"
      ],
      "text/plain": [
       "((0, 0), 1)"
      ]
     },
     "metadata": {},
     "output_type": "display_data"
    },
    {
     "data": {
      "image/png": "[encoded data removed]",
      "text/latex": [
       "$$0.000706641533225$$"
      ],
      "text/plain": [
       "0.000706641533225"
      ]
     },
     "metadata": {},
     "output_type": "display_data"
    },
    {
     "data": {
      "image/png": "[encoded data removed]",
      "text/latex": [
       "$$\\left ( \\left ( 0, \\quad 3\\right ), \\quad 3\\right )$$"
      ],
      "text/plain": [
       "((0, 3), 3)"
      ]
     },
     "metadata": {},
     "output_type": "display_data"
    },
    {
     "data": {
      "image/png": "[encoded data removed]",
      "text/latex": [
       "$$0.716745647124$$"
      ],
      "text/plain": [
       "0.716745647124"
      ]
     },
     "metadata": {},
     "output_type": "display_data"
    },
    {
     "data": {
      "image/png": "[encoded data removed]",
      "text/latex": [
       "$$\\left ( \\left ( 2, \\quad 0\\right ), \\quad 1\\right )$$"
      ],
      "text/plain": [
       "((2, 0), 1)"
      ]
     },
     "metadata": {},
     "output_type": "display_data"
    },
    {
     "data": {
      "image/png": "[encoded data removed]",
      "text/latex": [
       "$$0.00731719924924$$"
      ],
      "text/plain": [
       "0.00731719924924"
      ]
     },
     "metadata": {},
     "output_type": "display_data"
    },
    {
     "data": {
      "image/png": "[encoded data removed]",
      "text/latex": [
       "$$\\left ( \\left ( 2, \\quad 2\\right ), \\quad 3\\right )$$"
      ],
      "text/plain": [
       "((2, 2), 3)"
      ]
     },
     "metadata": {},
     "output_type": "display_data"
    },
    {
     "data": {
      "image/png": "[encoded data removed]",
      "text/latex": [
       "$$0.0498823273134$$"
      ],
      "text/plain": [
       "0.0498823273134"
      ]
     },
     "metadata": {},
     "output_type": "display_data"
    },
    {
     "data": {
      "image/png": "[encoded data removed]",
      "text/latex": [
       "$$\\left ( \\left ( 2, \\quad 1\\right ), \\quad 1\\right )$$"
      ],
      "text/plain": [
       "((2, 1), 1)"
      ]
     },
     "metadata": {},
     "output_type": "display_data"
    },
    {
     "data": {
      "image/png": "[encoded data removed]",
      "text/latex": [
       "$$0.00528981091374$$"
      ],
      "text/plain": [
       "0.00528981091374"
      ]
     },
     "metadata": {},
     "output_type": "display_data"
    },
    {
     "data": {
      "image/png": "[encoded data removed]",
      "text/latex": [
       "$$\\left ( \\left ( 0, \\quad 2\\right ), \\quad 2\\right )$$"
      ],
      "text/plain": [
       "((0, 2), 2)"
      ]
     },
     "metadata": {},
     "output_type": "display_data"
    },
    {
     "data": {
      "image/png": "[encoded data removed]",
      "text/latex": [
       "$$0.00290287445963$$"
      ],
      "text/plain": [
       "0.00290287445963"
      ]
     },
     "metadata": {},
     "output_type": "display_data"
    },
    {
     "data": {
      "image/png": "[encoded data removed]",
      "text/latex": [
       "$$\\left ( \\left ( 3, \\quad 3\\right ), \\quad 1\\right )$$"
      ],
      "text/plain": [
       "((3, 3), 1)"
      ]
     },
     "metadata": {},
     "output_type": "display_data"
    },
    {
     "data": {
      "image/png": "[encoded data removed]",
      "text/latex": [
       "$$0.0252012974024$$"
      ],
      "text/plain": [
       "0.0252012974024"
      ]
     },
     "metadata": {},
     "output_type": "display_data"
    },
    {
     "data": {
      "image/png": "[encoded data removed]",
      "text/latex": [
       "$$\\left ( \\left ( 1, \\quad 2\\right ), \\quad 3\\right )$$"
      ],
      "text/plain": [
       "((1, 2), 3)"
      ]
     },
     "metadata": {},
     "output_type": "display_data"
    },
    {
     "data": {
      "image/png": "[encoded data removed]",
      "text/latex": [
       "$$1.01624235332$$"
      ],
      "text/plain": [
       "1.01624235332"
      ]
     },
     "metadata": {},
     "output_type": "display_data"
    },
    {
     "data": {
      "image/png": "[encoded data removed]",
      "text/latex": [
       "$$\\left ( \\left ( 0, \\quad 1\\right ), \\quad 1\\right )$$"
      ],
      "text/plain": [
       "((0, 1), 1)"
      ]
     },
     "metadata": {},
     "output_type": "display_data"
    },
    {
     "data": {
      "image/png": "[encoded data removed]",
      "text/latex": [
       "$$0.00109207194595$$"
      ],
      "text/plain": [
       "0.00109207194595"
      ]
     },
     "metadata": {},
     "output_type": "display_data"
    },
    {
     "data": {
      "image/png": "[encoded data removed]",
      "text/latex": [
       "$$\\left ( \\left ( 1, \\quad 3\\right ), \\quad 2\\right )$$"
      ],
      "text/plain": [
       "((1, 3), 2)"
      ]
     },
     "metadata": {},
     "output_type": "display_data"
    },
    {
     "data": {
      "image/png": "[encoded data removed]",
      "text/latex": [
       "$$0.764588892833$$"
      ],
      "text/plain": [
       "0.764588892833"
      ]
     },
     "metadata": {},
     "output_type": "display_data"
    },
    {
     "data": {
      "image/png": "[encoded data removed]",
      "text/latex": [
       "$$\\left ( \\left ( 3, \\quad 0\\right ), \\quad 2\\right )$$"
      ],
      "text/plain": [
       "((3, 0), 2)"
      ]
     },
     "metadata": {},
     "output_type": "display_data"
    },
    {
     "data": {
      "image/png": "[encoded data removed]",
      "text/latex": [
       "$$0.0640210002228$$"
      ],
      "text/plain": [
       "0.0640210002228"
      ]
     },
     "metadata": {},
     "output_type": "display_data"
    },
    {
     "data": {
      "image/png": "[encoded data removed]",
      "text/latex": [
       "$$\\left ( \\left ( 2, \\quad 3\\right ), \\quad 3\\right )$$"
      ],
      "text/plain": [
       "((2, 3), 3)"
      ]
     },
     "metadata": {},
     "output_type": "display_data"
    },
    {
     "data": {
      "image/png": "[encoded data removed]",
      "text/latex": [
       "$$2.20607320784$$"
      ],
      "text/plain": [
       "2.20607320784"
      ]
     },
     "metadata": {},
     "output_type": "display_data"
    },
    {
     "data": {
      "image/png": "[encoded data removed]",
      "text/latex": [
       "$$\\left ( \\left ( 3, \\quad 2\\right ), \\quad 2\\right )$$"
      ],
      "text/plain": [
       "((3, 2), 2)"
      ]
     },
     "metadata": {},
     "output_type": "display_data"
    },
    {
     "data": {
      "image/png": "[encoded data removed]",
      "text/latex": [
       "$$0.0713639231103$$"
      ],
      "text/plain": [
       "0.0713639231103"
      ]
     },
     "metadata": {},
     "output_type": "display_data"
    },
    {
     "data": {
      "image/png": "[encoded data removed]",
      "text/latex": [
       "$$\\left ( \\left ( 3, \\quad 1\\right ), \\quad 3\\right )$$"
      ],
      "text/plain": [
       "((3, 1), 3)"
      ]
     },
     "metadata": {},
     "output_type": "display_data"
    },
    {
     "data": {
      "image/png": "[encoded data removed]",
      "text/latex": [
       "$$0.0922788953688$$"
      ],
      "text/plain": [
       "0.0922788953688"
      ]
     },
     "metadata": {},
     "output_type": "display_data"
    },
    {
     "data": {
      "image/png": "[encoded data removed]",
      "text/latex": [
       "$$\\left ( \\left ( 3, \\quad 2\\right ), \\quad 1\\right )$$"
      ],
      "text/plain": [
       "((3, 2), 1)"
      ]
     },
     "metadata": {},
     "output_type": "display_data"
    },
    {
     "data": {
      "image/png": "[encoded data removed]",
      "text/latex": [
       "$$0.00262357638101$$"
      ],
      "text/plain": [
       "0.00262357638101"
      ]
     },
     "metadata": {},
     "output_type": "display_data"
    },
    {
     "data": {
      "image/png": "[encoded data removed]",
      "text/latex": [
       "$$\\left ( \\left ( 1, \\quad 0\\right ), \\quad 2\\right )$$"
      ],
      "text/plain": [
       "((1, 0), 2)"
      ]
     },
     "metadata": {},
     "output_type": "display_data"
    },
    {
     "data": {
      "image/png": "[encoded data removed]",
      "text/latex": [
       "$$0.00955663769267$$"
      ],
      "text/plain": [
       "0.00955663769267"
      ]
     },
     "metadata": {},
     "output_type": "display_data"
    },
    {
     "data": {
      "image/png": "[encoded data removed]",
      "text/latex": [
       "$$\\left ( \\left ( 0, \\quad 2\\right ), \\quad 1\\right )$$"
      ],
      "text/plain": [
       "((0, 2), 1)"
      ]
     },
     "metadata": {},
     "output_type": "display_data"
    },
    {
     "data": {
      "image/png": "[encoded data removed]",
      "text/latex": [
       "$$0.0033530605906$$"
      ],
      "text/plain": [
       "0.0033530605906"
      ]
     },
     "metadata": {},
     "output_type": "display_data"
    },
    {
     "data": {
      "image/png": "[encoded data removed]",
      "text/latex": [
       "$$\\left ( \\left ( 2, \\quad 2\\right ), \\quad 2\\right )$$"
      ],
      "text/plain": [
       "((2, 2), 2)"
      ]
     },
     "metadata": {},
     "output_type": "display_data"
    },
    {
     "data": {
      "image/png": "[encoded data removed]",
      "text/latex": [
       "$$0.00404748976416$$"
      ],
      "text/plain": [
       "0.00404748976416"
      ]
     },
     "metadata": {},
     "output_type": "display_data"
    },
    {
     "data": {
      "image/png": "[encoded data removed]",
      "text/latex": [
       "$$\\left ( \\left ( 1, \\quad 1\\right ), \\quad 3\\right )$$"
      ],
      "text/plain": [
       "((1, 1), 3)"
      ]
     },
     "metadata": {},
     "output_type": "display_data"
    },
    {
     "data": {
      "image/png": "[encoded data removed]",
      "text/latex": [
       "$$0.0126418161009$$"
      ],
      "text/plain": [
       "0.0126418161009"
      ]
     },
     "metadata": {},
     "output_type": "display_data"
    },
    {
     "data": {
      "image/png": "[encoded data removed]",
      "text/latex": [
       "$$\\left ( \\left ( 2, \\quad 1\\right ), \\quad 2\\right )$$"
      ],
      "text/plain": [
       "((2, 1), 2)"
      ]
     },
     "metadata": {},
     "output_type": "display_data"
    },
    {
     "data": {
      "image/png": "[encoded data removed]",
      "text/latex": [
       "$$0.00176384178775$$"
      ],
      "text/plain": [
       "0.00176384178775"
      ]
     },
     "metadata": {},
     "output_type": "display_data"
    },
    {
     "data": {
      "image/png": "[encoded data removed]",
      "text/latex": [
       "$$\\left ( \\left ( 0, \\quad 1\\right ), \\quad 2\\right )$$"
      ],
      "text/plain": [
       "((0, 1), 2)"
      ]
     },
     "metadata": {},
     "output_type": "display_data"
    },
    {
     "data": {
      "image/png": "[encoded data removed]",
      "text/latex": [
       "$$0.00479722461056$$"
      ],
      "text/plain": [
       "0.00479722461056"
      ]
     },
     "metadata": {},
     "output_type": "display_data"
    },
    {
     "data": {
      "image/png": "[encoded data removed]",
      "text/latex": [
       "$$\\left ( \\left ( 3, \\quad 0\\right ), \\quad 3\\right )$$"
      ],
      "text/plain": [
       "((3, 0), 3)"
      ]
     },
     "metadata": {},
     "output_type": "display_data"
    },
    {
     "data": {
      "image/png": "[encoded data removed]",
      "text/latex": [
       "$$0.996159993229$$"
      ],
      "text/plain": [
       "0.996159993229"
      ]
     },
     "metadata": {},
     "output_type": "display_data"
    },
    {
     "data": {
      "image/png": "[encoded data removed]",
      "text/latex": [
       "$$\\left ( \\left ( 0, \\quad 0\\right ), \\quad 3\\right )$$"
      ],
      "text/plain": [
       "((0, 0), 3)"
      ]
     },
     "metadata": {},
     "output_type": "display_data"
    },
    {
     "data": {
      "image/png": "[encoded data removed]",
      "text/latex": [
       "$$0.00290198629924$$"
      ],
      "text/plain": [
       "0.00290198629924"
      ]
     },
     "metadata": {},
     "output_type": "display_data"
    },
    {
     "data": {
      "image/png": "[encoded data removed]",
      "text/latex": [
       "$$\\left ( \\left ( 0, \\quad 3\\right ), \\quad 1\\right )$$"
      ],
      "text/plain": [
       "((0, 3), 1)"
      ]
     },
     "metadata": {},
     "output_type": "display_data"
    },
    {
     "data": {
      "image/png": "[encoded data removed]",
      "text/latex": [
       "$$0.00351248857823$$"
      ],
      "text/plain": [
       "0.00351248857823"
      ]
     },
     "metadata": {},
     "output_type": "display_data"
    },
    {
     "data": {
      "image/png": "[encoded data removed]",
      "text/latex": [
       "$$\\left ( \\left ( 3, \\quad 1\\right ), \\quad 2\\right )$$"
      ],
      "text/plain": [
       "((3, 1), 2)"
      ]
     },
     "metadata": {},
     "output_type": "display_data"
    },
    {
     "data": {
      "image/png": "[encoded data removed]",
      "text/latex": [
       "$$0.776858874531$$"
      ],
      "text/plain": [
       "0.776858874531"
      ]
     },
     "metadata": {},
     "output_type": "display_data"
    },
    {
     "data": {
      "image/png": "[encoded data removed]",
      "text/latex": [
       "$$\\left ( \\left ( 1, \\quad 3\\right ), \\quad 1\\right )$$"
      ],
      "text/plain": [
       "((1, 3), 1)"
      ]
     },
     "metadata": {},
     "output_type": "display_data"
    },
    {
     "data": {
      "image/png": "[encoded data removed]",
      "text/latex": [
       "$$0.00765388993603$$"
      ],
      "text/plain": [
       "0.00765388993603"
      ]
     },
     "metadata": {},
     "output_type": "display_data"
    },
    {
     "data": {
      "image/png": "[encoded data removed]",
      "text/latex": [
       "$$\\left ( \\left ( 1, \\quad 0\\right ), \\quad 3\\right )$$"
      ],
      "text/plain": [
       "((1, 0), 3)"
      ]
     },
     "metadata": {},
     "output_type": "display_data"
    },
    {
     "data": {
      "image/png": "[encoded data removed]",
      "text/latex": [
       "$$0.338912910257$$"
      ],
      "text/plain": [
       "0.338912910257"
      ]
     },
     "metadata": {},
     "output_type": "display_data"
    },
    {
     "data": {
      "image/png": "[encoded data removed]",
      "text/latex": [
       "$$\\left ( \\left ( 2, \\quad 0\\right ), \\quad 3\\right )$$"
      ],
      "text/plain": [
       "((2, 0), 3)"
      ]
     },
     "metadata": {},
     "output_type": "display_data"
    },
    {
     "data": {
      "image/png": "[encoded data removed]",
      "text/latex": [
       "$$0.0533292932721$$"
      ],
      "text/plain": [
       "0.0533292932721"
      ]
     },
     "metadata": {},
     "output_type": "display_data"
    },
    {
     "data": {
      "image/png": "[encoded data removed]",
      "text/latex": [
       "$$\\left ( \\left ( 1, \\quad 1\\right ), \\quad 2\\right )$$"
      ],
      "text/plain": [
       "((1, 1), 2)"
      ]
     },
     "metadata": {},
     "output_type": "display_data"
    },
    {
     "data": {
      "image/png": "[encoded data removed]",
      "text/latex": [
       "$$0.257806394448$$"
      ],
      "text/plain": [
       "0.257806394448"
      ]
     },
     "metadata": {},
     "output_type": "display_data"
    },
    {
     "data": {
      "image/png": "[encoded data removed]",
      "text/latex": [
       "$$\\left ( \\left ( 2, \\quad 2\\right ), \\quad 1\\right )$$"
      ],
      "text/plain": [
       "((2, 2), 1)"
      ]
     },
     "metadata": {},
     "output_type": "display_data"
    },
    {
     "data": {
      "image/png": "[encoded data removed]",
      "text/latex": [
       "$$0.000528848218027$$"
      ],
      "text/plain": [
       "0.000528848218027"
      ]
     },
     "metadata": {},
     "output_type": "display_data"
    },
    {
     "data": {
      "image/png": "[encoded data removed]",
      "text/latex": [
       "$$\\left ( \\left ( 2, \\quad 1\\right ), \\quad 3\\right )$$"
      ],
      "text/plain": [
       "((2, 1), 3)"
      ]
     },
     "metadata": {},
     "output_type": "display_data"
    },
    {
     "data": {
      "image/png": "[encoded data removed]",
      "text/latex": [
       "$$0.756023437157$$"
      ],
      "text/plain": [
       "0.756023437157"
      ]
     },
     "metadata": {},
     "output_type": "display_data"
    },
    {
     "data": {
      "image/png": "[encoded data removed]",
      "text/latex": [
       "$$\\left ( \\left ( 0, \\quad 1\\right ), \\quad 3\\right )$$"
      ],
      "text/plain": [
       "((0, 1), 3)"
      ]
     },
     "metadata": {},
     "output_type": "display_data"
    },
    {
     "data": {
      "image/png": "[encoded data removed]",
      "text/latex": [
       "$$0.247152716889$$"
      ],
      "text/plain": [
       "0.247152716889"
      ]
     },
     "metadata": {},
     "output_type": "display_data"
    },
    {
     "data": {
      "image/png": "[encoded data removed]",
      "text/latex": [
       "$$\\left ( \\left ( 3, \\quad 3\\right ), \\quad 3\\right )$$"
      ],
      "text/plain": [
       "((3, 3), 3)"
      ]
     },
     "metadata": {},
     "output_type": "display_data"
    },
    {
     "data": {
      "image/png": "[encoded data removed]",
      "text/latex": [
       "$$0.377074310233$$"
      ],
      "text/plain": [
       "0.377074310233"
      ]
     },
     "metadata": {},
     "output_type": "display_data"
    }
   ],
   "source": [
    "for key in moments_y:\n",
    "    display(key, abs(moments_y[key] - moments_y_true[key]))"
   ]
  },
  {
   "cell_type": "code",
   "execution_count": null,
   "metadata": {
    "collapsed": true
   },
   "outputs": [],
   "source": []
  }
 ],
 "metadata": {
  "kernelspec": {
   "display_name": "Python 2",
   "language": "python",
   "name": "python2"
  },
  "language_info": {
   "codemirror_mode": {
    "name": "ipython",
    "version": 2
   },
   "file_extension": ".py",
   "mimetype": "text/x-python",
   "name": "python",
   "nbconvert_exporter": "python",
   "pygments_lexer": "ipython2",
   "version": "2.7.9"
  }
 },
 "nbformat": 4,
 "nbformat_minor": 0
}
