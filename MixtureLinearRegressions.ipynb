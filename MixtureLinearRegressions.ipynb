{
 "cells": [
  {
   "cell_type": "markdown",
   "metadata": {},
   "source": [
    "# Mixture of Linear Regressions\n",
    "\n",
    "In this note, we will solve the mixture of linear regressions problem using the moment method."
   ]
  },
  {
   "cell_type": "markdown",
   "metadata": {},
   "source": [
    "This block contains some $\\LaTeX$ macros.\n",
    "$\\newcommand{\\E}{\\mathbb{E}}$\n",
    "$\\renewcommand{\\Re}{\\mathbb{R}}$\n",
    "$\\newcommand{\\oft}[1]{{^{(#1)}}}$\n",
    "$\\newcommand{\\oftt}[2]{{^{(#1)#2}}}$"
   ]
  },
  {
   "cell_type": "code",
   "execution_count": 5,
   "metadata": {
    "collapsed": false
   },
   "outputs": [],
   "source": [
    "import util\n",
    "from util import *\n",
    "import models\n",
    "from models.LinearRegressions import LinearRegressionsMixture\n",
    "import numpy as np\n",
    "np.set_printoptions(precision=3, suppress=True)\n",
    "from IPython.display import display, Markdown, Math\n",
    "from operator import mul\n",
    "import sympy as sp\n",
    "sp.init_printing()"
   ]
  },
  {
   "cell_type": "markdown",
   "metadata": {},
   "source": [
    "Let $w_1, ..., w_K \\in \\Re^D$ be a set of $K$ regression coefficients. Let $x_1, ..., x_N \\in \\Re^D$ be a given set of data points and let $y_n = \\sum_{k} \\delta_k w_k^\\top x_n + \\epsilon$ be observed responses. Our objective is to recover $(w_k)$."
   ]
  },
  {
   "cell_type": "markdown",
   "metadata": {},
   "source": [
    "## Toy Example\n",
    "\n",
    "Let's construct a toy example for the rest of this document."
   ]
  },
  {
   "cell_type": "code",
   "execution_count": 7,
   "metadata": {
    "collapsed": false
   },
   "outputs": [
    {
     "name": "stdout",
     "output_type": "stream",
     "text": [
      "True parameters:\n",
      "[ 0.4  0.6]\n",
      "[[ 0.75  0.25]\n",
      " [ 0.4   0.9 ]]\n",
      "[[ 1.  0.]\n",
      " [ 0.  1.]]\n"
     ]
    }
   ],
   "source": [
    "K, D = 2, 2\n",
    "np.random.seed(0)\n",
    "pis = np.array([0.4, 0.6])\n",
    "ws = np.array([[0.75, 0.25], [0.4, 0.9]])\n",
    "model = LinearRegressionsMixture.generate(K, D, betas = ws, weights = pis, cov =  1.0)\n",
    "print(\"True parameters:\")\n",
    "print(model.weights)\n",
    "print(model.betas)\n",
    "print(model.sigma)"
   ]
  },
  {
   "cell_type": "markdown",
   "metadata": {},
   "source": [
    "# Noiseless, Infinite Data Setting\n",
    "\n",
    "In this scenario, assume that $\\epsilon = 0$ and that we observe expected moments of the data. Consider the moments:\n",
    "\\begin{align}\n",
    "\\E[x^\\alpha y^b] \n",
    "&= \\sum_k \\pi_k \\E[x^\\alpha y^b | \\delta_k = 1] \\\\\n",
    "&= \\sum_k \\pi_k \\E[x^\\alpha [w_k^\\top x]^b] \\\\\n",
    "&= \\sum_k \\pi_k \\E[x^\\alpha \\sum_{\\beta \\in p(b)} w_k^\\beta x^\\beta] \\\\\n",
    "&= \\sum_{\\beta \\in p(b)} \\E_\\pi[w^\\beta] \\E[x^{\\alpha + \\beta}],\n",
    "\\end{align}\n",
    "where $p(b)$ are the $d$-partitions of $b$. Note that $\\E[x^{\\alpha + \\beta}]$ are observable quantities, and thus this simply represents a mixture over the polynomials with terms $w_k^\\beta$."
   ]
  },
  {
   "cell_type": "code",
   "execution_count": 31,
   "metadata": {
    "collapsed": false
   },
   "outputs": [],
   "source": [
    "def evaluate_mixture(ws, pis, beta):\n",
    "    \"\"\"\n",
    "    Compute E_\\pi[w^beta]\n",
    "    \"\"\"\n",
    "    return sum(pi * util.monomial(w, beta) for w, pi in zip(ws.T, pis))\n",
    "    \n",
    "def compute_exact_y_moments(ws, pis, moments_x, alpha, b):\n",
    "    \"\"\"\n",
    "    Compute the exact moments E[x^a y^b] using coefficients ws, pis and moments_x.\n",
    "    \"\"\"\n",
    "    D, K = ws.shape\n",
    "    ret = 0.\n",
    "    coeffs = sp.ntheory.multinomial_coefficients(D,b)\n",
    "    for beta in partitions(D, b):\n",
    "        ret += coeffs[beta] * evaluate_mixture(ws, pis, beta) * moments_x[tuple_add(alpha, beta)]\n",
    "    return ret\n",
    "\n",
    "def describe_moment_polynomial(R, moments_x, moment_y, alpha, b):\n",
    "    \"\"\"\n",
    "    Computes the moment polynomial for E[x^alpha, y^b]\n",
    "    \"\"\"\n",
    "    D = len(R.symbols)\n",
    "    w = R.symbols\n",
    "    expr = -moment_y\n",
    "    coeffs = sp.ntheory.multinomial_coefficients(D,b)\n",
    "    for beta in partitions(D, b):\n",
    "        expr += coeffs[beta] * util.monomial(w, beta) * moments_x[tuple_add(alpha, beta)]\n",
    "    return expr"
   ]
  },
  {
   "cell_type": "code",
   "execution_count": 32,
   "metadata": {
    "collapsed": false
   },
   "outputs": [],
   "source": [
    "# Example \n",
    "def double_factorial(n): \n",
    "    return reduce(mul, xrange(n, 0, -2)) if n > 0 else 1\n",
    "def gaussian_moments(sigma, d):\n",
    "    \"\"\"\n",
    "    E[x^d] where x is standard gaussian with sigma\n",
    "    \"\"\"\n",
    "    if d == 0: return 1\n",
    "    elif d % 2 == 0: return double_factorial(d-1) * sigma**d\n",
    "    else: return 0\n",
    "def expected_gaussian_moments(sigma, alphas):\n",
    "    return {alpha : prod(gaussian_moments(sigma, a) for a in alpha) for alpha in alphas}\n",
    "def expected_uniform_moments(alphas):\n",
    "    return {alpha : 1. for alpha in alphas}\n",
    "def expected_moments_y(ws, pis, moments_x, alphabs):\n",
    "    return {(alpha, b) : compute_exact_y_moments(ws, pis, moments_x, alpha, b) for alpha, b in alphabs}"
   ]
  },
  {
   "cell_type": "code",
   "execution_count": 33,
   "metadata": {
    "collapsed": true
   },
   "outputs": [],
   "source": [
    "R, _ = sp.xring(['w%d'%d for d in xrange(D)], sp.RR, sp.grevlex)\n",
    "\n",
    "deg_b, deg_x = 3, 2\n",
    "sigma = model.sigma[0,0]\n",
    "alphas = list(dominated_elements((deg_x for _ in xrange(D))))\n",
    "alphabs = [(alpha, b) for alpha in alphas for b in xrange(1,deg_b+1)]\n",
    "alphas_ = list(dominated_elements((deg_x + deg_b for _ in xrange(D))))\n",
    "moments_x = expected_gaussian_moments(sigma, alphas_)\n",
    "moments_y = expected_moments_y(ws, pis, moments_x, alphabs)\n",
    "#display(moments)"
   ]
  },
  {
   "cell_type": "code",
   "execution_count": 34,
   "metadata": {
    "collapsed": false
   },
   "outputs": [
    {
     "data": {
      "image/png": "[encoded data removed]",
      "text/latex": [
       "$$\\left \\{ \\left ( 0, \\quad 0\\right ) : 1, \\quad \\left ( 0, \\quad 1\\right ) : 0, \\quad \\left ( 0, \\quad 2\\right ) : 1.0, \\quad \\left ( 0, \\quad 3\\right ) : 0, \\quad \\left ( 0, \\quad 4\\right ) : 3.0, \\quad \\left ( 0, \\quad 5\\right ) : 0, \\quad \\left ( 1, \\quad 0\\right ) : 0, \\quad \\left ( 1, \\quad 1\\right ) : 0, \\quad \\left ( 1, \\quad 2\\right ) : 0.0, \\quad \\left ( 1, \\quad 3\\right ) : 0, \\quad \\left ( 1, \\quad 4\\right ) : 0.0, \\quad \\left ( 1, \\quad 5\\right ) : 0, \\quad \\left ( 2, \\quad 0\\right ) : 1.0, \\quad \\left ( 2, \\quad 1\\right ) : 0.0, \\quad \\left ( 2, \\quad 2\\right ) : 1.0, \\quad \\left ( 2, \\quad 3\\right ) : 0.0, \\quad \\left ( 2, \\quad 4\\right ) : 3.0, \\quad \\left ( 2, \\quad 5\\right ) : 0.0, \\quad \\left ( 3, \\quad 0\\right ) : 0, \\quad \\left ( 3, \\quad 1\\right ) : 0, \\quad \\left ( 3, \\quad 2\\right ) : 0.0, \\quad \\left ( 3, \\quad 3\\right ) : 0, \\quad \\left ( 3, \\quad 4\\right ) : 0.0, \\quad \\left ( 3, \\quad 5\\right ) : 0, \\quad \\left ( 4, \\quad 0\\right ) : 3.0, \\quad \\left ( 4, \\quad 1\\right ) : 0.0, \\quad \\left ( 4, \\quad 2\\right ) : 3.0, \\quad \\left ( 4, \\quad 3\\right ) : 0.0, \\quad \\left ( 4, \\quad 4\\right ) : 9.0, \\quad \\left ( 4, \\quad 5\\right ) : 0.0, \\quad \\left ( 5, \\quad 0\\right ) : 0, \\quad \\left ( 5, \\quad 1\\right ) : 0, \\quad \\left ( 5, \\quad 2\\right ) : 0.0, \\quad \\left ( 5, \\quad 3\\right ) : 0, \\quad \\left ( 5, \\quad 4\\right ) : 0.0, \\quad \\left ( 5, \\quad 5\\right ) : 0\\right \\}$$"
      ],
      "text/plain": [
       "{(0, 0): 1, (0, 1): 0, (0, 2): 1.0, (0, 3): 0, (0, 4): 3.0, (0, 5): 0, (1, 0):\n",
       " 0, (1, 1): 0, (1, 2): 0.0, (1, 3): 0, (1, 4): 0.0, (1, 5): 0, (2, 0): 1.0, (2\n",
       ", 1): 0.0, (2, 2): 1.0, (2, 3): 0.0, (2, 4): 3.0, (2, 5): 0.0, (3, 0): 0, (3, \n",
       "1): 0, (3, 2): 0.0, (3, 3): 0, (3, 4): 0.0, (3, 5): 0, (4, 0): 3.0, (4, 1): 0.\n",
       "0, (4, 2): 3.0, (4, 3): 0.0, (4, 4): 9.0, (4, 5): 0.0, (5, 0): 0, (5, 1): 0, (\n",
       "5, 2): 0.0, (5, 3): 0, (5, 4): 0.0, (5, 5): 0}"
      ]
     },
     "metadata": {},
     "output_type": "display_data"
    }
   ],
   "source": [
    "display(moments_x)"
   ]
  },
  {
   "cell_type": "code",
   "execution_count": 35,
   "metadata": {
    "collapsed": false
   },
   "outputs": [
    {
     "data": {
      "image/png": "[encoded data removed]",
      "text/latex": [
       "$$\\left \\{ \\left ( \\left ( 0, \\quad 0\\right ), \\quad 1\\right ) : 0.0, \\quad \\left ( \\left ( 0, \\quad 0\\right ), \\quad 2\\right ) : 0.8125, \\quad \\left ( \\left ( 0, \\quad 0\\right ), \\quad 3\\right ) : 0.0, \\quad \\left ( \\left ( 0, \\quad 1\\right ), \\quad 1\\right ) : 0.7, \\quad \\left ( \\left ( 0, \\quad 1\\right ), \\quad 2\\right ) : 0.0, \\quad \\left ( \\left ( 0, \\quad 1\\right ), \\quad 3\\right ) : 1.76025, \\quad \\left ( \\left ( 0, \\quad 2\\right ), \\quad 1\\right ) : 0.0, \\quad \\left ( \\left ( 0, \\quad 2\\right ), \\quad 2\\right ) : 1.9125, \\quad \\left ( \\left ( 0, \\quad 2\\right ), \\quad 3\\right ) : 0.0, \\quad \\left ( \\left ( 1, \\quad 0\\right ), \\quad 1\\right ) : 0.45, \\quad \\left ( \\left ( 1, \\quad 0\\right ), \\quad 2\\right ) : 0.0, \\quad \\left ( \\left ( 1, \\quad 0\\right ), \\quad 3\\right ) : 1.042875, \\quad \\left ( \\left ( 1, \\quad 1\\right ), \\quad 1\\right ) : 0.0, \\quad \\left ( \\left ( 1, \\quad 1\\right ), \\quad 2\\right ) : 0.51, \\quad \\left ( \\left ( 1, \\quad 1\\right ), \\quad 3\\right ) : 0.0, \\quad \\left ( \\left ( 1, \\quad 2\\right ), \\quad 1\\right ) : 0.45, \\quad \\left ( \\left ( 1, \\quad 2\\right ), \\quad 2\\right ) : 0.0, \\quad \\left ( \\left ( 1, \\quad 2\\right ), \\quad 3\\right ) : 2.059875, \\quad \\left ( \\left ( 2, \\quad 0\\right ), \\quad 1\\right ) : 0.0, \\quad \\left ( \\left ( 2, \\quad 0\\right ), \\quad 2\\right ) : 1.3375, \\quad \\left ( \\left ( 2, \\quad 0\\right ), \\quad 3\\right ) : 0.0, \\quad \\left ( \\left ( 2, \\quad 1\\right ), \\quad 1\\right ) : 0.7, \\quad \\left ( \\left ( 2, \\quad 1\\right ), \\quad 2\\right ) : 0.0, \\quad \\left ( \\left ( 2, \\quad 1\\right ), \\quad 3\\right ) : 2.50275, \\quad \\left ( \\left ( 2, \\quad 2\\right ), \\quad 1\\right ) : 0.0, \\quad \\left ( \\left ( 2, \\quad 2\\right ), \\quad 2\\right ) : 2.4375, \\quad \\left ( \\left ( 2, \\quad 2\\right ), \\quad 3\\right ) : 0.0\\right \\}$$"
      ],
      "text/plain": [
       "{((0, 0), 1): 0.0, ((0, 0), 2): 0.8125, ((0, 0), 3): 0.0, ((0, 1), 1): 0.7, ((\n",
       "0, 1), 2): 0.0, ((0, 1), 3): 1.76025, ((0, 2), 1): 0.0, ((0, 2), 2): 1.9125, (\n",
       "(0, 2), 3): 0.0, ((1, 0), 1): 0.45, ((1, 0), 2): 0.0, ((1, 0), 3): 1.042875, (\n",
       "(1, 1), 1): 0.0, ((1, 1), 2): 0.51, ((1, 1), 3): 0.0, ((1, 2), 1): 0.45, ((1, \n",
       "2), 2): 0.0, ((1, 2), 3): 2.059875, ((2, 0), 1): 0.0, ((2, 0), 2): 1.3375, ((2\n",
       ", 0), 3): 0.0, ((2, 1), 1): 0.7, ((2, 1), 2): 0.0, ((2, 1), 3): 2.50275, ((2, \n",
       "2), 1): 0.0, ((2, 2), 2): 2.4375, ((2, 2), 3): 0.0}"
      ]
     },
     "metadata": {},
     "output_type": "display_data"
    }
   ],
   "source": [
    "display(moments_y)"
   ]
  },
  {
   "cell_type": "code",
   "execution_count": 36,
   "metadata": {
    "collapsed": false
   },
   "outputs": [],
   "source": [
    "def get_constraint_polynomials(moments_y, moments_x, deg_x, deg_b):\n",
    "    constrs = []\n",
    "    for b in xrange(1, deg_b+1):\n",
    "        for alpha in util.dominated_elements((deg_x for _ in xrange(D))):\n",
    "            constrs.append( describe_moment_polynomial(R, moments_x, moments_y[(alpha, b)], alpha, b) )\n",
    "    return constrs"
   ]
  },
  {
   "cell_type": "markdown",
   "metadata": {},
   "source": [
    "With this machinery, we can compute the moment polynomials required for the moment method magic!"
   ]
  },
  {
   "cell_type": "code",
   "execution_count": 37,
   "metadata": {
    "collapsed": false
   },
   "outputs": [
    {
     "name": "stdout",
     "output_type": "stream",
     "text": [
      "     pcost       dcost       gap    pres   dres\n",
      " 0:  3.3331e-01 -1.1934e+00  4e+01  4e+00  8e+00\n",
      " 1:  1.9518e-01 -3.2675e+00  7e+00  8e-01  1e+00\n",
      " 2:  1.4298e-01 -1.0911e+00  1e+00  1e-01  2e-01\n",
      " 3:  3.5067e-02 -1.2531e-01  2e-01  1e-02  2e-02\n",
      " 4:  5.2528e-03 -1.8015e-02  2e-02  9e-04  2e-03\n",
      " 5:  8.6614e-04 -2.3142e-03  3e-03  9e-05  2e-04\n",
      " 6:  2.5471e-04 -8.0417e-05  3e-04  9e-07  2e-06\n",
      " 7:  5.9055e-05  2.3865e-06  6e-05  1e-07  2e-07\n",
      " 8:  4.0805e-05  2.3551e-05  2e-05  1e-08  2e-08\n",
      " 9:  3.0154e-05  2.7546e-05  3e-06  1e-09  2e-09\n",
      "10:  2.9128e-05  2.8320e-05  8e-07  2e-10  3e-10\n",
      "11:  2.8647e-05  2.8507e-05  1e-07  2e-11  4e-11\n",
      "12:  2.8587e-05  2.8549e-05  4e-08  4e-12  7e-12\n",
      "Optimal solution found.\n"
     ]
    },
    {
     "data": {
      "text/plain": [
       "array([[ 0.75,  0.25],\n",
       "       [ 0.4 ,  0.9 ]])"
      ]
     },
     "metadata": {},
     "output_type": "display_data"
    },
    {
     "name": "stdout",
     "output_type": "stream",
     "text": [
      "lost 0.0006874\n"
     ]
    },
    {
     "data": {
      "image/png": "[encoded data removed]",
      "text/latex": [
       "$$\\left \\{ w_{0} : \\left [ 0.249990764581, \\quad 0.750065712799\\right ], \\quad w_{1} : \\left [ 0.900090114104, \\quad 0.400019202687\\right ]\\right \\}$$"
      ],
      "text/plain": [
       "{w₀: [0.249990764581, 0.750065712799], w₁: [0.900090114104, 0.400019202687]}"
      ]
     },
     "metadata": {},
     "output_type": "display_data"
    },
    {
     "name": "stdout",
     "output_type": "stream",
     "text": [
      "the next biggest eigenvalue we are losing is 0.000687\n"
     ]
    },
    {
     "data": {
      "image/png": "[encoded data removed]",
      "text/latex": [
       "$$\\left \\{ w_{0} : \\left [ 0.249962527479, \\quad 0.750297127601\\right ], \\quad w_{1} : \\left [ 0.899695603199, \\quad 0.400059066806\\right ]\\right \\}$$"
      ],
      "text/plain": [
       "{w₀: [0.249962527479, 0.750297127601], w₁: [0.899695603199, 0.400059066806]}"
      ]
     },
     "metadata": {},
     "output_type": "display_data"
    }
   ],
   "source": [
    "from mompy.core import MomentMatrix\n",
    "import mompy.solvers as solvers; reload(solvers)\n",
    "import mompy.extractors as extractors; reload(extractors)\n",
    "\n",
    "constrs = get_constraint_polynomials(moments_y, moments_x, deg_x, deg_b)\n",
    "M = MomentMatrix(3, R.symbols, morder='grevlex')\n",
    "sol = solvers.solve_generalized_mom_coneqp(M, constrs, 3)\n",
    "display( model.betas)\n",
    "display(extractors.extract_solutions_lasserre(M, sol['x'], Kmax=2))\n",
    "\n",
    "display(extractors.extract_solutions_dreesen_proto(M, sol['x'], Kmax=2))\n"
   ]
  },
  {
   "cell_type": "code",
   "execution_count": 38,
   "metadata": {
    "collapsed": false,
    "scrolled": true
   },
   "outputs": [
    {
     "data": {
      "image/png": "[encoded data removed]",
      "text/latex": [
       "$$\\left [ 0, \\quad 1.0 w_{1} - 0.7, \\quad 0, \\quad 1.0 w_{0} - 0.45, \\quad 0, \\quad 1.0 w_{0} - 0.45, \\quad 0, \\quad 1.0 w_{1} - 0.7, \\quad 0, \\quad 3.0 w_{0}^{2} + 3.0 w_{1}^{2} - 2.4375, \\quad 0, \\quad 3.0 w_{0}^{2} + 1.0 w_{1}^{2} - 1.3375, \\quad 0, \\quad 2.0 w_{0} w_{1} - 0.51, \\quad 0, \\quad 1.0 w_{0}^{2} + 3.0 w_{1}^{2} - 1.9125, \\quad 0, \\quad 1.0 w_{0}^{2} + 1.0 w_{1}^{2} - 0.8125, \\quad 0, \\quad 9.0 w_{0}^{2} w_{1} + 3.0 w_{1}^{3} - 2.50275, \\quad 0, \\quad 3.0 w_{0}^{3} + 9.0 w_{0} w_{1}^{2} - 2.059875, \\quad 0, \\quad 3.0 w_{0}^{3} + 3.0 w_{0} w_{1}^{2} - 1.042875, \\quad 0, \\quad 3.0 w_{0}^{2} w_{1} + 3.0 w_{1}^{3} - 1.76025, \\quad 0\\right ]$$"
      ],
      "text/plain": [
       "⎡                                                                             \n",
       "⎣0, 1.0⋅w₁ - 0.7, 0, 1.0⋅w₀ - 0.45, 0, 1.0⋅w₀ - 0.45, 0, 1.0⋅w₁ - 0.7, 0, 3.0⋅\n",
       "\n",
       "  2         2                    2         2                                  \n",
       "w₀  + 3.0⋅w₁  - 2.4375, 0, 3.0⋅w₀  + 1.0⋅w₁  - 1.3375, 0, 2.0⋅w₀⋅w₁ - 0.51, 0,\n",
       "\n",
       "       2         2                    2         2                    2        \n",
       " 1.0⋅w₀  + 3.0⋅w₁  - 1.9125, 0, 1.0⋅w₀  + 1.0⋅w₁  - 0.8125, 0, 9.0⋅w₀ ⋅w₁ + 3.\n",
       "\n",
       "    3                     3            2                      3            2  \n",
       "0⋅w₁  - 2.50275, 0, 3.0⋅w₀  + 9.0⋅w₀⋅w₁  - 2.059875, 0, 3.0⋅w₀  + 3.0⋅w₀⋅w₁  -\n",
       "\n",
       "                    2            3             ⎤\n",
       " 1.042875, 0, 3.0⋅w₀ ⋅w₁ + 3.0⋅w₁  - 1.76025, 0⎦"
      ]
     },
     "metadata": {},
     "output_type": "display_data"
    }
   ],
   "source": [
    "display(constrs)"
   ]
  },
  {
   "cell_type": "markdown",
   "metadata": {},
   "source": [
    "## With real samples\n",
    "\n",
    "Let's try to solve the problem with generated samples.\n"
   ]
  },
  {
   "cell_type": "code",
   "execution_count": 45,
   "metadata": {
    "collapsed": false
   },
   "outputs": [],
   "source": [
    "def compute_expected_moments(xs, alphas):\n",
    "    moments = {alpha : 0. for alpha in alphas}\n",
    "    for alpha in alphas:\n",
    "        m = monomial(xs.T, alpha)\n",
    "        moments[alpha] = m if isinstance(m,float) else float(m.mean())\n",
    "    return moments\n",
    "\n",
    "def compute_expected_moments_y(ys, xs, alphabs):\n",
    "    moments = {(alpha, b) : 0. for alpha, b in alphabs}\n",
    "    for alpha, b in alphabs:\n",
    "        moments[(alpha,b)] = float((monomial(xs.T, alpha) * ys**b).mean())\n",
    "    return moments"
   ]
  },
  {
   "cell_type": "code",
   "execution_count": 49,
   "metadata": {
    "collapsed": false
   },
   "outputs": [],
   "source": [
    "xs, ys = model.sample(1e6)\n",
    "moments_x = compute_expected_moments(xs, alphas_)\n",
    "moments_y = compute_expected_moments_y(ys, xs, alphabs)"
   ]
  },
  {
   "cell_type": "code",
   "execution_count": 50,
   "metadata": {
    "collapsed": false
   },
   "outputs": [
    {
     "name": "stdout",
     "output_type": "stream",
     "text": [
      "     pcost       dcost       gap    pres   dres\n",
      " 0:  3.3332e-01 -1.1954e+00  4e+01  4e+00  8e+00\n",
      " 1:  1.9568e-01 -3.2668e+00  7e+00  8e-01  1e+00\n",
      " 2:  1.4333e-01 -1.0897e+00  1e+00  1e-01  2e-01\n",
      " 3:  3.5303e-02 -1.2473e-01  2e-01  1e-02  2e-02\n",
      " 4:  5.4574e-03 -1.7803e-02  2e-02  9e-04  2e-03\n",
      " 5:  1.0586e-03 -2.1185e-03  3e-03  9e-05  2e-04\n",
      " 6:  4.4764e-04  1.1334e-04  3e-04  9e-07  2e-06\n",
      " 7:  2.5168e-04  1.9545e-04  6e-05  1e-07  2e-07\n",
      " 8:  2.3409e-04  2.1590e-04  2e-05  1e-08  2e-08\n",
      " 9:  2.2288e-04  2.2004e-04  3e-06  1e-09  2e-09\n",
      "10:  2.2179e-04  2.2087e-04  9e-07  3e-10  5e-10\n",
      "11:  2.2127e-04  2.2112e-04  2e-07  4e-11  7e-11\n",
      "12:  2.2123e-04  2.2117e-04  6e-08  1e-11  2e-11\n",
      "Optimal solution found.\n"
     ]
    },
    {
     "data": {
      "text/plain": [
       "array([[ 0.75,  0.25],\n",
       "       [ 0.4 ,  0.9 ]])"
      ]
     },
     "metadata": {},
     "output_type": "display_data"
    },
    {
     "name": "stdout",
     "output_type": "stream",
     "text": [
      "lost 0.0081145\n"
     ]
    },
    {
     "data": {
      "image/png": "[encoded data removed]",
      "text/latex": [
       "$$\\left \\{ w_{0} : \\left [ 0.254078557925, \\quad 0.75027810135\\right ], \\quad w_{1} : \\left [ 0.901361501817, \\quad 0.401494928928\\right ]\\right \\}$$"
      ],
      "text/plain": [
       "{w₀: [0.254078557925, 0.75027810135], w₁: [0.901361501817, 0.401494928928]}"
      ]
     },
     "metadata": {},
     "output_type": "display_data"
    },
    {
     "name": "stdout",
     "output_type": "stream",
     "text": [
      "the next biggest eigenvalue we are losing is 0.008114\n"
     ]
    },
    {
     "data": {
      "image/png": "[encoded data removed]",
      "text/latex": [
       "$$\\left \\{ w_{0} : \\left [ 0.248470568308, \\quad 0.756896487349\\right ], \\quad w_{1} : \\left [ 0.856833763326, \\quad 0.334637032178\\right ]\\right \\}$$"
      ],
      "text/plain": [
       "{w₀: [0.248470568308, 0.756896487349], w₁: [0.856833763326, 0.334637032178]}"
      ]
     },
     "metadata": {},
     "output_type": "display_data"
    },
    {
     "name": "stdout",
     "output_type": "stream",
     "text": [
      "the next biggest eigenvalue we are losing is 0.008114\n"
     ]
    }
   ],
   "source": [
    "from mompy.core import MomentMatrix\n",
    "import mompy.solvers as solvers; reload(solvers)\n",
    "import mompy.extractors as extractors; reload(extractors)\n",
    "\n",
    "constrs_sdp = get_constraint_polynomials(moments_y, moments_x, deg_x, deg_b)\n",
    "M = MomentMatrix(3, R.symbols, morder='grevlex')\n",
    "solsdp = solvers.solve_generalized_mom_coneqp(M, constrs_sdp, None)\n",
    "#sol = solvers.solve_moments_with_convexiterations(M, constrs, 3)\n",
    "display(model.betas)\n",
    "display(extractors.extract_solutions_lasserre(M, solsdp['x'], Kmax=2))\n",
    "\n",
    "display(extractors.extract_solutions_dreesen_proto(M, solsdp['x'], Kmax=2))\n",
    "sol = extractors.extract_solutions_dreesen_proto(M, solsdp['x'], Kmax=2)\n",
    "ws_rec = array([sol[sp.symbols('w0')], sol[sp.symbols('w1')]])"
   ]
  },
  {
   "cell_type": "code",
   "execution_count": 51,
   "metadata": {
    "collapsed": false,
    "scrolled": true
   },
   "outputs": [
    {
     "data": {
      "image/png": "[encoded data removed]",
      "text/latex": [
       "$$0$$"
      ],
      "text/plain": [
       "0"
      ]
     },
     "metadata": {},
     "output_type": "display_data"
    },
    {
     "data": {
      "text/plain": [
       "'vs'"
      ]
     },
     "metadata": {},
     "output_type": "display_data"
    },
    {
     "data": {
      "image/png": "[encoded data removed]",
      "text/latex": [
       "$$0.0103102198475299 w_{0} + 0.000120187746022183 w_{1} - 0.00473031318112191$$"
      ],
      "text/plain": [
       "0.0103102198475299⋅w₀ + 0.000120187746022183⋅w₁ - 0.00473031318112191"
      ]
     },
     "metadata": {},
     "output_type": "display_data"
    },
    {
     "data": {
      "image/png": "[encoded data removed]",
      "text/latex": [
       "$$1.0 w_{1} - 0.7$$"
      ],
      "text/plain": [
       "1.0⋅w₁ - 0.7"
      ]
     },
     "metadata": {},
     "output_type": "display_data"
    },
    {
     "data": {
      "text/plain": [
       "'vs'"
      ]
     },
     "metadata": {},
     "output_type": "display_data"
    },
    {
     "data": {
      "image/png": "[encoded data removed]",
      "text/latex": [
       "$$0.00244399331390401 w_{0} + 0.999562210422932 w_{1} - 0.700966354947003$$"
      ],
      "text/plain": [
       "0.00244399331390401⋅w₀ + 0.999562210422932⋅w₁ - 0.700966354947003"
      ]
     },
     "metadata": {},
     "output_type": "display_data"
    },
    {
     "data": {
      "image/png": "[encoded data removed]",
      "text/latex": [
       "$$0$$"
      ],
      "text/plain": [
       "0"
      ]
     },
     "metadata": {},
     "output_type": "display_data"
    },
    {
     "data": {
      "text/plain": [
       "'vs'"
      ]
     },
     "metadata": {},
     "output_type": "display_data"
    },
    {
     "data": {
      "image/png": "[encoded data removed]",
      "text/latex": [
       "$$0.00170187772522357 w_{0} - 0.000765075471159677 w_{1} + 2.24003658404363 \\cdot 10^{-5}$$"
      ],
      "text/plain": [
       "0.00170187772522357⋅w₀ - 0.000765075471159677⋅w₁ + 2.24003658404363e-5"
      ]
     },
     "metadata": {},
     "output_type": "display_data"
    },
    {
     "data": {
      "image/png": "[encoded data removed]",
      "text/latex": [
       "$$1.0 w_{0} - 0.45$$"
      ],
      "text/plain": [
       "1.0⋅w₀ - 0.45"
      ]
     },
     "metadata": {},
     "output_type": "display_data"
    },
    {
     "data": {
      "text/plain": [
       "'vs'"
      ]
     },
     "metadata": {},
     "output_type": "display_data"
    },
    {
     "data": {
      "image/png": "[encoded data removed]",
      "text/latex": [
       "$$0.999562210422932 w_{0} + 0.00124074898584889 w_{1} - 0.449949756218569$$"
      ],
      "text/plain": [
       "0.999562210422932⋅w₀ + 0.00124074898584889⋅w₁ - 0.449949756218569"
      ]
     },
     "metadata": {},
     "output_type": "display_data"
    },
    {
     "data": {
      "image/png": "[encoded data removed]",
      "text/latex": [
       "$$0$$"
      ],
      "text/plain": [
       "0"
      ]
     },
     "metadata": {},
     "output_type": "display_data"
    },
    {
     "data": {
      "text/plain": [
       "'vs'"
      ]
     },
     "metadata": {},
     "output_type": "display_data"
    },
    {
     "data": {
      "image/png": "[encoded data removed]",
      "text/latex": [
       "$$- 0.000765075471159677 w_{0} + 0.00234215139886105 w_{1} - 0.000523331828204054$$"
      ],
      "text/plain": [
       "-0.000765075471159677⋅w₀ + 0.00234215139886105⋅w₁ - 0.000523331828204054"
      ]
     },
     "metadata": {},
     "output_type": "display_data"
    },
    {
     "data": {
      "image/png": "[encoded data removed]",
      "text/latex": [
       "$$1.0 w_{0} - 0.45$$"
      ],
      "text/plain": [
       "1.0⋅w₀ - 0.45"
      ]
     },
     "metadata": {},
     "output_type": "display_data"
    },
    {
     "data": {
      "text/plain": [
       "'vs'"
      ]
     },
     "metadata": {},
     "output_type": "display_data"
    },
    {
     "data": {
      "image/png": "[encoded data removed]",
      "text/latex": [
       "$$1.00078874021914 w_{0} + 0.000605210508901364 w_{1} - 0.450597283931887$$"
      ],
      "text/plain": [
       "1.00078874021914⋅w₀ + 0.000605210508901364⋅w₁ - 0.450597283931887"
      ]
     },
     "metadata": {},
     "output_type": "display_data"
    },
    {
     "data": {
      "image/png": "[encoded data removed]",
      "text/latex": [
       "$$0$$"
      ],
      "text/plain": [
       "0"
      ]
     },
     "metadata": {},
     "output_type": "display_data"
    },
    {
     "data": {
      "text/plain": [
       "'vs'"
      ]
     },
     "metadata": {},
     "output_type": "display_data"
    },
    {
     "data": {
      "image/png": "[encoded data removed]",
      "text/latex": [
       "$$0.00234215139886105 w_{0} - 0.000425209126713282 w_{1} - 0.00150148905379579$$"
      ],
      "text/plain": [
       "0.00234215139886105⋅w₀ - 0.000425209126713282⋅w₁ - 0.00150148905379579"
      ]
     },
     "metadata": {},
     "output_type": "display_data"
    },
    {
     "data": {
      "image/png": "[encoded data removed]",
      "text/latex": [
       "$$1.0 w_{1} - 0.7$$"
      ],
      "text/plain": [
       "1.0⋅w₁ - 0.7"
      ]
     },
     "metadata": {},
     "output_type": "display_data"
    },
    {
     "data": {
      "text/plain": [
       "'vs'"
      ]
     },
     "metadata": {},
     "output_type": "display_data"
    },
    {
     "data": {
      "image/png": "[encoded data removed]",
      "text/latex": [
       "$$0.000605210508901364 w_{0} + 0.999975094246205 w_{1} - 0.700359325076088$$"
      ],
      "text/plain": [
       "0.000605210508901364⋅w₀ + 0.999975094246205⋅w₁ - 0.700359325076088"
      ]
     },
     "metadata": {},
     "output_type": "display_data"
    },
    {
     "data": {
      "image/png": "[encoded data removed]",
      "text/latex": [
       "$$0$$"
      ],
      "text/plain": [
       "0"
      ]
     },
     "metadata": {},
     "output_type": "display_data"
    },
    {
     "data": {
      "text/plain": [
       "'vs'"
      ]
     },
     "metadata": {},
     "output_type": "display_data"
    },
    {
     "data": {
      "image/png": "[encoded data removed]",
      "text/latex": [
       "$$0.000427997967832229 w_{0} + 1.74499048155437 \\cdot 10^{-5} w_{1} - 0.000314544894403781$$"
      ],
      "text/plain": [
       "0.000427997967832229⋅w₀ + 1.74499048155437e-5⋅w₁ - 0.000314544894403781"
      ]
     },
     "metadata": {},
     "output_type": "display_data"
    },
    {
     "data": {
      "image/png": "[encoded data removed]",
      "text/latex": [
       "$$3.0 w_{0}^{2} + 3.0 w_{1}^{2} - 2.4375$$"
      ],
      "text/plain": [
       "      2         2         \n",
       "3.0⋅w₀  + 3.0⋅w₁  - 2.4375"
      ]
     },
     "metadata": {},
     "output_type": "display_data"
    },
    {
     "data": {
      "text/plain": [
       "'vs'"
      ]
     },
     "metadata": {},
     "output_type": "display_data"
    },
    {
     "data": {
      "image/png": "[encoded data removed]",
      "text/latex": [
       "$$2.98142073945209 w_{0}^{2} + 0.0172214936487771 w_{0} w_{1} + 2.99062562443108 w_{1}^{2} - 2.43231902028403$$"
      ],
      "text/plain": [
       "                   2                                                 2        \n",
       "2.98142073945209⋅w₀  + 0.0172214936487771⋅w₀⋅w₁ + 2.99062562443108⋅w₁  - 2.432\n",
       "\n",
       "           \n",
       "31902028403"
      ]
     },
     "metadata": {},
     "output_type": "display_data"
    },
    {
     "data": {
      "image/png": "[encoded data removed]",
      "text/latex": [
       "$$0$$"
      ],
      "text/plain": [
       "0"
      ]
     },
     "metadata": {},
     "output_type": "display_data"
    },
    {
     "data": {
      "text/plain": [
       "'vs'"
      ]
     },
     "metadata": {},
     "output_type": "display_data"
    },
    {
     "data": {
      "image/png": "[encoded data removed]",
      "text/latex": [
       "$$- 0.00703938227343515 w_{0}^{2} + 0.0206204396950597 w_{0} w_{1} + 0.000120187746022183 w_{1}^{2} - 2.80252763011126 \\cdot 10^{-5}$$"
      ],
      "text/plain": [
       "                        2                                                     \n",
       "- 0.00703938227343515⋅w₀  + 0.0206204396950597⋅w₀⋅w₁ + 0.000120187746022183⋅w₁\n",
       "\n",
       "2                      \n",
       "  - 2.80252763011126e-5"
      ]
     },
     "metadata": {},
     "output_type": "display_data"
    },
    {
     "data": {
      "image/png": "[encoded data removed]",
      "text/latex": [
       "$$3.0 w_{0}^{2} + 1.0 w_{1}^{2} - 1.3375$$"
      ],
      "text/plain": [
       "      2         2         \n",
       "3.0⋅w₀  + 1.0⋅w₁  - 1.3375"
      ]
     },
     "metadata": {},
     "output_type": "display_data"
    },
    {
     "data": {
      "text/plain": [
       "'vs'"
      ]
     },
     "metadata": {},
     "output_type": "display_data"
    },
    {
     "data": {
      "image/png": "[encoded data removed]",
      "text/latex": [
       "$$3.00334380649006 w_{0}^{2} + 0.00488798662780803 w_{0} w_{1} + 0.999562210422932 w_{1}^{2} - 1.33863442440929$$"
      ],
      "text/plain": [
       "                   2                                                   2      \n",
       "3.00334380649006⋅w₀  + 0.00488798662780803⋅w₀⋅w₁ + 0.999562210422932⋅w₁  - 1.3\n",
       "\n",
       "             \n",
       "3863442440929"
      ]
     },
     "metadata": {},
     "output_type": "display_data"
    },
    {
     "data": {
      "image/png": "[encoded data removed]",
      "text/latex": [
       "$$0$$"
      ],
      "text/plain": [
       "0"
      ]
     },
     "metadata": {},
     "output_type": "display_data"
    },
    {
     "data": {
      "text/plain": [
       "'vs'"
      ]
     },
     "metadata": {},
     "output_type": "display_data"
    },
    {
     "data": {
      "image/png": "[encoded data removed]",
      "text/latex": [
       "$$0.0103102198475299 w_{0}^{2} + 0.000240375492044366 w_{0} w_{1} + 0.0132874325071195 w_{1}^{2} - 0.00588479057434718$$"
      ],
      "text/plain": [
       "                     2                                                     2  \n",
       "0.0103102198475299⋅w₀  + 0.000240375492044366⋅w₀⋅w₁ + 0.0132874325071195⋅w₁  -\n",
       "\n",
       "                    \n",
       " 0.00588479057434718"
      ]
     },
     "metadata": {},
     "output_type": "display_data"
    },
    {
     "data": {
      "image/png": "[encoded data removed]",
      "text/latex": [
       "$$2.0 w_{0} w_{1} - 0.51$$"
      ],
      "text/plain": [
       "2.0⋅w₀⋅w₁ - 0.51"
      ]
     },
     "metadata": {},
     "output_type": "display_data"
    },
    {
     "data": {
      "text/plain": [
       "'vs'"
      ]
     },
     "metadata": {},
     "output_type": "display_data"
    },
    {
     "data": {
      "image/png": "[encoded data removed]",
      "text/latex": [
       "$$0.00244399331390401 w_{0}^{2} + 1.99912442084586 w_{0} w_{1} + 0.00124074898584889 w_{1}^{2} - 0.510335406572107$$"
      ],
      "text/plain": [
       "                      2                                                  2    \n",
       "0.00244399331390401⋅w₀  + 1.99912442084586⋅w₀⋅w₁ + 0.00124074898584889⋅w₁  - 0\n",
       "\n",
       "                \n",
       ".510335406572107"
      ]
     },
     "metadata": {},
     "output_type": "display_data"
    },
    {
     "data": {
      "image/png": "[encoded data removed]",
      "text/latex": [
       "$$0$$"
      ],
      "text/plain": [
       "0"
      ]
     },
     "metadata": {},
     "output_type": "display_data"
    },
    {
     "data": {
      "text/plain": [
       "'vs'"
      ]
     },
     "metadata": {},
     "output_type": "display_data"
    },
    {
     "data": {
      "image/png": "[encoded data removed]",
      "text/latex": [
       "$$0.00170187772522357 w_{0}^{2} - 0.00153015094231935 w_{0} w_{1} + 0.00234215139886105 w_{1}^{2} - 8.85879239041847 \\cdot 10^{-5}$$"
      ],
      "text/plain": [
       "                      2                                                     2 \n",
       "0.00170187772522357⋅w₀  - 0.00153015094231935⋅w₀⋅w₁ + 0.00234215139886105⋅w₁  \n",
       "\n",
       "                     \n",
       "- 8.85879239041847e-5"
      ]
     },
     "metadata": {},
     "output_type": "display_data"
    },
    {
     "data": {
      "image/png": "[encoded data removed]",
      "text/latex": [
       "$$1.0 w_{0}^{2} + 3.0 w_{1}^{2} - 1.9125$$"
      ],
      "text/plain": [
       "      2         2         \n",
       "1.0⋅w₀  + 3.0⋅w₁  - 1.9125"
      ]
     },
     "metadata": {},
     "output_type": "display_data"
    },
    {
     "data": {
      "text/plain": [
       "'vs'"
      ]
     },
     "metadata": {},
     "output_type": "display_data"
    },
    {
     "data": {
      "image/png": "[encoded data removed]",
      "text/latex": [
       "$$0.999562210422932 w_{0}^{2} + 0.00248149797169779 w_{0} w_{1} + 2.9987911188244 w_{1}^{2} - 1.91189802546943$$"
      ],
      "text/plain": [
       "                    2                                                 2       \n",
       "0.999562210422932⋅w₀  + 0.00248149797169779⋅w₀⋅w₁ + 2.9987911188244⋅w₁  - 1.91\n",
       "\n",
       "            \n",
       "189802546943"
      ]
     },
     "metadata": {},
     "output_type": "display_data"
    },
    {
     "data": {
      "image/png": "[encoded data removed]",
      "text/latex": [
       "$$0$$"
      ],
      "text/plain": [
       "0"
      ]
     },
     "metadata": {},
     "output_type": "display_data"
    },
    {
     "data": {
      "text/plain": [
       "'vs'"
      ]
     },
     "metadata": {},
     "output_type": "display_data"
    },
    {
     "data": {
      "image/png": "[encoded data removed]",
      "text/latex": [
       "$$- 0.000765075471159677 w_{0}^{2} + 0.0046843027977221 w_{0} w_{1} - 0.000425209126713282 w_{1}^{2} - 0.000956627200480493$$"
      ],
      "text/plain": [
       "                         2                                                    \n",
       "- 0.000765075471159677⋅w₀  + 0.0046843027977221⋅w₀⋅w₁ - 0.000425209126713282⋅w\n",
       "\n",
       " 2                       \n",
       "₁  - 0.000956627200480493"
      ]
     },
     "metadata": {},
     "output_type": "display_data"
    },
    {
     "data": {
      "image/png": "[encoded data removed]",
      "text/latex": [
       "$$1.0 w_{0}^{2} + 1.0 w_{1}^{2} - 0.8125$$"
      ],
      "text/plain": [
       "      2         2         \n",
       "1.0⋅w₀  + 1.0⋅w₁  - 0.8125"
      ]
     },
     "metadata": {},
     "output_type": "display_data"
    },
    {
     "data": {
      "text/plain": [
       "'vs'"
      ]
     },
     "metadata": {},
     "output_type": "display_data"
    },
    {
     "data": {
      "image/png": "[encoded data removed]",
      "text/latex": [
       "$$1.00078874021914 w_{0}^{2} + 0.00121042101780273 w_{0} w_{1} + 0.999975094246205 w_{1}^{2} - 0.812956445666682$$"
      ],
      "text/plain": [
       "                   2                                                   2      \n",
       "1.00078874021914⋅w₀  + 0.00121042101780273⋅w₀⋅w₁ + 0.999975094246205⋅w₁  - 0.8\n",
       "\n",
       "              \n",
       "12956445666682"
      ]
     },
     "metadata": {},
     "output_type": "display_data"
    },
    {
     "data": {
      "image/png": "[encoded data removed]",
      "text/latex": [
       "$$0$$"
      ],
      "text/plain": [
       "0"
      ]
     },
     "metadata": {},
     "output_type": "display_data"
    },
    {
     "data": {
      "text/plain": [
       "'vs'"
      ]
     },
     "metadata": {},
     "output_type": "display_data"
    },
    {
     "data": {
      "image/png": "[encoded data removed]",
      "text/latex": [
       "$$0.0642926070838082 w_{0}^{3} - 0.00704113099562175 w_{0}^{2} w_{1} + 0.146510998734696 w_{0} w_{1}^{2} + 0.0164555940252425 w_{1}^{3} - 0.0324280708744831$$"
      ],
      "text/plain": [
       "                     3                         2                             2\n",
       "0.0642926070838082⋅w₀  - 0.00704113099562175⋅w₀ ⋅w₁ + 0.146510998734696⋅w₀⋅w₁ \n",
       "\n",
       "                        3                     \n",
       " + 0.0164555940252425⋅w₁  - 0.0324280708744831"
      ]
     },
     "metadata": {},
     "output_type": "display_data"
    },
    {
     "data": {
      "image/png": "[encoded data removed]",
      "text/latex": [
       "$$9.0 w_{0}^{2} w_{1} + 3.0 w_{1}^{3} - 2.50275$$"
      ],
      "text/plain": [
       "      2            3          \n",
       "9.0⋅w₀ ⋅w₁ + 3.0⋅w₁  - 2.50275"
      ]
     },
     "metadata": {},
     "output_type": "display_data"
    },
    {
     "data": {
      "text/plain": [
       "'vs'"
      ]
     },
     "metadata": {},
     "output_type": "display_data"
    },
    {
     "data": {
      "image/png": "[encoded data removed]",
      "text/latex": [
       "$$0.0177066028553612 w_{0}^{3} + 8.94426221835627 w_{0}^{2} w_{1} + 0.0258322404731657 w_{0} w_{1}^{2} + 2.99062562443108 w_{1}^{3} - 2.49532382421735$$"
      ],
      "text/plain": [
       "                     3                      2                              2  \n",
       "0.0177066028553612⋅w₀  + 8.94426221835627⋅w₀ ⋅w₁ + 0.0258322404731657⋅w₀⋅w₁  +\n",
       "\n",
       "                    3                   \n",
       " 2.99062562443108⋅w₁  - 2.49532382421735"
      ]
     },
     "metadata": {},
     "output_type": "display_data"
    },
    {
     "data": {
      "image/png": "[encoded data removed]",
      "text/latex": [
       "$$0$$"
      ],
      "text/plain": [
       "0"
      ]
     },
     "metadata": {},
     "output_type": "display_data"
    },
    {
     "data": {
      "text/plain": [
       "'vs'"
      ]
     },
     "metadata": {},
     "output_type": "display_data"
    },
    {
     "data": {
      "image/png": "[encoded data removed]",
      "text/latex": [
       "$$- 0.0011670317932667 w_{0}^{3} - 0.0211181468203055 w_{0}^{2} w_{1} + 0.0309306595425896 w_{0} w_{1}^{2} + 0.000120187746022183 w_{1}^{3} + 0.010220822915653$$"
      ],
      "text/plain": [
       "                       3                        2                             \n",
       "- 0.0011670317932667⋅w₀  - 0.0211181468203055⋅w₀ ⋅w₁ + 0.0309306595425896⋅w₀⋅w\n",
       "\n",
       " 2                          3                    \n",
       "₁  + 0.000120187746022183⋅w₁  + 0.010220822915653"
      ]
     },
     "metadata": {},
     "output_type": "display_data"
    },
    {
     "data": {
      "image/png": "[encoded data removed]",
      "text/latex": [
       "$$3.0 w_{0}^{3} + 9.0 w_{0} w_{1}^{2} - 2.059875$$"
      ],
      "text/plain": [
       "      3            2           \n",
       "3.0⋅w₀  + 9.0⋅w₀⋅w₁  - 2.059875"
      ]
     },
     "metadata": {},
     "output_type": "display_data"
    },
    {
     "data": {
      "text/plain": [
       "'vs'"
      ]
     },
     "metadata": {},
     "output_type": "display_data"
    },
    {
     "data": {
      "image/png": "[encoded data removed]",
      "text/latex": [
       "$$2.98142073945209 w_{0}^{3} + 0.0258322404731657 w_{0}^{2} w_{1} + 8.97187687329324 w_{0} w_{1}^{2} - 0.0108582213372618 w_{1}^{3} - 2.04286543289613$$"
      ],
      "text/plain": [
       "                   3                        2                            2    \n",
       "2.98142073945209⋅w₀  + 0.0258322404731657⋅w₀ ⋅w₁ + 8.97187687329324⋅w₀⋅w₁  - 0\n",
       "\n",
       "                    3                   \n",
       ".0108582213372618⋅w₁  - 2.04286543289613"
      ]
     },
     "metadata": {},
     "output_type": "display_data"
    },
    {
     "data": {
      "image/png": "[encoded data removed]",
      "text/latex": [
       "$$0$$"
      ],
      "text/plain": [
       "0"
      ]
     },
     "metadata": {},
     "output_type": "display_data"
    },
    {
     "data": {
      "text/plain": [
       "'vs'"
      ]
     },
     "metadata": {},
     "output_type": "display_data"
    },
    {
     "data": {
      "image/png": "[encoded data removed]",
      "text/latex": [
       "$$- 0.00703938227343515 w_{0}^{3} + 0.0309306595425896 w_{0}^{2} w_{1} + 0.000360563238066549 w_{0} w_{1}^{2} + 0.0132874325071195 w_{1}^{3} - 0.00169569247528841$$"
      ],
      "text/plain": [
       "                        3                        2                            \n",
       "- 0.00703938227343515⋅w₀  + 0.0309306595425896⋅w₀ ⋅w₁ + 0.000360563238066549⋅w\n",
       "\n",
       "    2                        3                      \n",
       "₀⋅w₁  + 0.0132874325071195⋅w₁  - 0.00169569247528841"
      ]
     },
     "metadata": {},
     "output_type": "display_data"
    },
    {
     "data": {
      "image/png": "[encoded data removed]",
      "text/latex": [
       "$$3.0 w_{0}^{3} + 3.0 w_{0} w_{1}^{2} - 1.042875$$"
      ],
      "text/plain": [
       "      3            2           \n",
       "3.0⋅w₀  + 3.0⋅w₀⋅w₁  - 1.042875"
      ]
     },
     "metadata": {},
     "output_type": "display_data"
    },
    {
     "data": {
      "text/plain": [
       "'vs'"
      ]
     },
     "metadata": {},
     "output_type": "display_data"
    },
    {
     "data": {
      "image/png": "[encoded data removed]",
      "text/latex": [
       "$$3.00334380649006 w_{0}^{3} + 0.00733197994171204 w_{0}^{2} w_{1} + 2.9986866312688 w_{0} w_{1}^{2} + 0.00124074898584889 w_{1}^{3} - 1.04329431239312$$"
      ],
      "text/plain": [
       "                   3                         2                           2    \n",
       "3.00334380649006⋅w₀  + 0.00733197994171204⋅w₀ ⋅w₁ + 2.9986866312688⋅w₀⋅w₁  + 0\n",
       "\n",
       "                     3                   \n",
       ".00124074898584889⋅w₁  - 1.04329431239312"
      ]
     },
     "metadata": {},
     "output_type": "display_data"
    },
    {
     "data": {
      "image/png": "[encoded data removed]",
      "text/latex": [
       "$$0$$"
      ],
      "text/plain": [
       "0"
      ]
     },
     "metadata": {},
     "output_type": "display_data"
    },
    {
     "data": {
      "text/plain": [
       "'vs'"
      ]
     },
     "metadata": {},
     "output_type": "display_data"
    },
    {
     "data": {
      "image/png": "[encoded data removed]",
      "text/latex": [
       "$$0.0103102198475299 w_{0}^{3} + 0.000360563238066549 w_{0}^{2} w_{1} + 0.0398622975213585 w_{0} w_{1}^{2} - 0.0124350155817309 w_{1}^{3} - 0.0083163416656423$$"
      ],
      "text/plain": [
       "                     3                          2                             \n",
       "0.0103102198475299⋅w₀  + 0.000360563238066549⋅w₀ ⋅w₁ + 0.0398622975213585⋅w₀⋅w\n",
       "\n",
       " 2                        3                     \n",
       "₁  - 0.0124350155817309⋅w₁  - 0.0083163416656423"
      ]
     },
     "metadata": {},
     "output_type": "display_data"
    },
    {
     "data": {
      "image/png": "[encoded data removed]",
      "text/latex": [
       "$$3.0 w_{0}^{2} w_{1} + 3.0 w_{1}^{3} - 1.76025$$"
      ],
      "text/plain": [
       "      2            3          \n",
       "3.0⋅w₀ ⋅w₁ + 3.0⋅w₁  - 1.76025"
      ]
     },
     "metadata": {},
     "output_type": "display_data"
    },
    {
     "data": {
      "text/plain": [
       "'vs'"
      ]
     },
     "metadata": {},
     "output_type": "display_data"
    },
    {
     "data": {
      "image/png": "[encoded data removed]",
      "text/latex": [
       "$$0.00244399331390401 w_{0}^{3} + 2.9986866312688 w_{0}^{2} w_{1} + 0.00372224695754668 w_{0} w_{1}^{2} + 2.9987911188244 w_{1}^{3} - 1.75969033775229$$"
      ],
      "text/plain": [
       "                      3                     2                               2 \n",
       "0.00244399331390401⋅w₀  + 2.9986866312688⋅w₀ ⋅w₁ + 0.00372224695754668⋅w₀⋅w₁  \n",
       "\n",
       "                    3                   \n",
       "+ 2.9987911188244⋅w₁  - 1.75969033775229"
      ]
     },
     "metadata": {},
     "output_type": "display_data"
    },
    {
     "data": {
      "image/png": "[encoded data removed]",
      "text/latex": [
       "$$0$$"
      ],
      "text/plain": [
       "0"
      ]
     },
     "metadata": {},
     "output_type": "display_data"
    },
    {
     "data": {
      "text/plain": [
       "'vs'"
      ]
     },
     "metadata": {},
     "output_type": "display_data"
    },
    {
     "data": {
      "image/png": "[encoded data removed]",
      "text/latex": [
       "$$0.00170187772522357 w_{0}^{3} - 0.00229522641347903 w_{0}^{2} w_{1} + 0.00702645419658315 w_{0} w_{1}^{2} - 0.000425209126713282 w_{1}^{3} - 0.000390285126899282$$"
      ],
      "text/plain": [
       "                      3                         2                             \n",
       "0.00170187772522357⋅w₀  - 0.00229522641347903⋅w₀ ⋅w₁ + 0.00702645419658315⋅w₀⋅\n",
       "\n",
       "  2                          3                       \n",
       "w₁  - 0.000425209126713282⋅w₁  - 0.000390285126899282"
      ]
     },
     "metadata": {},
     "output_type": "display_data"
    }
   ],
   "source": [
    "for c1, c2 in zip(constrs,constrs_sdp):\n",
    "    display(c1,\"vs\", c2)"
   ]
  },
  {
   "cell_type": "code",
   "execution_count": null,
   "metadata": {
    "collapsed": false
   },
   "outputs": [],
   "source": [
    "import scipy as sc\n",
    "import numpy.linalg\n",
    "np.linalg.matrix_rank((M.numeric_instance(solsdp['x'])), 1e-2)"
   ]
  },
  {
   "cell_type": "code",
   "execution_count": null,
   "metadata": {
    "collapsed": false
   },
   "outputs": [],
   "source": [
    "M.row_monos"
   ]
  },
  {
   "cell_type": "code",
   "execution_count": null,
   "metadata": {
    "collapsed": false
   },
   "outputs": [],
   "source": [
    "M.numeric_instance(solsdp['x'])"
   ]
  },
  {
   "cell_type": "code",
   "execution_count": null,
   "metadata": {
    "collapsed": false
   },
   "outputs": [],
   "source": [
    "moments_y"
   ]
  },
  {
   "cell_type": "code",
   "execution_count": null,
   "metadata": {
    "collapsed": true
   },
   "outputs": [],
   "source": [
    "moments_x_true = expected_gaussian_moments(sigma, alphas_)\n",
    "moments_y_true = expected_moments_y(ws, pis, moments_x, alphabs)"
   ]
  },
  {
   "cell_type": "code",
   "execution_count": null,
   "metadata": {
    "collapsed": false
   },
   "outputs": [],
   "source": [
    "for key in moments_y:\n",
    "    display(key, abs(moments_y[key] - moments_y_true[key]))"
   ]
  },
  {
   "cell_type": "code",
   "execution_count": null,
   "metadata": {
    "collapsed": true
   },
   "outputs": [],
   "source": []
  }
 ],
 "metadata": {
  "kernelspec": {
   "display_name": "Python 2",
   "language": "python",
   "name": "python2"
  },
  "language_info": {
   "codemirror_mode": {
    "name": "ipython",
    "version": 2
   },
   "file_extension": ".py",
   "mimetype": "text/x-python",
   "name": "python",
   "nbconvert_exporter": "python",
   "pygments_lexer": "ipython2",
   "version": "2.7.9"
  }
 },
 "nbformat": 4,
 "nbformat_minor": 0
}
