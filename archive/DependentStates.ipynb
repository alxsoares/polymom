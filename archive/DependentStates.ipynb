{
 "cells": [
  {
   "cell_type": "markdown",
   "metadata": {},
   "source": [
    "# Handling dependent states\n",
    "\n",
    "This note explores the recovering parameters when measuring moments across dependent states."
   ]
  },
  {
   "cell_type": "markdown",
   "metadata": {},
   "source": [
    "This block contains $\\LaTeX$ macros.\n",
    "\n",
    "$\\newcommand{\\E}{\\mathbb{E}}$\n",
    "$\\newcommand{\\given}{\\mid}$"
   ]
  },
  {
   "cell_type": "markdown",
   "metadata": {},
   "source": [
    "## Setup\n",
    "\n",
    "Let $h_1, h_2, h_3$ be three latent variables producing observed variables $x_1, x_2, x_3$ with the same conditional distribution: $P(x_1 = i \\given h_1 = j) = P(x_2 = i \\given h_2 = j) = P(x_3 \\given h_3 = j) = O_{ij}$. Given moments of the form $\\E[x_1], \\E[x_2], \\E[x_1 x_2], \\dots$, we wish to recover $O$. \n",
    "\n",
    "First, note that if $P(h_1) = P(h_2) = P(h_3)$, then this is equivalent to the three-view mixture problem which we know how to solve.\n",
    "\n",
    "Second, note that if the latent variables are mutually independent: $h_1 \\perp h_2 \\perp h_3$, then we receive no further information from additional moments and the problem is simply not identifiable.\n",
    "\n",
    "Thus, the interesting scenario is when $h_1, h_2, h_3$ have some mutual dependence."
   ]
  },
  {
   "cell_type": "code",
   "execution_count": null,
   "metadata": {
    "collapsed": true
   },
   "outputs": [],
   "source": []
  }
 ],
 "metadata": {
  "kernelspec": {
   "display_name": "Python 2",
   "language": "python",
   "name": "python2"
  },
  "language_info": {
   "codemirror_mode": {
    "name": "ipython",
    "version": 2
   },
   "file_extension": ".py",
   "mimetype": "text/x-python",
   "name": "python",
   "nbconvert_exporter": "python",
   "pygments_lexer": "ipython2",
   "version": "2.7.5+"
  }
 },
 "nbformat": 4,
 "nbformat_minor": 0
}
