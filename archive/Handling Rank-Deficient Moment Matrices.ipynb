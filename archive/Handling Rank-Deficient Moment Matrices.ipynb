{
 "cells": [
  {
   "cell_type": "markdown",
   "metadata": {},
   "source": [
    "# Multiplication Matrix method\n",
    "\n",
    "\n",
    "In this document, we will exploit the property:\n",
    "\\begin{align*}\n",
    "C_x \n",
    "   \\begin{bmatrix}\n",
    "      1 & x & \\dots & x^{k-1} \\\\\n",
    "      \\vdots & \\vdots & \\vdots \\\\\n",
    "      x^{k-1} & x^{k} & \\dots & x^{2k-2}\n",
    "   \\end{bmatrix}\n",
    "   &= \n",
    "   \\begin{bmatrix}\n",
    "      x & x^2 & \\dots & x^{k} \\\\\n",
    "      \\vdots & \\vdots & \\vdots \\\\\n",
    "      x^{k} & x^{k+1} & \\dots & x^{2k}\n",
    "   \\end{bmatrix}.\n",
    "\\end{align*}\n",
    "\n",
    "Let $M$ and $M_+$ be the two matrices so that we can write concisely, $C_x M = M_+$. Now, consider $M' = \\sum_{i=1}^k \\pi_i M(x_i)$, where $x_i$ are the solutions of $x$: The entries of $M'$ and $M'_+$ are observable. Furthermore, we know through algebraic geometry that $C_x$ is uniquely determined and the eigenvalues of $C_x$ are the values of $x_i$!"
   ]
  },
  {
   "cell_type": "code",
   "execution_count": 40,
   "metadata": {
    "collapsed": true
   },
   "outputs": [],
   "source": [
    "import numpy as np\n",
    "from numpy.linalg import inv, pinv, eigvals\n",
    "np.set_printoptions(precision=3, suppress=True)\n",
    "from IPython.display import display"
   ]
  },
  {
   "cell_type": "markdown",
   "metadata": {},
   "source": [
    "Let's try to derive a multiplication matrix given a set of solutions."
   ]
  },
  {
   "cell_type": "code",
   "execution_count": 23,
   "metadata": {
    "collapsed": false
   },
   "outputs": [],
   "source": [
    "def multiplication_matrix(d, xs, pis = None):\n",
    "    \"\"\"\n",
    "    Construct a d x d multiplication matrix as shown above, \n",
    "    using the values xs = (x_1, ..., x_k) and pis = (pi_1, ... pi_k).\n",
    "    \"\"\"\n",
    "    # Initialize pis appropriately\n",
    "    if pis is not None:\n",
    "        assert len(pis) == len(xs)\n",
    "    else:\n",
    "        pis = np.ones(len(xs))/len(xs)\n",
    "    \n",
    "    M = np.zeros((d,d))\n",
    "    for i in xrange(d):\n",
    "        for j in xrange(d):\n",
    "            for pi, x in zip(pis, xs):\n",
    "                M[i,j] += pi * (x**(i+j))\n",
    "    return M\n",
    "\n",
    "def multiplication_matrix_plus(d, xs, pis = None):\n",
    "    \"\"\"\n",
    "    Construct a d x d multiplication matrix as shown above, \n",
    "    using the values xs = (x_1, ..., x_k) and pis = (pi_1, ... pi_k).\n",
    "    \"\"\"\n",
    "    # Initialize pis appropriately\n",
    "    if pis is not None:\n",
    "        assert len(pis) == len(xs)\n",
    "    else:\n",
    "        pis = np.ones(len(xs))/len(xs)\n",
    "    \n",
    "    M = np.zeros((d,d))\n",
    "    for i in xrange(d):\n",
    "        for j in xrange(d):\n",
    "            for pi, x in zip(pis, xs):\n",
    "                M[i,j] += pi * (x**(i+j+1))\n",
    "    return M"
   ]
  },
  {
   "cell_type": "markdown",
   "metadata": {},
   "source": [
    "Now, let us try to solve a simple case."
   ]
  },
  {
   "cell_type": "code",
   "execution_count": 48,
   "metadata": {
    "collapsed": false
   },
   "outputs": [
    {
     "data": {
      "text/plain": [
       "array([[  1.   ,   2.   ,   4.667],\n",
       "       [  2.   ,   4.667,  12.   ],\n",
       "       [  4.667,  12.   ,  32.667]])"
      ]
     },
     "metadata": {},
     "output_type": "display_data"
    },
    {
     "data": {
      "text/plain": [
       "array([[  2.   ,   4.667,  12.   ],\n",
       "       [  4.667,  12.   ,  32.667],\n",
       "       [ 12.   ,  32.667,  92.   ]])"
      ]
     },
     "metadata": {},
     "output_type": "display_data"
    },
    {
     "data": {
      "text/plain": [
       "array([[ -0.,  -0.,   6.],\n",
       "       [  1.,   0., -11.],\n",
       "       [ -0.,   1.,   6.]])"
      ]
     },
     "metadata": {},
     "output_type": "display_data"
    },
    {
     "data": {
      "text/plain": [
       "array([ 1.,  2.,  3.])"
      ]
     },
     "metadata": {},
     "output_type": "display_data"
    }
   ],
   "source": [
    "d, xs, pis = 3, [1, 2, 3], None\n",
    "M = multiplication_matrix(d, xs, pis)\n",
    "M_ = multiplication_matrix_plus(d, xs, pis)\n",
    "display(M)\n",
    "display(M_)\n",
    "C = pinv(M).dot(M_)\n",
    "display(C)\n",
    "xs_ = eigvals(C)\n",
    "display(xs_)"
   ]
  },
  {
   "cell_type": "markdown",
   "metadata": {},
   "source": [
    "What happens if we increase the number of moments we have?"
   ]
  },
  {
   "cell_type": "code",
   "execution_count": 72,
   "metadata": {
    "collapsed": false
   },
   "outputs": [
    {
     "data": {
      "text/plain": [
       "array([[ 1.   ,  0.217,  0.374,  0.207,  0.241],\n",
       "       [ 0.217,  0.374,  0.207,  0.241,  0.187],\n",
       "       [ 0.374,  0.207,  0.241,  0.187,  0.182],\n",
       "       [ 0.207,  0.241,  0.187,  0.182,  0.157],\n",
       "       [ 0.241,  0.187,  0.182,  0.157,  0.145]])"
      ]
     },
     "metadata": {},
     "output_type": "display_data"
    },
    {
     "data": {
      "text/plain": [
       "array([[ 0.217,  0.374,  0.207,  0.241,  0.187],\n",
       "       [ 0.374,  0.207,  0.241,  0.187,  0.182],\n",
       "       [ 0.207,  0.241,  0.187,  0.182,  0.157],\n",
       "       [ 0.241,  0.187,  0.182,  0.157,  0.145],\n",
       "       [ 0.187,  0.182,  0.157,  0.145,  0.128]])"
      ]
     },
     "metadata": {},
     "output_type": "display_data"
    },
    {
     "data": {
      "text/plain": [
       "array([[ 0.025,  0.06 , -0.064, -0.023, -0.044],\n",
       "       [ 0.921, -0.143,  0.227, -0.006,  0.091],\n",
       "       [-0.143,  0.521,  0.282,  0.382,  0.288],\n",
       "       [ 0.227,  0.282,  0.27 ,  0.249,  0.224],\n",
       "       [-0.006,  0.382,  0.249,  0.296,  0.237]])"
      ]
     },
     "metadata": {},
     "output_type": "display_data"
    },
    {
     "data": {
      "text/plain": [
       "array([ 0.9 , -0.5 ,  0.25,  0.  ,  0.  ])"
      ]
     },
     "metadata": {},
     "output_type": "display_data"
    }
   ],
   "source": [
    "d, xs, pis = 5, [-0.5, .25, .9], None\n",
    "M = multiplication_matrix(d, xs, pis)\n",
    "M_ = multiplication_matrix_plus(d, xs, pis)\n",
    "display(M)\n",
    "display(M_)\n",
    "C = pinv(M).dot(M_)\n",
    "display(C)\n",
    "xs_ = eigvals(C)\n",
    "display(xs_)"
   ]
  },
  {
   "cell_type": "markdown",
   "metadata": {},
   "source": [
    "So, we find that with extra moments, the pseudo-inverse gives us solutions that are extra zeros (comes from a rank deficiency)."
   ]
  },
  {
   "cell_type": "markdown",
   "metadata": {},
   "source": [
    "Another way to see this is that the multiplication matrix of the rank-deficient problem, $C'$, has the structure:\n",
    "\\begin{align*}\n",
    "C' &= \\Omega^{-1} \\begin{bmatrix} C & 0 \\\\ 0 & 0 \\end{bmatrix} \\Omega,\n",
    "\\end{align*}\n",
    "where $\\Omega$ is any invertible matrix. Thus, we have the following relation:\n",
    "\\begin{align*}\n",
    "\\Omega^{-1} \\begin{bmatrix} C & 0 \\\\ 0 & 0 \\end{bmatrix} \\Omega M &= M_+ \\\\\n",
    "\\begin{bmatrix} C & 0 \\\\ 0 & 0 \\end{bmatrix} \\Omega M &= \\Omega M_+ \\\\\n",
    "C \\Omega_k M &= \\Omega_k M_+,\n",
    "\\end{align*}\n",
    "where $\\Omega_k$ is the $k \\times d$ sub-matrix of $\\Omega$.\n",
    "\n",
    "In other words, there is some projection $\\Omega_k$ that reduces the system to solving two $k \\times d$ matrices."
   ]
  },
  {
   "cell_type": "markdown",
   "metadata": {},
   "source": [
    "A random unitary transformation should recover it for us though."
   ]
  },
  {
   "cell_type": "code",
   "execution_count": 86,
   "metadata": {
    "collapsed": false
   },
   "outputs": [
    {
     "data": {
      "text/plain": [
       "array([[ 0.023, -0.099,  0.035],\n",
       "       [-0.099,  0.448, -0.075],\n",
       "       [ 0.035, -0.075,  0.236]])"
      ]
     },
     "metadata": {},
     "output_type": "display_data"
    },
    {
     "data": {
      "text/plain": [
       "array([[ 0.018, -0.081,  0.017],\n",
       "       [-0.081,  0.351, -0.111],\n",
       "       [ 0.017, -0.111, -0.066]])"
      ]
     },
     "metadata": {},
     "output_type": "display_data"
    },
    {
     "data": {
      "text/plain": [
       "array([[ -8.156,  29.003, -29.342],\n",
       "       [ -1.868,   6.751,  -6.387],\n",
       "       [  0.691,  -2.639,   2.056]])"
      ]
     },
     "metadata": {},
     "output_type": "display_data"
    },
    {
     "data": {
      "text/plain": [
       "array([ 0.9 ,  0.25, -0.5 ])"
      ]
     },
     "metadata": {},
     "output_type": "display_data"
    }
   ],
   "source": [
    "import scipy\n",
    "import scipy.linalg\n",
    "from util import orthogonal\n",
    "k = 3\n",
    "U = orthogonal(d)[:k,:]\n",
    "N = U.dot(M).dot(U.T)\n",
    "N_ = U.dot(M_).dot(U.T)\n",
    "display(N)\n",
    "display(N_)\n",
    "D = inv(N).dot(N_)\n",
    "display(D)\n",
    "ys_ = eigvals(D)\n",
    "display(ys_)"
   ]
  }
 ],
 "metadata": {
  "kernelspec": {
   "display_name": "Python 2",
   "language": "python",
   "name": "python2"
  },
  "language_info": {
   "codemirror_mode": {
    "name": "ipython",
    "version": 2
   },
   "file_extension": ".py",
   "mimetype": "text/x-python",
   "name": "python",
   "nbconvert_exporter": "python",
   "pygments_lexer": "ipython2",
   "version": "2.7.5+"
  }
 },
 "nbformat": 4,
 "nbformat_minor": 0
}
