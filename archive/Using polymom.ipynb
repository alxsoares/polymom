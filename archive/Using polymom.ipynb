{
 "cells": [
  {
   "cell_type": "markdown",
   "metadata": {},
   "source": [
    "# Using polymom\n",
    "\n",
    "This document shows an example of how to use the polymom package."
   ]
  },
  {
   "cell_type": "markdown",
   "metadata": {},
   "source": [
    "First, we need to import `numpy` and `sympy`. The actual border basis computation stuff is in `BorderBasis`. We're also importing some print utiltiies to make the output a little nicer."
   ]
  },
  {
   "cell_type": "code",
   "execution_count": 1,
   "metadata": {
    "collapsed": true
   },
   "outputs": [],
   "source": [
    "from __future__ import print_function\n",
    "import sympy as sp\n",
    "import numpy as np\n",
    "import BorderBasis as BB\n",
    "np.set_printoptions(precision=3)\n",
    "from IPython.display import display, Markdown, Math\n",
    "sp.init_printing()"
   ]
  },
  {
   "cell_type": "markdown",
   "metadata": {},
   "source": [
    "To use the polymom package, first define a ring over a couple of symbols."
   ]
  },
  {
   "cell_type": "code",
   "execution_count": 2,
   "metadata": {
    "collapsed": true
   },
   "outputs": [],
   "source": [
    "R, x, y = sp.ring('x,y', sp.RR, order=sp.grevlex)"
   ]
  },
  {
   "cell_type": "markdown",
   "metadata": {},
   "source": [
    "Next, define an ideal using the symbols above."
   ]
  },
  {
   "cell_type": "code",
   "execution_count": 3,
   "metadata": {
    "collapsed": true
   },
   "outputs": [],
   "source": [
    "I = [ x**2 + y**2 - 1.0, x + y ]"
   ]
  },
  {
   "cell_type": "markdown",
   "metadata": {},
   "source": [
    "Now, pass the ring and ideal to the `BorderBasisFactory`. The factory has a single argument which is the noise tolerance of the approximate border basis algorithm. `1e-5` is usually a pretty good value. The generate routine returns a border basis."
   ]
  },
  {
   "cell_type": "code",
   "execution_count": 8,
   "metadata": {
    "collapsed": false
   },
   "outputs": [],
   "source": [
    "B = BB.BorderBasisFactory(1e-5).generate(R,I)"
   ]
  },
  {
   "cell_type": "markdown",
   "metadata": {},
   "source": [
    "Inspect the border basis by looking at it's generator basis or quotient basis. You can also look at its zero set."
   ]
  },
  {
   "cell_type": "code",
   "execution_count": 9,
   "metadata": {
    "collapsed": false
   },
   "outputs": [
    {
     "name": "stdout",
     "output_type": "stream",
     "text": [
      "=== Generator Basis:\n"
     ]
    },
    {
     "data": {
      "image/png": "[encoded data removed]",
      "text/latex": [
       "$$1.0 x y + 0.5$$"
      ],
      "text/plain": [
       "1.0⋅x⋅y + 0.5"
      ]
     },
     "metadata": {},
     "output_type": "display_data"
    },
    {
     "data": {
      "image/png": "[encoded data removed]",
      "text/latex": [
       "$$1.0 y^{2} - 0.5$$"
      ],
      "text/plain": [
       "     2      \n",
       "1.0⋅y  - 0.5"
      ]
     },
     "metadata": {},
     "output_type": "display_data"
    },
    {
     "data": {
      "image/png": "[encoded data removed]",
      "text/latex": [
       "$$1.0 x + 1.0 y$$"
      ],
      "text/plain": [
       "1.0⋅x + 1.0⋅y"
      ]
     },
     "metadata": {},
     "output_type": "display_data"
    },
    {
     "name": "stdout",
     "output_type": "stream",
     "text": [
      "=== Quotient Basis:\n"
     ]
    },
    {
     "data": {
      "image/png": "[encoded data removed]",
      "text/latex": [
       "$$1.0 y$$"
      ],
      "text/plain": [
       "1.0⋅y"
      ]
     },
     "metadata": {},
     "output_type": "display_data"
    },
    {
     "data": {
      "image/png": "[encoded data removed]",
      "text/latex": [
       "$$1.0$$"
      ],
      "text/plain": [
       "1.00000000000000"
      ]
     },
     "metadata": {},
     "output_type": "display_data"
    },
    {
     "name": "stdout",
     "output_type": "stream",
     "text": [
      "=== Variety:\n",
      "[(x, 0.70710678118654746), (y, -0.70710678118654757)]\n",
      "[(x, -0.70710678118654746), (y, 0.70710678118654757)]\n"
     ]
    }
   ],
   "source": [
    "print(\"=== Generator Basis:\")\n",
    "for f in B.generator_basis:\n",
    "    display(f.as_expr())\n",
    "print(\"=== Quotient Basis:\")\n",
    "for f in B.quotient_basis:\n",
    "    display(f.as_expr())\n",
    "print(\"=== Variety:\")\n",
    "for v in B.zeros():\n",
    "    print(zip(R.symbols, v))"
   ]
  },
  {
   "cell_type": "markdown",
   "metadata": {},
   "source": [
    "To look at the intermediate output (this is quite a bit of a hack), import the globals module and look at the `info` object. The main thing you want to look at is the `Ws` which are set of formulae added during each expansion step."
   ]
  },
  {
   "cell_type": "code",
   "execution_count": 10,
   "metadata": {
    "collapsed": false
   },
   "outputs": [
    {
     "data": {
      "text/markdown": [
       "### Expansion 0, Iteration 0"
      ],
      "text/plain": [
       "<IPython.core.display.Markdown object>"
      ]
     },
     "metadata": {},
     "output_type": "display_data"
    },
    {
     "data": {
      "image/png": "[encoded data removed]",
      "text/latex": [
       "$$0.894427190999916 x y + 0.447213595499958$$"
      ],
      "text/plain": [
       "0.894427190999916⋅x⋅y + 0.447213595499958"
      ]
     },
     "metadata": {},
     "output_type": "display_data"
    },
    {
     "data": {
      "image/png": "[encoded data removed]",
      "text/latex": [
       "$$0.894427190999916 y^{2} - 0.447213595499958$$"
      ],
      "text/plain": [
       "                   2                    \n",
       "0.894427190999916⋅y  - 0.447213595499958"
      ]
     },
     "metadata": {},
     "output_type": "display_data"
    }
   ],
   "source": [
    "import globals # Hacky way I'm keeping track of intermediate information.\n",
    "for stage, iteration, W in globals.info.Ws:\n",
    "    display(Markdown(\"### Expansion %d, Iteration %d\"%(stage, iteration)))\n",
    "    for w in W:\n",
    "        display(globals.info.L.as_poly(w).as_expr())"
   ]
  }
 ],
 "metadata": {
  "kernelspec": {
   "display_name": "Python 2",
   "language": "python",
   "name": "python2"
  },
  "language_info": {
   "codemirror_mode": {
    "name": "ipython",
    "version": 2
   },
   "file_extension": ".py",
   "mimetype": "text/x-python",
   "name": "python",
   "nbconvert_exporter": "python",
   "pygments_lexer": "ipython2",
   "version": "2.7.5+"
  }
 },
 "nbformat": 4,
 "nbformat_minor": 0
}
