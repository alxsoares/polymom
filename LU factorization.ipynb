{
 "cells": [
  {
   "cell_type": "markdown",
   "metadata": {},
   "source": [
    "# LU Factorization\n",
    "\n",
    "In this document, we will explore solving LU factorization using border bases and the companion method.\n",
    "\n",
    "First, we load some preliminary libraries."
   ]
  },
  {
   "cell_type": "code",
   "execution_count": 6,
   "metadata": {
    "collapsed": false
   },
   "outputs": [],
   "source": [
    "from __future__ import print_function\n",
    "import sympy as sp\n",
    "import numpy as np\n",
    "import scipy as sc; import scipy.linalg\n",
    "from scipy.linalg import norm\n",
    "import BorderBasis as BB\n",
    "np.set_printoptions(precision=3)\n",
    "from IPython.display import display, Markdown, Math\n",
    "sp.init_printing()"
   ]
  },
  {
   "cell_type": "markdown",
   "metadata": {},
   "source": [
    "## LU Factorization\n",
    "\n",
    "Let $A$ be a $d \\times d$ matrix with a unique LU factorization $A = LU$, where $L$ and $U$ are respectively upper and lower diagonal."
   ]
  },
  {
   "cell_type": "code",
   "execution_count": 2,
   "metadata": {
    "collapsed": false
   },
   "outputs": [
    {
     "name": "stdout",
     "output_type": "stream",
     "text": [
      "A = \n"
     ]
    },
    {
     "data": {
      "image/png": "[encoded data removed]",
      "text/latex": [
       "$$\\left[\\begin{matrix}-0.669984067527773 & 0.320688894928181 & 1.09527528261088\\\\-0.686077334180822 & 0.645508323001934 & 1.60001743041761\\\\-0.350651305822175 & -0.337052686491128 & 0.606967263290671\\end{matrix}\\right]$$"
      ],
      "text/plain": [
       "⎡-0.669984067527773  0.320688894928181   1.09527528261088 ⎤\n",
       "⎢                                                         ⎥\n",
       "⎢-0.686077334180822  0.645508323001934   1.60001743041761 ⎥\n",
       "⎢                                                         ⎥\n",
       "⎣-0.350651305822175  -0.337052686491128  0.606967263290671⎦"
      ]
     },
     "metadata": {},
     "output_type": "display_data"
    },
    {
     "name": "stdout",
     "output_type": "stream",
     "text": [
      "L = \n"
     ]
    },
    {
     "data": {
      "image/png": "[encoded data removed]",
      "text/latex": [
       "$$\\left[\\begin{matrix}1.0 & 0.0 & 0.0\\\\0.511095890146048 & 1.0 & 0.0\\\\0.976543071966858 & 0.464305880969603 & 1.0\\end{matrix}\\right]$$"
      ],
      "text/plain": [
       "⎡       1.0                0.0         0.0⎤\n",
       "⎢                                         ⎥\n",
       "⎢0.511095890146048         1.0         0.0⎥\n",
       "⎢                                         ⎥\n",
       "⎣0.976543071966858  0.464305880969603  1.0⎦"
      ]
     },
     "metadata": {},
     "output_type": "display_data"
    },
    {
     "name": "stdout",
     "output_type": "stream",
     "text": [
      "U = \n"
     ]
    },
    {
     "data": {
      "image/png": "[encoded data removed]",
      "text/latex": [
       "$$\\left[\\begin{matrix}-0.686077334180822 & 0.645508323001934 & 1.60001743041761\\\\0.0 & -0.666969337432485 & -0.210795069557812\\\\0.0 & 0.0 & -0.36933726361457\\end{matrix}\\right]$$"
      ],
      "text/plain": [
       "⎡-0.686077334180822  0.645508323001934    1.60001743041761 ⎤\n",
       "⎢                                                          ⎥\n",
       "⎢       0.0          -0.666969337432485  -0.210795069557812⎥\n",
       "⎢                                                          ⎥\n",
       "⎣       0.0                 0.0          -0.36933726361457 ⎦"
      ]
     },
     "metadata": {},
     "output_type": "display_data"
    },
    {
     "data": {
      "text/plain": [
       "(None, None)"
      ]
     },
     "execution_count": 2,
     "metadata": {},
     "output_type": "execute_result"
    }
   ],
   "source": [
    "d = 3\n",
    "A = np.random.randn(d,d)\n",
    "_, L, U = sc.linalg.lu(A)\n",
    "print(\"A = \"), display(sp.Matrix(A))\n",
    "print(\"L = \"), display(sp.Matrix(L))\n",
    "print(\"U = \"), display(sp.Matrix(U))\n"
   ]
  },
  {
   "cell_type": "markdown",
   "metadata": {},
   "source": [
    "Let us now encode the entries of $L$ and $U$ as variables and express the constraint $M = L U$ as a polynomial. Note that in our representation, we assume that the diagonal of $L$ is all $1$s. This is required for uniqueness."
   ]
  },
  {
   "cell_type": "code",
   "execution_count": 3,
   "metadata": {
    "collapsed": false
   },
   "outputs": [
    {
     "name": "stdout",
     "output_type": "stream",
     "text": [
      "== Ring: \n"
     ]
    },
    {
     "data": {
      "text/plain": [
       "Polynomial ring in l_21, l_31, l_32, u_11, u_12, u_13, u_22, u_23, u_33 over RR with lex order"
      ]
     },
     "metadata": {},
     "output_type": "display_data"
    },
    {
     "name": "stdout",
     "output_type": "stream",
     "text": [
      "== Ideal: \n"
     ]
    },
    {
     "data": {
      "image/png": "[encoded data removed]",
      "text/latex": [
       "$$1.0 u_{11} + 0.669984067527773$$"
      ],
      "text/plain": [
       "1.0⋅u₁₁ + 0.669984067527773"
      ]
     },
     "metadata": {},
     "output_type": "display_data"
    },
    {
     "data": {
      "image/png": "[encoded data removed]",
      "text/latex": [
       "$$1.0 u_{12} - 0.320688894928181$$"
      ],
      "text/plain": [
       "1.0⋅u₁₂ - 0.320688894928181"
      ]
     },
     "metadata": {},
     "output_type": "display_data"
    },
    {
     "data": {
      "image/png": "[encoded data removed]",
      "text/latex": [
       "$$1.0 u_{13} - 1.09527528261088$$"
      ],
      "text/plain": [
       "1.0⋅u₁₃ - 1.09527528261088"
      ]
     },
     "metadata": {},
     "output_type": "display_data"
    },
    {
     "data": {
      "image/png": "[encoded data removed]",
      "text/latex": [
       "$$1.0 l_{21} u_{11} + 0.686077334180822$$"
      ],
      "text/plain": [
       "1.0⋅l₂₁⋅u₁₁ + 0.686077334180822"
      ]
     },
     "metadata": {},
     "output_type": "display_data"
    },
    {
     "data": {
      "image/png": "[encoded data removed]",
      "text/latex": [
       "$$1.0 l_{21} u_{12} + 1.0 u_{22} - 0.645508323001934$$"
      ],
      "text/plain": [
       "1.0⋅l₂₁⋅u₁₂ + 1.0⋅u₂₂ - 0.645508323001934"
      ]
     },
     "metadata": {},
     "output_type": "display_data"
    },
    {
     "data": {
      "image/png": "[encoded data removed]",
      "text/latex": [
       "$$1.0 l_{21} u_{13} + 1.0 u_{23} - 1.60001743041761$$"
      ],
      "text/plain": [
       "1.0⋅l₂₁⋅u₁₃ + 1.0⋅u₂₃ - 1.60001743041761"
      ]
     },
     "metadata": {},
     "output_type": "display_data"
    },
    {
     "data": {
      "image/png": "[encoded data removed]",
      "text/latex": [
       "$$1.0 l_{31} u_{11} + 0.350651305822175$$"
      ],
      "text/plain": [
       "1.0⋅l₃₁⋅u₁₁ + 0.350651305822175"
      ]
     },
     "metadata": {},
     "output_type": "display_data"
    },
    {
     "data": {
      "image/png": "[encoded data removed]",
      "text/latex": [
       "$$1.0 l_{31} u_{12} + 1.0 l_{32} u_{22} + 0.337052686491128$$"
      ],
      "text/plain": [
       "1.0⋅l₃₁⋅u₁₂ + 1.0⋅l₃₂⋅u₂₂ + 0.337052686491128"
      ]
     },
     "metadata": {},
     "output_type": "display_data"
    },
    {
     "data": {
      "image/png": "[encoded data removed]",
      "text/latex": [
       "$$1.0 l_{31} u_{13} + 1.0 l_{32} u_{23} + 1.0 u_{33} - 0.606967263290671$$"
      ],
      "text/plain": [
       "1.0⋅l₃₁⋅u₁₃ + 1.0⋅l₃₂⋅u₂₃ + 1.0⋅u₃₃ - 0.606967263290671"
      ]
     },
     "metadata": {},
     "output_type": "display_data"
    }
   ],
   "source": [
    "# Define variables.\n",
    "l_vars = [(i,j) for i in xrange(d) for j in xrange(i)]\n",
    "u_vars = [(i,j) for i in xrange(d) for j in xrange(i, d)]\n",
    "syms = [\"l_%d%d\"% (i+1,j+1) for i, j in l_vars] + [\"u_%d%d\"% (i+1,j+1) for i, j in u_vars]\n",
    "R, syms = sp.xring(\",\".join(syms), sp.RR)\n",
    "l_vars_ = dict(zip(l_vars, syms[:len(l_vars)]))\n",
    "u_vars_ = dict(zip(u_vars, syms[len(l_vars):]))\n",
    "\n",
    "# Construct equations.\n",
    "def eqn(i,j):\n",
    "    return sum(l_vars_.get((i,k), 1 if i == k else 0) * u_vars_.get((k,j), 0) for k in xrange(min(i,j)+1))\n",
    "I = [eqn(i,j) - A[i,j] for i in xrange(d) for j in xrange(d)]\n",
    "print(\"== Ring: \"), display(R)\n",
    "print(\"== Ideal: \")\n",
    "for i in I: display(i.as_expr())"
   ]
  },
  {
   "cell_type": "markdown",
   "metadata": {},
   "source": [
    "Now let us find the corresponding border basis."
   ]
  },
  {
   "cell_type": "code",
   "execution_count": 4,
   "metadata": {
    "collapsed": false
   },
   "outputs": [
    {
     "name": "stdout",
     "output_type": "stream",
     "text": [
      "== Generators: \n"
     ]
    },
    {
     "data": {
      "image/png": "[encoded data removed]",
      "text/latex": [
       "$$1.0 l_{21} - 1.02402037217457$$"
      ],
      "text/plain": [
       "1.0⋅l₂₁ - 1.02402037217457"
      ]
     },
     "metadata": {},
     "output_type": "display_data"
    },
    {
     "data": {
      "image/png": "[encoded data removed]",
      "text/latex": [
       "$$1.0 l_{31} - 0.523372603644249$$"
      ],
      "text/plain": [
       "1.0⋅l₃₁ - 0.523372603644249"
      ]
     },
     "metadata": {},
     "output_type": "display_data"
    },
    {
     "data": {
      "image/png": "[encoded data removed]",
      "text/latex": [
       "$$1.0 l_{32} + 1.59213629361944$$"
      ],
      "text/plain": [
       "1.0⋅l₃₂ + 1.59213629361944"
      ]
     },
     "metadata": {},
     "output_type": "display_data"
    },
    {
     "data": {
      "image/png": "[encoded data removed]",
      "text/latex": [
       "$$1.0 u_{11} + 0.669984067527773$$"
      ],
      "text/plain": [
       "1.0⋅u₁₁ + 0.669984067527773"
      ]
     },
     "metadata": {},
     "output_type": "display_data"
    },
    {
     "data": {
      "image/png": "[encoded data removed]",
      "text/latex": [
       "$$1.0 u_{12} - 0.320688894928181$$"
      ],
      "text/plain": [
       "1.0⋅u₁₂ - 0.320688894928181"
      ]
     },
     "metadata": {},
     "output_type": "display_data"
    },
    {
     "data": {
      "image/png": "[encoded data removed]",
      "text/latex": [
       "$$1.0 u_{13} - 1.09527528261088$$"
      ],
      "text/plain": [
       "1.0⋅u₁₃ - 1.09527528261088"
      ]
     },
     "metadata": {},
     "output_type": "display_data"
    },
    {
     "data": {
      "image/png": "[encoded data removed]",
      "text/latex": [
       "$$1.0 u_{22} - 0.317116361465326$$"
      ],
      "text/plain": [
       "1.0⋅u₂₂ - 0.317116361465326"
      ]
     },
     "metadata": {},
     "output_type": "display_data"
    },
    {
     "data": {
      "image/png": "[encoded data removed]",
      "text/latex": [
       "$$1.0 u_{23} - 0.478433227884817$$"
      ],
      "text/plain": [
       "1.0⋅u₂₃ - 0.478433227884817"
      ]
     },
     "metadata": {},
     "output_type": "display_data"
    },
    {
     "data": {
      "image/png": "[encoded data removed]",
      "text/latex": [
       "$$1.0 u_{33} - 0.795461093112344$$"
      ],
      "text/plain": [
       "1.0⋅u₃₃ - 0.795461093112344"
      ]
     },
     "metadata": {},
     "output_type": "display_data"
    }
   ],
   "source": [
    "B = BB.BorderBasisFactory(1e-5).generate(R, I)\n",
    "print(\"== Generators: \")\n",
    "for b in B.generator_basis: display(b.as_expr())"
   ]
  },
  {
   "cell_type": "markdown",
   "metadata": {},
   "source": [
    "Observe how the border basis terms are actually the values of the elements of $L$ and $U$. Of course, quotient basis is simply the element $\\{0\\}$. The multiplication matrices will then give us $M_{l_{ij}} = \\text{value}(l_{ij})$."
   ]
  },
  {
   "cell_type": "markdown",
   "metadata": {},
   "source": [
    "To confirm, we can compute the values of $L$ and $U$ and reformat them into a matrix:"
   ]
  },
  {
   "cell_type": "code",
   "execution_count": 5,
   "metadata": {
    "collapsed": false
   },
   "outputs": [
    {
     "name": "stdout",
     "output_type": "stream",
     "text": [
      "L_ = \n"
     ]
    },
    {
     "data": {
      "image/png": "[encoded data removed]",
      "text/latex": [
       "$$\\left[\\begin{matrix}1.0 & 0.0 & 0.0\\\\1.02402037217457 & 1.0 & 0.0\\\\0.523372603644249 & -1.59213629361944 & 1.0\\end{matrix}\\right]$$"
      ],
      "text/plain": [
       "⎡       1.0                0.0         0.0⎤\n",
       "⎢                                         ⎥\n",
       "⎢1.02402037217457          1.0         0.0⎥\n",
       "⎢                                         ⎥\n",
       "⎣0.523372603644249  -1.59213629361944  1.0⎦"
      ]
     },
     "metadata": {},
     "output_type": "display_data"
    },
    {
     "name": "stdout",
     "output_type": "stream",
     "text": [
      "U_ = \n"
     ]
    },
    {
     "data": {
      "image/png": "[encoded data removed]",
      "text/latex": [
       "$$\\left[\\begin{matrix}-0.669984067527773 & 0.320688894928181 & 1.09527528261088\\\\0.0 & 0.317116361465326 & 0.478433227884817\\\\0.0 & 0.0 & 0.795461093112344\\end{matrix}\\right]$$"
      ],
      "text/plain": [
       "⎡-0.669984067527773  0.320688894928181  1.09527528261088 ⎤\n",
       "⎢                                                        ⎥\n",
       "⎢       0.0          0.317116361465326  0.478433227884817⎥\n",
       "⎢                                                        ⎥\n",
       "⎣       0.0                 0.0         0.795461093112344⎦"
      ]
     },
     "metadata": {},
     "output_type": "display_data"
    },
    {
     "name": "stdout",
     "output_type": "stream",
     "text": [
      "A - LU = 0.000\n"
     ]
    }
   ],
   "source": [
    "# Get the solutions\n",
    "V = B.zeros()\n",
    "V = V[0] # There is only one solution.\n",
    "L_, U_ = np.eye(d), np.zeros((d,d))\n",
    "for idx, (i,j) in enumerate(l_vars):\n",
    "    L_[i,j] = V[idx]\n",
    "for idx, (i,j) in enumerate(u_vars):\n",
    "    U_[i,j] = V[len(l_vars)+idx]\n",
    "\n",
    "print(\"L_ = \"), display(sp.Matrix(L_))\n",
    "print(\"U_ = \"), display(sp.Matrix(U_))\n",
    "print(\"A - LU = %.3f\" % norm(A - L_.dot(U_)))"
   ]
  },
  {
   "cell_type": "markdown",
   "metadata": {},
   "source": [
    "Note that these solutions are a little different from the ones obtained by the SciPy routine. This is because the scipy routine does some reordering for stability purposes."
   ]
  },
  {
   "cell_type": "markdown",
   "metadata": {},
   "source": [
    "## Looking deeper into the solution procedure\n",
    "It maybe a little surprising to have observe that the border basis elements are just the solutions we were looking for! To see what's happening in a little more depth, let's look at the intermediate representations outputted by our system."
   ]
  },
  {
   "cell_type": "code",
   "execution_count": 9,
   "metadata": {
    "collapsed": false
   },
   "outputs": [
    {
     "data": {
      "text/markdown": [
       "### Expansion 0, Iteration 0"
      ],
      "text/plain": [
       "<IPython.core.display.Markdown object>"
      ]
     },
     "metadata": {},
     "output_type": "display_data"
    },
    {
     "data": {
      "image/png": "[encoded data removed]",
      "text/latex": [
       "$$0.698665884280271 l_{21} - 0.715448098846358$$"
      ],
      "text/plain": [
       "0.698665884280271⋅l₂₁ - 0.715448098846358"
      ]
     },
     "metadata": {},
     "output_type": "display_data"
    },
    {
     "data": {
      "image/png": "[encoded data removed]",
      "text/latex": [
       "$$0.885990596638727 l_{31} - 0.463703205367132$$"
      ],
      "text/plain": [
       "0.885990596638727⋅l₃₁ - 0.463703205367132"
      ]
     },
     "metadata": {},
     "output_type": "display_data"
    },
    {
     "data": {
      "image/png": "[encoded data removed]",
      "text/latex": [
       "$$0.830776098655413 l_{32} u_{11} + 0.556606749782008 l_{32}$$"
      ],
      "text/plain": [
       "0.830776098655413⋅l₃₂⋅u₁₁ + 0.556606749782008⋅l₃₂"
      ]
     },
     "metadata": {},
     "output_type": "display_data"
    },
    {
     "data": {
      "image/png": "[encoded data removed]",
      "text/latex": [
       "$$0.952233543644327 l_{32} u_{12} - 0.305370722824845 l_{32}$$"
      ],
      "text/plain": [
       "0.952233543644327⋅l₃₂⋅u₁₂ - 0.305370722824845⋅l₃₂"
      ]
     },
     "metadata": {},
     "output_type": "display_data"
    },
    {
     "data": {
      "image/png": "[encoded data removed]",
      "text/latex": [
       "$$0.674256878702663 l_{32} u_{13} - 0.738496893373386 l_{32}$$"
      ],
      "text/plain": [
       "0.674256878702663⋅l₃₂⋅u₁₃ - 0.738496893373386⋅l₃₂"
      ]
     },
     "metadata": {},
     "output_type": "display_data"
    },
    {
     "data": {
      "image/png": "[encoded data removed]",
      "text/latex": [
       "$$0.89267341627183 l_{32} u_{22} + 0.450704084607161$$"
      ],
      "text/plain": [
       "0.89267341627183⋅l₃₂⋅u₂₂ + 0.450704084607161"
      ]
     },
     "metadata": {},
     "output_type": "display_data"
    },
    {
     "data": {
      "image/png": "[encoded data removed]",
      "text/latex": [
       "$$0.706905743598787 l_{32} u_{23} + 0.706905743598787 u_{33} - 0.0238440628688303$$"
      ],
      "text/plain": [
       "0.706905743598787⋅l₃₂⋅u₂₃ + 0.706905743598787⋅u₃₃ - 0.0238440628688303"
      ]
     },
     "metadata": {},
     "output_type": "display_data"
    },
    {
     "data": {
      "image/png": "[encoded data removed]",
      "text/latex": [
       "$$0.912303940035272 u_{11}^{2} - 0.409513761668785$$"
      ],
      "text/plain": [
       "                     2                    \n",
       "0.912303940035272⋅u₁₁  - 0.409513761668785"
      ]
     },
     "metadata": {},
     "output_type": "display_data"
    },
    {
     "data": {
      "image/png": "[encoded data removed]",
      "text/latex": [
       "$$0.977687946242479 u_{11} u_{12} + 0.210062561567177$$"
      ],
      "text/plain": [
       "0.977687946242479⋅u₁₁⋅u₁₂ + 0.210062561567177"
      ]
     },
     "metadata": {},
     "output_type": "display_data"
    },
    {
     "data": {
      "image/png": "[encoded data removed]",
      "text/latex": [
       "$$0.806219005607744 u_{11} u_{13} + 0.591617203094078$$"
      ],
      "text/plain": [
       "0.806219005607744⋅u₁₁⋅u₁₃ + 0.591617203094078"
      ]
     },
     "metadata": {},
     "output_type": "display_data"
    },
    {
     "data": {
      "image/png": "[encoded data removed]",
      "text/latex": [
       "$$0.978166226801498 u_{11} u_{22} + 0.207824042749918$$"
      ],
      "text/plain": [
       "0.978166226801498⋅u₁₁⋅u₂₂ + 0.207824042749918"
      ]
     },
     "metadata": {},
     "output_type": "display_data"
    },
    {
     "data": {
      "image/png": "[encoded data removed]",
      "text/latex": [
       "$$0.95227403416289 u_{11} u_{23} + 0.305244432969932$$"
      ],
      "text/plain": [
       "0.95227403416289⋅u₁₁⋅u₂₃ + 0.305244432969932"
      ]
     },
     "metadata": {},
     "output_type": "display_data"
    },
    {
     "data": {
      "image/png": "[encoded data removed]",
      "text/latex": [
       "$$0.830776098655413 u_{11} u_{33} + 0.556606749782008 u_{33}$$"
      ],
      "text/plain": [
       "0.830776098655413⋅u₁₁⋅u₃₃ + 0.556606749782008⋅u₃₃"
      ]
     },
     "metadata": {},
     "output_type": "display_data"
    },
    {
     "data": {
      "image/png": "[encoded data removed]",
      "text/latex": [
       "$$0.994753407432588 u_{12}^{2} - 0.102301800576801$$"
      ],
      "text/plain": [
       "                     2                    \n",
       "0.994753407432588⋅u₁₂  - 0.102301800576801"
      ]
     },
     "metadata": {},
     "output_type": "display_data"
    },
    {
     "data": {
      "image/png": "[encoded data removed]",
      "text/latex": [
       "$$0.943492218733535 u_{12} u_{13} - 0.331394678878934$$"
      ],
      "text/plain": [
       "0.943492218733535⋅u₁₂⋅u₁₃ - 0.331394678878934"
      ]
     },
     "metadata": {},
     "output_type": "display_data"
    },
    {
     "data": {
      "image/png": "[encoded data removed]",
      "text/latex": [
       "$$0.994868759156279 u_{12} u_{22} - 0.101173870415468$$"
      ],
      "text/plain": [
       "0.994868759156279⋅u₁₂⋅u₂₂ - 0.101173870415468"
      ]
     },
     "metadata": {},
     "output_type": "display_data"
    },
    {
     "data": {
      "image/png": "[encoded data removed]",
      "text/latex": [
       "$$0.988433699178329 u_{12} u_{23} - 0.151653626163849$$"
      ],
      "text/plain": [
       "0.988433699178329⋅u₁₂⋅u₂₃ - 0.151653626163849"
      ]
     },
     "metadata": {},
     "output_type": "display_data"
    },
    {
     "data": {
      "image/png": "[encoded data removed]",
      "text/latex": [
       "$$0.952233543644327 u_{12} u_{33} - 0.305370722824845 u_{33}$$"
      ],
      "text/plain": [
       "0.952233543644327⋅u₁₂⋅u₃₃ - 0.305370722824845⋅u₃₃"
      ]
     },
     "metadata": {},
     "output_type": "display_data"
    },
    {
     "data": {
      "image/png": "[encoded data removed]",
      "text/latex": [
       "$$0.640301553328046 u_{13}^{2} - 0.768123636406075$$"
      ],
      "text/plain": [
       "                     2                    \n",
       "0.640301553328046⋅u₁₃  - 0.768123636406075"
      ]
     },
     "metadata": {},
     "output_type": "display_data"
    },
    {
     "data": {
      "image/png": "[encoded data removed]",
      "text/latex": [
       "$$0.944642196365767 u_{13} u_{22} - 0.32810230240774$$"
      ],
      "text/plain": [
       "0.944642196365767⋅u₁₃⋅u₂₂ - 0.32810230240774"
      ]
     },
     "metadata": {},
     "output_type": "display_data"
    },
    {
     "data": {
      "image/png": "[encoded data removed]",
      "text/latex": [
       "$$0.885756318628289 u_{13} u_{23} - 0.464150561790094$$"
      ],
      "text/plain": [
       "0.885756318628289⋅u₁₃⋅u₂₃ - 0.464150561790094"
      ]
     },
     "metadata": {},
     "output_type": "display_data"
    },
    {
     "data": {
      "image/png": "[encoded data removed]",
      "text/latex": [
       "$$0.674256878702663 u_{13} u_{33} - 0.738496893373386 u_{33}$$"
      ],
      "text/plain": [
       "0.674256878702663⋅u₁₃⋅u₃₃ - 0.738496893373386⋅u₃₃"
      ]
     },
     "metadata": {},
     "output_type": "display_data"
    },
    {
     "data": {
      "image/png": "[encoded data removed]",
      "text/latex": [
       "$$0.953218775491581 u_{22} - 0.302281269764324$$"
      ],
      "text/plain": [
       "0.953218775491581⋅u₂₂ - 0.302281269764324"
      ]
     },
     "metadata": {},
     "output_type": "display_data"
    },
    {
     "data": {
      "image/png": "[encoded data removed]",
      "text/latex": [
       "$$0.902073695197876 u_{23} - 0.431582029783504$$"
      ],
      "text/plain": [
       "0.902073695197876⋅u₂₃ - 0.431582029783504"
      ]
     },
     "metadata": {},
     "output_type": "display_data"
    },
    {
     "data": {
      "text/markdown": [
       "### Expansion 0, Iteration 1"
      ],
      "text/plain": [
       "<IPython.core.display.Markdown object>"
      ]
     },
     "metadata": {},
     "output_type": "display_data"
    },
    {
     "data": {
      "image/png": "[encoded data removed]",
      "text/latex": [
       "$$0.951108517094424 l_{21} u_{22} - 0.308856906528647$$"
      ],
      "text/plain": [
       "0.951108517094424⋅l₂₁⋅u₂₂ - 0.308856906528647"
      ]
     },
     "metadata": {},
     "output_type": "display_data"
    },
    {
     "data": {
      "image/png": "[encoded data removed]",
      "text/latex": [
       "$$0.898016780389484 l_{21} u_{23} - 0.439961205265765$$"
      ],
      "text/plain": [
       "0.898016780389484⋅l₂₁⋅u₂₃ - 0.439961205265765"
      ]
     },
     "metadata": {},
     "output_type": "display_data"
    },
    {
     "data": {
      "image/png": "[encoded data removed]",
      "text/latex": [
       "$$0.986505143082904 l_{31} u_{22} - 0.163730274143112$$"
      ],
      "text/plain": [
       "0.986505143082904⋅l₃₁⋅u₂₂ - 0.163730274143112"
      ]
     },
     "metadata": {},
     "output_type": "display_data"
    },
    {
     "data": {
      "image/png": "[encoded data removed]",
      "text/latex": [
       "$$0.970051396670932 l_{31} u_{23} - 0.242899748490553$$"
      ],
      "text/plain": [
       "0.970051396670932⋅l₃₁⋅u₂₃ - 0.242899748490553"
      ]
     },
     "metadata": {},
     "output_type": "display_data"
    },
    {
     "data": {
      "image/png": "[encoded data removed]",
      "text/latex": [
       "$$0.531877425639315 l_{32} + 0.846821353117229$$"
      ],
      "text/plain": [
       "0.531877425639315⋅l₃₂ + 0.846821353117229"
      ]
     },
     "metadata": {},
     "output_type": "display_data"
    },
    {
     "data": {
      "image/png": "[encoded data removed]",
      "text/latex": [
       "$$0.994981593930208 u_{22}^{2} - 0.100058121809792$$"
      ],
      "text/plain": [
       "                     2                    \n",
       "0.994981593930208⋅u₂₂  - 0.100058121809792"
      ]
     },
     "metadata": {},
     "output_type": "display_data"
    },
    {
     "data": {
      "image/png": "[encoded data removed]",
      "text/latex": [
       "$$0.988685632561739 u_{22} u_{23} - 0.150002399867446$$"
      ],
      "text/plain": [
       "0.988685632561739⋅u₂₂⋅u₂₃ - 0.150002399867446"
      ]
     },
     "metadata": {},
     "output_type": "display_data"
    },
    {
     "data": {
      "image/png": "[encoded data removed]",
      "text/latex": [
       "$$0.969626138072483 u_{22} u_{33} - 0.244591807644167$$"
      ],
      "text/plain": [
       "0.969626138072483⋅u₂₂⋅u₃₃ - 0.244591807644167"
      ]
     },
     "metadata": {},
     "output_type": "display_data"
    },
    {
     "data": {
      "image/png": "[encoded data removed]",
      "text/latex": [
       "$$0.974789234372353 u_{23}^{2} - 0.223127650800526$$"
      ],
      "text/plain": [
       "                     2                    \n",
       "0.974789234372353⋅u₂₃  - 0.223127650800526"
      ]
     },
     "metadata": {},
     "output_type": "display_data"
    },
    {
     "data": {
      "image/png": "[encoded data removed]",
      "text/latex": [
       "$$0.934605013013959 u_{23} u_{33} - 0.355687320056785$$"
      ],
      "text/plain": [
       "0.934605013013959⋅u₂₃⋅u₃₃ - 0.355687320056785"
      ]
     },
     "metadata": {},
     "output_type": "display_data"
    },
    {
     "data": {
      "image/png": "[encoded data removed]",
      "text/latex": [
       "$$0.782598557728727 u_{33} - 0.622526704199037$$"
      ],
      "text/plain": [
       "0.782598557728727⋅u₃₃ - 0.622526704199037"
      ]
     },
     "metadata": {},
     "output_type": "display_data"
    },
    {
     "data": {
      "text/markdown": [
       "### Expansion 0, Iteration 2"
      ],
      "text/plain": [
       "<IPython.core.display.Markdown object>"
      ]
     },
     "metadata": {},
     "output_type": "display_data"
    },
    {
     "data": {
      "image/png": "[encoded data removed]",
      "text/latex": [
       "$$0.775328547864298 l_{21} u_{33} - 0.631558107276472$$"
      ],
      "text/plain": [
       "0.775328547864298⋅l₂₁⋅u₃₃ - 0.631558107276472"
      ]
     },
     "metadata": {},
     "output_type": "display_data"
    },
    {
     "data": {
      "image/png": "[encoded data removed]",
      "text/latex": [
       "$$0.923189673106302 l_{31} u_{33} - 0.384344672748145$$"
      ],
      "text/plain": [
       "0.923189673106302⋅l₃₁⋅u₃₃ - 0.384344672748145"
      ]
     },
     "metadata": {},
     "output_type": "display_data"
    },
    {
     "data": {
      "image/png": "[encoded data removed]",
      "text/latex": [
       "$$0.619699800071092 l_{32} u_{33} + 0.784838937484531$$"
      ],
      "text/plain": [
       "0.619699800071092⋅l₃₂⋅u₃₃ + 0.784838937484531"
      ]
     },
     "metadata": {},
     "output_type": "display_data"
    },
    {
     "data": {
      "image/png": "[encoded data removed]",
      "text/latex": [
       "$$0.845038634093333 u_{33}^{2} - 0.534705252349062$$"
      ],
      "text/plain": [
       "                     2                    \n",
       "0.845038634093333⋅u₃₃  - 0.534705252349062"
      ]
     },
     "metadata": {},
     "output_type": "display_data"
    }
   ],
   "source": [
    "import globals # Hacky way I'm keeping track of intermediate information.\n",
    "for stage, iteration, W in globals.info.Ws:\n",
    "    display(Markdown(\"### Expansion %d, Iteration %d\"%(stage, iteration)))\n",
    "    for w in W:\n",
    "        display(globals.info.L.as_poly(w).as_expr())\n"
   ]
  },
  {
   "cell_type": "markdown",
   "metadata": {},
   "source": [
    "First, note that we only expand our computational universe once. Intuitively, we never need elements with degree greater than 2 for our calculations, so our computational universe is sufficient.\n",
    "\n",
    "Secondly, at the end of the first iteration, we are derive new linear equations, for $l_{21}$, $l_{31}$, $u_{22}$ and $u_{23}$ by eliminating $u_{21}$ and $u_{31}$.\n",
    "\n",
    "In the next iteration, we get linear equations of $l_{32}$ and $u_{33}$ by eliminating the variables obtained in the previous iteration.\n",
    "\n",
    "Finally, in the last iteration, we derive no new linear equations, and our procedure terminates."
   ]
  }
 ],
 "metadata": {
  "kernelspec": {
   "display_name": "Python 2",
   "language": "python",
   "name": "python2"
  },
  "language_info": {
   "codemirror_mode": {
    "name": "ipython",
    "version": 2
   },
   "file_extension": ".py",
   "mimetype": "text/x-python",
   "name": "python",
   "nbconvert_exporter": "python",
   "pygments_lexer": "ipython2",
   "version": "2.7.5+"
  }
 },
 "nbformat": 4,
 "nbformat_minor": 0
}
